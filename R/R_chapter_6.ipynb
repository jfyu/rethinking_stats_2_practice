{
 "cells": [
  {
   "cell_type": "markdown",
   "id": "81b4038d-f9c1-4239-b568-a87ce31fe635",
   "metadata": {},
   "source": [
    "# Chapter 6"
   ]
  },
  {
   "cell_type": "code",
   "execution_count": 1,
   "id": "5a7a7f78-fd0f-402f-b177-15350be379d9",
   "metadata": {},
   "outputs": [
    {
     "name": "stderr",
     "output_type": "stream",
     "text": [
      "Loading required package: rstan\n",
      "\n",
      "Loading required package: StanHeaders\n",
      "\n",
      "Loading required package: ggplot2\n",
      "\n",
      "rstan (Version 2.21.7, GitRev: 2e1f913d3ca3)\n",
      "\n",
      "For execution on a local, multicore CPU with excess RAM we recommend calling\n",
      "options(mc.cores = parallel::detectCores()).\n",
      "To avoid recompilation of unchanged Stan programs, we recommend calling\n",
      "rstan_options(auto_write = TRUE)\n",
      "\n",
      "Loading required package: cmdstanr\n",
      "\n",
      "This is cmdstanr version 0.5.3\n",
      "\n",
      "- CmdStanR documentation and vignettes: mc-stan.org/cmdstanr\n",
      "\n",
      "- Use set_cmdstan_path() to set the path to CmdStan\n",
      "\n",
      "- Use install_cmdstan() to install CmdStan\n",
      "\n",
      "Loading required package: parallel\n",
      "\n",
      "rethinking (Version 2.21)\n",
      "\n",
      "\n",
      "Attaching package: ‘rethinking’\n",
      "\n",
      "\n",
      "The following object is masked from ‘package:rstan’:\n",
      "\n",
      "    stan\n",
      "\n",
      "\n",
      "The following object is masked from ‘package:stats’:\n",
      "\n",
      "    rstudent\n",
      "\n",
      "\n"
     ]
    }
   ],
   "source": [
    "library(rethinking)"
   ]
  },
  {
   "cell_type": "markdown",
   "id": "aeada362-1221-4064-8532-fc5137520001",
   "metadata": {},
   "source": [
    "Easy questions are mostly repeating the book"
   ]
  },
  {
   "cell_type": "markdown",
   "id": "d6ae6a86-9989-4a47-ab5e-107efe65d1b4",
   "metadata": {},
   "source": [
    "### 6M2.\n",
    "Sometimes, in order to avoid multicollinearity, people inspect pairwise correlations among\n",
    "predictors before including them in a model. This is a bad procedure, because what matters is the\n",
    "conditional association, not the association before the variables are included in the model. To highlight this, consider the DAG X → Z → Y. Simulate data from this DAG so that the correlation\n",
    "between X and Z is very large. Then include both in a model prediction Y. Do you observe any\n",
    "multicollinearity? Why or why not? What is different from the legs example in the chapter?\n"
   ]
  },
  {
   "cell_type": "code",
   "execution_count": 2,
   "id": "48e6ab75-8bdb-4704-a4e2-4729e7c93088",
   "metadata": {},
   "outputs": [],
   "source": [
    "N <- 100\n",
    "x_sim <- rnorm(N)\n",
    "z_sim <- rnorm(N, x_sim*4)\n",
    "y_sim <- rnorm(N, z_sim*1)"
   ]
  },
  {
   "cell_type": "code",
   "execution_count": 3,
   "id": "a01672a0-62ba-41e6-9b52-a1556298b2b8",
   "metadata": {},
   "outputs": [],
   "source": [
    "d <- data.frame(X=x_sim, Z=z_sim, Y=y_sim)"
   ]
  },
  {
   "cell_type": "code",
   "execution_count": 4,
   "id": "47b3c0bc-7d58-4ad6-b564-616d5ff7d138",
   "metadata": {},
   "outputs": [
    {
     "data": {
      "text/html": [
       "<table class=\"dataframe\">\n",
       "<caption>A data.frame: 6 × 3</caption>\n",
       "<thead>\n",
       "\t<tr><th></th><th scope=col>X</th><th scope=col>Z</th><th scope=col>Y</th></tr>\n",
       "\t<tr><th></th><th scope=col>&lt;dbl&gt;</th><th scope=col>&lt;dbl&gt;</th><th scope=col>&lt;dbl&gt;</th></tr>\n",
       "</thead>\n",
       "<tbody>\n",
       "\t<tr><th scope=row>1</th><td>-0.8677131</td><td>-2.98104736</td><td>-0.90575937</td></tr>\n",
       "\t<tr><th scope=row>2</th><td>-0.9855912</td><td>-4.70192580</td><td>-5.11103067</td></tr>\n",
       "\t<tr><th scope=row>3</th><td>-0.1162020</td><td>-1.46139074</td><td>-0.71583590</td></tr>\n",
       "\t<tr><th scope=row>4</th><td>-0.1422145</td><td>-0.06439281</td><td>-0.39812882</td></tr>\n",
       "\t<tr><th scope=row>5</th><td>-0.5190734</td><td> 0.07472869</td><td> 0.07672176</td></tr>\n",
       "\t<tr><th scope=row>6</th><td> 0.5499179</td><td> 1.24717293</td><td> 1.43103082</td></tr>\n",
       "</tbody>\n",
       "</table>\n"
      ],
      "text/latex": [
       "A data.frame: 6 × 3\n",
       "\\begin{tabular}{r|lll}\n",
       "  & X & Z & Y\\\\\n",
       "  & <dbl> & <dbl> & <dbl>\\\\\n",
       "\\hline\n",
       "\t1 & -0.8677131 & -2.98104736 & -0.90575937\\\\\n",
       "\t2 & -0.9855912 & -4.70192580 & -5.11103067\\\\\n",
       "\t3 & -0.1162020 & -1.46139074 & -0.71583590\\\\\n",
       "\t4 & -0.1422145 & -0.06439281 & -0.39812882\\\\\n",
       "\t5 & -0.5190734 &  0.07472869 &  0.07672176\\\\\n",
       "\t6 &  0.5499179 &  1.24717293 &  1.43103082\\\\\n",
       "\\end{tabular}\n"
      ],
      "text/markdown": [
       "\n",
       "A data.frame: 6 × 3\n",
       "\n",
       "| <!--/--> | X &lt;dbl&gt; | Z &lt;dbl&gt; | Y &lt;dbl&gt; |\n",
       "|---|---|---|---|\n",
       "| 1 | -0.8677131 | -2.98104736 | -0.90575937 |\n",
       "| 2 | -0.9855912 | -4.70192580 | -5.11103067 |\n",
       "| 3 | -0.1162020 | -1.46139074 | -0.71583590 |\n",
       "| 4 | -0.1422145 | -0.06439281 | -0.39812882 |\n",
       "| 5 | -0.5190734 |  0.07472869 |  0.07672176 |\n",
       "| 6 |  0.5499179 |  1.24717293 |  1.43103082 |\n",
       "\n"
      ],
      "text/plain": [
       "  X          Z           Y          \n",
       "1 -0.8677131 -2.98104736 -0.90575937\n",
       "2 -0.9855912 -4.70192580 -5.11103067\n",
       "3 -0.1162020 -1.46139074 -0.71583590\n",
       "4 -0.1422145 -0.06439281 -0.39812882\n",
       "5 -0.5190734  0.07472869  0.07672176\n",
       "6  0.5499179  1.24717293  1.43103082"
      ]
     },
     "metadata": {},
     "output_type": "display_data"
    }
   ],
   "source": [
    "head(d)"
   ]
  },
  {
   "cell_type": "code",
   "execution_count": 5,
   "id": "7593ad6a-4309-4b06-91fb-f047cebbc63c",
   "metadata": {},
   "outputs": [],
   "source": [
    "m <- quap(\n",
    "    alist(\n",
    "        Y ~ dnorm(mu, sigma),\n",
    "        mu <- bx*X + bz*Z + a,\n",
    "        a ~ dnorm(0,2),\n",
    "        bz ~ dnorm(1,2),\n",
    "        bx ~ dnorm(4,2),\n",
    "        sigma ~ exp(1)\n",
    "        )\n",
    "    ,data=d)"
   ]
  },
  {
   "cell_type": "code",
   "execution_count": 6,
   "id": "f560ea51-bd04-446b-9cf0-c0fbd9a09b7e",
   "metadata": {},
   "outputs": [
    {
     "data": {
      "text/html": [
       "<table class=\"dataframe\">\n",
       "<caption>A precis: 3 × 4</caption>\n",
       "<thead>\n",
       "\t<tr><th></th><th scope=col>mean</th><th scope=col>sd</th><th scope=col>5.5%</th><th scope=col>94.5%</th></tr>\n",
       "\t<tr><th></th><th scope=col>&lt;dbl&gt;</th><th scope=col>&lt;dbl&gt;</th><th scope=col>&lt;dbl&gt;</th><th scope=col>&lt;dbl&gt;</th></tr>\n",
       "</thead>\n",
       "<tbody>\n",
       "\t<tr><th scope=row>a</th><td>0.001484562</td><td>0.2714815</td><td>-0.4323953</td><td>0.4353644</td></tr>\n",
       "\t<tr><th scope=row>bz</th><td>0.738341173</td><td>0.2500906</td><td> 0.3386481</td><td>1.1380342</td></tr>\n",
       "\t<tr><th scope=row>bx</th><td>1.060199482</td><td>0.9785146</td><td>-0.5036558</td><td>2.6240548</td></tr>\n",
       "</tbody>\n",
       "</table>\n"
      ],
      "text/latex": [
       "A precis: 3 × 4\n",
       "\\begin{tabular}{r|llll}\n",
       "  & mean & sd & 5.5\\% & 94.5\\%\\\\\n",
       "  & <dbl> & <dbl> & <dbl> & <dbl>\\\\\n",
       "\\hline\n",
       "\ta & 0.001484562 & 0.2714815 & -0.4323953 & 0.4353644\\\\\n",
       "\tbz & 0.738341173 & 0.2500906 &  0.3386481 & 1.1380342\\\\\n",
       "\tbx & 1.060199482 & 0.9785146 & -0.5036558 & 2.6240548\\\\\n",
       "\\end{tabular}\n"
      ],
      "text/markdown": [
       "\n",
       "A precis: 3 × 4\n",
       "\n",
       "| <!--/--> | mean &lt;dbl&gt; | sd &lt;dbl&gt; | 5.5% &lt;dbl&gt; | 94.5% &lt;dbl&gt; |\n",
       "|---|---|---|---|---|\n",
       "| a | 0.001484562 | 0.2714815 | -0.4323953 | 0.4353644 |\n",
       "| bz | 0.738341173 | 0.2500906 |  0.3386481 | 1.1380342 |\n",
       "| bx | 1.060199482 | 0.9785146 | -0.5036558 | 2.6240548 |\n",
       "\n"
      ],
      "text/plain": [
       "   mean        sd        5.5%       94.5%    \n",
       "a  0.001484562 0.2714815 -0.4323953 0.4353644\n",
       "bz 0.738341173 0.2500906  0.3386481 1.1380342\n",
       "bx 1.060199482 0.9785146 -0.5036558 2.6240548"
      ]
     },
     "metadata": {},
     "output_type": "display_data"
    }
   ],
   "source": [
    "precis(m)"
   ]
  },
  {
   "cell_type": "markdown",
   "id": "8fd25c2b-119f-49b8-990d-ad942477368f",
   "metadata": {},
   "source": [
    "here bx overlaps 0, but the model is fairly certain about bz's contribution, which is just like stated. This is different from the legs example because in the legs example the DAG would have a confounding parameter that connects the left leg length to the right leg length but here it's a pipe"
   ]
  },
  {
   "cell_type": "markdown",
   "id": "981ff8d1-facd-4682-91b5-eab5fbc86234",
   "metadata": {},
   "source": [
    "### 6M3.\n",
    "Learning to analyze DAGs requires practice. For each of the four DAGs below, state which variables, if any, you must adjust for (condition on) to estimate the total causal influence of X on Y."
   ]
  },
  {
   "cell_type": "markdown",
   "id": "493477fe-526c-47fa-844d-bc8b9e66f6e6",
   "metadata": {},
   "source": [
    "**Answer**\n",
    "\n",
    "1) top left paths \n",
    "    - X <- Z -> Y , open, condition on Z will break the path, we have a fork here\n",
    "    - X <- Z <- A -> Y , open, condition on Z will break the path as we have a pipe, breaking Z will allow X and A to be conditionally independent \n"
   ]
  },
  {
   "cell_type": "code",
   "execution_count": 7,
   "id": "d37c7170-048b-4ab4-9336-c5814778a958",
   "metadata": {},
   "outputs": [],
   "source": [
    "library(dagitty)"
   ]
  },
  {
   "cell_type": "code",
   "execution_count": 8,
   "id": "8d41ba26-66a6-45a0-a6d0-ae7edbeedafd",
   "metadata": {},
   "outputs": [],
   "source": [
    "dag_left_top <- dagitty( \"dag { \n",
    "    X -> Y\n",
    "    X <- Z -> Y\n",
    "    X <- Z <- A -> Y\n",
    "}\" )"
   ]
  },
  {
   "cell_type": "code",
   "execution_count": 9,
   "id": "7149a7c2-c6c9-4f25-bbec-1133db461d3c",
   "metadata": {},
   "outputs": [
    {
     "data": {
      "text/plain": [
       "{ Z }"
      ]
     },
     "metadata": {},
     "output_type": "display_data"
    }
   ],
   "source": [
    "adjustmentSets(dag_left_top, exposure = 'X', outcome='Y')"
   ]
  },
  {
   "cell_type": "markdown",
   "id": "54628397-1e5d-46c2-b873-2ed2db33b965",
   "metadata": {},
   "source": [
    "2. top right paths\n",
    "  - X -> Z -> Y, indirect effect to Y, should be included when estimating the total effect of X on Y, this is not a backdoor as there is no arrow entering X \n",
    "  - X -> Z <- A -> Y, closed as there is a collider"
   ]
  },
  {
   "cell_type": "code",
   "execution_count": 10,
   "id": "176faa7a-1341-4985-affc-692c00ac6669",
   "metadata": {},
   "outputs": [
    {
     "data": {
      "text/plain": [
       " {}"
      ]
     },
     "metadata": {},
     "output_type": "display_data"
    }
   ],
   "source": [
    "dag_right_top <- dagitty( \"dag { \n",
    "    X -> Y\n",
    "    X -> Z -> Y\n",
    "    X -> Z <- A -> Y\n",
    "}\" )\n",
    "adjustmentSets(dag_right_top, exposure = 'X', outcome = 'Y')"
   ]
  },
  {
   "cell_type": "markdown",
   "id": "0bbe8757-98c2-4a75-aa42-877c88b0e5ca",
   "metadata": {},
   "source": [
    "3. bottom left paths\n",
    " - X <- A -> Z <- Y, closed\n",
    " - X -> Z <- Y, closed"
   ]
  },
  {
   "cell_type": "markdown",
   "id": "000c2547-4328-47a0-9bc3-0e2944160cd8",
   "metadata": {},
   "source": [
    "4. bottom right paths\n",
    " - X <- A -> Z -> Y # we have a fork, so conditioning on A will work, or Z for a pipe\n",
    " - X -> Z -> Y # indirect path"
   ]
  },
  {
   "cell_type": "code",
   "execution_count": 11,
   "id": "acc8fc9f-0e6c-4828-a119-103c841b5b80",
   "metadata": {},
   "outputs": [
    {
     "data": {
      "text/plain": [
       "{ A }"
      ]
     },
     "metadata": {},
     "output_type": "display_data"
    }
   ],
   "source": [
    "dag_bottom_right <- dagitty ( \"dag {\n",
    "    X -> Y\n",
    "    X <- A -> Z -> Y\n",
    "    X -> Z -> Y\n",
    "}\")\n",
    "adjustmentSets(dag_bottom_right, exposure = 'X', outcome = 'Y')"
   ]
  },
  {
   "cell_type": "code",
   "execution_count": null,
   "id": "a31a78b7-849c-4e58-974a-dd03005f52e8",
   "metadata": {},
   "outputs": [],
   "source": []
  },
  {
   "cell_type": "markdown",
   "id": "813200c0-9103-47ef-947e-045b54b246df",
   "metadata": {},
   "source": [
    "### 6H1.\n",
    "Use the Waffle House data, data(WaffleDivorce), to find the total causal influence of number of Waffle Houses on divorce rate. Justify your model or models with a causal graph."
   ]
  },
  {
   "cell_type": "code",
   "execution_count": 13,
   "id": "da5de36c-7f02-4c44-8218-f380a1b92c52",
   "metadata": {},
   "outputs": [],
   "source": [
    "data(WaffleDivorce)"
   ]
  },
  {
   "cell_type": "code",
   "execution_count": 14,
   "id": "0c1c13d8-f054-4c21-ab50-79f9d5210984",
   "metadata": {},
   "outputs": [],
   "source": [
    "d <- WaffleDivorce"
   ]
  },
  {
   "cell_type": "code",
   "execution_count": 15,
   "id": "08f8b387-0764-41aa-af89-4f2590c55ae3",
   "metadata": {},
   "outputs": [],
   "source": [
    "#standardize the data\n",
    "d$D <- standardize(d$Divorce)\n",
    "d$M <- standardize(d$Marriage)\n",
    "d$A <- standardize(d$MedianAgeMarriage)"
   ]
  },
  {
   "cell_type": "markdown",
   "id": "90eb4977-34ca-4b4f-938b-c859ecf0c120",
   "metadata": {},
   "source": [
    "Just use the dag in the book, see 6.4.3"
   ]
  },
  {
   "cell_type": "markdown",
   "id": "1ce69c93-cbec-4b44-896c-f3f5b610a611",
   "metadata": {},
   "source": [
    "This means we condition on S"
   ]
  },
  {
   "cell_type": "code",
   "execution_count": 24,
   "id": "a147a1a0-4f31-4c39-937b-c012af2a1d21",
   "metadata": {},
   "outputs": [
    {
     "data": {
      "text/html": [
       "<table class=\"dataframe\">\n",
       "<caption>A data.frame: 50 × 16</caption>\n",
       "<thead>\n",
       "\t<tr><th scope=col>Location</th><th scope=col>Loc</th><th scope=col>Population</th><th scope=col>MedianAgeMarriage</th><th scope=col>Marriage</th><th scope=col>Marriage.SE</th><th scope=col>Divorce</th><th scope=col>Divorce.SE</th><th scope=col>WaffleHouses</th><th scope=col>South</th><th scope=col>Slaves1860</th><th scope=col>Population1860</th><th scope=col>PropSlaves1860</th><th scope=col>D</th><th scope=col>M</th><th scope=col>A</th></tr>\n",
       "\t<tr><th scope=col>&lt;fct&gt;</th><th scope=col>&lt;fct&gt;</th><th scope=col>&lt;dbl&gt;</th><th scope=col>&lt;dbl&gt;</th><th scope=col>&lt;dbl&gt;</th><th scope=col>&lt;dbl&gt;</th><th scope=col>&lt;dbl&gt;</th><th scope=col>&lt;dbl&gt;</th><th scope=col>&lt;int&gt;</th><th scope=col>&lt;int&gt;</th><th scope=col>&lt;int&gt;</th><th scope=col>&lt;int&gt;</th><th scope=col>&lt;dbl&gt;</th><th scope=col>&lt;dbl&gt;</th><th scope=col>&lt;dbl&gt;</th><th scope=col>&lt;dbl&gt;</th></tr>\n",
       "</thead>\n",
       "<tbody>\n",
       "\t<tr><td>Alabama             </td><td>AL</td><td> 4.78</td><td>25.3</td><td>20.2</td><td>1.27</td><td>12.7</td><td>0.79</td><td>128</td><td>1</td><td>435080</td><td> 964201</td><td>4.5e-01</td><td> 1.65420530</td><td> 0.022644060</td><td>-0.60628951</td></tr>\n",
       "\t<tr><td>Alaska              </td><td>AK</td><td> 0.71</td><td>25.2</td><td>26.0</td><td>2.93</td><td>12.5</td><td>2.05</td><td>  0</td><td>0</td><td>     0</td><td>      0</td><td>0.0e+00</td><td> 1.54436431</td><td> 1.549801620</td><td>-0.68669925</td></tr>\n",
       "\t<tr><td>Arizona             </td><td>AZ</td><td> 6.33</td><td>25.8</td><td>20.3</td><td>0.98</td><td>10.8</td><td>0.74</td><td> 18</td><td>0</td><td>     0</td><td>      0</td><td>0.0e+00</td><td> 0.61071590</td><td> 0.048974363</td><td>-0.20424076</td></tr>\n",
       "\t<tr><td>Arkansas            </td><td>AR</td><td> 2.92</td><td>24.3</td><td>26.4</td><td>1.70</td><td>13.5</td><td>1.22</td><td> 41</td><td>1</td><td>111115</td><td> 435450</td><td>2.6e-01</td><td> 2.09356925</td><td> 1.655122831</td><td>-1.41038699</td></tr>\n",
       "\t<tr><td>California          </td><td>CA</td><td>37.25</td><td>26.8</td><td>19.1</td><td>0.39</td><td> 8.0</td><td>0.24</td><td>  0</td><td>0</td><td>     0</td><td> 379994</td><td>0.0e+00</td><td>-0.92705795</td><td>-0.266989270</td><td> 0.59985673</td></tr>\n",
       "\t<tr><td>Colorado            </td><td>CO</td><td> 5.03</td><td>25.7</td><td>23.5</td><td>1.24</td><td>11.6</td><td>0.94</td><td> 11</td><td>0</td><td>     0</td><td>  34277</td><td>0.0e+00</td><td> 1.05007986</td><td> 0.891544051</td><td>-0.28465051</td></tr>\n",
       "\t<tr><td>Connecticut         </td><td>CT</td><td> 3.57</td><td>27.6</td><td>17.1</td><td>1.06</td><td> 6.7</td><td>0.77</td><td>  0</td><td>0</td><td>     0</td><td> 460147</td><td>0.0e+00</td><td>-1.64102438</td><td>-0.793595325</td><td> 1.24313471</td></tr>\n",
       "\t<tr><td>Delaware            </td><td>DE</td><td> 0.90</td><td>26.6</td><td>23.1</td><td>2.89</td><td> 8.9</td><td>1.39</td><td>  3</td><td>0</td><td>  1798</td><td> 112216</td><td>1.6e-02</td><td>-0.43277350</td><td> 0.786222840</td><td> 0.43903723</td></tr>\n",
       "\t<tr><td>District of Columbia</td><td>DC</td><td> 0.60</td><td>29.7</td><td>17.7</td><td>2.53</td><td> 6.3</td><td>1.89</td><td>  0</td><td>0</td><td>     0</td><td>  75080</td><td>0.0e+00</td><td>-1.86070636</td><td>-0.635613508</td><td> 2.93173944</td></tr>\n",
       "\t<tr><td>Florida             </td><td>FL</td><td>18.80</td><td>26.4</td><td>17.0</td><td>0.58</td><td> 8.5</td><td>0.32</td><td>133</td><td>1</td><td> 61745</td><td> 140424</td><td>4.4e-01</td><td>-0.65245548</td><td>-0.819925628</td><td> 0.27821773</td></tr>\n",
       "\t<tr><td>Georgia             </td><td>GA</td><td> 9.69</td><td>25.9</td><td>22.1</td><td>0.81</td><td>11.5</td><td>0.58</td><td>381</td><td>1</td><td>462198</td><td>1057286</td><td>4.4e-01</td><td> 0.99515936</td><td> 0.522919813</td><td>-0.12383101</td></tr>\n",
       "\t<tr><td>Hawaii              </td><td>HI</td><td> 1.36</td><td>26.9</td><td>24.9</td><td>2.54</td><td> 8.3</td><td>1.27</td><td>  0</td><td>0</td><td>     0</td><td>      0</td><td>0.0e+00</td><td>-0.76229646</td><td> 1.260168290</td><td> 0.68026647</td></tr>\n",
       "\t<tr><td>Idaho               </td><td>ID</td><td> 1.57</td><td>23.2</td><td>25.8</td><td>1.84</td><td> 7.7</td><td>1.05</td><td>  0</td><td>0</td><td>     0</td><td>      0</td><td>0.0e+00</td><td>-1.09181943</td><td> 1.497141014</td><td>-2.29489423</td></tr>\n",
       "\t<tr><td>Illinois            </td><td>IL</td><td>12.83</td><td>27.0</td><td>17.9</td><td>0.58</td><td> 8.0</td><td>0.45</td><td>  2</td><td>0</td><td>     0</td><td>1711951</td><td>0.0e+00</td><td>-0.92705795</td><td>-0.582952903</td><td> 0.76067622</td></tr>\n",
       "\t<tr><td>Indiana             </td><td>IN</td><td> 6.48</td><td>25.7</td><td>19.8</td><td>0.81</td><td>11.0</td><td>0.63</td><td> 17</td><td>0</td><td>     0</td><td>1350428</td><td>0.0e+00</td><td> 0.72055689</td><td>-0.082677151</td><td>-0.28465051</td></tr>\n",
       "\t<tr><td>Iowa                </td><td>IA</td><td> 3.05</td><td>25.4</td><td>21.5</td><td>1.46</td><td>10.2</td><td>0.91</td><td>  0</td><td>0</td><td>     0</td><td> 674913</td><td>0.0e+00</td><td> 0.28119293</td><td> 0.364937996</td><td>-0.52587976</td></tr>\n",
       "\t<tr><td>Kansas              </td><td>KS</td><td> 2.85</td><td>25.0</td><td>22.1</td><td>1.48</td><td>10.6</td><td>1.09</td><td>  6</td><td>0</td><td>     2</td><td> 107206</td><td>1.9e-05</td><td> 0.50087491</td><td> 0.522919813</td><td>-0.84751875</td></tr>\n",
       "\t<tr><td>Kentucky            </td><td>KY</td><td> 4.34</td><td>24.8</td><td>22.2</td><td>1.11</td><td>12.6</td><td>0.75</td><td> 64</td><td>1</td><td>225483</td><td>1155684</td><td>0.0e+00</td><td> 1.59928480</td><td> 0.549250115</td><td>-1.00833825</td></tr>\n",
       "\t<tr><td>Louisiana           </td><td>LA</td><td> 4.53</td><td>25.9</td><td>20.6</td><td>1.19</td><td>11.0</td><td>0.89</td><td> 66</td><td>1</td><td>331726</td><td> 708002</td><td>4.7e-01</td><td> 0.72055689</td><td> 0.127965271</td><td>-0.12383101</td></tr>\n",
       "\t<tr><td>Maine               </td><td>ME</td><td> 1.33</td><td>26.4</td><td>13.5</td><td>1.40</td><td>13.0</td><td>1.48</td><td>  0</td><td>0</td><td>     0</td><td> 628279</td><td>0.0e+00</td><td> 1.81896678</td><td>-1.741486224</td><td> 0.27821773</td></tr>\n",
       "\t<tr><td>Maryland            </td><td>MD</td><td> 5.77</td><td>27.3</td><td>18.3</td><td>1.02</td><td> 8.8</td><td>0.69</td><td> 11</td><td>0</td><td> 87189</td><td> 687049</td><td>1.3e-01</td><td>-0.48769399</td><td>-0.477631692</td><td> 1.00190547</td></tr>\n",
       "\t<tr><td>Massachusetts       </td><td>MA</td><td> 6.55</td><td>28.5</td><td>15.8</td><td>0.70</td><td> 7.8</td><td>0.52</td><td>  0</td><td>0</td><td>     0</td><td>1231066</td><td>0.0e+00</td><td>-1.03689894</td><td>-1.135889261</td><td> 1.96682245</td></tr>\n",
       "\t<tr><td>Michigan            </td><td>MI</td><td> 9.88</td><td>26.4</td><td>16.5</td><td>0.69</td><td> 9.2</td><td>0.53</td><td>  0</td><td>0</td><td>     0</td><td> 749113</td><td>0.0e+00</td><td>-0.26801201</td><td>-0.951577141</td><td> 0.27821773</td></tr>\n",
       "\t<tr><td>Minnesota           </td><td>MN</td><td> 5.30</td><td>26.3</td><td>15.3</td><td>0.77</td><td> 7.4</td><td>0.60</td><td>  0</td><td>0</td><td>     0</td><td> 172023</td><td>0.0e+00</td><td>-1.25658092</td><td>-1.267540774</td><td> 0.19780798</td></tr>\n",
       "\t<tr><td>Mississippi         </td><td>MS</td><td> 2.97</td><td>25.8</td><td>19.3</td><td>1.54</td><td>11.1</td><td>1.01</td><td> 72</td><td>1</td><td>436631</td><td> 791305</td><td>5.5e-01</td><td> 0.77547738</td><td>-0.214328664</td><td>-0.20424076</td></tr>\n",
       "\t<tr><td>Missouri            </td><td>MO</td><td> 5.99</td><td>25.6</td><td>18.6</td><td>0.81</td><td> 9.5</td><td>0.67</td><td> 39</td><td>1</td><td>114931</td><td>1182012</td><td>9.7e-02</td><td>-0.10325053</td><td>-0.398640784</td><td>-0.36506026</td></tr>\n",
       "\t<tr><td>Montana             </td><td>MT</td><td> 0.99</td><td>25.7</td><td>18.5</td><td>2.31</td><td> 9.1</td><td>1.71</td><td>  0</td><td>0</td><td>     0</td><td>      0</td><td>0.0e+00</td><td>-0.32293251</td><td>-0.424971086</td><td>-0.28465051</td></tr>\n",
       "\t<tr><td>Nebraska            </td><td>NE</td><td> 1.83</td><td>25.4</td><td>19.6</td><td>1.44</td><td> 8.8</td><td>0.94</td><td>  0</td><td>0</td><td>    15</td><td>  28841</td><td>5.2e-04</td><td>-0.48769399</td><td>-0.135337756</td><td>-0.52587976</td></tr>\n",
       "\t<tr><td>New Hampshire       </td><td>NH</td><td> 1.32</td><td>26.8</td><td>16.7</td><td>1.76</td><td>10.1</td><td>1.61</td><td>  0</td><td>0</td><td>     0</td><td> 326073</td><td>0.0e+00</td><td> 0.22627244</td><td>-0.898916536</td><td> 0.59985673</td></tr>\n",
       "\t<tr><td>New Jersey          </td><td>NJ</td><td> 8.79</td><td>27.7</td><td>14.8</td><td>0.59</td><td> 6.1</td><td>0.46</td><td>  0</td><td>0</td><td>    18</td><td> 672035</td><td>2.7e-05</td><td>-1.97054734</td><td>-1.399192288</td><td> 1.32354446</td></tr>\n",
       "\t<tr><td>New Mexico          </td><td>NM</td><td> 2.06</td><td>25.8</td><td>20.4</td><td>1.90</td><td>10.2</td><td>1.11</td><td>  2</td><td>0</td><td>     0</td><td>  93516</td><td>0.0e+00</td><td> 0.28119293</td><td> 0.075304666</td><td>-0.20424076</td></tr>\n",
       "\t<tr><td>New York            </td><td>NY</td><td>19.38</td><td>28.4</td><td>16.8</td><td>0.47</td><td> 6.6</td><td>0.31</td><td>  0</td><td>0</td><td>     0</td><td>3880735</td><td>0.0e+00</td><td>-1.69594487</td><td>-0.872586233</td><td> 1.88641270</td></tr>\n",
       "\t<tr><td>North Carolina      </td><td>NC</td><td> 9.54</td><td>25.7</td><td>20.4</td><td>0.98</td><td> 9.9</td><td>0.48</td><td>142</td><td>1</td><td>331059</td><td> 992622</td><td>3.3e-01</td><td> 0.11643145</td><td> 0.075304666</td><td>-0.28465051</td></tr>\n",
       "\t<tr><td>North Dakota        </td><td>ND</td><td> 0.67</td><td>25.3</td><td>26.7</td><td>2.93</td><td> 8.0</td><td>1.44</td><td>  0</td><td>0</td><td>     0</td><td>      0</td><td>0.0e+00</td><td>-0.92705795</td><td> 1.734113739</td><td>-0.60628951</td></tr>\n",
       "\t<tr><td>Ohio                </td><td>OH</td><td>11.54</td><td>26.3</td><td>16.9</td><td>0.61</td><td> 9.5</td><td>0.45</td><td> 64</td><td>0</td><td>     0</td><td>2339511</td><td>0.0e+00</td><td>-0.10325053</td><td>-0.846255930</td><td> 0.19780798</td></tr>\n",
       "\t<tr><td>Oklahoma            </td><td>OK</td><td> 3.75</td><td>24.4</td><td>23.8</td><td>1.29</td><td>12.8</td><td>1.01</td><td> 16</td><td>0</td><td>     0</td><td>      0</td><td>0.0e+00</td><td> 1.70912579</td><td> 0.970534959</td><td>-1.32997724</td></tr>\n",
       "\t<tr><td>Oregon              </td><td>OR</td><td> 3.83</td><td>26.0</td><td>18.9</td><td>1.10</td><td>10.4</td><td>0.80</td><td>  0</td><td>0</td><td>     0</td><td>  52465</td><td>0.0e+00</td><td> 0.39103392</td><td>-0.319649875</td><td>-0.04342126</td></tr>\n",
       "\t<tr><td>Pennsylvania        </td><td>PA</td><td>12.70</td><td>27.1</td><td>15.5</td><td>0.48</td><td> 7.7</td><td>0.43</td><td> 11</td><td>0</td><td>     0</td><td>2906215</td><td>0.0e+00</td><td>-1.09181943</td><td>-1.214880169</td><td> 0.84108597</td></tr>\n",
       "\t<tr><td>Rhode Island        </td><td>RI</td><td> 1.05</td><td>28.2</td><td>15.0</td><td>2.11</td><td> 9.4</td><td>1.79</td><td>  0</td><td>0</td><td>     0</td><td> 174620</td><td>0.0e+00</td><td>-0.15817102</td><td>-1.346531683</td><td> 1.72559321</td></tr>\n",
       "\t<tr><td>South Carolina      </td><td>SC</td><td> 4.63</td><td>26.4</td><td>18.1</td><td>1.18</td><td> 8.1</td><td>0.70</td><td>144</td><td>1</td><td>402406</td><td> 703708</td><td>5.7e-01</td><td>-0.87213745</td><td>-0.530292297</td><td> 0.27821773</td></tr>\n",
       "\t<tr><td>South Dakota        </td><td>SD</td><td> 0.81</td><td>25.6</td><td>20.1</td><td>2.64</td><td>10.9</td><td>2.50</td><td>  0</td><td>0</td><td>     0</td><td>   4837</td><td>0.0e+00</td><td> 0.66563639</td><td>-0.003686242</td><td>-0.36506026</td></tr>\n",
       "\t<tr><td>Tennessee           </td><td>TN</td><td> 6.35</td><td>25.2</td><td>19.4</td><td>0.85</td><td>11.4</td><td>0.75</td><td>103</td><td>1</td><td>275719</td><td>1109801</td><td>2.0e-01</td><td> 0.94023887</td><td>-0.187998362</td><td>-0.68669925</td></tr>\n",
       "\t<tr><td>Texas               </td><td>TX</td><td>25.15</td><td>25.2</td><td>21.5</td><td>0.61</td><td>10.0</td><td>0.35</td><td> 99</td><td>1</td><td>182566</td><td> 604215</td><td>3.0e-01</td><td> 0.17135194</td><td> 0.364937996</td><td>-0.68669925</td></tr>\n",
       "\t<tr><td>Utah                </td><td>UT</td><td> 2.76</td><td>23.3</td><td>29.6</td><td>1.77</td><td>10.2</td><td>0.93</td><td>  0</td><td>0</td><td>     0</td><td>  40273</td><td>0.0e+00</td><td> 0.28119293</td><td> 2.497692519</td><td>-2.21448448</td></tr>\n",
       "\t<tr><td>Vermont             </td><td>VT</td><td> 0.63</td><td>26.9</td><td>16.4</td><td>2.40</td><td> 9.6</td><td>1.87</td><td>  0</td><td>0</td><td>     0</td><td> 315098</td><td>0.0e+00</td><td>-0.04833004</td><td>-0.977907444</td><td> 0.68026647</td></tr>\n",
       "\t<tr><td>Virginia            </td><td>VA</td><td> 8.00</td><td>26.4</td><td>20.5</td><td>0.83</td><td> 8.9</td><td>0.52</td><td> 40</td><td>1</td><td>490865</td><td>1219630</td><td>4.0e-01</td><td>-0.43277350</td><td> 0.101634969</td><td> 0.27821773</td></tr>\n",
       "\t<tr><td>Washington          </td><td>WA</td><td> 6.72</td><td>25.9</td><td>21.4</td><td>1.00</td><td>10.0</td><td>0.65</td><td>  0</td><td>0</td><td>     0</td><td>  11594</td><td>0.0e+00</td><td> 0.17135194</td><td> 0.338607693</td><td>-0.12383101</td></tr>\n",
       "\t<tr><td>West Virginia       </td><td>WV</td><td> 1.85</td><td>25.0</td><td>22.2</td><td>1.69</td><td>10.9</td><td>1.34</td><td>  4</td><td>1</td><td> 18371</td><td> 376688</td><td>4.9e-02</td><td> 0.66563639</td><td> 0.549250115</td><td>-0.84751875</td></tr>\n",
       "\t<tr><td>Wisconsin           </td><td>WI</td><td> 5.69</td><td>26.3</td><td>17.2</td><td>0.79</td><td> 8.3</td><td>0.57</td><td>  0</td><td>0</td><td>     0</td><td> 775881</td><td>0.0e+00</td><td>-0.76229646</td><td>-0.767265022</td><td> 0.19780798</td></tr>\n",
       "\t<tr><td>Wyoming             </td><td>WY</td><td> 0.56</td><td>24.2</td><td>30.7</td><td>3.92</td><td>10.3</td><td>1.90</td><td>  0</td><td>0</td><td>     0</td><td>      0</td><td>0.0e+00</td><td> 0.33611343</td><td> 2.787325849</td><td>-1.49079674</td></tr>\n",
       "</tbody>\n",
       "</table>\n"
      ],
      "text/latex": [
       "A data.frame: 50 × 16\n",
       "\\begin{tabular}{llllllllllllllll}\n",
       " Location & Loc & Population & MedianAgeMarriage & Marriage & Marriage.SE & Divorce & Divorce.SE & WaffleHouses & South & Slaves1860 & Population1860 & PropSlaves1860 & D & M & A\\\\\n",
       " <fct> & <fct> & <dbl> & <dbl> & <dbl> & <dbl> & <dbl> & <dbl> & <int> & <int> & <int> & <int> & <dbl> & <dbl> & <dbl> & <dbl>\\\\\n",
       "\\hline\n",
       "\t Alabama              & AL &  4.78 & 25.3 & 20.2 & 1.27 & 12.7 & 0.79 & 128 & 1 & 435080 &  964201 & 4.5e-01 &  1.65420530 &  0.022644060 & -0.60628951\\\\\n",
       "\t Alaska               & AK &  0.71 & 25.2 & 26.0 & 2.93 & 12.5 & 2.05 &   0 & 0 &      0 &       0 & 0.0e+00 &  1.54436431 &  1.549801620 & -0.68669925\\\\\n",
       "\t Arizona              & AZ &  6.33 & 25.8 & 20.3 & 0.98 & 10.8 & 0.74 &  18 & 0 &      0 &       0 & 0.0e+00 &  0.61071590 &  0.048974363 & -0.20424076\\\\\n",
       "\t Arkansas             & AR &  2.92 & 24.3 & 26.4 & 1.70 & 13.5 & 1.22 &  41 & 1 & 111115 &  435450 & 2.6e-01 &  2.09356925 &  1.655122831 & -1.41038699\\\\\n",
       "\t California           & CA & 37.25 & 26.8 & 19.1 & 0.39 &  8.0 & 0.24 &   0 & 0 &      0 &  379994 & 0.0e+00 & -0.92705795 & -0.266989270 &  0.59985673\\\\\n",
       "\t Colorado             & CO &  5.03 & 25.7 & 23.5 & 1.24 & 11.6 & 0.94 &  11 & 0 &      0 &   34277 & 0.0e+00 &  1.05007986 &  0.891544051 & -0.28465051\\\\\n",
       "\t Connecticut          & CT &  3.57 & 27.6 & 17.1 & 1.06 &  6.7 & 0.77 &   0 & 0 &      0 &  460147 & 0.0e+00 & -1.64102438 & -0.793595325 &  1.24313471\\\\\n",
       "\t Delaware             & DE &  0.90 & 26.6 & 23.1 & 2.89 &  8.9 & 1.39 &   3 & 0 &   1798 &  112216 & 1.6e-02 & -0.43277350 &  0.786222840 &  0.43903723\\\\\n",
       "\t District of Columbia & DC &  0.60 & 29.7 & 17.7 & 2.53 &  6.3 & 1.89 &   0 & 0 &      0 &   75080 & 0.0e+00 & -1.86070636 & -0.635613508 &  2.93173944\\\\\n",
       "\t Florida              & FL & 18.80 & 26.4 & 17.0 & 0.58 &  8.5 & 0.32 & 133 & 1 &  61745 &  140424 & 4.4e-01 & -0.65245548 & -0.819925628 &  0.27821773\\\\\n",
       "\t Georgia              & GA &  9.69 & 25.9 & 22.1 & 0.81 & 11.5 & 0.58 & 381 & 1 & 462198 & 1057286 & 4.4e-01 &  0.99515936 &  0.522919813 & -0.12383101\\\\\n",
       "\t Hawaii               & HI &  1.36 & 26.9 & 24.9 & 2.54 &  8.3 & 1.27 &   0 & 0 &      0 &       0 & 0.0e+00 & -0.76229646 &  1.260168290 &  0.68026647\\\\\n",
       "\t Idaho                & ID &  1.57 & 23.2 & 25.8 & 1.84 &  7.7 & 1.05 &   0 & 0 &      0 &       0 & 0.0e+00 & -1.09181943 &  1.497141014 & -2.29489423\\\\\n",
       "\t Illinois             & IL & 12.83 & 27.0 & 17.9 & 0.58 &  8.0 & 0.45 &   2 & 0 &      0 & 1711951 & 0.0e+00 & -0.92705795 & -0.582952903 &  0.76067622\\\\\n",
       "\t Indiana              & IN &  6.48 & 25.7 & 19.8 & 0.81 & 11.0 & 0.63 &  17 & 0 &      0 & 1350428 & 0.0e+00 &  0.72055689 & -0.082677151 & -0.28465051\\\\\n",
       "\t Iowa                 & IA &  3.05 & 25.4 & 21.5 & 1.46 & 10.2 & 0.91 &   0 & 0 &      0 &  674913 & 0.0e+00 &  0.28119293 &  0.364937996 & -0.52587976\\\\\n",
       "\t Kansas               & KS &  2.85 & 25.0 & 22.1 & 1.48 & 10.6 & 1.09 &   6 & 0 &      2 &  107206 & 1.9e-05 &  0.50087491 &  0.522919813 & -0.84751875\\\\\n",
       "\t Kentucky             & KY &  4.34 & 24.8 & 22.2 & 1.11 & 12.6 & 0.75 &  64 & 1 & 225483 & 1155684 & 0.0e+00 &  1.59928480 &  0.549250115 & -1.00833825\\\\\n",
       "\t Louisiana            & LA &  4.53 & 25.9 & 20.6 & 1.19 & 11.0 & 0.89 &  66 & 1 & 331726 &  708002 & 4.7e-01 &  0.72055689 &  0.127965271 & -0.12383101\\\\\n",
       "\t Maine                & ME &  1.33 & 26.4 & 13.5 & 1.40 & 13.0 & 1.48 &   0 & 0 &      0 &  628279 & 0.0e+00 &  1.81896678 & -1.741486224 &  0.27821773\\\\\n",
       "\t Maryland             & MD &  5.77 & 27.3 & 18.3 & 1.02 &  8.8 & 0.69 &  11 & 0 &  87189 &  687049 & 1.3e-01 & -0.48769399 & -0.477631692 &  1.00190547\\\\\n",
       "\t Massachusetts        & MA &  6.55 & 28.5 & 15.8 & 0.70 &  7.8 & 0.52 &   0 & 0 &      0 & 1231066 & 0.0e+00 & -1.03689894 & -1.135889261 &  1.96682245\\\\\n",
       "\t Michigan             & MI &  9.88 & 26.4 & 16.5 & 0.69 &  9.2 & 0.53 &   0 & 0 &      0 &  749113 & 0.0e+00 & -0.26801201 & -0.951577141 &  0.27821773\\\\\n",
       "\t Minnesota            & MN &  5.30 & 26.3 & 15.3 & 0.77 &  7.4 & 0.60 &   0 & 0 &      0 &  172023 & 0.0e+00 & -1.25658092 & -1.267540774 &  0.19780798\\\\\n",
       "\t Mississippi          & MS &  2.97 & 25.8 & 19.3 & 1.54 & 11.1 & 1.01 &  72 & 1 & 436631 &  791305 & 5.5e-01 &  0.77547738 & -0.214328664 & -0.20424076\\\\\n",
       "\t Missouri             & MO &  5.99 & 25.6 & 18.6 & 0.81 &  9.5 & 0.67 &  39 & 1 & 114931 & 1182012 & 9.7e-02 & -0.10325053 & -0.398640784 & -0.36506026\\\\\n",
       "\t Montana              & MT &  0.99 & 25.7 & 18.5 & 2.31 &  9.1 & 1.71 &   0 & 0 &      0 &       0 & 0.0e+00 & -0.32293251 & -0.424971086 & -0.28465051\\\\\n",
       "\t Nebraska             & NE &  1.83 & 25.4 & 19.6 & 1.44 &  8.8 & 0.94 &   0 & 0 &     15 &   28841 & 5.2e-04 & -0.48769399 & -0.135337756 & -0.52587976\\\\\n",
       "\t New Hampshire        & NH &  1.32 & 26.8 & 16.7 & 1.76 & 10.1 & 1.61 &   0 & 0 &      0 &  326073 & 0.0e+00 &  0.22627244 & -0.898916536 &  0.59985673\\\\\n",
       "\t New Jersey           & NJ &  8.79 & 27.7 & 14.8 & 0.59 &  6.1 & 0.46 &   0 & 0 &     18 &  672035 & 2.7e-05 & -1.97054734 & -1.399192288 &  1.32354446\\\\\n",
       "\t New Mexico           & NM &  2.06 & 25.8 & 20.4 & 1.90 & 10.2 & 1.11 &   2 & 0 &      0 &   93516 & 0.0e+00 &  0.28119293 &  0.075304666 & -0.20424076\\\\\n",
       "\t New York             & NY & 19.38 & 28.4 & 16.8 & 0.47 &  6.6 & 0.31 &   0 & 0 &      0 & 3880735 & 0.0e+00 & -1.69594487 & -0.872586233 &  1.88641270\\\\\n",
       "\t North Carolina       & NC &  9.54 & 25.7 & 20.4 & 0.98 &  9.9 & 0.48 & 142 & 1 & 331059 &  992622 & 3.3e-01 &  0.11643145 &  0.075304666 & -0.28465051\\\\\n",
       "\t North Dakota         & ND &  0.67 & 25.3 & 26.7 & 2.93 &  8.0 & 1.44 &   0 & 0 &      0 &       0 & 0.0e+00 & -0.92705795 &  1.734113739 & -0.60628951\\\\\n",
       "\t Ohio                 & OH & 11.54 & 26.3 & 16.9 & 0.61 &  9.5 & 0.45 &  64 & 0 &      0 & 2339511 & 0.0e+00 & -0.10325053 & -0.846255930 &  0.19780798\\\\\n",
       "\t Oklahoma             & OK &  3.75 & 24.4 & 23.8 & 1.29 & 12.8 & 1.01 &  16 & 0 &      0 &       0 & 0.0e+00 &  1.70912579 &  0.970534959 & -1.32997724\\\\\n",
       "\t Oregon               & OR &  3.83 & 26.0 & 18.9 & 1.10 & 10.4 & 0.80 &   0 & 0 &      0 &   52465 & 0.0e+00 &  0.39103392 & -0.319649875 & -0.04342126\\\\\n",
       "\t Pennsylvania         & PA & 12.70 & 27.1 & 15.5 & 0.48 &  7.7 & 0.43 &  11 & 0 &      0 & 2906215 & 0.0e+00 & -1.09181943 & -1.214880169 &  0.84108597\\\\\n",
       "\t Rhode Island         & RI &  1.05 & 28.2 & 15.0 & 2.11 &  9.4 & 1.79 &   0 & 0 &      0 &  174620 & 0.0e+00 & -0.15817102 & -1.346531683 &  1.72559321\\\\\n",
       "\t South Carolina       & SC &  4.63 & 26.4 & 18.1 & 1.18 &  8.1 & 0.70 & 144 & 1 & 402406 &  703708 & 5.7e-01 & -0.87213745 & -0.530292297 &  0.27821773\\\\\n",
       "\t South Dakota         & SD &  0.81 & 25.6 & 20.1 & 2.64 & 10.9 & 2.50 &   0 & 0 &      0 &    4837 & 0.0e+00 &  0.66563639 & -0.003686242 & -0.36506026\\\\\n",
       "\t Tennessee            & TN &  6.35 & 25.2 & 19.4 & 0.85 & 11.4 & 0.75 & 103 & 1 & 275719 & 1109801 & 2.0e-01 &  0.94023887 & -0.187998362 & -0.68669925\\\\\n",
       "\t Texas                & TX & 25.15 & 25.2 & 21.5 & 0.61 & 10.0 & 0.35 &  99 & 1 & 182566 &  604215 & 3.0e-01 &  0.17135194 &  0.364937996 & -0.68669925\\\\\n",
       "\t Utah                 & UT &  2.76 & 23.3 & 29.6 & 1.77 & 10.2 & 0.93 &   0 & 0 &      0 &   40273 & 0.0e+00 &  0.28119293 &  2.497692519 & -2.21448448\\\\\n",
       "\t Vermont              & VT &  0.63 & 26.9 & 16.4 & 2.40 &  9.6 & 1.87 &   0 & 0 &      0 &  315098 & 0.0e+00 & -0.04833004 & -0.977907444 &  0.68026647\\\\\n",
       "\t Virginia             & VA &  8.00 & 26.4 & 20.5 & 0.83 &  8.9 & 0.52 &  40 & 1 & 490865 & 1219630 & 4.0e-01 & -0.43277350 &  0.101634969 &  0.27821773\\\\\n",
       "\t Washington           & WA &  6.72 & 25.9 & 21.4 & 1.00 & 10.0 & 0.65 &   0 & 0 &      0 &   11594 & 0.0e+00 &  0.17135194 &  0.338607693 & -0.12383101\\\\\n",
       "\t West Virginia        & WV &  1.85 & 25.0 & 22.2 & 1.69 & 10.9 & 1.34 &   4 & 1 &  18371 &  376688 & 4.9e-02 &  0.66563639 &  0.549250115 & -0.84751875\\\\\n",
       "\t Wisconsin            & WI &  5.69 & 26.3 & 17.2 & 0.79 &  8.3 & 0.57 &   0 & 0 &      0 &  775881 & 0.0e+00 & -0.76229646 & -0.767265022 &  0.19780798\\\\\n",
       "\t Wyoming              & WY &  0.56 & 24.2 & 30.7 & 3.92 & 10.3 & 1.90 &   0 & 0 &      0 &       0 & 0.0e+00 &  0.33611343 &  2.787325849 & -1.49079674\\\\\n",
       "\\end{tabular}\n"
      ],
      "text/markdown": [
       "\n",
       "A data.frame: 50 × 16\n",
       "\n",
       "| Location &lt;fct&gt; | Loc &lt;fct&gt; | Population &lt;dbl&gt; | MedianAgeMarriage &lt;dbl&gt; | Marriage &lt;dbl&gt; | Marriage.SE &lt;dbl&gt; | Divorce &lt;dbl&gt; | Divorce.SE &lt;dbl&gt; | WaffleHouses &lt;int&gt; | South &lt;int&gt; | Slaves1860 &lt;int&gt; | Population1860 &lt;int&gt; | PropSlaves1860 &lt;dbl&gt; | D &lt;dbl&gt; | M &lt;dbl&gt; | A &lt;dbl&gt; |\n",
       "|---|---|---|---|---|---|---|---|---|---|---|---|---|---|---|---|\n",
       "| Alabama              | AL |  4.78 | 25.3 | 20.2 | 1.27 | 12.7 | 0.79 | 128 | 1 | 435080 |  964201 | 4.5e-01 |  1.65420530 |  0.022644060 | -0.60628951 |\n",
       "| Alaska               | AK |  0.71 | 25.2 | 26.0 | 2.93 | 12.5 | 2.05 |   0 | 0 |      0 |       0 | 0.0e+00 |  1.54436431 |  1.549801620 | -0.68669925 |\n",
       "| Arizona              | AZ |  6.33 | 25.8 | 20.3 | 0.98 | 10.8 | 0.74 |  18 | 0 |      0 |       0 | 0.0e+00 |  0.61071590 |  0.048974363 | -0.20424076 |\n",
       "| Arkansas             | AR |  2.92 | 24.3 | 26.4 | 1.70 | 13.5 | 1.22 |  41 | 1 | 111115 |  435450 | 2.6e-01 |  2.09356925 |  1.655122831 | -1.41038699 |\n",
       "| California           | CA | 37.25 | 26.8 | 19.1 | 0.39 |  8.0 | 0.24 |   0 | 0 |      0 |  379994 | 0.0e+00 | -0.92705795 | -0.266989270 |  0.59985673 |\n",
       "| Colorado             | CO |  5.03 | 25.7 | 23.5 | 1.24 | 11.6 | 0.94 |  11 | 0 |      0 |   34277 | 0.0e+00 |  1.05007986 |  0.891544051 | -0.28465051 |\n",
       "| Connecticut          | CT |  3.57 | 27.6 | 17.1 | 1.06 |  6.7 | 0.77 |   0 | 0 |      0 |  460147 | 0.0e+00 | -1.64102438 | -0.793595325 |  1.24313471 |\n",
       "| Delaware             | DE |  0.90 | 26.6 | 23.1 | 2.89 |  8.9 | 1.39 |   3 | 0 |   1798 |  112216 | 1.6e-02 | -0.43277350 |  0.786222840 |  0.43903723 |\n",
       "| District of Columbia | DC |  0.60 | 29.7 | 17.7 | 2.53 |  6.3 | 1.89 |   0 | 0 |      0 |   75080 | 0.0e+00 | -1.86070636 | -0.635613508 |  2.93173944 |\n",
       "| Florida              | FL | 18.80 | 26.4 | 17.0 | 0.58 |  8.5 | 0.32 | 133 | 1 |  61745 |  140424 | 4.4e-01 | -0.65245548 | -0.819925628 |  0.27821773 |\n",
       "| Georgia              | GA |  9.69 | 25.9 | 22.1 | 0.81 | 11.5 | 0.58 | 381 | 1 | 462198 | 1057286 | 4.4e-01 |  0.99515936 |  0.522919813 | -0.12383101 |\n",
       "| Hawaii               | HI |  1.36 | 26.9 | 24.9 | 2.54 |  8.3 | 1.27 |   0 | 0 |      0 |       0 | 0.0e+00 | -0.76229646 |  1.260168290 |  0.68026647 |\n",
       "| Idaho                | ID |  1.57 | 23.2 | 25.8 | 1.84 |  7.7 | 1.05 |   0 | 0 |      0 |       0 | 0.0e+00 | -1.09181943 |  1.497141014 | -2.29489423 |\n",
       "| Illinois             | IL | 12.83 | 27.0 | 17.9 | 0.58 |  8.0 | 0.45 |   2 | 0 |      0 | 1711951 | 0.0e+00 | -0.92705795 | -0.582952903 |  0.76067622 |\n",
       "| Indiana              | IN |  6.48 | 25.7 | 19.8 | 0.81 | 11.0 | 0.63 |  17 | 0 |      0 | 1350428 | 0.0e+00 |  0.72055689 | -0.082677151 | -0.28465051 |\n",
       "| Iowa                 | IA |  3.05 | 25.4 | 21.5 | 1.46 | 10.2 | 0.91 |   0 | 0 |      0 |  674913 | 0.0e+00 |  0.28119293 |  0.364937996 | -0.52587976 |\n",
       "| Kansas               | KS |  2.85 | 25.0 | 22.1 | 1.48 | 10.6 | 1.09 |   6 | 0 |      2 |  107206 | 1.9e-05 |  0.50087491 |  0.522919813 | -0.84751875 |\n",
       "| Kentucky             | KY |  4.34 | 24.8 | 22.2 | 1.11 | 12.6 | 0.75 |  64 | 1 | 225483 | 1155684 | 0.0e+00 |  1.59928480 |  0.549250115 | -1.00833825 |\n",
       "| Louisiana            | LA |  4.53 | 25.9 | 20.6 | 1.19 | 11.0 | 0.89 |  66 | 1 | 331726 |  708002 | 4.7e-01 |  0.72055689 |  0.127965271 | -0.12383101 |\n",
       "| Maine                | ME |  1.33 | 26.4 | 13.5 | 1.40 | 13.0 | 1.48 |   0 | 0 |      0 |  628279 | 0.0e+00 |  1.81896678 | -1.741486224 |  0.27821773 |\n",
       "| Maryland             | MD |  5.77 | 27.3 | 18.3 | 1.02 |  8.8 | 0.69 |  11 | 0 |  87189 |  687049 | 1.3e-01 | -0.48769399 | -0.477631692 |  1.00190547 |\n",
       "| Massachusetts        | MA |  6.55 | 28.5 | 15.8 | 0.70 |  7.8 | 0.52 |   0 | 0 |      0 | 1231066 | 0.0e+00 | -1.03689894 | -1.135889261 |  1.96682245 |\n",
       "| Michigan             | MI |  9.88 | 26.4 | 16.5 | 0.69 |  9.2 | 0.53 |   0 | 0 |      0 |  749113 | 0.0e+00 | -0.26801201 | -0.951577141 |  0.27821773 |\n",
       "| Minnesota            | MN |  5.30 | 26.3 | 15.3 | 0.77 |  7.4 | 0.60 |   0 | 0 |      0 |  172023 | 0.0e+00 | -1.25658092 | -1.267540774 |  0.19780798 |\n",
       "| Mississippi          | MS |  2.97 | 25.8 | 19.3 | 1.54 | 11.1 | 1.01 |  72 | 1 | 436631 |  791305 | 5.5e-01 |  0.77547738 | -0.214328664 | -0.20424076 |\n",
       "| Missouri             | MO |  5.99 | 25.6 | 18.6 | 0.81 |  9.5 | 0.67 |  39 | 1 | 114931 | 1182012 | 9.7e-02 | -0.10325053 | -0.398640784 | -0.36506026 |\n",
       "| Montana              | MT |  0.99 | 25.7 | 18.5 | 2.31 |  9.1 | 1.71 |   0 | 0 |      0 |       0 | 0.0e+00 | -0.32293251 | -0.424971086 | -0.28465051 |\n",
       "| Nebraska             | NE |  1.83 | 25.4 | 19.6 | 1.44 |  8.8 | 0.94 |   0 | 0 |     15 |   28841 | 5.2e-04 | -0.48769399 | -0.135337756 | -0.52587976 |\n",
       "| New Hampshire        | NH |  1.32 | 26.8 | 16.7 | 1.76 | 10.1 | 1.61 |   0 | 0 |      0 |  326073 | 0.0e+00 |  0.22627244 | -0.898916536 |  0.59985673 |\n",
       "| New Jersey           | NJ |  8.79 | 27.7 | 14.8 | 0.59 |  6.1 | 0.46 |   0 | 0 |     18 |  672035 | 2.7e-05 | -1.97054734 | -1.399192288 |  1.32354446 |\n",
       "| New Mexico           | NM |  2.06 | 25.8 | 20.4 | 1.90 | 10.2 | 1.11 |   2 | 0 |      0 |   93516 | 0.0e+00 |  0.28119293 |  0.075304666 | -0.20424076 |\n",
       "| New York             | NY | 19.38 | 28.4 | 16.8 | 0.47 |  6.6 | 0.31 |   0 | 0 |      0 | 3880735 | 0.0e+00 | -1.69594487 | -0.872586233 |  1.88641270 |\n",
       "| North Carolina       | NC |  9.54 | 25.7 | 20.4 | 0.98 |  9.9 | 0.48 | 142 | 1 | 331059 |  992622 | 3.3e-01 |  0.11643145 |  0.075304666 | -0.28465051 |\n",
       "| North Dakota         | ND |  0.67 | 25.3 | 26.7 | 2.93 |  8.0 | 1.44 |   0 | 0 |      0 |       0 | 0.0e+00 | -0.92705795 |  1.734113739 | -0.60628951 |\n",
       "| Ohio                 | OH | 11.54 | 26.3 | 16.9 | 0.61 |  9.5 | 0.45 |  64 | 0 |      0 | 2339511 | 0.0e+00 | -0.10325053 | -0.846255930 |  0.19780798 |\n",
       "| Oklahoma             | OK |  3.75 | 24.4 | 23.8 | 1.29 | 12.8 | 1.01 |  16 | 0 |      0 |       0 | 0.0e+00 |  1.70912579 |  0.970534959 | -1.32997724 |\n",
       "| Oregon               | OR |  3.83 | 26.0 | 18.9 | 1.10 | 10.4 | 0.80 |   0 | 0 |      0 |   52465 | 0.0e+00 |  0.39103392 | -0.319649875 | -0.04342126 |\n",
       "| Pennsylvania         | PA | 12.70 | 27.1 | 15.5 | 0.48 |  7.7 | 0.43 |  11 | 0 |      0 | 2906215 | 0.0e+00 | -1.09181943 | -1.214880169 |  0.84108597 |\n",
       "| Rhode Island         | RI |  1.05 | 28.2 | 15.0 | 2.11 |  9.4 | 1.79 |   0 | 0 |      0 |  174620 | 0.0e+00 | -0.15817102 | -1.346531683 |  1.72559321 |\n",
       "| South Carolina       | SC |  4.63 | 26.4 | 18.1 | 1.18 |  8.1 | 0.70 | 144 | 1 | 402406 |  703708 | 5.7e-01 | -0.87213745 | -0.530292297 |  0.27821773 |\n",
       "| South Dakota         | SD |  0.81 | 25.6 | 20.1 | 2.64 | 10.9 | 2.50 |   0 | 0 |      0 |    4837 | 0.0e+00 |  0.66563639 | -0.003686242 | -0.36506026 |\n",
       "| Tennessee            | TN |  6.35 | 25.2 | 19.4 | 0.85 | 11.4 | 0.75 | 103 | 1 | 275719 | 1109801 | 2.0e-01 |  0.94023887 | -0.187998362 | -0.68669925 |\n",
       "| Texas                | TX | 25.15 | 25.2 | 21.5 | 0.61 | 10.0 | 0.35 |  99 | 1 | 182566 |  604215 | 3.0e-01 |  0.17135194 |  0.364937996 | -0.68669925 |\n",
       "| Utah                 | UT |  2.76 | 23.3 | 29.6 | 1.77 | 10.2 | 0.93 |   0 | 0 |      0 |   40273 | 0.0e+00 |  0.28119293 |  2.497692519 | -2.21448448 |\n",
       "| Vermont              | VT |  0.63 | 26.9 | 16.4 | 2.40 |  9.6 | 1.87 |   0 | 0 |      0 |  315098 | 0.0e+00 | -0.04833004 | -0.977907444 |  0.68026647 |\n",
       "| Virginia             | VA |  8.00 | 26.4 | 20.5 | 0.83 |  8.9 | 0.52 |  40 | 1 | 490865 | 1219630 | 4.0e-01 | -0.43277350 |  0.101634969 |  0.27821773 |\n",
       "| Washington           | WA |  6.72 | 25.9 | 21.4 | 1.00 | 10.0 | 0.65 |   0 | 0 |      0 |   11594 | 0.0e+00 |  0.17135194 |  0.338607693 | -0.12383101 |\n",
       "| West Virginia        | WV |  1.85 | 25.0 | 22.2 | 1.69 | 10.9 | 1.34 |   4 | 1 |  18371 |  376688 | 4.9e-02 |  0.66563639 |  0.549250115 | -0.84751875 |\n",
       "| Wisconsin            | WI |  5.69 | 26.3 | 17.2 | 0.79 |  8.3 | 0.57 |   0 | 0 |      0 |  775881 | 0.0e+00 | -0.76229646 | -0.767265022 |  0.19780798 |\n",
       "| Wyoming              | WY |  0.56 | 24.2 | 30.7 | 3.92 | 10.3 | 1.90 |   0 | 0 |      0 |       0 | 0.0e+00 |  0.33611343 |  2.787325849 | -1.49079674 |\n",
       "\n"
      ],
      "text/plain": [
       "   Location             Loc Population MedianAgeMarriage Marriage Marriage.SE\n",
       "1  Alabama              AL   4.78      25.3              20.2     1.27       \n",
       "2  Alaska               AK   0.71      25.2              26.0     2.93       \n",
       "3  Arizona              AZ   6.33      25.8              20.3     0.98       \n",
       "4  Arkansas             AR   2.92      24.3              26.4     1.70       \n",
       "5  California           CA  37.25      26.8              19.1     0.39       \n",
       "6  Colorado             CO   5.03      25.7              23.5     1.24       \n",
       "7  Connecticut          CT   3.57      27.6              17.1     1.06       \n",
       "8  Delaware             DE   0.90      26.6              23.1     2.89       \n",
       "9  District of Columbia DC   0.60      29.7              17.7     2.53       \n",
       "10 Florida              FL  18.80      26.4              17.0     0.58       \n",
       "11 Georgia              GA   9.69      25.9              22.1     0.81       \n",
       "12 Hawaii               HI   1.36      26.9              24.9     2.54       \n",
       "13 Idaho                ID   1.57      23.2              25.8     1.84       \n",
       "14 Illinois             IL  12.83      27.0              17.9     0.58       \n",
       "15 Indiana              IN   6.48      25.7              19.8     0.81       \n",
       "16 Iowa                 IA   3.05      25.4              21.5     1.46       \n",
       "17 Kansas               KS   2.85      25.0              22.1     1.48       \n",
       "18 Kentucky             KY   4.34      24.8              22.2     1.11       \n",
       "19 Louisiana            LA   4.53      25.9              20.6     1.19       \n",
       "20 Maine                ME   1.33      26.4              13.5     1.40       \n",
       "21 Maryland             MD   5.77      27.3              18.3     1.02       \n",
       "22 Massachusetts        MA   6.55      28.5              15.8     0.70       \n",
       "23 Michigan             MI   9.88      26.4              16.5     0.69       \n",
       "24 Minnesota            MN   5.30      26.3              15.3     0.77       \n",
       "25 Mississippi          MS   2.97      25.8              19.3     1.54       \n",
       "26 Missouri             MO   5.99      25.6              18.6     0.81       \n",
       "27 Montana              MT   0.99      25.7              18.5     2.31       \n",
       "28 Nebraska             NE   1.83      25.4              19.6     1.44       \n",
       "29 New Hampshire        NH   1.32      26.8              16.7     1.76       \n",
       "30 New Jersey           NJ   8.79      27.7              14.8     0.59       \n",
       "31 New Mexico           NM   2.06      25.8              20.4     1.90       \n",
       "32 New York             NY  19.38      28.4              16.8     0.47       \n",
       "33 North Carolina       NC   9.54      25.7              20.4     0.98       \n",
       "34 North Dakota         ND   0.67      25.3              26.7     2.93       \n",
       "35 Ohio                 OH  11.54      26.3              16.9     0.61       \n",
       "36 Oklahoma             OK   3.75      24.4              23.8     1.29       \n",
       "37 Oregon               OR   3.83      26.0              18.9     1.10       \n",
       "38 Pennsylvania         PA  12.70      27.1              15.5     0.48       \n",
       "39 Rhode Island         RI   1.05      28.2              15.0     2.11       \n",
       "40 South Carolina       SC   4.63      26.4              18.1     1.18       \n",
       "41 South Dakota         SD   0.81      25.6              20.1     2.64       \n",
       "42 Tennessee            TN   6.35      25.2              19.4     0.85       \n",
       "43 Texas                TX  25.15      25.2              21.5     0.61       \n",
       "44 Utah                 UT   2.76      23.3              29.6     1.77       \n",
       "45 Vermont              VT   0.63      26.9              16.4     2.40       \n",
       "46 Virginia             VA   8.00      26.4              20.5     0.83       \n",
       "47 Washington           WA   6.72      25.9              21.4     1.00       \n",
       "48 West Virginia        WV   1.85      25.0              22.2     1.69       \n",
       "49 Wisconsin            WI   5.69      26.3              17.2     0.79       \n",
       "50 Wyoming              WY   0.56      24.2              30.7     3.92       \n",
       "   Divorce Divorce.SE WaffleHouses South Slaves1860 Population1860\n",
       "1  12.7    0.79       128          1     435080      964201       \n",
       "2  12.5    2.05         0          0          0           0       \n",
       "3  10.8    0.74        18          0          0           0       \n",
       "4  13.5    1.22        41          1     111115      435450       \n",
       "5   8.0    0.24         0          0          0      379994       \n",
       "6  11.6    0.94        11          0          0       34277       \n",
       "7   6.7    0.77         0          0          0      460147       \n",
       "8   8.9    1.39         3          0       1798      112216       \n",
       "9   6.3    1.89         0          0          0       75080       \n",
       "10  8.5    0.32       133          1      61745      140424       \n",
       "11 11.5    0.58       381          1     462198     1057286       \n",
       "12  8.3    1.27         0          0          0           0       \n",
       "13  7.7    1.05         0          0          0           0       \n",
       "14  8.0    0.45         2          0          0     1711951       \n",
       "15 11.0    0.63        17          0          0     1350428       \n",
       "16 10.2    0.91         0          0          0      674913       \n",
       "17 10.6    1.09         6          0          2      107206       \n",
       "18 12.6    0.75        64          1     225483     1155684       \n",
       "19 11.0    0.89        66          1     331726      708002       \n",
       "20 13.0    1.48         0          0          0      628279       \n",
       "21  8.8    0.69        11          0      87189      687049       \n",
       "22  7.8    0.52         0          0          0     1231066       \n",
       "23  9.2    0.53         0          0          0      749113       \n",
       "24  7.4    0.60         0          0          0      172023       \n",
       "25 11.1    1.01        72          1     436631      791305       \n",
       "26  9.5    0.67        39          1     114931     1182012       \n",
       "27  9.1    1.71         0          0          0           0       \n",
       "28  8.8    0.94         0          0         15       28841       \n",
       "29 10.1    1.61         0          0          0      326073       \n",
       "30  6.1    0.46         0          0         18      672035       \n",
       "31 10.2    1.11         2          0          0       93516       \n",
       "32  6.6    0.31         0          0          0     3880735       \n",
       "33  9.9    0.48       142          1     331059      992622       \n",
       "34  8.0    1.44         0          0          0           0       \n",
       "35  9.5    0.45        64          0          0     2339511       \n",
       "36 12.8    1.01        16          0          0           0       \n",
       "37 10.4    0.80         0          0          0       52465       \n",
       "38  7.7    0.43        11          0          0     2906215       \n",
       "39  9.4    1.79         0          0          0      174620       \n",
       "40  8.1    0.70       144          1     402406      703708       \n",
       "41 10.9    2.50         0          0          0        4837       \n",
       "42 11.4    0.75       103          1     275719     1109801       \n",
       "43 10.0    0.35        99          1     182566      604215       \n",
       "44 10.2    0.93         0          0          0       40273       \n",
       "45  9.6    1.87         0          0          0      315098       \n",
       "46  8.9    0.52        40          1     490865     1219630       \n",
       "47 10.0    0.65         0          0          0       11594       \n",
       "48 10.9    1.34         4          1      18371      376688       \n",
       "49  8.3    0.57         0          0          0      775881       \n",
       "50 10.3    1.90         0          0          0           0       \n",
       "   PropSlaves1860 D           M            A          \n",
       "1  4.5e-01         1.65420530  0.022644060 -0.60628951\n",
       "2  0.0e+00         1.54436431  1.549801620 -0.68669925\n",
       "3  0.0e+00         0.61071590  0.048974363 -0.20424076\n",
       "4  2.6e-01         2.09356925  1.655122831 -1.41038699\n",
       "5  0.0e+00        -0.92705795 -0.266989270  0.59985673\n",
       "6  0.0e+00         1.05007986  0.891544051 -0.28465051\n",
       "7  0.0e+00        -1.64102438 -0.793595325  1.24313471\n",
       "8  1.6e-02        -0.43277350  0.786222840  0.43903723\n",
       "9  0.0e+00        -1.86070636 -0.635613508  2.93173944\n",
       "10 4.4e-01        -0.65245548 -0.819925628  0.27821773\n",
       "11 4.4e-01         0.99515936  0.522919813 -0.12383101\n",
       "12 0.0e+00        -0.76229646  1.260168290  0.68026647\n",
       "13 0.0e+00        -1.09181943  1.497141014 -2.29489423\n",
       "14 0.0e+00        -0.92705795 -0.582952903  0.76067622\n",
       "15 0.0e+00         0.72055689 -0.082677151 -0.28465051\n",
       "16 0.0e+00         0.28119293  0.364937996 -0.52587976\n",
       "17 1.9e-05         0.50087491  0.522919813 -0.84751875\n",
       "18 0.0e+00         1.59928480  0.549250115 -1.00833825\n",
       "19 4.7e-01         0.72055689  0.127965271 -0.12383101\n",
       "20 0.0e+00         1.81896678 -1.741486224  0.27821773\n",
       "21 1.3e-01        -0.48769399 -0.477631692  1.00190547\n",
       "22 0.0e+00        -1.03689894 -1.135889261  1.96682245\n",
       "23 0.0e+00        -0.26801201 -0.951577141  0.27821773\n",
       "24 0.0e+00        -1.25658092 -1.267540774  0.19780798\n",
       "25 5.5e-01         0.77547738 -0.214328664 -0.20424076\n",
       "26 9.7e-02        -0.10325053 -0.398640784 -0.36506026\n",
       "27 0.0e+00        -0.32293251 -0.424971086 -0.28465051\n",
       "28 5.2e-04        -0.48769399 -0.135337756 -0.52587976\n",
       "29 0.0e+00         0.22627244 -0.898916536  0.59985673\n",
       "30 2.7e-05        -1.97054734 -1.399192288  1.32354446\n",
       "31 0.0e+00         0.28119293  0.075304666 -0.20424076\n",
       "32 0.0e+00        -1.69594487 -0.872586233  1.88641270\n",
       "33 3.3e-01         0.11643145  0.075304666 -0.28465051\n",
       "34 0.0e+00        -0.92705795  1.734113739 -0.60628951\n",
       "35 0.0e+00        -0.10325053 -0.846255930  0.19780798\n",
       "36 0.0e+00         1.70912579  0.970534959 -1.32997724\n",
       "37 0.0e+00         0.39103392 -0.319649875 -0.04342126\n",
       "38 0.0e+00        -1.09181943 -1.214880169  0.84108597\n",
       "39 0.0e+00        -0.15817102 -1.346531683  1.72559321\n",
       "40 5.7e-01        -0.87213745 -0.530292297  0.27821773\n",
       "41 0.0e+00         0.66563639 -0.003686242 -0.36506026\n",
       "42 2.0e-01         0.94023887 -0.187998362 -0.68669925\n",
       "43 3.0e-01         0.17135194  0.364937996 -0.68669925\n",
       "44 0.0e+00         0.28119293  2.497692519 -2.21448448\n",
       "45 0.0e+00        -0.04833004 -0.977907444  0.68026647\n",
       "46 4.0e-01        -0.43277350  0.101634969  0.27821773\n",
       "47 0.0e+00         0.17135194  0.338607693 -0.12383101\n",
       "48 4.9e-02         0.66563639  0.549250115 -0.84751875\n",
       "49 0.0e+00        -0.76229646 -0.767265022  0.19780798\n",
       "50 0.0e+00         0.33611343  2.787325849 -1.49079674"
      ]
     },
     "metadata": {},
     "output_type": "display_data"
    }
   ],
   "source": [
    "d"
   ]
  },
  {
   "cell_type": "code",
   "execution_count": 27,
   "id": "60a75bae-2c6c-4025-afc9-0a292493b0df",
   "metadata": {},
   "outputs": [
    {
     "data": {
      "image/png": "[encoded data removed]",
      "text/plain": [
       "plot without title"
      ]
     },
     "metadata": {
      "image/png": {
       "height": 420,
       "width": 420
      }
     },
     "output_type": "display_data"
    }
   ],
   "source": [
    "plot(D ~ South, data=d)"
   ]
  },
  {
   "cell_type": "code",
   "execution_count": 26,
   "id": "273c36c3-764b-4ee7-b784-19798926f2b0",
   "metadata": {},
   "outputs": [
    {
     "data": {
      "image/png": "[encoded data removed]",
      "text/plain": [
       "plot without title"
      ]
     },
     "metadata": {
      "image/png": {
       "height": 420,
       "width": 420
      }
     },
     "output_type": "display_data"
    }
   ],
   "source": [
    "plot(D ~ WaffleHouses , data=d)"
   ]
  },
  {
   "cell_type": "code",
   "execution_count": 29,
   "id": "7058ecdd-f7c9-4388-bf8b-1f3921bb9597",
   "metadata": {},
   "outputs": [],
   "source": [
    "m <- quap (\n",
    "    alist(\n",
    "        D ~ dnorm(mu, sigma),\n",
    "        mu <- a+bs*South + bw*WaffleHouses,\n",
    "        a ~ dnorm(0,0.2),\n",
    "        bs ~ dnorm(0,0.5),\n",
    "        bw ~ dnorm(0, 0.5),\n",
    "        sigma ~ exp(1)\n",
    "        )\n",
    "    ,data=d)\n",
    "        "
   ]
  },
  {
   "cell_type": "code",
   "execution_count": 30,
   "id": "d568820d-4b51-447b-b6a2-f9ed1c224279",
   "metadata": {},
   "outputs": [
    {
     "data": {
      "text/html": [
       "<table class=\"dataframe\">\n",
       "<caption>A precis: 3 × 4</caption>\n",
       "<thead>\n",
       "\t<tr><th></th><th scope=col>mean</th><th scope=col>sd</th><th scope=col>5.5%</th><th scope=col>94.5%</th></tr>\n",
       "\t<tr><th></th><th scope=col>&lt;dbl&gt;</th><th scope=col>&lt;dbl&gt;</th><th scope=col>&lt;dbl&gt;</th><th scope=col>&lt;dbl&gt;</th></tr>\n",
       "</thead>\n",
       "<tbody>\n",
       "\t<tr><th scope=row>a</th><td>-0.024406526</td><td>0.181579517</td><td>-0.314605664</td><td>0.26579261</td></tr>\n",
       "\t<tr><th scope=row>bs</th><td> 0.092439598</td><td>0.456721362</td><td>-0.637489350</td><td>0.82236855</td></tr>\n",
       "\t<tr><th scope=row>bw</th><td> 0.002743003</td><td>0.005931737</td><td>-0.006737058</td><td>0.01222306</td></tr>\n",
       "</tbody>\n",
       "</table>\n"
      ],
      "text/latex": [
       "A precis: 3 × 4\n",
       "\\begin{tabular}{r|llll}\n",
       "  & mean & sd & 5.5\\% & 94.5\\%\\\\\n",
       "  & <dbl> & <dbl> & <dbl> & <dbl>\\\\\n",
       "\\hline\n",
       "\ta & -0.024406526 & 0.181579517 & -0.314605664 & 0.26579261\\\\\n",
       "\tbs &  0.092439598 & 0.456721362 & -0.637489350 & 0.82236855\\\\\n",
       "\tbw &  0.002743003 & 0.005931737 & -0.006737058 & 0.01222306\\\\\n",
       "\\end{tabular}\n"
      ],
      "text/markdown": [
       "\n",
       "A precis: 3 × 4\n",
       "\n",
       "| <!--/--> | mean &lt;dbl&gt; | sd &lt;dbl&gt; | 5.5% &lt;dbl&gt; | 94.5% &lt;dbl&gt; |\n",
       "|---|---|---|---|---|\n",
       "| a | -0.024406526 | 0.181579517 | -0.314605664 | 0.26579261 |\n",
       "| bs |  0.092439598 | 0.456721362 | -0.637489350 | 0.82236855 |\n",
       "| bw |  0.002743003 | 0.005931737 | -0.006737058 | 0.01222306 |\n",
       "\n"
      ],
      "text/plain": [
       "   mean         sd          5.5%         94.5%     \n",
       "a  -0.024406526 0.181579517 -0.314605664 0.26579261\n",
       "bs  0.092439598 0.456721362 -0.637489350 0.82236855\n",
       "bw  0.002743003 0.005931737 -0.006737058 0.01222306"
      ]
     },
     "metadata": {},
     "output_type": "display_data"
    }
   ],
   "source": [
    "precis(m)"
   ]
  },
  {
   "cell_type": "code",
   "execution_count": 31,
   "id": "71808b47-d711-4553-82e5-65234072391f",
   "metadata": {},
   "outputs": [
    {
     "data": {
      "image/png": "[encoded data removed]",
      "text/plain": [
       "plot without title"
      ]
     },
     "metadata": {
      "image/png": {
       "height": 420,
       "width": 420
      }
     },
     "output_type": "display_data"
    }
   ],
   "source": [
    "plot(precis(m))"
   ]
  },
  {
   "cell_type": "markdown",
   "id": "5d2697a4-ded8-420f-9b7a-f5b48997b565",
   "metadata": {},
   "source": [
    "This shows that there are no casual impact from waffle house to divorce rate. "
   ]
  },
  {
   "cell_type": "markdown",
   "id": "45a05f8f-fdeb-4720-a140-62b747a98d4c",
   "metadata": {},
   "source": [
    "### 6H2.\n",
    "\n",
    "Build a series of models to test the implied conditional independencies of the causal graph you used in the previous problem. If any of the tests fail, how do you think the graph needs to be amended? Does the graph need more or fewer arrows? Feel free to nominate variables that aren’t in the data\n"
   ]
  },
  {
   "cell_type": "markdown",
   "id": "3c646634-ed65-4e43-9de0-29b3c5881cac",
   "metadata": {},
   "source": [
    "let's just do one\n",
    "\n",
    "A _ ||_ W | S"
   ]
  },
  {
   "cell_type": "code",
   "execution_count": 36,
   "id": "6f921127-1994-41c3-869c-56fcbf25d839",
   "metadata": {},
   "outputs": [],
   "source": [
    "m <- quap(\n",
    "    alist(\n",
    "        A ~ dnorm(mu, sigma),\n",
    "        mu <- a+bs*South + bw*WaffleHouses,\n",
    "        a ~ dnorm(0,0.2),\n",
    "        bs ~ dnorm(0,0.5),\n",
    "        bw ~ dnorm(0, 0.5),\n",
    "        sigma ~ exp(1)\n",
    "        )\n",
    "    ,data=d)"
   ]
  },
  {
   "cell_type": "code",
   "execution_count": 37,
   "id": "20e613a9-8fcf-4ca8-b54f-003ec04effa4",
   "metadata": {},
   "outputs": [
    {
     "data": {
      "image/png": "[encoded data removed]",
      "text/plain": [
       "plot without title"
      ]
     },
     "metadata": {
      "image/png": {
       "height": 420,
       "width": 420
      }
     },
     "output_type": "display_data"
    }
   ],
   "source": [
    "plot(precis(m))"
   ]
  },
  {
   "cell_type": "code",
   "execution_count": 38,
   "id": "6c40f30e-5f2f-465b-a959-0f72212b40d7",
   "metadata": {},
   "outputs": [
    {
     "data": {
      "text/html": [
       "<table class=\"dataframe\">\n",
       "<caption>A precis: 3 × 4</caption>\n",
       "<thead>\n",
       "\t<tr><th></th><th scope=col>mean</th><th scope=col>sd</th><th scope=col>5.5%</th><th scope=col>94.5%</th></tr>\n",
       "\t<tr><th></th><th scope=col>&lt;dbl&gt;</th><th scope=col>&lt;dbl&gt;</th><th scope=col>&lt;dbl&gt;</th><th scope=col>&lt;dbl&gt;</th></tr>\n",
       "</thead>\n",
       "<tbody>\n",
       "\t<tr><th scope=row>a</th><td> 0.0125873849</td><td>0.181579517</td><td>-0.27761175</td><td>0.302786524</td></tr>\n",
       "\t<tr><th scope=row>bs</th><td>-0.0978523631</td><td>0.456721362</td><td>-0.82778131</td><td>0.632076584</td></tr>\n",
       "\t<tr><th scope=row>bw</th><td>-0.0009799867</td><td>0.005931737</td><td>-0.01046005</td><td>0.008500074</td></tr>\n",
       "</tbody>\n",
       "</table>\n"
      ],
      "text/latex": [
       "A precis: 3 × 4\n",
       "\\begin{tabular}{r|llll}\n",
       "  & mean & sd & 5.5\\% & 94.5\\%\\\\\n",
       "  & <dbl> & <dbl> & <dbl> & <dbl>\\\\\n",
       "\\hline\n",
       "\ta &  0.0125873849 & 0.181579517 & -0.27761175 & 0.302786524\\\\\n",
       "\tbs & -0.0978523631 & 0.456721362 & -0.82778131 & 0.632076584\\\\\n",
       "\tbw & -0.0009799867 & 0.005931737 & -0.01046005 & 0.008500074\\\\\n",
       "\\end{tabular}\n"
      ],
      "text/markdown": [
       "\n",
       "A precis: 3 × 4\n",
       "\n",
       "| <!--/--> | mean &lt;dbl&gt; | sd &lt;dbl&gt; | 5.5% &lt;dbl&gt; | 94.5% &lt;dbl&gt; |\n",
       "|---|---|---|---|---|\n",
       "| a |  0.0125873849 | 0.181579517 | -0.27761175 | 0.302786524 |\n",
       "| bs | -0.0978523631 | 0.456721362 | -0.82778131 | 0.632076584 |\n",
       "| bw | -0.0009799867 | 0.005931737 | -0.01046005 | 0.008500074 |\n",
       "\n"
      ],
      "text/plain": [
       "   mean          sd          5.5%        94.5%      \n",
       "a   0.0125873849 0.181579517 -0.27761175 0.302786524\n",
       "bs -0.0978523631 0.456721362 -0.82778131 0.632076584\n",
       "bw -0.0009799867 0.005931737 -0.01046005 0.008500074"
      ]
     },
     "metadata": {},
     "output_type": "display_data"
    }
   ],
   "source": [
    "precis(m)"
   ]
  },
  {
   "cell_type": "markdown",
   "id": "c4720210-e2e6-42f4-af1e-e03a38a7a158",
   "metadata": {},
   "source": [
    "so bw is almost 0, therefore independent"
   ]
  },
  {
   "cell_type": "markdown",
   "id": "eb450a62-12ad-48c4-8fb7-447d2663c191",
   "metadata": {},
   "source": [
    "### 6H3.\n",
    "\n",
    "Use a model to infer the total causal influence of area on weight. Would increasing the area\n",
    "available to each fox make it heavier (healthier)? You might want to standardize the variables. Regardless, use prior predictive simulation to show that your model’s prior predictions stay within the\n",
    "possible outcome range\n",
    "\n",
    "#### Answer \n",
    " To find the total causal impact of area on weight, we simply regress weight on area with no conditioning. This is because the effect of area on weight is mediated through the other variables."
   ]
  },
  {
   "cell_type": "code",
   "execution_count": 40,
   "id": "d86ddb19-d93a-4cba-8a18-d3950d3e84d1",
   "metadata": {},
   "outputs": [],
   "source": [
    "data(foxes)"
   ]
  },
  {
   "cell_type": "code",
   "execution_count": 41,
   "id": "94cf710b-ac66-4108-8e54-1d028d2f68a2",
   "metadata": {},
   "outputs": [],
   "source": [
    "d <- foxes"
   ]
  },
  {
   "cell_type": "code",
   "execution_count": 50,
   "id": "47f427de-bd8b-49ca-b6f7-6c41141de470",
   "metadata": {},
   "outputs": [
    {
     "data": {
      "text/html": [
       "<table class=\"dataframe\">\n",
       "<caption>A data.frame: 6 × 7</caption>\n",
       "<thead>\n",
       "\t<tr><th></th><th scope=col>group</th><th scope=col>avgfood</th><th scope=col>groupsize</th><th scope=col>area</th><th scope=col>weight</th><th scope=col>A</th><th scope=col>W</th></tr>\n",
       "\t<tr><th></th><th scope=col>&lt;int&gt;</th><th scope=col>&lt;dbl&gt;</th><th scope=col>&lt;int&gt;</th><th scope=col>&lt;dbl&gt;</th><th scope=col>&lt;dbl&gt;</th><th scope=col>&lt;dbl&gt;</th><th scope=col>&lt;dbl&gt;</th></tr>\n",
       "</thead>\n",
       "<tbody>\n",
       "\t<tr><th scope=row>1</th><td>1</td><td>0.37</td><td>2</td><td>1.09</td><td>5.02</td><td>-2.239596</td><td> 0.4141347</td></tr>\n",
       "\t<tr><th scope=row>2</th><td>1</td><td>0.37</td><td>2</td><td>1.09</td><td>2.84</td><td>-2.239596</td><td>-1.4270464</td></tr>\n",
       "\t<tr><th scope=row>3</th><td>2</td><td>0.53</td><td>2</td><td>2.05</td><td>5.33</td><td>-1.205508</td><td> 0.6759540</td></tr>\n",
       "\t<tr><th scope=row>4</th><td>2</td><td>0.53</td><td>2</td><td>2.05</td><td>6.07</td><td>-1.205508</td><td> 1.3009421</td></tr>\n",
       "\t<tr><th scope=row>5</th><td>3</td><td>0.49</td><td>2</td><td>2.12</td><td>5.85</td><td>-1.130106</td><td> 1.1151348</td></tr>\n",
       "\t<tr><th scope=row>6</th><td>3</td><td>0.49</td><td>2</td><td>2.12</td><td>3.25</td><td>-1.130106</td><td>-1.0807692</td></tr>\n",
       "</tbody>\n",
       "</table>\n"
      ],
      "text/latex": [
       "A data.frame: 6 × 7\n",
       "\\begin{tabular}{r|lllllll}\n",
       "  & group & avgfood & groupsize & area & weight & A & W\\\\\n",
       "  & <int> & <dbl> & <int> & <dbl> & <dbl> & <dbl> & <dbl>\\\\\n",
       "\\hline\n",
       "\t1 & 1 & 0.37 & 2 & 1.09 & 5.02 & -2.239596 &  0.4141347\\\\\n",
       "\t2 & 1 & 0.37 & 2 & 1.09 & 2.84 & -2.239596 & -1.4270464\\\\\n",
       "\t3 & 2 & 0.53 & 2 & 2.05 & 5.33 & -1.205508 &  0.6759540\\\\\n",
       "\t4 & 2 & 0.53 & 2 & 2.05 & 6.07 & -1.205508 &  1.3009421\\\\\n",
       "\t5 & 3 & 0.49 & 2 & 2.12 & 5.85 & -1.130106 &  1.1151348\\\\\n",
       "\t6 & 3 & 0.49 & 2 & 2.12 & 3.25 & -1.130106 & -1.0807692\\\\\n",
       "\\end{tabular}\n"
      ],
      "text/markdown": [
       "\n",
       "A data.frame: 6 × 7\n",
       "\n",
       "| <!--/--> | group &lt;int&gt; | avgfood &lt;dbl&gt; | groupsize &lt;int&gt; | area &lt;dbl&gt; | weight &lt;dbl&gt; | A &lt;dbl&gt; | W &lt;dbl&gt; |\n",
       "|---|---|---|---|---|---|---|---|\n",
       "| 1 | 1 | 0.37 | 2 | 1.09 | 5.02 | -2.239596 |  0.4141347 |\n",
       "| 2 | 1 | 0.37 | 2 | 1.09 | 2.84 | -2.239596 | -1.4270464 |\n",
       "| 3 | 2 | 0.53 | 2 | 2.05 | 5.33 | -1.205508 |  0.6759540 |\n",
       "| 4 | 2 | 0.53 | 2 | 2.05 | 6.07 | -1.205508 |  1.3009421 |\n",
       "| 5 | 3 | 0.49 | 2 | 2.12 | 5.85 | -1.130106 |  1.1151348 |\n",
       "| 6 | 3 | 0.49 | 2 | 2.12 | 3.25 | -1.130106 | -1.0807692 |\n",
       "\n"
      ],
      "text/plain": [
       "  group avgfood groupsize area weight A         W         \n",
       "1 1     0.37    2         1.09 5.02   -2.239596  0.4141347\n",
       "2 1     0.37    2         1.09 2.84   -2.239596 -1.4270464\n",
       "3 2     0.53    2         2.05 5.33   -1.205508  0.6759540\n",
       "4 2     0.53    2         2.05 6.07   -1.205508  1.3009421\n",
       "5 3     0.49    2         2.12 5.85   -1.130106  1.1151348\n",
       "6 3     0.49    2         2.12 3.25   -1.130106 -1.0807692"
      ]
     },
     "metadata": {},
     "output_type": "display_data"
    }
   ],
   "source": [
    "head(d)"
   ]
  },
  {
   "cell_type": "code",
   "execution_count": 43,
   "id": "39962b23-0d43-4835-8068-54d36300dadd",
   "metadata": {},
   "outputs": [
    {
     "data": {
      "text/html": [
       "<table class=\"dataframe\">\n",
       "<caption>A data.frame: 6 × 5</caption>\n",
       "<thead>\n",
       "\t<tr><th></th><th scope=col>group</th><th scope=col>avgfood</th><th scope=col>groupsize</th><th scope=col>area</th><th scope=col>weight</th></tr>\n",
       "\t<tr><th></th><th scope=col>&lt;int&gt;</th><th scope=col>&lt;dbl&gt;</th><th scope=col>&lt;int&gt;</th><th scope=col>&lt;dbl&gt;</th><th scope=col>&lt;dbl&gt;</th></tr>\n",
       "</thead>\n",
       "<tbody>\n",
       "\t<tr><th scope=row>1</th><td>1</td><td>0.37</td><td>2</td><td>1.09</td><td>5.02</td></tr>\n",
       "\t<tr><th scope=row>2</th><td>1</td><td>0.37</td><td>2</td><td>1.09</td><td>2.84</td></tr>\n",
       "\t<tr><th scope=row>3</th><td>2</td><td>0.53</td><td>2</td><td>2.05</td><td>5.33</td></tr>\n",
       "\t<tr><th scope=row>4</th><td>2</td><td>0.53</td><td>2</td><td>2.05</td><td>6.07</td></tr>\n",
       "\t<tr><th scope=row>5</th><td>3</td><td>0.49</td><td>2</td><td>2.12</td><td>5.85</td></tr>\n",
       "\t<tr><th scope=row>6</th><td>3</td><td>0.49</td><td>2</td><td>2.12</td><td>3.25</td></tr>\n",
       "</tbody>\n",
       "</table>\n"
      ],
      "text/latex": [
       "A data.frame: 6 × 5\n",
       "\\begin{tabular}{r|lllll}\n",
       "  & group & avgfood & groupsize & area & weight\\\\\n",
       "  & <int> & <dbl> & <int> & <dbl> & <dbl>\\\\\n",
       "\\hline\n",
       "\t1 & 1 & 0.37 & 2 & 1.09 & 5.02\\\\\n",
       "\t2 & 1 & 0.37 & 2 & 1.09 & 2.84\\\\\n",
       "\t3 & 2 & 0.53 & 2 & 2.05 & 5.33\\\\\n",
       "\t4 & 2 & 0.53 & 2 & 2.05 & 6.07\\\\\n",
       "\t5 & 3 & 0.49 & 2 & 2.12 & 5.85\\\\\n",
       "\t6 & 3 & 0.49 & 2 & 2.12 & 3.25\\\\\n",
       "\\end{tabular}\n"
      ],
      "text/markdown": [
       "\n",
       "A data.frame: 6 × 5\n",
       "\n",
       "| <!--/--> | group &lt;int&gt; | avgfood &lt;dbl&gt; | groupsize &lt;int&gt; | area &lt;dbl&gt; | weight &lt;dbl&gt; |\n",
       "|---|---|---|---|---|---|\n",
       "| 1 | 1 | 0.37 | 2 | 1.09 | 5.02 |\n",
       "| 2 | 1 | 0.37 | 2 | 1.09 | 2.84 |\n",
       "| 3 | 2 | 0.53 | 2 | 2.05 | 5.33 |\n",
       "| 4 | 2 | 0.53 | 2 | 2.05 | 6.07 |\n",
       "| 5 | 3 | 0.49 | 2 | 2.12 | 5.85 |\n",
       "| 6 | 3 | 0.49 | 2 | 2.12 | 3.25 |\n",
       "\n"
      ],
      "text/plain": [
       "  group avgfood groupsize area weight\n",
       "1 1     0.37    2         1.09 5.02  \n",
       "2 1     0.37    2         1.09 2.84  \n",
       "3 2     0.53    2         2.05 5.33  \n",
       "4 2     0.53    2         2.05 6.07  \n",
       "5 3     0.49    2         2.12 5.85  \n",
       "6 3     0.49    2         2.12 3.25  "
      ]
     },
     "metadata": {},
     "output_type": "display_data"
    }
   ],
   "source": [
    "head(d)"
   ]
  },
  {
   "cell_type": "code",
   "execution_count": 45,
   "id": "caa10233-0676-4ee5-b569-8b932d39721f",
   "metadata": {},
   "outputs": [],
   "source": [
    "d$A <- standardize(d$area)\n",
    "d$W <- standardize(d$weight)"
   ]
  },
  {
   "cell_type": "code",
   "execution_count": 47,
   "id": "ebcaae69-28f1-46fb-879f-9d97ea808bdf",
   "metadata": {},
   "outputs": [
    {
     "data": {
      "image/png": "[encoded data removed]",
      "text/plain": [
       "plot without title"
      ]
     },
     "metadata": {
      "image/png": {
       "height": 420,
       "width": 420
      }
     },
     "output_type": "display_data"
    }
   ],
   "source": [
    "plot( A ~ W, d)"
   ]
  },
  {
   "cell_type": "code",
   "execution_count": 48,
   "id": "ce818f4a-4d73-48e0-b40f-325b858b25c1",
   "metadata": {},
   "outputs": [],
   "source": [
    "m <- quap(\n",
    "    alist(\n",
    "        a ~ dnorm(mu, sigma),\n",
    "        mu <- a + bw*W,\n",
    "        a ~ dnorm(0,0.5),\n",
    "        bw ~ dnorm(0, 0.5),\n",
    "        sigma ~ exp(1)\n",
    "        ), data = d)"
   ]
  },
  {
   "cell_type": "code",
   "execution_count": 49,
   "id": "ba4fbf45-6f43-4a66-ba5c-9bda2ae38718",
   "metadata": {},
   "outputs": [
    {
     "data": {
      "text/html": [
       "<table class=\"dataframe\">\n",
       "<caption>A precis: 2 × 4</caption>\n",
       "<thead>\n",
       "\t<tr><th></th><th scope=col>mean</th><th scope=col>sd</th><th scope=col>5.5%</th><th scope=col>94.5%</th></tr>\n",
       "\t<tr><th></th><th scope=col>&lt;dbl&gt;</th><th scope=col>&lt;dbl&gt;</th><th scope=col>&lt;dbl&gt;</th><th scope=col>&lt;dbl&gt;</th></tr>\n",
       "</thead>\n",
       "<tbody>\n",
       "\t<tr><th scope=row>a</th><td> 6.149592e-08</td><td>0.5000000</td><td>-0.7990965</td><td>0.7990966</td></tr>\n",
       "\t<tr><th scope=row>bw</th><td>-4.016933e-09</td><td>0.2260873</td><td>-0.3613311</td><td>0.3613311</td></tr>\n",
       "</tbody>\n",
       "</table>\n"
      ],
      "text/latex": [
       "A precis: 2 × 4\n",
       "\\begin{tabular}{r|llll}\n",
       "  & mean & sd & 5.5\\% & 94.5\\%\\\\\n",
       "  & <dbl> & <dbl> & <dbl> & <dbl>\\\\\n",
       "\\hline\n",
       "\ta &  6.149592e-08 & 0.5000000 & -0.7990965 & 0.7990966\\\\\n",
       "\tbw & -4.016933e-09 & 0.2260873 & -0.3613311 & 0.3613311\\\\\n",
       "\\end{tabular}\n"
      ],
      "text/markdown": [
       "\n",
       "A precis: 2 × 4\n",
       "\n",
       "| <!--/--> | mean &lt;dbl&gt; | sd &lt;dbl&gt; | 5.5% &lt;dbl&gt; | 94.5% &lt;dbl&gt; |\n",
       "|---|---|---|---|---|\n",
       "| a |  6.149592e-08 | 0.5000000 | -0.7990965 | 0.7990966 |\n",
       "| bw | -4.016933e-09 | 0.2260873 | -0.3613311 | 0.3613311 |\n",
       "\n"
      ],
      "text/plain": [
       "   mean          sd        5.5%       94.5%    \n",
       "a   6.149592e-08 0.5000000 -0.7990965 0.7990966\n",
       "bw -4.016933e-09 0.2260873 -0.3613311 0.3613311"
      ]
     },
     "metadata": {},
     "output_type": "display_data"
    }
   ],
   "source": [
    "precis(m)"
   ]
  },
  {
   "cell_type": "markdown",
   "id": "c0b65566-e869-44b9-8db5-60b776b1d8b2",
   "metadata": {},
   "source": [
    "No effect"
   ]
  },
  {
   "cell_type": "markdown",
   "id": "caa2e967-be85-44af-a21f-5c4dd7b8046c",
   "metadata": {
    "tags": []
   },
   "source": [
    "### 6H4.\n",
    "Now infer the causal impact of adding food to a territory. Would this make foxes heavier? Which covariates do you need to adjust for to estimate the total causal influence of food?\n",
    "\n",
    "#### Answer \n",
    " There are no confounding backdoors between average food and weight in this model. Therefore no adjustments need to be made, and we can simply regress weight onto food without any further complications.\n"
   ]
  },
  {
   "cell_type": "code",
   "execution_count": 51,
   "id": "ee2c9cae-b22e-48c9-87e4-ec07e6f08968",
   "metadata": {},
   "outputs": [],
   "source": [
    "m <- quap(\n",
    "    alist(\n",
    "        a ~ dnorm(mu, sigma),\n",
    "        mu <- a + bf*avgfood,\n",
    "        a ~ dnorm(0,0.5),\n",
    "        bf ~ dnorm(0, 0.5),\n",
    "        sigma ~ exp(1)\n",
    "        ), data = d)"
   ]
  },
  {
   "cell_type": "code",
   "execution_count": 53,
   "id": "184acc69-3cae-4e1d-ac64-d1a9b19008a0",
   "metadata": {},
   "outputs": [
    {
     "data": {
      "text/html": [
       "<table class=\"dataframe\">\n",
       "<caption>A precis: 2 × 4</caption>\n",
       "<thead>\n",
       "\t<tr><th></th><th scope=col>mean</th><th scope=col>sd</th><th scope=col>5.5%</th><th scope=col>94.5%</th></tr>\n",
       "\t<tr><th></th><th scope=col>&lt;dbl&gt;</th><th scope=col>&lt;dbl&gt;</th><th scope=col>&lt;dbl&gt;</th><th scope=col>&lt;dbl&gt;</th></tr>\n",
       "</thead>\n",
       "<tbody>\n",
       "\t<tr><th scope=row>a</th><td>4.252016e-05</td><td>0.5000000</td><td>-0.7990540</td><td>0.7991391</td></tr>\n",
       "\t<tr><th scope=row>bf</th><td>3.463492e-05</td><td>0.2723333</td><td>-0.4352065</td><td>0.4352758</td></tr>\n",
       "</tbody>\n",
       "</table>\n"
      ],
      "text/latex": [
       "A precis: 2 × 4\n",
       "\\begin{tabular}{r|llll}\n",
       "  & mean & sd & 5.5\\% & 94.5\\%\\\\\n",
       "  & <dbl> & <dbl> & <dbl> & <dbl>\\\\\n",
       "\\hline\n",
       "\ta & 4.252016e-05 & 0.5000000 & -0.7990540 & 0.7991391\\\\\n",
       "\tbf & 3.463492e-05 & 0.2723333 & -0.4352065 & 0.4352758\\\\\n",
       "\\end{tabular}\n"
      ],
      "text/markdown": [
       "\n",
       "A precis: 2 × 4\n",
       "\n",
       "| <!--/--> | mean &lt;dbl&gt; | sd &lt;dbl&gt; | 5.5% &lt;dbl&gt; | 94.5% &lt;dbl&gt; |\n",
       "|---|---|---|---|---|\n",
       "| a | 4.252016e-05 | 0.5000000 | -0.7990540 | 0.7991391 |\n",
       "| bf | 3.463492e-05 | 0.2723333 | -0.4352065 | 0.4352758 |\n",
       "\n"
      ],
      "text/plain": [
       "   mean         sd        5.5%       94.5%    \n",
       "a  4.252016e-05 0.5000000 -0.7990540 0.7991391\n",
       "bf 3.463492e-05 0.2723333 -0.4352065 0.4352758"
      ]
     },
     "metadata": {},
     "output_type": "display_data"
    }
   ],
   "source": [
    "precis(m)"
   ]
  },
  {
   "cell_type": "markdown",
   "id": "d67bb42a-e23d-4a34-a89d-b53bbd27d719",
   "metadata": {},
   "source": [
    "also not much of an effect"
   ]
  },
  {
   "cell_type": "markdown",
   "id": "9369459d-e22e-4d7f-8b97-0d0c884a208f",
   "metadata": {
    "tags": []
   },
   "source": [
    "### 6H5.\n",
    "Now infer the causal impact of group size. Which covariates do you need to adjust for? Looking at the posterior distribution of the resulting model, what do you think explains these data? That is, can you explain the estimates for all three problems? How do they go together?\n",
    "\n",
    "#### Answer\n",
    "\n",
    "In this case, the effect of groupsize on weight is confounded by the average food in the territory so we need to control for average food in this model."
   ]
  },
  {
   "cell_type": "code",
   "execution_count": 54,
   "id": "e6ee7227-f84c-4f34-aa88-9b9c0a343684",
   "metadata": {},
   "outputs": [],
   "source": [
    "m <- quap(\n",
    "    alist(\n",
    "        a ~ dnorm(mu, sigma),\n",
    "        mu <- a + bf*avgfood+bg*groupsize,\n",
    "        a ~ dnorm(0,0.5),\n",
    "        bf ~ dnorm(0, 0.5),\n",
    "        bg ~ dnorm(0, 0.5),\n",
    "        sigma ~ exp(1)\n",
    "        ), data = d)"
   ]
  },
  {
   "cell_type": "code",
   "execution_count": 56,
   "id": "54344f70-47ad-4ed1-8c60-0d2772146a37",
   "metadata": {},
   "outputs": [
    {
     "data": {
      "text/html": [
       "<table class=\"dataframe\">\n",
       "<caption>A precis: 3 × 4</caption>\n",
       "<thead>\n",
       "\t<tr><th></th><th scope=col>mean</th><th scope=col>sd</th><th scope=col>5.5%</th><th scope=col>94.5%</th></tr>\n",
       "\t<tr><th></th><th scope=col>&lt;dbl&gt;</th><th scope=col>&lt;dbl&gt;</th><th scope=col>&lt;dbl&gt;</th><th scope=col>&lt;dbl&gt;</th></tr>\n",
       "</thead>\n",
       "<tbody>\n",
       "\t<tr><th scope=row>a</th><td>-7.442480e-05</td><td>0.50000000</td><td>-0.7991710</td><td>0.7990221</td></tr>\n",
       "\t<tr><th scope=row>bf</th><td>-4.148538e-05</td><td>0.48055219</td><td>-0.7680567</td><td>0.7679737</td></tr>\n",
       "\t<tr><th scope=row>bg</th><td> 1.008627e-05</td><td>0.09609461</td><td>-0.1535677</td><td>0.1535878</td></tr>\n",
       "</tbody>\n",
       "</table>\n"
      ],
      "text/latex": [
       "A precis: 3 × 4\n",
       "\\begin{tabular}{r|llll}\n",
       "  & mean & sd & 5.5\\% & 94.5\\%\\\\\n",
       "  & <dbl> & <dbl> & <dbl> & <dbl>\\\\\n",
       "\\hline\n",
       "\ta & -7.442480e-05 & 0.50000000 & -0.7991710 & 0.7990221\\\\\n",
       "\tbf & -4.148538e-05 & 0.48055219 & -0.7680567 & 0.7679737\\\\\n",
       "\tbg &  1.008627e-05 & 0.09609461 & -0.1535677 & 0.1535878\\\\\n",
       "\\end{tabular}\n"
      ],
      "text/markdown": [
       "\n",
       "A precis: 3 × 4\n",
       "\n",
       "| <!--/--> | mean &lt;dbl&gt; | sd &lt;dbl&gt; | 5.5% &lt;dbl&gt; | 94.5% &lt;dbl&gt; |\n",
       "|---|---|---|---|---|\n",
       "| a | -7.442480e-05 | 0.50000000 | -0.7991710 | 0.7990221 |\n",
       "| bf | -4.148538e-05 | 0.48055219 | -0.7680567 | 0.7679737 |\n",
       "| bg |  1.008627e-05 | 0.09609461 | -0.1535677 | 0.1535878 |\n",
       "\n"
      ],
      "text/plain": [
       "   mean          sd         5.5%       94.5%    \n",
       "a  -7.442480e-05 0.50000000 -0.7991710 0.7990221\n",
       "bf -4.148538e-05 0.48055219 -0.7680567 0.7679737\n",
       "bg  1.008627e-05 0.09609461 -0.1535677 0.1535878"
      ]
     },
     "metadata": {},
     "output_type": "display_data"
    }
   ],
   "source": [
    "precis(m)"
   ]
  },
  {
   "cell_type": "markdown",
   "id": "d877300b-350c-4495-af85-02b3343a2363",
   "metadata": {},
   "source": [
    "no effect at all?"
   ]
  },
  {
   "cell_type": "code",
   "execution_count": null,
   "id": "72d95128-e1af-4e1c-8430-876143cb9711",
   "metadata": {},
   "outputs": [],
   "source": []
  }
 ],
 "metadata": {
  "kernelspec": {
   "display_name": "R",
   "language": "R",
   "name": "ir"
  },
  "language_info": {
   "codemirror_mode": "r",
   "file_extension": ".r",
   "mimetype": "text/x-r-source",
   "name": "R",
   "pygments_lexer": "r",
   "version": "4.2.1"
  }
 },
 "nbformat": 4,
 "nbformat_minor": 5
}
