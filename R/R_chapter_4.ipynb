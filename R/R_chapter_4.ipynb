{
 "cells": [
  {
   "cell_type": "markdown",
   "id": "2ff76230-2b0d-4b22-af93-474ded53d826",
   "metadata": {},
   "source": [
    "# Chapter 4"
   ]
  },
  {
   "cell_type": "code",
   "execution_count": 1,
   "id": "052735fd-60e4-4a0a-9352-8150509f9f19",
   "metadata": {
    "execution": {
     "iopub.execute_input": "2023-01-05T19:40:56.651174Z",
     "iopub.status.busy": "2023-01-05T19:40:56.647658Z",
     "iopub.status.idle": "2023-01-05T19:40:59.026525Z",
     "shell.execute_reply": "2023-01-05T19:40:59.025861Z"
    }
   },
   "outputs": [
    {
     "name": "stderr",
     "output_type": "stream",
     "text": [
      "Loading required package: rstan\n",
      "\n",
      "Loading required package: StanHeaders\n",
      "\n",
      "Loading required package: ggplot2\n",
      "\n",
      "rstan (Version 2.21.7, GitRev: 2e1f913d3ca3)\n",
      "\n",
      "For execution on a local, multicore CPU with excess RAM we recommend calling\n",
      "options(mc.cores = parallel::detectCores()).\n",
      "To avoid recompilation of unchanged Stan programs, we recommend calling\n",
      "rstan_options(auto_write = TRUE)\n",
      "\n",
      "Loading required package: cmdstanr\n",
      "\n",
      "This is cmdstanr version 0.5.3\n",
      "\n",
      "- CmdStanR documentation and vignettes: mc-stan.org/cmdstanr\n",
      "\n",
      "- Use set_cmdstan_path() to set the path to CmdStan\n",
      "\n",
      "- Use install_cmdstan() to install CmdStan\n",
      "\n",
      "Loading required package: parallel\n",
      "\n",
      "rethinking (Version 2.21)\n",
      "\n",
      "\n",
      "Attaching package: ‘rethinking’\n",
      "\n",
      "\n",
      "The following object is masked from ‘package:rstan’:\n",
      "\n",
      "    stan\n",
      "\n",
      "\n",
      "The following object is masked from ‘package:stats’:\n",
      "\n",
      "    rstudent\n",
      "\n",
      "\n"
     ]
    }
   ],
   "source": [
    "library(rethinking)"
   ]
  },
  {
   "cell_type": "code",
   "execution_count": null,
   "id": "4c3094a5-77e9-47f5-a998-752535e0c86c",
   "metadata": {},
   "outputs": [],
   "source": []
  }
 ],
 "metadata": {
  "kernelspec": {
   "display_name": "R",
   "language": "R",
   "name": "ir"
  },
  "language_info": {
   "codemirror_mode": "r",
   "file_extension": ".r",
   "mimetype": "text/x-r-source",
   "name": "R",
   "pygments_lexer": "r",
   "version": "4.2.2"
  }
 },
 "nbformat": 4,
 "nbformat_minor": 5
}
