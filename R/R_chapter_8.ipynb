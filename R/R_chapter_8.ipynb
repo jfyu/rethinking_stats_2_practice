{
 "cells": [
  {
   "cell_type": "markdown",
   "id": "4ff59a32-7e56-431a-aa7c-17c549d5679e",
   "metadata": {},
   "source": [
    "# Chapter 8"
   ]
  },
  {
   "cell_type": "markdown",
   "id": "0475fbc2-23c7-4038-9c84-fa0cbdfbf001",
   "metadata": {},
   "source": [
    "### 8E1.\n",
    "\n",
    "For each of the causal relationships below, name a hypothetical third variable that would lead\n",
    "to an interaction effect.\n",
    "\n",
    "(1) Bread dough rises because of yeast.\n",
    "\n",
    "(2) Education leads to higher income.\n",
    "\n",
    "(3) Gasoline makes a car go."
   ]
  },
  {
   "cell_type": "markdown",
   "id": "bf57b957-b9a2-434f-b14a-1408974b612b",
   "metadata": {},
   "source": [
    "1) temperature?\n",
    "2) household income\n",
    "3) uh...fuel efficiency of the car?"
   ]
  },
  {
   "cell_type": "markdown",
   "id": "e61d5318-a78c-49be-b4a4-fc76768503ec",
   "metadata": {},
   "source": [
    "### 8E2.\n",
    "\n",
    "Which of the following explanations invokes an interaction?\n",
    "\n",
    "(1) Caramelizing onions requires cooking over low heat and making sure the onions do not\n",
    "dry out.\n",
    "\n",
    "(2) A car will go faster when it has more cylinders or when it has a better fuel injector.\n",
    "\n",
    "(3) Most people acquire their political beliefs from their parents, unless they get them instead\n",
    "from their friends.\n",
    "\n",
    "(4) Intelligent animal species tend to be either highly social or have manipulative appendages\n",
    "(hands, tentacles, etc.)."
   ]
  },
  {
   "cell_type": "markdown",
   "id": "0ed530af-d390-46bb-bbd0-c06f610a169a",
   "metadata": {},
   "source": [
    "I thought it's 1 has an interaction. But apparently it seems 3 and 4 are as well. The reasons given seems to be that the combination of the two effects mentioned could vary and therefore the results will be changed -- i.e. the degree to which the specie of animals to be social and/or manipulative appendages could affect the intelligence. I'm not super convinced especially on 4. To me they seem to be independent effects. "
   ]
  },
  {
   "cell_type": "markdown",
   "id": "3bca44f3-f461-4d67-8b33-e60a9cad5330",
   "metadata": {},
   "source": [
    "### 8E3.\n",
    "\n",
    "For each of the explanations in 8E2, write a linear model that expresses the stated relationship.\n"
   ]
  },
  {
   "cell_type": "markdown",
   "id": "af48dfb4-cd76-494f-b876-99f50ff49eb9",
   "metadata": {},
   "source": [
    "Okay let's just do it for the yeast\n",
    "\n",
    "$ \\mu_i = \\alpha + \\beta_HH_i + \\beta_MM_i+\\beta_{HM}H_iM_i$\n",
    "where M - moisture, H - heat\n",
    "\n",
    "\n",
    "zero heat and zero dryness will imply $\\alpha = 0$. Interaction will be positive as increasing heat will increase the impact of the moisture "
   ]
  },
  {
   "cell_type": "markdown",
   "id": "b52fa32d-2d53-4d1a-a9a0-4f3f465d8ead",
   "metadata": {},
   "source": [
    "### 8M1.\n",
    "\n",
    "Recall the tulips example from the chapter. Suppose another set of treatments adjusted the\n",
    "temperature in the greenhouse over two levels: cold and hot. The data in the chapter were collected\n",
    "at the cold temperature. You find none of the plants grown under the hot temperature developed\n",
    "any blooms at all, regardless of the water and shade levels. Can you explain this result in terms of\n",
    "interactions between water, shade, and temperature?"
   ]
  },
  {
   "cell_type": "code",
   "execution_count": 1,
   "id": "abf01710-3bdb-42b3-b9f2-1707a99348d4",
   "metadata": {},
   "outputs": [
    {
     "name": "stderr",
     "output_type": "stream",
     "text": [
      "Loading required package: rstan\n",
      "\n",
      "Loading required package: StanHeaders\n",
      "\n",
      "Loading required package: ggplot2\n",
      "\n",
      "rstan (Version 2.21.7, GitRev: 2e1f913d3ca3)\n",
      "\n",
      "For execution on a local, multicore CPU with excess RAM we recommend calling\n",
      "options(mc.cores = parallel::detectCores()).\n",
      "To avoid recompilation of unchanged Stan programs, we recommend calling\n",
      "rstan_options(auto_write = TRUE)\n",
      "\n",
      "Loading required package: cmdstanr\n",
      "\n",
      "This is cmdstanr version 0.5.3\n",
      "\n",
      "- CmdStanR documentation and vignettes: mc-stan.org/cmdstanr\n",
      "\n",
      "- Use set_cmdstan_path() to set the path to CmdStan\n",
      "\n",
      "- Use install_cmdstan() to install CmdStan\n",
      "\n",
      "Loading required package: parallel\n",
      "\n",
      "rethinking (Version 2.21)\n",
      "\n",
      "\n",
      "Attaching package: ‘rethinking’\n",
      "\n",
      "\n",
      "The following object is masked from ‘package:rstan’:\n",
      "\n",
      "    stan\n",
      "\n",
      "\n",
      "The following object is masked from ‘package:stats’:\n",
      "\n",
      "    rstudent\n",
      "\n",
      "\n"
     ]
    }
   ],
   "source": [
    "library(rethinking)\n",
    "data(tulips)"
   ]
  },
  {
   "cell_type": "code",
   "execution_count": 2,
   "id": "985c77ee-5321-404b-b9c9-090c53e39dcc",
   "metadata": {},
   "outputs": [],
   "source": [
    "d = tulips"
   ]
  },
  {
   "cell_type": "code",
   "execution_count": 3,
   "id": "4752676e-4ba0-4655-b353-8b86ee006db0",
   "metadata": {},
   "outputs": [
    {
     "data": {
      "text/html": [
       "<table class=\"dataframe\">\n",
       "<caption>A data.frame: 6 × 4</caption>\n",
       "<thead>\n",
       "\t<tr><th></th><th scope=col>bed</th><th scope=col>water</th><th scope=col>shade</th><th scope=col>blooms</th></tr>\n",
       "\t<tr><th></th><th scope=col>&lt;fct&gt;</th><th scope=col>&lt;int&gt;</th><th scope=col>&lt;int&gt;</th><th scope=col>&lt;dbl&gt;</th></tr>\n",
       "</thead>\n",
       "<tbody>\n",
       "\t<tr><th scope=row>1</th><td>a</td><td>1</td><td>1</td><td>  0.00</td></tr>\n",
       "\t<tr><th scope=row>2</th><td>a</td><td>1</td><td>2</td><td>  0.00</td></tr>\n",
       "\t<tr><th scope=row>3</th><td>a</td><td>1</td><td>3</td><td>111.04</td></tr>\n",
       "\t<tr><th scope=row>4</th><td>a</td><td>2</td><td>1</td><td>183.47</td></tr>\n",
       "\t<tr><th scope=row>5</th><td>a</td><td>2</td><td>2</td><td> 59.16</td></tr>\n",
       "\t<tr><th scope=row>6</th><td>a</td><td>2</td><td>3</td><td> 76.75</td></tr>\n",
       "</tbody>\n",
       "</table>\n"
      ],
      "text/latex": [
       "A data.frame: 6 × 4\n",
       "\\begin{tabular}{r|llll}\n",
       "  & bed & water & shade & blooms\\\\\n",
       "  & <fct> & <int> & <int> & <dbl>\\\\\n",
       "\\hline\n",
       "\t1 & a & 1 & 1 &   0.00\\\\\n",
       "\t2 & a & 1 & 2 &   0.00\\\\\n",
       "\t3 & a & 1 & 3 & 111.04\\\\\n",
       "\t4 & a & 2 & 1 & 183.47\\\\\n",
       "\t5 & a & 2 & 2 &  59.16\\\\\n",
       "\t6 & a & 2 & 3 &  76.75\\\\\n",
       "\\end{tabular}\n"
      ],
      "text/markdown": [
       "\n",
       "A data.frame: 6 × 4\n",
       "\n",
       "| <!--/--> | bed &lt;fct&gt; | water &lt;int&gt; | shade &lt;int&gt; | blooms &lt;dbl&gt; |\n",
       "|---|---|---|---|---|\n",
       "| 1 | a | 1 | 1 |   0.00 |\n",
       "| 2 | a | 1 | 2 |   0.00 |\n",
       "| 3 | a | 1 | 3 | 111.04 |\n",
       "| 4 | a | 2 | 1 | 183.47 |\n",
       "| 5 | a | 2 | 2 |  59.16 |\n",
       "| 6 | a | 2 | 3 |  76.75 |\n",
       "\n"
      ],
      "text/plain": [
       "  bed water shade blooms\n",
       "1 a   1     1       0.00\n",
       "2 a   1     2       0.00\n",
       "3 a   1     3     111.04\n",
       "4 a   2     1     183.47\n",
       "5 a   2     2      59.16\n",
       "6 a   2     3      76.75"
      ]
     },
     "metadata": {},
     "output_type": "display_data"
    }
   ],
   "source": [
    "head(d)"
   ]
  },
  {
   "cell_type": "markdown",
   "id": "1929458d-d57d-4c68-8750-683d6255f7cd",
   "metadata": {},
   "source": [
    "the model could now be \n",
    "\n",
    "$\\mu_i = \\alpha + \\beta_WW_i + \\beta_SS_i + \\beta_TT_i + \\beta_{WS}W_iS_i + \\beta_{ST}S_iT_i + \\beta_{WT}W_iT_i + \\beta_{WST}W_iT_iS_i$"
   ]
  },
  {
   "cell_type": "markdown",
   "id": "ea614e1f-499a-46c0-a7c4-0b5910dc48fb",
   "metadata": {},
   "source": [
    "### 8M2.\n",
    "\n",
    "Can you invent a regression equation that would make the bloom size zero, whenever the\n",
    "temperature is hot?"
   ]
  },
  {
   "cell_type": "markdown",
   "id": "56186bb1-603a-4204-b9b2-91f4021cdc04",
   "metadata": {},
   "source": [
    "The above equation shows the general interaction model. To be 0, we actually have to assume that the temperature is categorical and goes from 0 to 1, where 1 is the highest temperature. This is somewhat against my physicist instincts as I was thinking of in the limit of T -> infinity. Isolating the T\n",
    "\n",
    "$\\mu_i = \\alpha + \\beta_WW_i + \\beta_SS_i + \\beta_{WS}W_iS_i + \\beta_TT_i + T_i( \\beta_{ST}S_i + \\beta_{WT}W_i + \\beta_{WST}W_iS_i)$\n",
    "\n",
    "This implies that the intercept must be $-\\beta_TT_i$ and we must have a negative slope, and $\\beta_{WST} = \\beta_{WS}$ etc (i.e. all the interacting terms has to equal), so \n",
    "$\\mu_i = -\\beta_T + \\beta_WW_i + \\beta_SS_i + \\beta_{WS}W_iS_i + \\beta_TT_i - T_i( \\beta_{S}S_i + \\beta_{W}W_i + \\beta_{WS}W_iS_i)$\n"
   ]
  },
  {
   "cell_type": "markdown",
   "id": "6284178c-ae51-4ce7-9bc7-c4b0fdca5e57",
   "metadata": {},
   "source": [
    "### 8M4.\n",
    "\n",
    "Repeat the tulips analysis, but this time use priors that constrain the effect of water to be positive and the effect of shade to be negative. Use prior predictive simulation. What do these prior\n",
    "assumptions mean for the interaction prior, if anything?"
   ]
  },
  {
   "cell_type": "code",
   "execution_count": 4,
   "id": "77a790fa-0130-4a7c-90a3-26b46e2568d3",
   "metadata": {},
   "outputs": [
    {
     "name": "stdout",
     "output_type": "stream",
     "text": [
      "'data.frame':\t27 obs. of  4 variables:\n",
      " $ bed   : Factor w/ 3 levels \"a\",\"b\",\"c\": 1 1 1 1 1 1 1 1 1 2 ...\n",
      " $ water : int  1 1 1 2 2 2 3 3 3 1 ...\n",
      " $ shade : int  1 2 3 1 2 3 1 2 3 1 ...\n",
      " $ blooms: num  0 0 111 183.5 59.2 ...\n"
     ]
    }
   ],
   "source": [
    "str(d)"
   ]
  },
  {
   "cell_type": "code",
   "execution_count": 5,
   "id": "03243dfa-23bb-4095-8657-cc08fcd0fe72",
   "metadata": {},
   "outputs": [],
   "source": [
    "## R code 8.20\n",
    "d$blooms_std <- d$blooms / max(d$blooms)\n",
    "d$water_cent <- d$water - mean(d$water)\n",
    "d$shade_cent <- d$shade - mean(d$shade)"
   ]
  },
  {
   "cell_type": "markdown",
   "id": "8237e496-835a-4465-af2c-8399e97786fb",
   "metadata": {},
   "source": [
    "So we need the effect of water to be positive, in this case, we can do Lognormal. "
   ]
  },
  {
   "cell_type": "markdown",
   "id": "d6660885-764f-4008-91e3-b4961b292cc0",
   "metadata": {},
   "source": [
    "Re-iterating the reasonings in the textbook -- the range of water and shade are both 2 units (-1 to 1), the range of blossom is 0 and 1. To take blossom from 0 to 1 we will need a slope of 1/2 = 0.5 (assume linear). If water is strictly positive and shade strictly negative, then the slope should be between 0 and 0.5 most of the time. "
   ]
  },
  {
   "cell_type": "code",
   "execution_count": 6,
   "id": "5d82f20d-2e89-4b74-8df2-7ccc383a69c7",
   "metadata": {},
   "outputs": [
    {
     "data": {
      "image/png": "[encoded data removed]",
      "text/plain": [
       "plot without title"
      ]
     },
     "metadata": {
      "image/png": {
       "height": 420,
       "width": 420
      }
     },
     "output_type": "display_data"
    },
    {
     "data": {
      "image/png": "[encoded data removed]",
      "text/plain": [
       "plot without title"
      ]
     },
     "metadata": {
      "image/png": {
       "height": 420,
       "width": 420
      }
     },
     "output_type": "display_data"
    }
   ],
   "source": [
    "curve(dlnorm(x, meanlog= 0, sdlog = 1), from = 0, to=1)\n",
    "curve(dlnorm(x, meanlog= 0, sdlog = 0.8), from = 0, to=1)"
   ]
  },
  {
   "cell_type": "markdown",
   "id": "fadee5cf-5d8c-4285-b346-4ded26eac825",
   "metadata": {},
   "source": [
    "0.8 looks okay"
   ]
  },
  {
   "cell_type": "markdown",
   "id": "b8e91f43-95e2-401e-b485-be694f4b00be",
   "metadata": {},
   "source": [
    "in-terms of interaction strength, given they are opposite each other, I expect the same as the textbook, namely it should have similar strength as the main effect, so keep the same"
   ]
  },
  {
   "cell_type": "code",
   "execution_count": 7,
   "id": "ccf01502-eae8-4939-bd50-0d5c25e5bcaa",
   "metadata": {},
   "outputs": [],
   "source": [
    "m<- quap(\n",
    "    alist(\n",
    "        blooms_std ~ dnorm( mu , sigma ) ,\n",
    "        mu <- a + bw*water_cent - bs*shade_cent + bws*water_cent*shade_cent ,\n",
    "        a ~ dnorm( 0.5 , 0.25 ) ,\n",
    "        bw ~ dlnorm( 0, 0.8  ) ,\n",
    "        bs ~ dlnorm( 0, 0.8  ) ,\n",
    "        bws ~ dnorm( 0 , 0.25 ) ,\n",
    "        sigma ~ dexp( 1 )\n",
    "    ) , data=d )\n"
   ]
  },
  {
   "cell_type": "code",
   "execution_count": 8,
   "id": "64bbf335-b499-4467-a1fb-b7f0544c380b",
   "metadata": {},
   "outputs": [],
   "source": [
    "set.seed(1412)\n",
    "\n",
    "prior <- extract.prior(m)"
   ]
  },
  {
   "cell_type": "code",
   "execution_count": 9,
   "id": "d9260a6b-ec1f-4ca5-bf1b-05000e6779c5",
   "metadata": {},
   "outputs": [
    {
     "data": {
      "image/png": "[encoded data removed]",
      "text/plain": [
       "plot without title"
      ]
     },
     "metadata": {
      "image/png": {
       "height": 420,
       "width": 420
      }
     },
     "output_type": "display_data"
    }
   ],
   "source": [
    "par(mfrow = c(1,3))\n",
    "for (s in -1:1) {\n",
    "    idx <- which(d$shade_cent == s)\n",
    "    plot(d$water_cent[idx], d$blooms_std[idx], xlim=c(-1,1), ylim = c(-4,4), xlab = \"water\", ylab = \"blooms\", pch = 16, col=rangi2)\n",
    "    mu <- link(m, data = data.frame(shade_cent = s, water_cent=-1:1), post=prior)\n",
    "    for (i in 1:20) lines(-1:1, mu[i,], col=col.alpha(\"black\", 0.3))\n",
    "    }"
   ]
  },
  {
   "cell_type": "markdown",
   "id": "47dca370-8412-4328-b2b0-8f5ff4c39160",
   "metadata": {},
   "source": [
    "so it seems when shade is -1, we have a lot of scattered lines, and water has a lot of influence (increases bloom to 4)  , but if shade is 0, then increasing water increases bloom but not as much. When shade is 1, most of the lines are scattering at the negative end, suggesting that it doesn't really matter if the water is high we will just not get bloom at all. \n",
    "\n",
    "So this means that we expect that low bloom but lots of water (i.e. lots of light and water) is a good recipe for growth, but if there isn't enough light (high shade) then water doesn't really help all that much. This seems to match our common sense"
   ]
  },
  {
   "cell_type": "markdown",
   "id": "588f7159-2582-4219-879d-a51f28198601",
   "metadata": {},
   "source": [
    "### 8H1.\n",
    "\n",
    "Return to the data(tulips) example in the chapter. Now include the bed variable as a predictor in the interaction model. Don’t interact bed with the other predictors; just include it as a main\n",
    "effect. Note that bed is categorical. So to use it properly, you will need to either construct dummy\n",
    "variables or rather an index variable, as explained in Chapter 5.\n",
    "\n",
    "\n",
    "#### Answer "
   ]
  },
  {
   "cell_type": "code",
   "execution_count": 10,
   "id": "6490a3eb-3b67-4637-8334-ae3e5c95239b",
   "metadata": {},
   "outputs": [
    {
     "data": {
      "text/html": [
       "<style>\n",
       ".list-inline {list-style: none; margin:0; padding: 0}\n",
       ".list-inline>li {display: inline-block}\n",
       ".list-inline>li:not(:last-child)::after {content: \"\\00b7\"; padding: 0 .5ex}\n",
       "</style>\n",
       "<ol class=list-inline><li>a</li><li>a</li><li>a</li><li>a</li><li>a</li><li>a</li><li>a</li><li>a</li><li>a</li><li>b</li><li>b</li><li>b</li><li>b</li><li>b</li><li>b</li><li>b</li><li>b</li><li>b</li><li>c</li><li>c</li><li>c</li><li>c</li><li>c</li><li>c</li><li>c</li><li>c</li><li>c</li></ol>\n",
       "\n",
       "<details>\n",
       "\t<summary style=display:list-item;cursor:pointer>\n",
       "\t\t<strong>Levels</strong>:\n",
       "\t</summary>\n",
       "\t<style>\n",
       "\t.list-inline {list-style: none; margin:0; padding: 0}\n",
       "\t.list-inline>li {display: inline-block}\n",
       "\t.list-inline>li:not(:last-child)::after {content: \"\\00b7\"; padding: 0 .5ex}\n",
       "\t</style>\n",
       "\t<ol class=list-inline><li>'a'</li><li>'b'</li><li>'c'</li></ol>\n",
       "</details>"
      ],
      "text/latex": [
       "\\begin{enumerate*}\n",
       "\\item a\n",
       "\\item a\n",
       "\\item a\n",
       "\\item a\n",
       "\\item a\n",
       "\\item a\n",
       "\\item a\n",
       "\\item a\n",
       "\\item a\n",
       "\\item b\n",
       "\\item b\n",
       "\\item b\n",
       "\\item b\n",
       "\\item b\n",
       "\\item b\n",
       "\\item b\n",
       "\\item b\n",
       "\\item b\n",
       "\\item c\n",
       "\\item c\n",
       "\\item c\n",
       "\\item c\n",
       "\\item c\n",
       "\\item c\n",
       "\\item c\n",
       "\\item c\n",
       "\\item c\n",
       "\\end{enumerate*}\n",
       "\n",
       "\\emph{Levels}: \\begin{enumerate*}\n",
       "\\item 'a'\n",
       "\\item 'b'\n",
       "\\item 'c'\n",
       "\\end{enumerate*}\n"
      ],
      "text/markdown": [
       "1. a\n",
       "2. a\n",
       "3. a\n",
       "4. a\n",
       "5. a\n",
       "6. a\n",
       "7. a\n",
       "8. a\n",
       "9. a\n",
       "10. b\n",
       "11. b\n",
       "12. b\n",
       "13. b\n",
       "14. b\n",
       "15. b\n",
       "16. b\n",
       "17. b\n",
       "18. b\n",
       "19. c\n",
       "20. c\n",
       "21. c\n",
       "22. c\n",
       "23. c\n",
       "24. c\n",
       "25. c\n",
       "26. c\n",
       "27. c\n",
       "\n",
       "\n",
       "\n",
       "**Levels**: 1. 'a'\n",
       "2. 'b'\n",
       "3. 'c'\n",
       "\n",
       "\n"
      ],
      "text/plain": [
       " [1] a a a a a a a a a b b b b b b b b b c c c c c c c c c\n",
       "Levels: a b c"
      ]
     },
     "metadata": {},
     "output_type": "display_data"
    }
   ],
   "source": [
    "d$bed"
   ]
  },
  {
   "cell_type": "code",
   "execution_count": 11,
   "id": "704ae9cc-a167-4625-94c2-5bf460bade90",
   "metadata": {},
   "outputs": [],
   "source": [
    "d$bed_id <- ifelse(d$bed=='a', 1, ifelse(d$bed=='b', 2, 3))"
   ]
  },
  {
   "cell_type": "code",
   "execution_count": 12,
   "id": "194880f0-7d24-4a3c-856c-2199d7db11d8",
   "metadata": {},
   "outputs": [],
   "source": [
    "m_8h1<- quap(\n",
    "    alist(\n",
    "        blooms_std ~ dnorm( mu , sigma ) ,\n",
    "        mu <- a[bed_id] + bw*water_cent + bs*shade_cent +bws*water_cent*shade_cent ,\n",
    "        a[bed_id] ~ dnorm( 0.5 , 0.25 ) ,\n",
    "        bw ~ dnorm( 0, 0.25  ) ,\n",
    "        bs ~ dnorm( 0, 0.25  ) ,\n",
    "        bws ~ dnorm( 0 , 0.25 ) ,\n",
    "        sigma ~ dexp( 1 )\n",
    "    ) , data=d )\n"
   ]
  },
  {
   "cell_type": "code",
   "execution_count": 13,
   "id": "6221d5d0-2d29-44d2-b5cc-52bedc216414",
   "metadata": {},
   "outputs": [],
   "source": [
    "m_book<- quap(\n",
    "    alist(\n",
    "        blooms_std ~ dnorm( mu , sigma ) ,\n",
    "        mu <- a + bw*water_cent + bs*shade_cent +bws*water_cent*shade_cent ,\n",
    "        a ~ dnorm( 0.5 , 0.25 ) ,\n",
    "        bw ~ dnorm( 0, 0.25  ) ,\n",
    "        bs ~ dnorm( 0, 0.25  ) ,\n",
    "        bws ~ dnorm( 0 , 0.25 ) ,\n",
    "        sigma ~ dexp( 1 )\n",
    "    ) , data=d )\n"
   ]
  },
  {
   "cell_type": "code",
   "execution_count": 14,
   "id": "42d3020b-6797-4522-9502-fb3972b4b5bc",
   "metadata": {},
   "outputs": [
    {
     "data": {
      "text/html": [
       "<table class=\"dataframe\">\n",
       "<caption>A compareIC: 2 × 6</caption>\n",
       "<thead>\n",
       "\t<tr><th></th><th scope=col>WAIC</th><th scope=col>SE</th><th scope=col>dWAIC</th><th scope=col>dSE</th><th scope=col>pWAIC</th><th scope=col>weight</th></tr>\n",
       "\t<tr><th></th><th scope=col>&lt;dbl&gt;</th><th scope=col>&lt;dbl&gt;</th><th scope=col>&lt;dbl&gt;</th><th scope=col>&lt;dbl&gt;</th><th scope=col>&lt;dbl&gt;</th><th scope=col>&lt;dbl&gt;</th></tr>\n",
       "</thead>\n",
       "<tbody>\n",
       "\t<tr><th scope=row>m_8h1</th><td>-24.26080</td><td> 9.744818</td><td>0.000000</td><td>      NA</td><td>9.326450</td><td>0.6908795</td></tr>\n",
       "\t<tr><th scope=row>m_book</th><td>-22.65233</td><td>10.195522</td><td>1.608468</td><td>7.900237</td><td>6.269434</td><td>0.3091205</td></tr>\n",
       "</tbody>\n",
       "</table>\n"
      ],
      "text/latex": [
       "A compareIC: 2 × 6\n",
       "\\begin{tabular}{r|llllll}\n",
       "  & WAIC & SE & dWAIC & dSE & pWAIC & weight\\\\\n",
       "  & <dbl> & <dbl> & <dbl> & <dbl> & <dbl> & <dbl>\\\\\n",
       "\\hline\n",
       "\tm\\_8h1 & -24.26080 &  9.744818 & 0.000000 &       NA & 9.326450 & 0.6908795\\\\\n",
       "\tm\\_book & -22.65233 & 10.195522 & 1.608468 & 7.900237 & 6.269434 & 0.3091205\\\\\n",
       "\\end{tabular}\n"
      ],
      "text/markdown": [
       "\n",
       "A compareIC: 2 × 6\n",
       "\n",
       "| <!--/--> | WAIC &lt;dbl&gt; | SE &lt;dbl&gt; | dWAIC &lt;dbl&gt; | dSE &lt;dbl&gt; | pWAIC &lt;dbl&gt; | weight &lt;dbl&gt; |\n",
       "|---|---|---|---|---|---|---|\n",
       "| m_8h1 | -24.26080 |  9.744818 | 0.000000 |       NA | 9.326450 | 0.6908795 |\n",
       "| m_book | -22.65233 | 10.195522 | 1.608468 | 7.900237 | 6.269434 | 0.3091205 |\n",
       "\n"
      ],
      "text/plain": [
       "       WAIC      SE        dWAIC    dSE      pWAIC    weight   \n",
       "m_8h1  -24.26080  9.744818 0.000000       NA 9.326450 0.6908795\n",
       "m_book -22.65233 10.195522 1.608468 7.900237 6.269434 0.3091205"
      ]
     },
     "metadata": {},
     "output_type": "display_data"
    }
   ],
   "source": [
    "compare(m_book, m_8h1, func = WAIC)"
   ]
  },
  {
   "cell_type": "markdown",
   "id": "bb22387a-8a04-40bf-bc1b-128c97f79534",
   "metadata": {},
   "source": [
    "looks like m_8h1 has better WAIC. Howeve the difference not significant as the dSE is very wide"
   ]
  },
  {
   "cell_type": "code",
   "execution_count": 15,
   "id": "31054c8a-31fe-4ae7-ac12-6a0c1990743c",
   "metadata": {},
   "outputs": [
    {
     "data": {
      "text/html": [
       "<table class=\"dataframe\">\n",
       "<caption>A precis: 7 × 4</caption>\n",
       "<thead>\n",
       "\t<tr><th></th><th scope=col>mean</th><th scope=col>sd</th><th scope=col>5.5%</th><th scope=col>94.5%</th></tr>\n",
       "\t<tr><th></th><th scope=col>&lt;dbl&gt;</th><th scope=col>&lt;dbl&gt;</th><th scope=col>&lt;dbl&gt;</th><th scope=col>&lt;dbl&gt;</th></tr>\n",
       "</thead>\n",
       "<tbody>\n",
       "\t<tr><th scope=row>a[1]</th><td> 0.2732636</td><td>0.03571213</td><td> 0.21618868</td><td> 0.33033846</td></tr>\n",
       "\t<tr><th scope=row>a[2]</th><td> 0.3963989</td><td>0.03569469</td><td> 0.33935188</td><td> 0.45344590</td></tr>\n",
       "\t<tr><th scope=row>a[3]</th><td> 0.4091117</td><td>0.03569363</td><td> 0.35206635</td><td> 0.46615699</td></tr>\n",
       "\t<tr><th scope=row>bw</th><td> 0.2074334</td><td>0.02537293</td><td> 0.16688253</td><td> 0.24798420</td></tr>\n",
       "\t<tr><th scope=row>bs</th><td>-0.1138468</td><td>0.02536828</td><td>-0.15439021</td><td>-0.07330338</td></tr>\n",
       "\t<tr><th scope=row>bws</th><td>-0.1438931</td><td>0.03099337</td><td>-0.19342646</td><td>-0.09435966</td></tr>\n",
       "\t<tr><th scope=row>sigma</th><td> 0.1081783</td><td>0.01469137</td><td> 0.08469865</td><td> 0.13165794</td></tr>\n",
       "</tbody>\n",
       "</table>\n"
      ],
      "text/latex": [
       "A precis: 7 × 4\n",
       "\\begin{tabular}{r|llll}\n",
       "  & mean & sd & 5.5\\% & 94.5\\%\\\\\n",
       "  & <dbl> & <dbl> & <dbl> & <dbl>\\\\\n",
       "\\hline\n",
       "\ta{[}1{]} &  0.2732636 & 0.03571213 &  0.21618868 &  0.33033846\\\\\n",
       "\ta{[}2{]} &  0.3963989 & 0.03569469 &  0.33935188 &  0.45344590\\\\\n",
       "\ta{[}3{]} &  0.4091117 & 0.03569363 &  0.35206635 &  0.46615699\\\\\n",
       "\tbw &  0.2074334 & 0.02537293 &  0.16688253 &  0.24798420\\\\\n",
       "\tbs & -0.1138468 & 0.02536828 & -0.15439021 & -0.07330338\\\\\n",
       "\tbws & -0.1438931 & 0.03099337 & -0.19342646 & -0.09435966\\\\\n",
       "\tsigma &  0.1081783 & 0.01469137 &  0.08469865 &  0.13165794\\\\\n",
       "\\end{tabular}\n"
      ],
      "text/markdown": [
       "\n",
       "A precis: 7 × 4\n",
       "\n",
       "| <!--/--> | mean &lt;dbl&gt; | sd &lt;dbl&gt; | 5.5% &lt;dbl&gt; | 94.5% &lt;dbl&gt; |\n",
       "|---|---|---|---|---|\n",
       "| a[1] |  0.2732636 | 0.03571213 |  0.21618868 |  0.33033846 |\n",
       "| a[2] |  0.3963989 | 0.03569469 |  0.33935188 |  0.45344590 |\n",
       "| a[3] |  0.4091117 | 0.03569363 |  0.35206635 |  0.46615699 |\n",
       "| bw |  0.2074334 | 0.02537293 |  0.16688253 |  0.24798420 |\n",
       "| bs | -0.1138468 | 0.02536828 | -0.15439021 | -0.07330338 |\n",
       "| bws | -0.1438931 | 0.03099337 | -0.19342646 | -0.09435966 |\n",
       "| sigma |  0.1081783 | 0.01469137 |  0.08469865 |  0.13165794 |\n",
       "\n"
      ],
      "text/plain": [
       "      mean       sd         5.5%        94.5%      \n",
       "a[1]   0.2732636 0.03571213  0.21618868  0.33033846\n",
       "a[2]   0.3963989 0.03569469  0.33935188  0.45344590\n",
       "a[3]   0.4091117 0.03569363  0.35206635  0.46615699\n",
       "bw     0.2074334 0.02537293  0.16688253  0.24798420\n",
       "bs    -0.1138468 0.02536828 -0.15439021 -0.07330338\n",
       "bws   -0.1438931 0.03099337 -0.19342646 -0.09435966\n",
       "sigma  0.1081783 0.01469137  0.08469865  0.13165794"
      ]
     },
     "metadata": {},
     "output_type": "display_data"
    }
   ],
   "source": [
    "precis(m_8h1, depth=2)"
   ]
  },
  {
   "cell_type": "code",
   "execution_count": 16,
   "id": "02a580f0-117c-47c3-9de5-9ff26079f42f",
   "metadata": {},
   "outputs": [
    {
     "data": {
      "text/html": [
       "<table class=\"dataframe\">\n",
       "<caption>A precis: 5 × 4</caption>\n",
       "<thead>\n",
       "\t<tr><th></th><th scope=col>mean</th><th scope=col>sd</th><th scope=col>5.5%</th><th scope=col>94.5%</th></tr>\n",
       "\t<tr><th></th><th scope=col>&lt;dbl&gt;</th><th scope=col>&lt;dbl&gt;</th><th scope=col>&lt;dbl&gt;</th><th scope=col>&lt;dbl&gt;</th></tr>\n",
       "</thead>\n",
       "<tbody>\n",
       "\t<tr><th scope=row>a</th><td> 0.3579834</td><td>0.02391908</td><td> 0.31975614</td><td> 0.39621075</td></tr>\n",
       "\t<tr><th scope=row>bw</th><td> 0.2067450</td><td>0.02923474</td><td> 0.16002229</td><td> 0.25346780</td></tr>\n",
       "\t<tr><th scope=row>bs</th><td>-0.1134693</td><td>0.02922779</td><td>-0.16018097</td><td>-0.06675768</td></tr>\n",
       "\t<tr><th scope=row>bws</th><td>-0.1431613</td><td>0.03568002</td><td>-0.20018485</td><td>-0.08613772</td></tr>\n",
       "\t<tr><th scope=row>sigma</th><td> 0.1248462</td><td>0.01694086</td><td> 0.09777148</td><td> 0.15192102</td></tr>\n",
       "</tbody>\n",
       "</table>\n"
      ],
      "text/latex": [
       "A precis: 5 × 4\n",
       "\\begin{tabular}{r|llll}\n",
       "  & mean & sd & 5.5\\% & 94.5\\%\\\\\n",
       "  & <dbl> & <dbl> & <dbl> & <dbl>\\\\\n",
       "\\hline\n",
       "\ta &  0.3579834 & 0.02391908 &  0.31975614 &  0.39621075\\\\\n",
       "\tbw &  0.2067450 & 0.02923474 &  0.16002229 &  0.25346780\\\\\n",
       "\tbs & -0.1134693 & 0.02922779 & -0.16018097 & -0.06675768\\\\\n",
       "\tbws & -0.1431613 & 0.03568002 & -0.20018485 & -0.08613772\\\\\n",
       "\tsigma &  0.1248462 & 0.01694086 &  0.09777148 &  0.15192102\\\\\n",
       "\\end{tabular}\n"
      ],
      "text/markdown": [
       "\n",
       "A precis: 5 × 4\n",
       "\n",
       "| <!--/--> | mean &lt;dbl&gt; | sd &lt;dbl&gt; | 5.5% &lt;dbl&gt; | 94.5% &lt;dbl&gt; |\n",
       "|---|---|---|---|---|\n",
       "| a |  0.3579834 | 0.02391908 |  0.31975614 |  0.39621075 |\n",
       "| bw |  0.2067450 | 0.02923474 |  0.16002229 |  0.25346780 |\n",
       "| bs | -0.1134693 | 0.02922779 | -0.16018097 | -0.06675768 |\n",
       "| bws | -0.1431613 | 0.03568002 | -0.20018485 | -0.08613772 |\n",
       "| sigma |  0.1248462 | 0.01694086 |  0.09777148 |  0.15192102 |\n",
       "\n"
      ],
      "text/plain": [
       "      mean       sd         5.5%        94.5%      \n",
       "a      0.3579834 0.02391908  0.31975614  0.39621075\n",
       "bw     0.2067450 0.02923474  0.16002229  0.25346780\n",
       "bs    -0.1134693 0.02922779 -0.16018097 -0.06675768\n",
       "bws   -0.1431613 0.03568002 -0.20018485 -0.08613772\n",
       "sigma  0.1248462 0.01694086  0.09777148  0.15192102"
      ]
     },
     "metadata": {},
     "output_type": "display_data"
    }
   ],
   "source": [
    "precis(m_book)"
   ]
  },
  {
   "cell_type": "markdown",
   "id": "87406059-05db-410c-be14-baa5de045165",
   "metadata": {},
   "source": [
    "You can see that the bed indexed variables overlap each other (for 1,2,3). This means that the increase in predicative power is very limited as the parameters for three categories are very similar. If there's no meaningful differences between the three categories, then you might as well ignore them"
   ]
  },
  {
   "cell_type": "markdown",
   "id": "b42bc3a9-35fe-425f-9876-48d81e9a2fa6",
   "metadata": {},
   "source": [
    "### 8H3.\n",
    "\n",
    "Consider again the data(rugged) data on economic development and terrain ruggedness,\n",
    "examined in this chapter. One of the African countries in that example, Seychelles, is far outside\n",
    "the cloud of other nations, being a rare country with both relatively high GDP and high ruggedness.\n",
    "Seychelles is also unusual, in that it is a group of islands far from the coast of mainland Africa, and\n",
    "its main economic activity is tourism.\n",
    "\n",
    "(a) Focus on model m8.5 from the chapter. Use WAIC pointwise penalties and PSIS Pareto k\n",
    "values to measure relative influence of each country. By these criteria, is Seychelles influencing the\n",
    "results? Are there other nations that are relatively influential? If so, can you explain why?\n",
    "\n",
    "(b) Now use robust regression, as described in the previous chapter. Modify m8.5 to use a\n",
    "Student-t distribution with ν = 2. Does this change the results in a substantial way?"
   ]
  },
  {
   "cell_type": "code",
   "execution_count": 17,
   "id": "98c3f9f8-4988-47c7-b580-eaada2878f89",
   "metadata": {},
   "outputs": [],
   "source": [
    "data(rugged)\n",
    "d <- rugged\n",
    "\n",
    "# make log version of outcome\n",
    "d$log_gdp <- log( d$rgdppc_2000 )\n",
    "\n",
    "# extract countries with GDP data\n",
    "dd <- d[ complete.cases(d$rgdppc_2000) , ]\n",
    "\n",
    "# rescale variables\n",
    "dd$log_gdp_std <- dd$log_gdp / mean(dd$log_gdp)\n",
    "dd$rugged_std <- dd$rugged / max(dd$rugged)\n"
   ]
  },
  {
   "cell_type": "code",
   "execution_count": 18,
   "id": "8f50aa31-eeea-427f-8d7c-6191efc7b105",
   "metadata": {},
   "outputs": [],
   "source": [
    "dd$cid <- ifelse( dd$cont_africa==1 , 1 , 2 )\n"
   ]
  },
  {
   "cell_type": "code",
   "execution_count": 19,
   "id": "0d834a2d-4daf-4ef0-a0f5-0947986cb273",
   "metadata": {},
   "outputs": [],
   "source": [
    "m8.3 <- quap(\n",
    "    alist(\n",
    "        log_gdp_std ~ dnorm( mu , sigma ) ,\n",
    "        mu <- a[cid] + b[cid]*( rugged_std - 0.215 ) ,\n",
    "        a[cid] ~ dnorm( 1 , 0.1 ) ,\n",
    "        b[cid] ~ dnorm( 0 , 0.3 ) ,\n",
    "        sigma ~ dexp( 1 )\n",
    "    ) , data=dd )"
   ]
  },
  {
   "cell_type": "code",
   "execution_count": 20,
   "id": "0ca36e30-880f-4650-8a64-19c0640f0cfa",
   "metadata": {},
   "outputs": [
    {
     "data": {
      "image/png": "[encoded data removed]",
      "text/plain": [
       "plot without title"
      ]
     },
     "metadata": {
      "image/png": {
       "height": 420,
       "width": 420
      }
     },
     "output_type": "display_data"
    }
   ],
   "source": [
    "plot(WAIC(m8.3, pointwise=TRUE)$WAIC)"
   ]
  },
  {
   "cell_type": "code",
   "execution_count": 21,
   "id": "994d8378-34d7-4df8-b288-e401b5a963d6",
   "metadata": {},
   "outputs": [
    {
     "data": {
      "text/html": [
       "<table class=\"dataframe\">\n",
       "<caption>A data.frame: 1 × 55</caption>\n",
       "<thead>\n",
       "\t<tr><th></th><th scope=col>isocode</th><th scope=col>isonum</th><th scope=col>country</th><th scope=col>rugged</th><th scope=col>rugged_popw</th><th scope=col>rugged_slope</th><th scope=col>rugged_lsd</th><th scope=col>rugged_pc</th><th scope=col>land_area</th><th scope=col>lat</th><th scope=col>⋯</th><th scope=col>dist_slavemkt_atlantic</th><th scope=col>dist_slavemkt_indian</th><th scope=col>dist_slavemkt_saharan</th><th scope=col>dist_slavemkt_redsea</th><th scope=col>pop_1400</th><th scope=col>european_descent</th><th scope=col>log_gdp</th><th scope=col>log_gdp_std</th><th scope=col>rugged_std</th><th scope=col>cid</th></tr>\n",
       "\t<tr><th></th><th scope=col>&lt;fct&gt;</th><th scope=col>&lt;int&gt;</th><th scope=col>&lt;fct&gt;</th><th scope=col>&lt;dbl&gt;</th><th scope=col>&lt;dbl&gt;</th><th scope=col>&lt;dbl&gt;</th><th scope=col>&lt;dbl&gt;</th><th scope=col>&lt;dbl&gt;</th><th scope=col>&lt;dbl&gt;</th><th scope=col>&lt;dbl&gt;</th><th scope=col>⋯</th><th scope=col>&lt;dbl&gt;</th><th scope=col>&lt;dbl&gt;</th><th scope=col>&lt;dbl&gt;</th><th scope=col>&lt;dbl&gt;</th><th scope=col>&lt;int&gt;</th><th scope=col>&lt;dbl&gt;</th><th scope=col>&lt;dbl&gt;</th><th scope=col>&lt;dbl&gt;</th><th scope=col>&lt;dbl&gt;</th><th scope=col>&lt;dbl&gt;</th></tr>\n",
       "</thead>\n",
       "<tbody>\n",
       "\t<tr><th scope=row>199</th><td>SYC</td><td>690</td><td>Seychelles</td><td>4.885</td><td>1.802</td><td>11.129</td><td>1.278</td><td>54.101</td><td>46</td><td>-6.723</td><td>⋯</td><td>11.457</td><td>1.742</td><td>4.635</td><td>2.253</td><td>0</td><td>NA</td><td>9.795761</td><td>1.150126</td><td>0.7876491</td><td>1</td></tr>\n",
       "</tbody>\n",
       "</table>\n"
      ],
      "text/latex": [
       "A data.frame: 1 × 55\n",
       "\\begin{tabular}{r|lllllllllllllllllllll}\n",
       "  & isocode & isonum & country & rugged & rugged\\_popw & rugged\\_slope & rugged\\_lsd & rugged\\_pc & land\\_area & lat & ⋯ & dist\\_slavemkt\\_atlantic & dist\\_slavemkt\\_indian & dist\\_slavemkt\\_saharan & dist\\_slavemkt\\_redsea & pop\\_1400 & european\\_descent & log\\_gdp & log\\_gdp\\_std & rugged\\_std & cid\\\\\n",
       "  & <fct> & <int> & <fct> & <dbl> & <dbl> & <dbl> & <dbl> & <dbl> & <dbl> & <dbl> & ⋯ & <dbl> & <dbl> & <dbl> & <dbl> & <int> & <dbl> & <dbl> & <dbl> & <dbl> & <dbl>\\\\\n",
       "\\hline\n",
       "\t199 & SYC & 690 & Seychelles & 4.885 & 1.802 & 11.129 & 1.278 & 54.101 & 46 & -6.723 & ⋯ & 11.457 & 1.742 & 4.635 & 2.253 & 0 & NA & 9.795761 & 1.150126 & 0.7876491 & 1\\\\\n",
       "\\end{tabular}\n"
      ],
      "text/markdown": [
       "\n",
       "A data.frame: 1 × 55\n",
       "\n",
       "| <!--/--> | isocode &lt;fct&gt; | isonum &lt;int&gt; | country &lt;fct&gt; | rugged &lt;dbl&gt; | rugged_popw &lt;dbl&gt; | rugged_slope &lt;dbl&gt; | rugged_lsd &lt;dbl&gt; | rugged_pc &lt;dbl&gt; | land_area &lt;dbl&gt; | lat &lt;dbl&gt; | ⋯ ⋯ | dist_slavemkt_atlantic &lt;dbl&gt; | dist_slavemkt_indian &lt;dbl&gt; | dist_slavemkt_saharan &lt;dbl&gt; | dist_slavemkt_redsea &lt;dbl&gt; | pop_1400 &lt;int&gt; | european_descent &lt;dbl&gt; | log_gdp &lt;dbl&gt; | log_gdp_std &lt;dbl&gt; | rugged_std &lt;dbl&gt; | cid &lt;dbl&gt; |\n",
       "|---|---|---|---|---|---|---|---|---|---|---|---|---|---|---|---|---|---|---|---|---|---|\n",
       "| 199 | SYC | 690 | Seychelles | 4.885 | 1.802 | 11.129 | 1.278 | 54.101 | 46 | -6.723 | ⋯ | 11.457 | 1.742 | 4.635 | 2.253 | 0 | NA | 9.795761 | 1.150126 | 0.7876491 | 1 |\n",
       "\n"
      ],
      "text/plain": [
       "    isocode isonum country    rugged rugged_popw rugged_slope rugged_lsd\n",
       "199 SYC     690    Seychelles 4.885  1.802       11.129       1.278     \n",
       "    rugged_pc land_area lat    ⋯ dist_slavemkt_atlantic dist_slavemkt_indian\n",
       "199 54.101    46        -6.723 ⋯ 11.457                 1.742               \n",
       "    dist_slavemkt_saharan dist_slavemkt_redsea pop_1400 european_descent\n",
       "199 4.635                 2.253                0        NA              \n",
       "    log_gdp  log_gdp_std rugged_std cid\n",
       "199 9.795761 1.150126    0.7876491  1  "
      ]
     },
     "metadata": {},
     "output_type": "display_data"
    }
   ],
   "source": [
    "dd[dd$country == 'Seychelles', ]"
   ]
  },
  {
   "cell_type": "markdown",
   "id": "5acb4fe4-cdc2-491a-8514-406eccd99311",
   "metadata": {},
   "source": [
    "index is 199"
   ]
  },
  {
   "cell_type": "code",
   "execution_count": 22,
   "id": "ce2a46fe-4cd4-4544-9cd2-c2fa8879b14d",
   "metadata": {},
   "outputs": [],
   "source": [
    "pen = WAIC(m8.3, pointwise=TRUE)$penalty"
   ]
  },
  {
   "cell_type": "code",
   "execution_count": 23,
   "id": "aa6b4564-043c-4fb3-a94d-aa914fcb3530",
   "metadata": {},
   "outputs": [],
   "source": [
    "df <- data.frame(dd$country, pen)"
   ]
  },
  {
   "cell_type": "code",
   "execution_count": 24,
   "id": "1f364cfc-a8fa-4fc1-9814-2f44b98fd1db",
   "metadata": {},
   "outputs": [
    {
     "data": {
      "text/html": [
       "<table class=\"dataframe\">\n",
       "<caption>A data.frame: 10 × 2</caption>\n",
       "<thead>\n",
       "\t<tr><th></th><th scope=col>dd.country</th><th scope=col>pen</th></tr>\n",
       "\t<tr><th></th><th scope=col>&lt;fct&gt;</th><th scope=col>&lt;dbl&gt;</th></tr>\n",
       "</thead>\n",
       "<tbody>\n",
       "\t<tr><th scope=row>145</th><td>Seychelles       </td><td>0.5415053</td></tr>\n",
       "\t<tr><th scope=row>27</th><td>Switzerland      </td><td>0.4637604</td></tr>\n",
       "\t<tr><th scope=row>150</th><td>Tajikistan       </td><td>0.3124520</td></tr>\n",
       "\t<tr><th scope=row>93</th><td>Lesotho          </td><td>0.2965671</td></tr>\n",
       "\t<tr><th scope=row>62</th><td>Equatorial Guinea</td><td>0.2138946</td></tr>\n",
       "\t<tr><th scope=row>8</th><td>Austria          </td><td>0.1608782</td></tr>\n",
       "\t<tr><th scope=row>118</th><td>Nepal            </td><td>0.1286706</td></tr>\n",
       "\t<tr><th scope=row>167</th><td>Yemen            </td><td>0.1245834</td></tr>\n",
       "\t<tr><th scope=row>24</th><td>Botswana         </td><td>0.1101958</td></tr>\n",
       "\t<tr><th scope=row>14</th><td>Bangladesh       </td><td>0.1070633</td></tr>\n",
       "</tbody>\n",
       "</table>\n"
      ],
      "text/latex": [
       "A data.frame: 10 × 2\n",
       "\\begin{tabular}{r|ll}\n",
       "  & dd.country & pen\\\\\n",
       "  & <fct> & <dbl>\\\\\n",
       "\\hline\n",
       "\t145 & Seychelles        & 0.5415053\\\\\n",
       "\t27 & Switzerland       & 0.4637604\\\\\n",
       "\t150 & Tajikistan        & 0.3124520\\\\\n",
       "\t93 & Lesotho           & 0.2965671\\\\\n",
       "\t62 & Equatorial Guinea & 0.2138946\\\\\n",
       "\t8 & Austria           & 0.1608782\\\\\n",
       "\t118 & Nepal             & 0.1286706\\\\\n",
       "\t167 & Yemen             & 0.1245834\\\\\n",
       "\t24 & Botswana          & 0.1101958\\\\\n",
       "\t14 & Bangladesh        & 0.1070633\\\\\n",
       "\\end{tabular}\n"
      ],
      "text/markdown": [
       "\n",
       "A data.frame: 10 × 2\n",
       "\n",
       "| <!--/--> | dd.country &lt;fct&gt; | pen &lt;dbl&gt; |\n",
       "|---|---|---|\n",
       "| 145 | Seychelles        | 0.5415053 |\n",
       "| 27 | Switzerland       | 0.4637604 |\n",
       "| 150 | Tajikistan        | 0.3124520 |\n",
       "| 93 | Lesotho           | 0.2965671 |\n",
       "| 62 | Equatorial Guinea | 0.2138946 |\n",
       "| 8 | Austria           | 0.1608782 |\n",
       "| 118 | Nepal             | 0.1286706 |\n",
       "| 167 | Yemen             | 0.1245834 |\n",
       "| 24 | Botswana          | 0.1101958 |\n",
       "| 14 | Bangladesh        | 0.1070633 |\n",
       "\n"
      ],
      "text/plain": [
       "    dd.country        pen      \n",
       "145 Seychelles        0.5415053\n",
       "27  Switzerland       0.4637604\n",
       "150 Tajikistan        0.3124520\n",
       "93  Lesotho           0.2965671\n",
       "62  Equatorial Guinea 0.2138946\n",
       "8   Austria           0.1608782\n",
       "118 Nepal             0.1286706\n",
       "167 Yemen             0.1245834\n",
       "24  Botswana          0.1101958\n",
       "14  Bangladesh        0.1070633"
      ]
     },
     "metadata": {},
     "output_type": "display_data"
    }
   ],
   "source": [
    "df[order(-df$pen)[1:10], ]"
   ]
  },
  {
   "cell_type": "markdown",
   "id": "beed4533-f45a-4771-b116-e69018b525d0",
   "metadata": {},
   "source": [
    "for sure Seychelles is penalized"
   ]
  },
  {
   "cell_type": "code",
   "execution_count": 25,
   "id": "45a86722-6bd3-4334-8053-8f485a2c4148",
   "metadata": {},
   "outputs": [
    {
     "name": "stderr",
     "output_type": "stream",
     "text": [
      "Some Pareto k values are high (>0.5). Set pointwise=TRUE to inspect individual points.\n",
      "\n"
     ]
    }
   ],
   "source": [
    "psis_k = PSIS(m8.3, pointwise=TRUE)$k\n",
    "df_psis = data.frame(dd$country, psis_k)"
   ]
  },
  {
   "cell_type": "code",
   "execution_count": 26,
   "id": "c464019f-a140-4161-b420-7cee68e620bb",
   "metadata": {},
   "outputs": [
    {
     "data": {
      "text/html": [
       "<table class=\"dataframe\">\n",
       "<caption>A data.frame: 10 × 2</caption>\n",
       "<thead>\n",
       "\t<tr><th></th><th scope=col>dd.country</th><th scope=col>psis_k</th></tr>\n",
       "\t<tr><th></th><th scope=col>&lt;fct&gt;</th><th scope=col>&lt;dbl&gt;</th></tr>\n",
       "</thead>\n",
       "<tbody>\n",
       "\t<tr><th scope=row>145</th><td>Seychelles              </td><td>0.6617320</td></tr>\n",
       "\t<tr><th scope=row>93</th><td>Lesotho                 </td><td>0.4344281</td></tr>\n",
       "\t<tr><th scope=row>144</th><td>Swaziland               </td><td>0.3708719</td></tr>\n",
       "\t<tr><th scope=row>143</th><td>Sweden                  </td><td>0.3169282</td></tr>\n",
       "\t<tr><th scope=row>36</th><td>Cape Verde              </td><td>0.2998356</td></tr>\n",
       "\t<tr><th scope=row>116</th><td>Netherlands             </td><td>0.2653090</td></tr>\n",
       "\t<tr><th scope=row>3</th><td>United Arab Emirates    </td><td>0.2540998</td></tr>\n",
       "\t<tr><th scope=row>160</th><td>United States of America</td><td>0.2531690</td></tr>\n",
       "\t<tr><th scope=row>26</th><td>Canada                  </td><td>0.2482219</td></tr>\n",
       "\t<tr><th scope=row>27</th><td>Switzerland             </td><td>0.2382568</td></tr>\n",
       "</tbody>\n",
       "</table>\n"
      ],
      "text/latex": [
       "A data.frame: 10 × 2\n",
       "\\begin{tabular}{r|ll}\n",
       "  & dd.country & psis\\_k\\\\\n",
       "  & <fct> & <dbl>\\\\\n",
       "\\hline\n",
       "\t145 & Seychelles               & 0.6617320\\\\\n",
       "\t93 & Lesotho                  & 0.4344281\\\\\n",
       "\t144 & Swaziland                & 0.3708719\\\\\n",
       "\t143 & Sweden                   & 0.3169282\\\\\n",
       "\t36 & Cape Verde               & 0.2998356\\\\\n",
       "\t116 & Netherlands              & 0.2653090\\\\\n",
       "\t3 & United Arab Emirates     & 0.2540998\\\\\n",
       "\t160 & United States of America & 0.2531690\\\\\n",
       "\t26 & Canada                   & 0.2482219\\\\\n",
       "\t27 & Switzerland              & 0.2382568\\\\\n",
       "\\end{tabular}\n"
      ],
      "text/markdown": [
       "\n",
       "A data.frame: 10 × 2\n",
       "\n",
       "| <!--/--> | dd.country &lt;fct&gt; | psis_k &lt;dbl&gt; |\n",
       "|---|---|---|\n",
       "| 145 | Seychelles               | 0.6617320 |\n",
       "| 93 | Lesotho                  | 0.4344281 |\n",
       "| 144 | Swaziland                | 0.3708719 |\n",
       "| 143 | Sweden                   | 0.3169282 |\n",
       "| 36 | Cape Verde               | 0.2998356 |\n",
       "| 116 | Netherlands              | 0.2653090 |\n",
       "| 3 | United Arab Emirates     | 0.2540998 |\n",
       "| 160 | United States of America | 0.2531690 |\n",
       "| 26 | Canada                   | 0.2482219 |\n",
       "| 27 | Switzerland              | 0.2382568 |\n",
       "\n"
      ],
      "text/plain": [
       "    dd.country               psis_k   \n",
       "145 Seychelles               0.6617320\n",
       "93  Lesotho                  0.4344281\n",
       "144 Swaziland                0.3708719\n",
       "143 Sweden                   0.3169282\n",
       "36  Cape Verde               0.2998356\n",
       "116 Netherlands              0.2653090\n",
       "3   United Arab Emirates     0.2540998\n",
       "160 United States of America 0.2531690\n",
       "26  Canada                   0.2482219\n",
       "27  Switzerland              0.2382568"
      ]
     },
     "metadata": {},
     "output_type": "display_data"
    }
   ],
   "source": [
    "df_psis[order(-df_psis$psis_k)[1:10], ]"
   ]
  },
  {
   "cell_type": "markdown",
   "id": "4226807f-1b50-47d2-80db-ac348f1b5d07",
   "metadata": {},
   "source": [
    "a few interesting ones made the top 3, Seychelles is now out of top 3 and Nepal made the list"
   ]
  },
  {
   "cell_type": "markdown",
   "id": "16440377-59f5-4959-8ab4-74b7e4c6340c",
   "metadata": {},
   "source": [
    "Now onto b"
   ]
  },
  {
   "cell_type": "code",
   "execution_count": 27,
   "id": "90cfdce1-8117-47e1-99c2-dabfad672847",
   "metadata": {},
   "outputs": [],
   "source": [
    "m_robust <- quap(\n",
    "    alist(\n",
    "        log_gdp_std ~ dstudent( 2, mu , sigma ) ,\n",
    "        mu <- a[cid] + b[cid]*( rugged_std - 0.215 ) ,\n",
    "        a[cid] ~ dnorm( 1 , 0.1 ) ,\n",
    "        b[cid] ~ dnorm( 0 , 0.3 ) ,\n",
    "        sigma ~ dexp( 1 )\n",
    "    ) , data=dd )"
   ]
  },
  {
   "cell_type": "code",
   "execution_count": 28,
   "id": "d9966d52-ee1a-41f7-aa25-460b7b47384a",
   "metadata": {},
   "outputs": [],
   "source": [
    "pen = WAIC(m_robust, pointwise=TRUE)$penalty"
   ]
  },
  {
   "cell_type": "code",
   "execution_count": 29,
   "id": "674adc97-8ba0-4e9f-8b68-de4e3c45ba0f",
   "metadata": {},
   "outputs": [],
   "source": [
    "df <- data.frame(dd$country, pen)"
   ]
  },
  {
   "cell_type": "code",
   "execution_count": 30,
   "id": "432df400-992b-497e-8852-eb79328eb69c",
   "metadata": {},
   "outputs": [
    {
     "data": {
      "text/html": [
       "<table class=\"dataframe\">\n",
       "<caption>A data.frame: 10 × 2</caption>\n",
       "<thead>\n",
       "\t<tr><th></th><th scope=col>dd.country</th><th scope=col>pen</th></tr>\n",
       "\t<tr><th></th><th scope=col>&lt;fct&gt;</th><th scope=col>&lt;dbl&gt;</th></tr>\n",
       "</thead>\n",
       "<tbody>\n",
       "\t<tr><th scope=row>145</th><td>Seychelles </td><td>0.29964267</td></tr>\n",
       "\t<tr><th scope=row>93</th><td>Lesotho    </td><td>0.27002376</td></tr>\n",
       "\t<tr><th scope=row>150</th><td>Tajikistan </td><td>0.24855759</td></tr>\n",
       "\t<tr><th scope=row>118</th><td>Nepal      </td><td>0.15397354</td></tr>\n",
       "\t<tr><th scope=row>27</th><td>Switzerland</td><td>0.13376530</td></tr>\n",
       "\t<tr><th scope=row>133</th><td>Rwanda     </td><td>0.13279025</td></tr>\n",
       "\t<tr><th scope=row>144</th><td>Swaziland  </td><td>0.12963476</td></tr>\n",
       "\t<tr><th scope=row>84</th><td>Kyrgyzstan </td><td>0.12037553</td></tr>\n",
       "\t<tr><th scope=row>36</th><td>Cape Verde </td><td>0.08671392</td></tr>\n",
       "\t<tr><th scope=row>57</th><td>Georgia    </td><td>0.08461069</td></tr>\n",
       "</tbody>\n",
       "</table>\n"
      ],
      "text/latex": [
       "A data.frame: 10 × 2\n",
       "\\begin{tabular}{r|ll}\n",
       "  & dd.country & pen\\\\\n",
       "  & <fct> & <dbl>\\\\\n",
       "\\hline\n",
       "\t145 & Seychelles  & 0.29964267\\\\\n",
       "\t93 & Lesotho     & 0.27002376\\\\\n",
       "\t150 & Tajikistan  & 0.24855759\\\\\n",
       "\t118 & Nepal       & 0.15397354\\\\\n",
       "\t27 & Switzerland & 0.13376530\\\\\n",
       "\t133 & Rwanda      & 0.13279025\\\\\n",
       "\t144 & Swaziland   & 0.12963476\\\\\n",
       "\t84 & Kyrgyzstan  & 0.12037553\\\\\n",
       "\t36 & Cape Verde  & 0.08671392\\\\\n",
       "\t57 & Georgia     & 0.08461069\\\\\n",
       "\\end{tabular}\n"
      ],
      "text/markdown": [
       "\n",
       "A data.frame: 10 × 2\n",
       "\n",
       "| <!--/--> | dd.country &lt;fct&gt; | pen &lt;dbl&gt; |\n",
       "|---|---|---|\n",
       "| 145 | Seychelles  | 0.29964267 |\n",
       "| 93 | Lesotho     | 0.27002376 |\n",
       "| 150 | Tajikistan  | 0.24855759 |\n",
       "| 118 | Nepal       | 0.15397354 |\n",
       "| 27 | Switzerland | 0.13376530 |\n",
       "| 133 | Rwanda      | 0.13279025 |\n",
       "| 144 | Swaziland   | 0.12963476 |\n",
       "| 84 | Kyrgyzstan  | 0.12037553 |\n",
       "| 36 | Cape Verde  | 0.08671392 |\n",
       "| 57 | Georgia     | 0.08461069 |\n",
       "\n"
      ],
      "text/plain": [
       "    dd.country  pen       \n",
       "145 Seychelles  0.29964267\n",
       "93  Lesotho     0.27002376\n",
       "150 Tajikistan  0.24855759\n",
       "118 Nepal       0.15397354\n",
       "27  Switzerland 0.13376530\n",
       "133 Rwanda      0.13279025\n",
       "144 Swaziland   0.12963476\n",
       "84  Kyrgyzstan  0.12037553\n",
       "36  Cape Verde  0.08671392\n",
       "57  Georgia     0.08461069"
      ]
     },
     "metadata": {},
     "output_type": "display_data"
    }
   ],
   "source": [
    "df[order(-df$pen)[1:10], ]"
   ]
  },
  {
   "cell_type": "code",
   "execution_count": 31,
   "id": "8c77d99c-ce64-4fa0-b437-8566a33a4102",
   "metadata": {},
   "outputs": [],
   "source": [
    "rugged_seq <- seq( from=-0.1 , to=1.1 , length.out=30 )"
   ]
  },
  {
   "cell_type": "code",
   "execution_count": 32,
   "id": "23bde5dd-cc95-4cdf-a38f-5f465cb96653",
   "metadata": {},
   "outputs": [
    {
     "data": {
      "image/png": "[encoded data removed]",
      "text/plain": [
       "plot without title"
      ]
     },
     "metadata": {
      "image/png": {
       "height": 420,
       "width": 420
      }
     },
     "output_type": "display_data"
    }
   ],
   "source": [
    "# plot Africa - cid=1\n",
    "d.A1 <- dd[ dd$cid==1 , ]\n",
    "plot( d.A1$rugged_std , d.A1$log_gdp_std , pch=16 , col=rangi2 ,\n",
    "    xlab=\"ruggedness (standardized)\" , ylab=\"log GDP (as proportion of mean)\" ,\n",
    "    xlim=c(0,1) )\n",
    "mu <- link( m8.3 , data=data.frame( cid=1 , rugged_std=rugged_seq ) )\n",
    "mu_mean <- apply( mu , 2 , mean )\n",
    "mu_ci <- apply( mu , 2 , PI , prob=0.97 )\n",
    "lines( rugged_seq , mu_mean , lwd=2 )\n",
    "shade( mu_ci , rugged_seq , col=col.alpha(rangi2,0.3) )\n",
    "mu_r <- link( m_robust , data=data.frame( cid=1 , rugged_std=rugged_seq ) )\n",
    "mu_mean_r <- apply( mu_r , 2 , mean )\n",
    "mu_ci_r <- apply( mu_r , 2 , PI , prob=0.97 )\n",
    "lines( rugged_seq , mu_mean , lwd=2 )\n",
    "lines( rugged_seq , mu_mean_r , lwd=2, col = 'red' )\n",
    "mtext(\"African nations\")\n"
   ]
  },
  {
   "cell_type": "code",
   "execution_count": 33,
   "id": "7b1498f4-c42d-47a7-b3c0-c024a0dd6479",
   "metadata": {},
   "outputs": [
    {
     "data": {
      "image/png": "[encoded data removed]",
      "text/plain": [
       "plot without title"
      ]
     },
     "metadata": {
      "image/png": {
       "height": 420,
       "width": 420
      }
     },
     "output_type": "display_data"
    }
   ],
   "source": [
    "# plot non-Africa - cid=2\n",
    "d.A0 <- dd[ dd$cid==2 , ]\n",
    "plot( d.A0$rugged_std , d.A0$log_gdp_std , pch=1 , col=\"black\" ,\n",
    "    xlab=\"ruggedness (standardized)\" , ylab=\"log GDP (as proportion of mean)\" ,\n",
    "    xlim=c(0,1) )\n",
    "mu <- link( m8.3 , data=data.frame( cid=2 , rugged_std=rugged_seq ) )\n",
    "mu_mean <- apply( mu , 2 , mean )\n",
    "mu_ci <- apply( mu , 2 , PI , prob=0.97 )\n",
    "mu_r <- link( m_robust , data=data.frame( cid=2 , rugged_std=rugged_seq ) )\n",
    "mu_mean_r <- apply( mu_r , 2 , mean )\n",
    "mu_ci_r <- apply( mu_r , 2 , PI , prob=0.97 )\n",
    "lines( rugged_seq , mu_mean , lwd=2 )\n",
    "shade( mu_ci , rugged_seq )\n",
    "lines( rugged_seq , mu_mean_r , lwd=2, col = 'red' )\n",
    "shade( mu_ci_r, rugged_seq)\n",
    "mtext(\"Non-African nations\")"
   ]
  },
  {
   "cell_type": "markdown",
   "id": "02a3acb2-f489-4653-845b-f181d765e8a5",
   "metadata": {},
   "source": [
    "Both robust fits now are less heavily influenced by the outliers in the sparse region"
   ]
  },
  {
   "cell_type": "markdown",
   "id": "d54b6c2f-ee43-4517-a241-51658685bcf6",
   "metadata": {},
   "source": [
    "### 8H4\n",
    "open ended"
   ]
  },
  {
   "cell_type": "markdown",
   "id": "e533b2fc-5ee0-4216-b23e-ece777cf49bf",
   "metadata": {},
   "source": [
    "### 8H5.\n",
    "\n",
    "Consider the data(Wines2012) data table. These data are expert ratings of 20 different French\n",
    "and American wines by 9 different French and American judges. Your goal is to model score, the\n",
    "subjective rating assigned by each judge to each wine. I recommend standardizing it. In this problem,\n",
    "consider only variation among judges and wines. Construct index variables of judge and wine and\n",
    "then use these index variables to construct a linear regression model. Justify your priors. You should\n",
    "end up with 9 judge parameters and 20 wine parameters. How do you interpret the variation among\n",
    "individual judges and individual wines? Do you notice any patterns, just by plotting the differences?\n",
    "Which judges gave the highest/lowest ratings? Which wines were rated worst/best on average?"
   ]
  },
  {
   "cell_type": "code",
   "execution_count": 34,
   "id": "556c1eab-7976-4cac-a1be-96d4512c7006",
   "metadata": {},
   "outputs": [],
   "source": [
    "data(Wines2012)"
   ]
  },
  {
   "cell_type": "code",
   "execution_count": 35,
   "id": "94c80fff-a045-4ee8-a3b8-6201030c3ada",
   "metadata": {},
   "outputs": [],
   "source": [
    "d <- Wines2012"
   ]
  },
  {
   "cell_type": "code",
   "execution_count": 36,
   "id": "e83adead-45c0-4a80-b8be-f5996a1f9139",
   "metadata": {},
   "outputs": [
    {
     "data": {
      "text/html": [
       "<table class=\"dataframe\">\n",
       "<caption>A data.frame: 6 × 6</caption>\n",
       "<thead>\n",
       "\t<tr><th></th><th scope=col>judge</th><th scope=col>flight</th><th scope=col>wine</th><th scope=col>score</th><th scope=col>wine.amer</th><th scope=col>judge.amer</th></tr>\n",
       "\t<tr><th></th><th scope=col>&lt;fct&gt;</th><th scope=col>&lt;fct&gt;</th><th scope=col>&lt;fct&gt;</th><th scope=col>&lt;dbl&gt;</th><th scope=col>&lt;int&gt;</th><th scope=col>&lt;int&gt;</th></tr>\n",
       "</thead>\n",
       "<tbody>\n",
       "\t<tr><th scope=row>1</th><td>Jean-M Cardebat</td><td>white</td><td>A1</td><td>10</td><td>1</td><td>0</td></tr>\n",
       "\t<tr><th scope=row>2</th><td>Jean-M Cardebat</td><td>white</td><td>B1</td><td>13</td><td>1</td><td>0</td></tr>\n",
       "\t<tr><th scope=row>3</th><td>Jean-M Cardebat</td><td>white</td><td>C1</td><td>14</td><td>0</td><td>0</td></tr>\n",
       "\t<tr><th scope=row>4</th><td>Jean-M Cardebat</td><td>white</td><td>D1</td><td>15</td><td>0</td><td>0</td></tr>\n",
       "\t<tr><th scope=row>5</th><td>Jean-M Cardebat</td><td>white</td><td>E1</td><td> 8</td><td>1</td><td>0</td></tr>\n",
       "\t<tr><th scope=row>6</th><td>Jean-M Cardebat</td><td>white</td><td>F1</td><td>13</td><td>1</td><td>0</td></tr>\n",
       "</tbody>\n",
       "</table>\n"
      ],
      "text/latex": [
       "A data.frame: 6 × 6\n",
       "\\begin{tabular}{r|llllll}\n",
       "  & judge & flight & wine & score & wine.amer & judge.amer\\\\\n",
       "  & <fct> & <fct> & <fct> & <dbl> & <int> & <int>\\\\\n",
       "\\hline\n",
       "\t1 & Jean-M Cardebat & white & A1 & 10 & 1 & 0\\\\\n",
       "\t2 & Jean-M Cardebat & white & B1 & 13 & 1 & 0\\\\\n",
       "\t3 & Jean-M Cardebat & white & C1 & 14 & 0 & 0\\\\\n",
       "\t4 & Jean-M Cardebat & white & D1 & 15 & 0 & 0\\\\\n",
       "\t5 & Jean-M Cardebat & white & E1 &  8 & 1 & 0\\\\\n",
       "\t6 & Jean-M Cardebat & white & F1 & 13 & 1 & 0\\\\\n",
       "\\end{tabular}\n"
      ],
      "text/markdown": [
       "\n",
       "A data.frame: 6 × 6\n",
       "\n",
       "| <!--/--> | judge &lt;fct&gt; | flight &lt;fct&gt; | wine &lt;fct&gt; | score &lt;dbl&gt; | wine.amer &lt;int&gt; | judge.amer &lt;int&gt; |\n",
       "|---|---|---|---|---|---|---|\n",
       "| 1 | Jean-M Cardebat | white | A1 | 10 | 1 | 0 |\n",
       "| 2 | Jean-M Cardebat | white | B1 | 13 | 1 | 0 |\n",
       "| 3 | Jean-M Cardebat | white | C1 | 14 | 0 | 0 |\n",
       "| 4 | Jean-M Cardebat | white | D1 | 15 | 0 | 0 |\n",
       "| 5 | Jean-M Cardebat | white | E1 |  8 | 1 | 0 |\n",
       "| 6 | Jean-M Cardebat | white | F1 | 13 | 1 | 0 |\n",
       "\n"
      ],
      "text/plain": [
       "  judge           flight wine score wine.amer judge.amer\n",
       "1 Jean-M Cardebat white  A1   10    1         0         \n",
       "2 Jean-M Cardebat white  B1   13    1         0         \n",
       "3 Jean-M Cardebat white  C1   14    0         0         \n",
       "4 Jean-M Cardebat white  D1   15    0         0         \n",
       "5 Jean-M Cardebat white  E1    8    1         0         \n",
       "6 Jean-M Cardebat white  F1   13    1         0         "
      ]
     },
     "metadata": {},
     "output_type": "display_data"
    }
   ],
   "source": [
    "head(d)"
   ]
  },
  {
   "cell_type": "code",
   "execution_count": 37,
   "id": "b974f37a-762c-4353-b488-4a6a3d4a5eda",
   "metadata": {},
   "outputs": [],
   "source": [
    "d$score_std <- standardize(d$score)"
   ]
  },
  {
   "cell_type": "code",
   "execution_count": 38,
   "id": "4270041d-cf44-4ef2-9368-d15fec677aa4",
   "metadata": {},
   "outputs": [
    {
     "data": {
      "text/html": [
       "<style>\n",
       ".list-inline {list-style: none; margin:0; padding: 0}\n",
       ".list-inline>li {display: inline-block}\n",
       ".list-inline>li:not(:last-child)::after {content: \"\\00b7\"; padding: 0 .5ex}\n",
       "</style>\n",
       "<ol class=list-inline><li>Jean-M Cardebat</li><li>Tyler Colman</li><li>John Foy</li><li>Olivier Gergaud</li><li>Robert Hodgson</li><li>Linda Murphy</li><li>Daniele Meulder</li><li>Jamal Rayyis</li><li>Francis Schott</li></ol>\n",
       "\n",
       "<details>\n",
       "\t<summary style=display:list-item;cursor:pointer>\n",
       "\t\t<strong>Levels</strong>:\n",
       "\t</summary>\n",
       "\t<style>\n",
       "\t.list-inline {list-style: none; margin:0; padding: 0}\n",
       "\t.list-inline>li {display: inline-block}\n",
       "\t.list-inline>li:not(:last-child)::after {content: \"\\00b7\"; padding: 0 .5ex}\n",
       "\t</style>\n",
       "\t<ol class=list-inline><li>'Daniele Meulder'</li><li>'Francis Schott'</li><li>'Jamal Rayyis'</li><li>'Jean-M Cardebat'</li><li>'John Foy'</li><li>'Linda Murphy'</li><li>'Olivier Gergaud'</li><li>'Robert Hodgson'</li><li>'Tyler Colman'</li></ol>\n",
       "</details>"
      ],
      "text/latex": [
       "\\begin{enumerate*}\n",
       "\\item Jean-M Cardebat\n",
       "\\item Tyler Colman\n",
       "\\item John Foy\n",
       "\\item Olivier Gergaud\n",
       "\\item Robert Hodgson\n",
       "\\item Linda Murphy\n",
       "\\item Daniele Meulder\n",
       "\\item Jamal Rayyis\n",
       "\\item Francis Schott\n",
       "\\end{enumerate*}\n",
       "\n",
       "\\emph{Levels}: \\begin{enumerate*}\n",
       "\\item 'Daniele Meulder'\n",
       "\\item 'Francis Schott'\n",
       "\\item 'Jamal Rayyis'\n",
       "\\item 'Jean-M Cardebat'\n",
       "\\item 'John Foy'\n",
       "\\item 'Linda Murphy'\n",
       "\\item 'Olivier Gergaud'\n",
       "\\item 'Robert Hodgson'\n",
       "\\item 'Tyler Colman'\n",
       "\\end{enumerate*}\n"
      ],
      "text/markdown": [
       "1. Jean-M Cardebat\n",
       "2. Tyler Colman\n",
       "3. John Foy\n",
       "4. Olivier Gergaud\n",
       "5. Robert Hodgson\n",
       "6. Linda Murphy\n",
       "7. Daniele Meulder\n",
       "8. Jamal Rayyis\n",
       "9. Francis Schott\n",
       "\n",
       "\n",
       "\n",
       "**Levels**: 1. 'Daniele Meulder'\n",
       "2. 'Francis Schott'\n",
       "3. 'Jamal Rayyis'\n",
       "4. 'Jean-M Cardebat'\n",
       "5. 'John Foy'\n",
       "6. 'Linda Murphy'\n",
       "7. 'Olivier Gergaud'\n",
       "8. 'Robert Hodgson'\n",
       "9. 'Tyler Colman'\n",
       "\n",
       "\n"
      ],
      "text/plain": [
       "[1] Jean-M Cardebat Tyler Colman    John Foy        Olivier Gergaud\n",
       "[5] Robert Hodgson  Linda Murphy    Daniele Meulder Jamal Rayyis   \n",
       "[9] Francis Schott \n",
       "9 Levels: Daniele Meulder Francis Schott Jamal Rayyis ... Tyler Colman"
      ]
     },
     "metadata": {},
     "output_type": "display_data"
    }
   ],
   "source": [
    "unique(d$judge)"
   ]
  },
  {
   "cell_type": "code",
   "execution_count": 39,
   "id": "3793d75c-fa43-462e-9138-2e3e5ec39eae",
   "metadata": {},
   "outputs": [],
   "source": [
    "d$judge_id <- as.integer(d$judge)"
   ]
  },
  {
   "cell_type": "code",
   "execution_count": 40,
   "id": "30df3dcf-fab4-4502-ba88-da256b4a4bd1",
   "metadata": {},
   "outputs": [],
   "source": [
    "d$wine_id <- as.integer(d$wine)"
   ]
  },
  {
   "cell_type": "code",
   "execution_count": 41,
   "id": "944217c6-363f-4ddc-ae4f-dd5de8c56667",
   "metadata": {},
   "outputs": [
    {
     "data": {
      "image/png": "[encoded data removed]",
      "text/plain": [
       "plot without title"
      ]
     },
     "metadata": {
      "image/png": {
       "height": 420,
       "width": 420
      }
     },
     "output_type": "display_data"
    }
   ],
   "source": [
    "plot(d$wine_id, d$score_std)"
   ]
  },
  {
   "cell_type": "code",
   "execution_count": 42,
   "id": "148de1d8-0aa1-4c44-a853-4afabad00dba",
   "metadata": {},
   "outputs": [
    {
     "data": {
      "image/png": "[encoded data removed]",
      "text/plain": [
       "plot without title"
      ]
     },
     "metadata": {
      "image/png": {
       "height": 420,
       "width": 420
      }
     },
     "output_type": "display_data"
    }
   ],
   "source": [
    "plot(d$judge_id, d$score_std)"
   ]
  },
  {
   "cell_type": "markdown",
   "id": "f768324d-b2c8-46df-b98e-31a63b49df39",
   "metadata": {},
   "source": [
    "some judges have a large spread, some don't. some gives above average ratings (like 3, 5, 6)"
   ]
  },
  {
   "cell_type": "code",
   "execution_count": 43,
   "id": "a854d3f1-bd76-44b7-866f-93b9d2228454",
   "metadata": {},
   "outputs": [],
   "source": [
    "m_wine <- quap(\n",
    "    alist(\n",
    "        score_std ~ dnorm(mu, sigma), \n",
    "        mu <- a[wine_id] + b[judge_id],\n",
    "        a[wine_id] ~ dnorm(0, 1),\n",
    "        b[judge_id] ~ dnorm(0, 1),\n",
    "        sigma ~ exp(1)\n",
    "        ),data =d)"
   ]
  },
  {
   "cell_type": "markdown",
   "id": "cce67de2-bf7a-4fe4-9491-4afd310227ec",
   "metadata": {},
   "source": [
    "So the prior is a bit broad here. I am not familiar with R to do some groupby + descriptive statistics and I'm not going to do this here because R isn't my main language. 1 is pretty high as a standard deviation, but it's probably okay when we inspect the histogram "
   ]
  },
  {
   "cell_type": "code",
   "execution_count": 44,
   "id": "bd75f23c-12b5-47c1-b48e-39e2c54134d2",
   "metadata": {},
   "outputs": [
    {
     "data": {
      "image/png": "[encoded data removed]",
      "text/plain": [
       "Plot with title “Histogram of rnorm(10000, 0, 1)”"
      ]
     },
     "metadata": {
      "image/png": {
       "height": 420,
       "width": 420
      }
     },
     "output_type": "display_data"
    }
   ],
   "source": [
    "hist(rnorm(1e4,0,1))"
   ]
  },
  {
   "cell_type": "markdown",
   "id": "aac3dcbc-9314-4c9b-85f8-887cbf2e6524",
   "metadata": {},
   "source": [
    "here majority of the weight is concentrated between -2 and 2"
   ]
  },
  {
   "cell_type": "code",
   "execution_count": 45,
   "id": "b3643e8c-5a86-44bf-b6af-86a1a4f58156",
   "metadata": {},
   "outputs": [
    {
     "data": {
      "text/html": [
       "<table class=\"dataframe\">\n",
       "<caption>A precis: 29 × 4</caption>\n",
       "<thead>\n",
       "\t<tr><th></th><th scope=col>mean</th><th scope=col>sd</th><th scope=col>5.5%</th><th scope=col>94.5%</th></tr>\n",
       "\t<tr><th></th><th scope=col>&lt;dbl&gt;</th><th scope=col>&lt;dbl&gt;</th><th scope=col>&lt;dbl&gt;</th><th scope=col>&lt;dbl&gt;</th></tr>\n",
       "</thead>\n",
       "<tbody>\n",
       "\t<tr><th scope=row>a[1]</th><td> 0.084731556</td><td>0.6826009</td><td>-1.0061966</td><td>1.1756597</td></tr>\n",
       "\t<tr><th scope=row>a[2]</th><td> 0.061825964</td><td>0.6826009</td><td>-1.0291022</td><td>1.1527541</td></tr>\n",
       "\t<tr><th scope=row>a[3]</th><td> 0.164908291</td><td>0.6826009</td><td>-0.9260199</td><td>1.2558364</td></tr>\n",
       "\t<tr><th scope=row>a[4]</th><td> 0.336706480</td><td>0.6826009</td><td>-0.7542217</td><td>1.4276346</td></tr>\n",
       "\t<tr><th scope=row>a[5]</th><td>-0.075602362</td><td>0.6826009</td><td>-1.1665305</td><td>1.0153258</td></tr>\n",
       "\t<tr><th scope=row>a[6]</th><td>-0.224465234</td><td>0.6826009</td><td>-1.3153934</td><td>0.8664629</td></tr>\n",
       "\t<tr><th scope=row>a[7]</th><td> 0.176372688</td><td>0.6826009</td><td>-0.9145555</td><td>1.2673008</td></tr>\n",
       "\t<tr><th scope=row>a[8]</th><td> 0.164925322</td><td>0.6826009</td><td>-0.9260028</td><td>1.2558535</td></tr>\n",
       "\t<tr><th scope=row>a[9]</th><td> 0.050391358</td><td>0.6826009</td><td>-1.0405368</td><td>1.1413195</td></tr>\n",
       "\t<tr><th scope=row>a[10]</th><td> 0.073289509</td><td>0.6826009</td><td>-1.0176386</td><td>1.1642177</td></tr>\n",
       "\t<tr><th scope=row>a[11]</th><td>-0.006875232</td><td>0.6826009</td><td>-1.0978034</td><td>1.0840529</td></tr>\n",
       "\t<tr><th scope=row>a[12]</th><td>-0.018329923</td><td>0.6826009</td><td>-1.1092581</td><td>1.0725982</td></tr>\n",
       "\t<tr><th scope=row>a[13]</th><td>-0.064136675</td><td>0.6826009</td><td>-1.1550648</td><td>1.0267915</td></tr>\n",
       "\t<tr><th scope=row>a[14]</th><td> 0.004583841</td><td>0.6826009</td><td>-1.0863443</td><td>1.0955120</td></tr>\n",
       "\t<tr><th scope=row>a[15]</th><td>-0.132846477</td><td>0.6826009</td><td>-1.2237746</td><td>0.9580817</td></tr>\n",
       "\t<tr><th scope=row>a[16]</th><td>-0.121372647</td><td>0.6826009</td><td>-1.2123008</td><td>0.9695555</td></tr>\n",
       "\t<tr><th scope=row>a[17]</th><td>-0.087038498</td><td>0.6826009</td><td>-1.1779666</td><td>1.0038896</td></tr>\n",
       "\t<tr><th scope=row>a[18]</th><td>-0.522220836</td><td>0.6826009</td><td>-1.6131490</td><td>0.5687073</td></tr>\n",
       "\t<tr><th scope=row>a[19]</th><td>-0.098499866</td><td>0.6826009</td><td>-1.1894280</td><td>0.9924283</td></tr>\n",
       "\t<tr><th scope=row>a[20]</th><td> 0.233627468</td><td>0.6826009</td><td>-0.8573007</td><td>1.3245556</td></tr>\n",
       "\t<tr><th scope=row>b[1]</th><td>-0.232994585</td><td>0.5383756</td><td>-1.0934228</td><td>0.6274337</td></tr>\n",
       "\t<tr><th scope=row>b[2]</th><td> 0.178172445</td><td>0.5383756</td><td>-0.6822558</td><td>1.0386007</td></tr>\n",
       "\t<tr><th scope=row>b[3]</th><td> 0.171319220</td><td>0.5383756</td><td>-0.6891090</td><td>1.0317475</td></tr>\n",
       "\t<tr><th scope=row>b[4]</th><td>-0.452283027</td><td>0.5383756</td><td>-1.3127113</td><td>0.4081452</td></tr>\n",
       "\t<tr><th scope=row>b[5]</th><td> 0.664719000</td><td>0.5383756</td><td>-0.1957092</td><td>1.5251472</td></tr>\n",
       "\t<tr><th scope=row>b[6]</th><td> 0.397460743</td><td>0.5383756</td><td>-0.4629675</td><td>1.2578890</td></tr>\n",
       "\t<tr><th scope=row>b[7]</th><td> 0.109644269</td><td>0.5383756</td><td>-0.7507840</td><td>0.9700725</td></tr>\n",
       "\t<tr><th scope=row>b[8]</th><td>-0.548221555</td><td>0.5383756</td><td>-1.4086498</td><td>0.3122067</td></tr>\n",
       "\t<tr><th scope=row>b[9]</th><td>-0.287816061</td><td>0.5383756</td><td>-1.1482443</td><td>0.5726122</td></tr>\n",
       "</tbody>\n",
       "</table>\n"
      ],
      "text/latex": [
       "A precis: 29 × 4\n",
       "\\begin{tabular}{r|llll}\n",
       "  & mean & sd & 5.5\\% & 94.5\\%\\\\\n",
       "  & <dbl> & <dbl> & <dbl> & <dbl>\\\\\n",
       "\\hline\n",
       "\ta{[}1{]} &  0.084731556 & 0.6826009 & -1.0061966 & 1.1756597\\\\\n",
       "\ta{[}2{]} &  0.061825964 & 0.6826009 & -1.0291022 & 1.1527541\\\\\n",
       "\ta{[}3{]} &  0.164908291 & 0.6826009 & -0.9260199 & 1.2558364\\\\\n",
       "\ta{[}4{]} &  0.336706480 & 0.6826009 & -0.7542217 & 1.4276346\\\\\n",
       "\ta{[}5{]} & -0.075602362 & 0.6826009 & -1.1665305 & 1.0153258\\\\\n",
       "\ta{[}6{]} & -0.224465234 & 0.6826009 & -1.3153934 & 0.8664629\\\\\n",
       "\ta{[}7{]} &  0.176372688 & 0.6826009 & -0.9145555 & 1.2673008\\\\\n",
       "\ta{[}8{]} &  0.164925322 & 0.6826009 & -0.9260028 & 1.2558535\\\\\n",
       "\ta{[}9{]} &  0.050391358 & 0.6826009 & -1.0405368 & 1.1413195\\\\\n",
       "\ta{[}10{]} &  0.073289509 & 0.6826009 & -1.0176386 & 1.1642177\\\\\n",
       "\ta{[}11{]} & -0.006875232 & 0.6826009 & -1.0978034 & 1.0840529\\\\\n",
       "\ta{[}12{]} & -0.018329923 & 0.6826009 & -1.1092581 & 1.0725982\\\\\n",
       "\ta{[}13{]} & -0.064136675 & 0.6826009 & -1.1550648 & 1.0267915\\\\\n",
       "\ta{[}14{]} &  0.004583841 & 0.6826009 & -1.0863443 & 1.0955120\\\\\n",
       "\ta{[}15{]} & -0.132846477 & 0.6826009 & -1.2237746 & 0.9580817\\\\\n",
       "\ta{[}16{]} & -0.121372647 & 0.6826009 & -1.2123008 & 0.9695555\\\\\n",
       "\ta{[}17{]} & -0.087038498 & 0.6826009 & -1.1779666 & 1.0038896\\\\\n",
       "\ta{[}18{]} & -0.522220836 & 0.6826009 & -1.6131490 & 0.5687073\\\\\n",
       "\ta{[}19{]} & -0.098499866 & 0.6826009 & -1.1894280 & 0.9924283\\\\\n",
       "\ta{[}20{]} &  0.233627468 & 0.6826009 & -0.8573007 & 1.3245556\\\\\n",
       "\tb{[}1{]} & -0.232994585 & 0.5383756 & -1.0934228 & 0.6274337\\\\\n",
       "\tb{[}2{]} &  0.178172445 & 0.5383756 & -0.6822558 & 1.0386007\\\\\n",
       "\tb{[}3{]} &  0.171319220 & 0.5383756 & -0.6891090 & 1.0317475\\\\\n",
       "\tb{[}4{]} & -0.452283027 & 0.5383756 & -1.3127113 & 0.4081452\\\\\n",
       "\tb{[}5{]} &  0.664719000 & 0.5383756 & -0.1957092 & 1.5251472\\\\\n",
       "\tb{[}6{]} &  0.397460743 & 0.5383756 & -0.4629675 & 1.2578890\\\\\n",
       "\tb{[}7{]} &  0.109644269 & 0.5383756 & -0.7507840 & 0.9700725\\\\\n",
       "\tb{[}8{]} & -0.548221555 & 0.5383756 & -1.4086498 & 0.3122067\\\\\n",
       "\tb{[}9{]} & -0.287816061 & 0.5383756 & -1.1482443 & 0.5726122\\\\\n",
       "\\end{tabular}\n"
      ],
      "text/markdown": [
       "\n",
       "A precis: 29 × 4\n",
       "\n",
       "| <!--/--> | mean &lt;dbl&gt; | sd &lt;dbl&gt; | 5.5% &lt;dbl&gt; | 94.5% &lt;dbl&gt; |\n",
       "|---|---|---|---|---|\n",
       "| a[1] |  0.084731556 | 0.6826009 | -1.0061966 | 1.1756597 |\n",
       "| a[2] |  0.061825964 | 0.6826009 | -1.0291022 | 1.1527541 |\n",
       "| a[3] |  0.164908291 | 0.6826009 | -0.9260199 | 1.2558364 |\n",
       "| a[4] |  0.336706480 | 0.6826009 | -0.7542217 | 1.4276346 |\n",
       "| a[5] | -0.075602362 | 0.6826009 | -1.1665305 | 1.0153258 |\n",
       "| a[6] | -0.224465234 | 0.6826009 | -1.3153934 | 0.8664629 |\n",
       "| a[7] |  0.176372688 | 0.6826009 | -0.9145555 | 1.2673008 |\n",
       "| a[8] |  0.164925322 | 0.6826009 | -0.9260028 | 1.2558535 |\n",
       "| a[9] |  0.050391358 | 0.6826009 | -1.0405368 | 1.1413195 |\n",
       "| a[10] |  0.073289509 | 0.6826009 | -1.0176386 | 1.1642177 |\n",
       "| a[11] | -0.006875232 | 0.6826009 | -1.0978034 | 1.0840529 |\n",
       "| a[12] | -0.018329923 | 0.6826009 | -1.1092581 | 1.0725982 |\n",
       "| a[13] | -0.064136675 | 0.6826009 | -1.1550648 | 1.0267915 |\n",
       "| a[14] |  0.004583841 | 0.6826009 | -1.0863443 | 1.0955120 |\n",
       "| a[15] | -0.132846477 | 0.6826009 | -1.2237746 | 0.9580817 |\n",
       "| a[16] | -0.121372647 | 0.6826009 | -1.2123008 | 0.9695555 |\n",
       "| a[17] | -0.087038498 | 0.6826009 | -1.1779666 | 1.0038896 |\n",
       "| a[18] | -0.522220836 | 0.6826009 | -1.6131490 | 0.5687073 |\n",
       "| a[19] | -0.098499866 | 0.6826009 | -1.1894280 | 0.9924283 |\n",
       "| a[20] |  0.233627468 | 0.6826009 | -0.8573007 | 1.3245556 |\n",
       "| b[1] | -0.232994585 | 0.5383756 | -1.0934228 | 0.6274337 |\n",
       "| b[2] |  0.178172445 | 0.5383756 | -0.6822558 | 1.0386007 |\n",
       "| b[3] |  0.171319220 | 0.5383756 | -0.6891090 | 1.0317475 |\n",
       "| b[4] | -0.452283027 | 0.5383756 | -1.3127113 | 0.4081452 |\n",
       "| b[5] |  0.664719000 | 0.5383756 | -0.1957092 | 1.5251472 |\n",
       "| b[6] |  0.397460743 | 0.5383756 | -0.4629675 | 1.2578890 |\n",
       "| b[7] |  0.109644269 | 0.5383756 | -0.7507840 | 0.9700725 |\n",
       "| b[8] | -0.548221555 | 0.5383756 | -1.4086498 | 0.3122067 |\n",
       "| b[9] | -0.287816061 | 0.5383756 | -1.1482443 | 0.5726122 |\n",
       "\n"
      ],
      "text/plain": [
       "      mean         sd        5.5%       94.5%    \n",
       "a[1]   0.084731556 0.6826009 -1.0061966 1.1756597\n",
       "a[2]   0.061825964 0.6826009 -1.0291022 1.1527541\n",
       "a[3]   0.164908291 0.6826009 -0.9260199 1.2558364\n",
       "a[4]   0.336706480 0.6826009 -0.7542217 1.4276346\n",
       "a[5]  -0.075602362 0.6826009 -1.1665305 1.0153258\n",
       "a[6]  -0.224465234 0.6826009 -1.3153934 0.8664629\n",
       "a[7]   0.176372688 0.6826009 -0.9145555 1.2673008\n",
       "a[8]   0.164925322 0.6826009 -0.9260028 1.2558535\n",
       "a[9]   0.050391358 0.6826009 -1.0405368 1.1413195\n",
       "a[10]  0.073289509 0.6826009 -1.0176386 1.1642177\n",
       "a[11] -0.006875232 0.6826009 -1.0978034 1.0840529\n",
       "a[12] -0.018329923 0.6826009 -1.1092581 1.0725982\n",
       "a[13] -0.064136675 0.6826009 -1.1550648 1.0267915\n",
       "a[14]  0.004583841 0.6826009 -1.0863443 1.0955120\n",
       "a[15] -0.132846477 0.6826009 -1.2237746 0.9580817\n",
       "a[16] -0.121372647 0.6826009 -1.2123008 0.9695555\n",
       "a[17] -0.087038498 0.6826009 -1.1779666 1.0038896\n",
       "a[18] -0.522220836 0.6826009 -1.6131490 0.5687073\n",
       "a[19] -0.098499866 0.6826009 -1.1894280 0.9924283\n",
       "a[20]  0.233627468 0.6826009 -0.8573007 1.3245556\n",
       "b[1]  -0.232994585 0.5383756 -1.0934228 0.6274337\n",
       "b[2]   0.178172445 0.5383756 -0.6822558 1.0386007\n",
       "b[3]   0.171319220 0.5383756 -0.6891090 1.0317475\n",
       "b[4]  -0.452283027 0.5383756 -1.3127113 0.4081452\n",
       "b[5]   0.664719000 0.5383756 -0.1957092 1.5251472\n",
       "b[6]   0.397460743 0.5383756 -0.4629675 1.2578890\n",
       "b[7]   0.109644269 0.5383756 -0.7507840 0.9700725\n",
       "b[8]  -0.548221555 0.5383756 -1.4086498 0.3122067\n",
       "b[9]  -0.287816061 0.5383756 -1.1482443 0.5726122"
      ]
     },
     "metadata": {},
     "output_type": "display_data"
    }
   ],
   "source": [
    "precis(m_wine, depth=2)"
   ]
  },
  {
   "cell_type": "markdown",
   "id": "b47febb7-4b8b-40ab-a8ae-42e4ff04c4da",
   "metadata": {},
   "source": [
    "best wine seems to be 20, worst wine seems to be 18"
   ]
  },
  {
   "cell_type": "code",
   "execution_count": 46,
   "id": "0154a151-f45f-428b-a9cb-8d38c150cd89",
   "metadata": {},
   "outputs": [
    {
     "data": {
      "text/html": [
       "<table class=\"dataframe\">\n",
       "<caption>A data.frame: 9 × 9</caption>\n",
       "<thead>\n",
       "\t<tr><th></th><th scope=col>judge</th><th scope=col>flight</th><th scope=col>wine</th><th scope=col>score</th><th scope=col>wine.amer</th><th scope=col>judge.amer</th><th scope=col>score_std</th><th scope=col>judge_id</th><th scope=col>wine_id</th></tr>\n",
       "\t<tr><th></th><th scope=col>&lt;fct&gt;</th><th scope=col>&lt;fct&gt;</th><th scope=col>&lt;fct&gt;</th><th scope=col>&lt;dbl&gt;</th><th scope=col>&lt;int&gt;</th><th scope=col>&lt;int&gt;</th><th scope=col>&lt;dbl&gt;</th><th scope=col>&lt;int&gt;</th><th scope=col>&lt;int&gt;</th></tr>\n",
       "</thead>\n",
       "<tbody>\n",
       "\t<tr><th scope=row>100</th><td>Jean-M Cardebat</td><td>red</td><td>J2</td><td>14.5</td><td>0</td><td>0</td><td> 0.1126146</td><td>4</td><td>20</td></tr>\n",
       "\t<tr><th scope=row>110</th><td>Tyler Colman   </td><td>red</td><td>J2</td><td>11.0</td><td>0</td><td>1</td><td>-1.2012222</td><td>9</td><td>20</td></tr>\n",
       "\t<tr><th scope=row>120</th><td>John Foy       </td><td>red</td><td>J2</td><td>17.5</td><td>0</td><td>1</td><td> 1.2387604</td><td>5</td><td>20</td></tr>\n",
       "\t<tr><th scope=row>130</th><td>Olivier Gergaud</td><td>red</td><td>J2</td><td>18.0</td><td>0</td><td>0</td><td> 1.4264513</td><td>7</td><td>20</td></tr>\n",
       "\t<tr><th scope=row>140</th><td>Robert Hodgson </td><td>red</td><td>J2</td><td>11.0</td><td>0</td><td>1</td><td>-1.2012222</td><td>8</td><td>20</td></tr>\n",
       "\t<tr><th scope=row>150</th><td>Linda Murphy   </td><td>red</td><td>J2</td><td>18.0</td><td>0</td><td>1</td><td> 1.4264513</td><td>6</td><td>20</td></tr>\n",
       "\t<tr><th scope=row>160</th><td>Daniele Meulder</td><td>red</td><td>J2</td><td>15.0</td><td>0</td><td>0</td><td> 0.3003055</td><td>1</td><td>20</td></tr>\n",
       "\t<tr><th scope=row>170</th><td>Jamal Rayyis   </td><td>red</td><td>J2</td><td>16.0</td><td>0</td><td>0</td><td> 0.6756875</td><td>3</td><td>20</td></tr>\n",
       "\t<tr><th scope=row>180</th><td>Francis Schott </td><td>red</td><td>J2</td><td>17.0</td><td>0</td><td>1</td><td> 1.0510694</td><td>2</td><td>20</td></tr>\n",
       "</tbody>\n",
       "</table>\n"
      ],
      "text/latex": [
       "A data.frame: 9 × 9\n",
       "\\begin{tabular}{r|lllllllll}\n",
       "  & judge & flight & wine & score & wine.amer & judge.amer & score\\_std & judge\\_id & wine\\_id\\\\\n",
       "  & <fct> & <fct> & <fct> & <dbl> & <int> & <int> & <dbl> & <int> & <int>\\\\\n",
       "\\hline\n",
       "\t100 & Jean-M Cardebat & red & J2 & 14.5 & 0 & 0 &  0.1126146 & 4 & 20\\\\\n",
       "\t110 & Tyler Colman    & red & J2 & 11.0 & 0 & 1 & -1.2012222 & 9 & 20\\\\\n",
       "\t120 & John Foy        & red & J2 & 17.5 & 0 & 1 &  1.2387604 & 5 & 20\\\\\n",
       "\t130 & Olivier Gergaud & red & J2 & 18.0 & 0 & 0 &  1.4264513 & 7 & 20\\\\\n",
       "\t140 & Robert Hodgson  & red & J2 & 11.0 & 0 & 1 & -1.2012222 & 8 & 20\\\\\n",
       "\t150 & Linda Murphy    & red & J2 & 18.0 & 0 & 1 &  1.4264513 & 6 & 20\\\\\n",
       "\t160 & Daniele Meulder & red & J2 & 15.0 & 0 & 0 &  0.3003055 & 1 & 20\\\\\n",
       "\t170 & Jamal Rayyis    & red & J2 & 16.0 & 0 & 0 &  0.6756875 & 3 & 20\\\\\n",
       "\t180 & Francis Schott  & red & J2 & 17.0 & 0 & 1 &  1.0510694 & 2 & 20\\\\\n",
       "\\end{tabular}\n"
      ],
      "text/markdown": [
       "\n",
       "A data.frame: 9 × 9\n",
       "\n",
       "| <!--/--> | judge &lt;fct&gt; | flight &lt;fct&gt; | wine &lt;fct&gt; | score &lt;dbl&gt; | wine.amer &lt;int&gt; | judge.amer &lt;int&gt; | score_std &lt;dbl&gt; | judge_id &lt;int&gt; | wine_id &lt;int&gt; |\n",
       "|---|---|---|---|---|---|---|---|---|---|\n",
       "| 100 | Jean-M Cardebat | red | J2 | 14.5 | 0 | 0 |  0.1126146 | 4 | 20 |\n",
       "| 110 | Tyler Colman    | red | J2 | 11.0 | 0 | 1 | -1.2012222 | 9 | 20 |\n",
       "| 120 | John Foy        | red | J2 | 17.5 | 0 | 1 |  1.2387604 | 5 | 20 |\n",
       "| 130 | Olivier Gergaud | red | J2 | 18.0 | 0 | 0 |  1.4264513 | 7 | 20 |\n",
       "| 140 | Robert Hodgson  | red | J2 | 11.0 | 0 | 1 | -1.2012222 | 8 | 20 |\n",
       "| 150 | Linda Murphy    | red | J2 | 18.0 | 0 | 1 |  1.4264513 | 6 | 20 |\n",
       "| 160 | Daniele Meulder | red | J2 | 15.0 | 0 | 0 |  0.3003055 | 1 | 20 |\n",
       "| 170 | Jamal Rayyis    | red | J2 | 16.0 | 0 | 0 |  0.6756875 | 3 | 20 |\n",
       "| 180 | Francis Schott  | red | J2 | 17.0 | 0 | 1 |  1.0510694 | 2 | 20 |\n",
       "\n"
      ],
      "text/plain": [
       "    judge           flight wine score wine.amer judge.amer score_std  judge_id\n",
       "100 Jean-M Cardebat red    J2   14.5  0         0           0.1126146 4       \n",
       "110 Tyler Colman    red    J2   11.0  0         1          -1.2012222 9       \n",
       "120 John Foy        red    J2   17.5  0         1           1.2387604 5       \n",
       "130 Olivier Gergaud red    J2   18.0  0         0           1.4264513 7       \n",
       "140 Robert Hodgson  red    J2   11.0  0         1          -1.2012222 8       \n",
       "150 Linda Murphy    red    J2   18.0  0         1           1.4264513 6       \n",
       "160 Daniele Meulder red    J2   15.0  0         0           0.3003055 1       \n",
       "170 Jamal Rayyis    red    J2   16.0  0         0           0.6756875 3       \n",
       "180 Francis Schott  red    J2   17.0  0         1           1.0510694 2       \n",
       "    wine_id\n",
       "100 20     \n",
       "110 20     \n",
       "120 20     \n",
       "130 20     \n",
       "140 20     \n",
       "150 20     \n",
       "160 20     \n",
       "170 20     \n",
       "180 20     "
      ]
     },
     "metadata": {},
     "output_type": "display_data"
    }
   ],
   "source": [
    "d[d$wine_id==20,]"
   ]
  },
  {
   "cell_type": "code",
   "execution_count": 47,
   "id": "8d527a88-6f49-4a3e-b0b0-df6ed0bf2722",
   "metadata": {},
   "outputs": [
    {
     "data": {
      "text/html": [
       "<table class=\"dataframe\">\n",
       "<caption>A data.frame: 9 × 9</caption>\n",
       "<thead>\n",
       "\t<tr><th></th><th scope=col>judge</th><th scope=col>flight</th><th scope=col>wine</th><th scope=col>score</th><th scope=col>wine.amer</th><th scope=col>judge.amer</th><th scope=col>score_std</th><th scope=col>judge_id</th><th scope=col>wine_id</th></tr>\n",
       "\t<tr><th></th><th scope=col>&lt;fct&gt;</th><th scope=col>&lt;fct&gt;</th><th scope=col>&lt;fct&gt;</th><th scope=col>&lt;dbl&gt;</th><th scope=col>&lt;int&gt;</th><th scope=col>&lt;int&gt;</th><th scope=col>&lt;dbl&gt;</th><th scope=col>&lt;int&gt;</th><th scope=col>&lt;int&gt;</th></tr>\n",
       "</thead>\n",
       "<tbody>\n",
       "\t<tr><th scope=row>99</th><td>Jean-M Cardebat</td><td>red</td><td>I2</td><td>10</td><td>1</td><td>0</td><td>-1.5766041</td><td>4</td><td>18</td></tr>\n",
       "\t<tr><th scope=row>109</th><td>Tyler Colman   </td><td>red</td><td>I2</td><td>13</td><td>1</td><td>1</td><td>-0.4504583</td><td>9</td><td>18</td></tr>\n",
       "\t<tr><th scope=row>119</th><td>John Foy       </td><td>red</td><td>I2</td><td>17</td><td>1</td><td>1</td><td> 1.0510694</td><td>5</td><td>18</td></tr>\n",
       "\t<tr><th scope=row>129</th><td>Olivier Gergaud</td><td>red</td><td>I2</td><td>11</td><td>1</td><td>0</td><td>-1.2012222</td><td>7</td><td>18</td></tr>\n",
       "\t<tr><th scope=row>139</th><td>Robert Hodgson </td><td>red</td><td>I2</td><td> 8</td><td>1</td><td>1</td><td>-2.3273680</td><td>8</td><td>18</td></tr>\n",
       "\t<tr><th scope=row>149</th><td>Linda Murphy   </td><td>red</td><td>I2</td><td>13</td><td>1</td><td>1</td><td>-0.4504583</td><td>6</td><td>18</td></tr>\n",
       "\t<tr><th scope=row>159</th><td>Daniele Meulder</td><td>red</td><td>I2</td><td>10</td><td>1</td><td>0</td><td>-1.5766041</td><td>1</td><td>18</td></tr>\n",
       "\t<tr><th scope=row>169</th><td>Jamal Rayyis   </td><td>red</td><td>I2</td><td>16</td><td>1</td><td>0</td><td> 0.6756875</td><td>3</td><td>18</td></tr>\n",
       "\t<tr><th scope=row>179</th><td>Francis Schott </td><td>red</td><td>I2</td><td> 7</td><td>1</td><td>1</td><td>-2.7027499</td><td>2</td><td>18</td></tr>\n",
       "</tbody>\n",
       "</table>\n"
      ],
      "text/latex": [
       "A data.frame: 9 × 9\n",
       "\\begin{tabular}{r|lllllllll}\n",
       "  & judge & flight & wine & score & wine.amer & judge.amer & score\\_std & judge\\_id & wine\\_id\\\\\n",
       "  & <fct> & <fct> & <fct> & <dbl> & <int> & <int> & <dbl> & <int> & <int>\\\\\n",
       "\\hline\n",
       "\t99 & Jean-M Cardebat & red & I2 & 10 & 1 & 0 & -1.5766041 & 4 & 18\\\\\n",
       "\t109 & Tyler Colman    & red & I2 & 13 & 1 & 1 & -0.4504583 & 9 & 18\\\\\n",
       "\t119 & John Foy        & red & I2 & 17 & 1 & 1 &  1.0510694 & 5 & 18\\\\\n",
       "\t129 & Olivier Gergaud & red & I2 & 11 & 1 & 0 & -1.2012222 & 7 & 18\\\\\n",
       "\t139 & Robert Hodgson  & red & I2 &  8 & 1 & 1 & -2.3273680 & 8 & 18\\\\\n",
       "\t149 & Linda Murphy    & red & I2 & 13 & 1 & 1 & -0.4504583 & 6 & 18\\\\\n",
       "\t159 & Daniele Meulder & red & I2 & 10 & 1 & 0 & -1.5766041 & 1 & 18\\\\\n",
       "\t169 & Jamal Rayyis    & red & I2 & 16 & 1 & 0 &  0.6756875 & 3 & 18\\\\\n",
       "\t179 & Francis Schott  & red & I2 &  7 & 1 & 1 & -2.7027499 & 2 & 18\\\\\n",
       "\\end{tabular}\n"
      ],
      "text/markdown": [
       "\n",
       "A data.frame: 9 × 9\n",
       "\n",
       "| <!--/--> | judge &lt;fct&gt; | flight &lt;fct&gt; | wine &lt;fct&gt; | score &lt;dbl&gt; | wine.amer &lt;int&gt; | judge.amer &lt;int&gt; | score_std &lt;dbl&gt; | judge_id &lt;int&gt; | wine_id &lt;int&gt; |\n",
       "|---|---|---|---|---|---|---|---|---|---|\n",
       "| 99 | Jean-M Cardebat | red | I2 | 10 | 1 | 0 | -1.5766041 | 4 | 18 |\n",
       "| 109 | Tyler Colman    | red | I2 | 13 | 1 | 1 | -0.4504583 | 9 | 18 |\n",
       "| 119 | John Foy        | red | I2 | 17 | 1 | 1 |  1.0510694 | 5 | 18 |\n",
       "| 129 | Olivier Gergaud | red | I2 | 11 | 1 | 0 | -1.2012222 | 7 | 18 |\n",
       "| 139 | Robert Hodgson  | red | I2 |  8 | 1 | 1 | -2.3273680 | 8 | 18 |\n",
       "| 149 | Linda Murphy    | red | I2 | 13 | 1 | 1 | -0.4504583 | 6 | 18 |\n",
       "| 159 | Daniele Meulder | red | I2 | 10 | 1 | 0 | -1.5766041 | 1 | 18 |\n",
       "| 169 | Jamal Rayyis    | red | I2 | 16 | 1 | 0 |  0.6756875 | 3 | 18 |\n",
       "| 179 | Francis Schott  | red | I2 |  7 | 1 | 1 | -2.7027499 | 2 | 18 |\n",
       "\n"
      ],
      "text/plain": [
       "    judge           flight wine score wine.amer judge.amer score_std  judge_id\n",
       "99  Jean-M Cardebat red    I2   10    1         0          -1.5766041 4       \n",
       "109 Tyler Colman    red    I2   13    1         1          -0.4504583 9       \n",
       "119 John Foy        red    I2   17    1         1           1.0510694 5       \n",
       "129 Olivier Gergaud red    I2   11    1         0          -1.2012222 7       \n",
       "139 Robert Hodgson  red    I2    8    1         1          -2.3273680 8       \n",
       "149 Linda Murphy    red    I2   13    1         1          -0.4504583 6       \n",
       "159 Daniele Meulder red    I2   10    1         0          -1.5766041 1       \n",
       "169 Jamal Rayyis    red    I2   16    1         0           0.6756875 3       \n",
       "179 Francis Schott  red    I2    7    1         1          -2.7027499 2       \n",
       "    wine_id\n",
       "99  18     \n",
       "109 18     \n",
       "119 18     \n",
       "129 18     \n",
       "139 18     \n",
       "149 18     \n",
       "159 18     \n",
       "169 18     \n",
       "179 18     "
      ]
     },
     "metadata": {},
     "output_type": "display_data"
    }
   ],
   "source": [
    "d[d$wine_id==18,]"
   ]
  },
  {
   "cell_type": "markdown",
   "id": "57e37b2e-7322-46d6-babb-4c2642a0a913",
   "metadata": {},
   "source": [
    "judge 5 gives highest ratings, judge 8 gives the lowest, this makes sense from the plot"
   ]
  },
  {
   "cell_type": "code",
   "execution_count": 48,
   "id": "ac5eeb8b-8df2-4858-a51a-711d3b443cfe",
   "metadata": {},
   "outputs": [
    {
     "data": {
      "image/png": "[encoded data removed]",
      "text/plain": [
       "plot without title"
      ]
     },
     "metadata": {
      "image/png": {
       "height": 420,
       "width": 420
      }
     },
     "output_type": "display_data"
    }
   ],
   "source": [
    "plot(d$judge_id, d$score_std)"
   ]
  },
  {
   "cell_type": "markdown",
   "id": "6854d00d-830d-4877-8529-ebc2566a3dcc",
   "metadata": {},
   "source": [
    "### 8H6.\n",
    "\n",
    "Now consider three features of the wines and judges:\n",
    "\n",
    "(1) flight: Whether the wine is red or white.\n",
    "\n",
    "(2) wine.amer: Indicator variable for American wines.\n",
    "\n",
    "(3) judge.amer: Indicator variable for American judges.\n",
    "\n",
    "Use indicator or index variables to model the influence of these features on the scores. Omit the\n",
    "individual judge and wine index variables from Problem 1. Do not include interaction effects yet.\n",
    "Again justify your priors. What do you conclude about the differences among the wines and judges?\n",
    "Try to relate the results to the inferences in the previous problem."
   ]
  },
  {
   "cell_type": "code",
   "execution_count": 51,
   "id": "9643e5f1-e82c-4474-a129-b5fe6a888a5b",
   "metadata": {},
   "outputs": [],
   "source": [
    "d$flight_id <- as.integer(d$flight)"
   ]
  },
  {
   "cell_type": "code",
   "execution_count": 56,
   "id": "a6b4dc94-aef9-49f0-9af4-4f9cdf1dfaa7",
   "metadata": {},
   "outputs": [
    {
     "data": {
      "text/html": [
       "<table class=\"dataframe\">\n",
       "<caption>A data.frame: 6 × 10</caption>\n",
       "<thead>\n",
       "\t<tr><th></th><th scope=col>judge</th><th scope=col>flight</th><th scope=col>wine</th><th scope=col>score</th><th scope=col>wine.amer</th><th scope=col>judge.amer</th><th scope=col>score_std</th><th scope=col>judge_id</th><th scope=col>wine_id</th><th scope=col>flight_id</th></tr>\n",
       "\t<tr><th></th><th scope=col>&lt;fct&gt;</th><th scope=col>&lt;fct&gt;</th><th scope=col>&lt;fct&gt;</th><th scope=col>&lt;dbl&gt;</th><th scope=col>&lt;int&gt;</th><th scope=col>&lt;int&gt;</th><th scope=col>&lt;dbl&gt;</th><th scope=col>&lt;int&gt;</th><th scope=col>&lt;int&gt;</th><th scope=col>&lt;int&gt;</th></tr>\n",
       "</thead>\n",
       "<tbody>\n",
       "\t<tr><th scope=row>1</th><td>Jean-M Cardebat</td><td>white</td><td>A1</td><td>10</td><td>1</td><td>0</td><td>-1.57660412</td><td>4</td><td> 1</td><td>2</td></tr>\n",
       "\t<tr><th scope=row>2</th><td>Jean-M Cardebat</td><td>white</td><td>B1</td><td>13</td><td>1</td><td>0</td><td>-0.45045832</td><td>4</td><td> 3</td><td>2</td></tr>\n",
       "\t<tr><th scope=row>3</th><td>Jean-M Cardebat</td><td>white</td><td>C1</td><td>14</td><td>0</td><td>0</td><td>-0.07507639</td><td>4</td><td> 5</td><td>2</td></tr>\n",
       "\t<tr><th scope=row>4</th><td>Jean-M Cardebat</td><td>white</td><td>D1</td><td>15</td><td>0</td><td>0</td><td> 0.30030555</td><td>4</td><td> 7</td><td>2</td></tr>\n",
       "\t<tr><th scope=row>5</th><td>Jean-M Cardebat</td><td>white</td><td>E1</td><td> 8</td><td>1</td><td>0</td><td>-2.32736799</td><td>4</td><td> 9</td><td>2</td></tr>\n",
       "\t<tr><th scope=row>6</th><td>Jean-M Cardebat</td><td>white</td><td>F1</td><td>13</td><td>1</td><td>0</td><td>-0.45045832</td><td>4</td><td>11</td><td>2</td></tr>\n",
       "</tbody>\n",
       "</table>\n"
      ],
      "text/latex": [
       "A data.frame: 6 × 10\n",
       "\\begin{tabular}{r|llllllllll}\n",
       "  & judge & flight & wine & score & wine.amer & judge.amer & score\\_std & judge\\_id & wine\\_id & flight\\_id\\\\\n",
       "  & <fct> & <fct> & <fct> & <dbl> & <int> & <int> & <dbl> & <int> & <int> & <int>\\\\\n",
       "\\hline\n",
       "\t1 & Jean-M Cardebat & white & A1 & 10 & 1 & 0 & -1.57660412 & 4 &  1 & 2\\\\\n",
       "\t2 & Jean-M Cardebat & white & B1 & 13 & 1 & 0 & -0.45045832 & 4 &  3 & 2\\\\\n",
       "\t3 & Jean-M Cardebat & white & C1 & 14 & 0 & 0 & -0.07507639 & 4 &  5 & 2\\\\\n",
       "\t4 & Jean-M Cardebat & white & D1 & 15 & 0 & 0 &  0.30030555 & 4 &  7 & 2\\\\\n",
       "\t5 & Jean-M Cardebat & white & E1 &  8 & 1 & 0 & -2.32736799 & 4 &  9 & 2\\\\\n",
       "\t6 & Jean-M Cardebat & white & F1 & 13 & 1 & 0 & -0.45045832 & 4 & 11 & 2\\\\\n",
       "\\end{tabular}\n"
      ],
      "text/markdown": [
       "\n",
       "A data.frame: 6 × 10\n",
       "\n",
       "| <!--/--> | judge &lt;fct&gt; | flight &lt;fct&gt; | wine &lt;fct&gt; | score &lt;dbl&gt; | wine.amer &lt;int&gt; | judge.amer &lt;int&gt; | score_std &lt;dbl&gt; | judge_id &lt;int&gt; | wine_id &lt;int&gt; | flight_id &lt;int&gt; |\n",
       "|---|---|---|---|---|---|---|---|---|---|---|\n",
       "| 1 | Jean-M Cardebat | white | A1 | 10 | 1 | 0 | -1.57660412 | 4 |  1 | 2 |\n",
       "| 2 | Jean-M Cardebat | white | B1 | 13 | 1 | 0 | -0.45045832 | 4 |  3 | 2 |\n",
       "| 3 | Jean-M Cardebat | white | C1 | 14 | 0 | 0 | -0.07507639 | 4 |  5 | 2 |\n",
       "| 4 | Jean-M Cardebat | white | D1 | 15 | 0 | 0 |  0.30030555 | 4 |  7 | 2 |\n",
       "| 5 | Jean-M Cardebat | white | E1 |  8 | 1 | 0 | -2.32736799 | 4 |  9 | 2 |\n",
       "| 6 | Jean-M Cardebat | white | F1 | 13 | 1 | 0 | -0.45045832 | 4 | 11 | 2 |\n",
       "\n"
      ],
      "text/plain": [
       "  judge           flight wine score wine.amer judge.amer score_std   judge_id\n",
       "1 Jean-M Cardebat white  A1   10    1         0          -1.57660412 4       \n",
       "2 Jean-M Cardebat white  B1   13    1         0          -0.45045832 4       \n",
       "3 Jean-M Cardebat white  C1   14    0         0          -0.07507639 4       \n",
       "4 Jean-M Cardebat white  D1   15    0         0           0.30030555 4       \n",
       "5 Jean-M Cardebat white  E1    8    1         0          -2.32736799 4       \n",
       "6 Jean-M Cardebat white  F1   13    1         0          -0.45045832 4       \n",
       "  wine_id flight_id\n",
       "1  1      2        \n",
       "2  3      2        \n",
       "3  5      2        \n",
       "4  7      2        \n",
       "5  9      2        \n",
       "6 11      2        "
      ]
     },
     "metadata": {},
     "output_type": "display_data"
    }
   ],
   "source": [
    "head(d)"
   ]
  },
  {
   "cell_type": "code",
   "execution_count": 68,
   "id": "f47ea926-d819-4048-8cb6-173fa1e1057f",
   "metadata": {},
   "outputs": [
    {
     "data": {
      "text/html": [
       "<style>\n",
       ".list-inline {list-style: none; margin:0; padding: 0}\n",
       ".list-inline>li {display: inline-block}\n",
       ".list-inline>li:not(:last-child)::after {content: \"\\00b7\"; padding: 0 .5ex}\n",
       "</style>\n",
       "<ol class=list-inline><li>2</li><li>2</li><li>2</li><li>2</li><li>2</li><li>2</li><li>2</li><li>2</li><li>2</li><li>2</li><li>2</li><li>2</li><li>2</li><li>2</li><li>2</li><li>2</li><li>2</li><li>2</li><li>2</li><li>2</li><li>2</li><li>2</li><li>2</li><li>2</li><li>2</li><li>2</li><li>2</li><li>2</li><li>2</li><li>2</li><li>2</li><li>2</li><li>2</li><li>2</li><li>2</li><li>2</li><li>2</li><li>2</li><li>2</li><li>2</li><li>2</li><li>2</li><li>2</li><li>2</li><li>2</li><li>2</li><li>2</li><li>2</li><li>2</li><li>2</li><li>2</li><li>2</li><li>2</li><li>2</li><li>2</li><li>2</li><li>2</li><li>2</li><li>2</li><li>2</li><li>2</li><li>2</li><li>2</li><li>2</li><li>2</li><li>2</li><li>2</li><li>2</li><li>2</li><li>2</li><li>2</li><li>2</li><li>2</li><li>2</li><li>2</li><li>2</li><li>2</li><li>2</li><li>2</li><li>2</li><li>2</li><li>2</li><li>2</li><li>2</li><li>2</li><li>2</li><li>2</li><li>2</li><li>2</li><li>2</li><li>1</li><li>1</li><li>1</li><li>1</li><li>1</li><li>1</li><li>1</li><li>1</li><li>1</li><li>1</li><li>1</li><li>1</li><li>1</li><li>1</li><li>1</li><li>1</li><li>1</li><li>1</li><li>1</li><li>1</li><li>1</li><li>1</li><li>1</li><li>1</li><li>1</li><li>1</li><li>1</li><li>1</li><li>1</li><li>1</li><li>1</li><li>1</li><li>1</li><li>1</li><li>1</li><li>1</li><li>1</li><li>1</li><li>1</li><li>1</li><li>1</li><li>1</li><li>1</li><li>1</li><li>1</li><li>1</li><li>1</li><li>1</li><li>1</li><li>1</li><li>1</li><li>1</li><li>1</li><li>1</li><li>1</li><li>1</li><li>1</li><li>1</li><li>1</li><li>1</li><li>1</li><li>1</li><li>1</li><li>1</li><li>1</li><li>1</li><li>1</li><li>1</li><li>1</li><li>1</li><li>1</li><li>1</li><li>1</li><li>1</li><li>1</li><li>1</li><li>1</li><li>1</li><li>1</li><li>1</li><li>1</li><li>1</li><li>1</li><li>1</li><li>1</li><li>1</li><li>1</li><li>1</li><li>1</li><li>1</li></ol>\n"
      ],
      "text/latex": [
       "\\begin{enumerate*}\n",
       "\\item 2\n",
       "\\item 2\n",
       "\\item 2\n",
       "\\item 2\n",
       "\\item 2\n",
       "\\item 2\n",
       "\\item 2\n",
       "\\item 2\n",
       "\\item 2\n",
       "\\item 2\n",
       "\\item 2\n",
       "\\item 2\n",
       "\\item 2\n",
       "\\item 2\n",
       "\\item 2\n",
       "\\item 2\n",
       "\\item 2\n",
       "\\item 2\n",
       "\\item 2\n",
       "\\item 2\n",
       "\\item 2\n",
       "\\item 2\n",
       "\\item 2\n",
       "\\item 2\n",
       "\\item 2\n",
       "\\item 2\n",
       "\\item 2\n",
       "\\item 2\n",
       "\\item 2\n",
       "\\item 2\n",
       "\\item 2\n",
       "\\item 2\n",
       "\\item 2\n",
       "\\item 2\n",
       "\\item 2\n",
       "\\item 2\n",
       "\\item 2\n",
       "\\item 2\n",
       "\\item 2\n",
       "\\item 2\n",
       "\\item 2\n",
       "\\item 2\n",
       "\\item 2\n",
       "\\item 2\n",
       "\\item 2\n",
       "\\item 2\n",
       "\\item 2\n",
       "\\item 2\n",
       "\\item 2\n",
       "\\item 2\n",
       "\\item 2\n",
       "\\item 2\n",
       "\\item 2\n",
       "\\item 2\n",
       "\\item 2\n",
       "\\item 2\n",
       "\\item 2\n",
       "\\item 2\n",
       "\\item 2\n",
       "\\item 2\n",
       "\\item 2\n",
       "\\item 2\n",
       "\\item 2\n",
       "\\item 2\n",
       "\\item 2\n",
       "\\item 2\n",
       "\\item 2\n",
       "\\item 2\n",
       "\\item 2\n",
       "\\item 2\n",
       "\\item 2\n",
       "\\item 2\n",
       "\\item 2\n",
       "\\item 2\n",
       "\\item 2\n",
       "\\item 2\n",
       "\\item 2\n",
       "\\item 2\n",
       "\\item 2\n",
       "\\item 2\n",
       "\\item 2\n",
       "\\item 2\n",
       "\\item 2\n",
       "\\item 2\n",
       "\\item 2\n",
       "\\item 2\n",
       "\\item 2\n",
       "\\item 2\n",
       "\\item 2\n",
       "\\item 2\n",
       "\\item 1\n",
       "\\item 1\n",
       "\\item 1\n",
       "\\item 1\n",
       "\\item 1\n",
       "\\item 1\n",
       "\\item 1\n",
       "\\item 1\n",
       "\\item 1\n",
       "\\item 1\n",
       "\\item 1\n",
       "\\item 1\n",
       "\\item 1\n",
       "\\item 1\n",
       "\\item 1\n",
       "\\item 1\n",
       "\\item 1\n",
       "\\item 1\n",
       "\\item 1\n",
       "\\item 1\n",
       "\\item 1\n",
       "\\item 1\n",
       "\\item 1\n",
       "\\item 1\n",
       "\\item 1\n",
       "\\item 1\n",
       "\\item 1\n",
       "\\item 1\n",
       "\\item 1\n",
       "\\item 1\n",
       "\\item 1\n",
       "\\item 1\n",
       "\\item 1\n",
       "\\item 1\n",
       "\\item 1\n",
       "\\item 1\n",
       "\\item 1\n",
       "\\item 1\n",
       "\\item 1\n",
       "\\item 1\n",
       "\\item 1\n",
       "\\item 1\n",
       "\\item 1\n",
       "\\item 1\n",
       "\\item 1\n",
       "\\item 1\n",
       "\\item 1\n",
       "\\item 1\n",
       "\\item 1\n",
       "\\item 1\n",
       "\\item 1\n",
       "\\item 1\n",
       "\\item 1\n",
       "\\item 1\n",
       "\\item 1\n",
       "\\item 1\n",
       "\\item 1\n",
       "\\item 1\n",
       "\\item 1\n",
       "\\item 1\n",
       "\\item 1\n",
       "\\item 1\n",
       "\\item 1\n",
       "\\item 1\n",
       "\\item 1\n",
       "\\item 1\n",
       "\\item 1\n",
       "\\item 1\n",
       "\\item 1\n",
       "\\item 1\n",
       "\\item 1\n",
       "\\item 1\n",
       "\\item 1\n",
       "\\item 1\n",
       "\\item 1\n",
       "\\item 1\n",
       "\\item 1\n",
       "\\item 1\n",
       "\\item 1\n",
       "\\item 1\n",
       "\\item 1\n",
       "\\item 1\n",
       "\\item 1\n",
       "\\item 1\n",
       "\\item 1\n",
       "\\item 1\n",
       "\\item 1\n",
       "\\item 1\n",
       "\\item 1\n",
       "\\item 1\n",
       "\\end{enumerate*}\n"
      ],
      "text/markdown": [
       "1. 2\n",
       "2. 2\n",
       "3. 2\n",
       "4. 2\n",
       "5. 2\n",
       "6. 2\n",
       "7. 2\n",
       "8. 2\n",
       "9. 2\n",
       "10. 2\n",
       "11. 2\n",
       "12. 2\n",
       "13. 2\n",
       "14. 2\n",
       "15. 2\n",
       "16. 2\n",
       "17. 2\n",
       "18. 2\n",
       "19. 2\n",
       "20. 2\n",
       "21. 2\n",
       "22. 2\n",
       "23. 2\n",
       "24. 2\n",
       "25. 2\n",
       "26. 2\n",
       "27. 2\n",
       "28. 2\n",
       "29. 2\n",
       "30. 2\n",
       "31. 2\n",
       "32. 2\n",
       "33. 2\n",
       "34. 2\n",
       "35. 2\n",
       "36. 2\n",
       "37. 2\n",
       "38. 2\n",
       "39. 2\n",
       "40. 2\n",
       "41. 2\n",
       "42. 2\n",
       "43. 2\n",
       "44. 2\n",
       "45. 2\n",
       "46. 2\n",
       "47. 2\n",
       "48. 2\n",
       "49. 2\n",
       "50. 2\n",
       "51. 2\n",
       "52. 2\n",
       "53. 2\n",
       "54. 2\n",
       "55. 2\n",
       "56. 2\n",
       "57. 2\n",
       "58. 2\n",
       "59. 2\n",
       "60. 2\n",
       "61. 2\n",
       "62. 2\n",
       "63. 2\n",
       "64. 2\n",
       "65. 2\n",
       "66. 2\n",
       "67. 2\n",
       "68. 2\n",
       "69. 2\n",
       "70. 2\n",
       "71. 2\n",
       "72. 2\n",
       "73. 2\n",
       "74. 2\n",
       "75. 2\n",
       "76. 2\n",
       "77. 2\n",
       "78. 2\n",
       "79. 2\n",
       "80. 2\n",
       "81. 2\n",
       "82. 2\n",
       "83. 2\n",
       "84. 2\n",
       "85. 2\n",
       "86. 2\n",
       "87. 2\n",
       "88. 2\n",
       "89. 2\n",
       "90. 2\n",
       "91. 1\n",
       "92. 1\n",
       "93. 1\n",
       "94. 1\n",
       "95. 1\n",
       "96. 1\n",
       "97. 1\n",
       "98. 1\n",
       "99. 1\n",
       "100. 1\n",
       "101. 1\n",
       "102. 1\n",
       "103. 1\n",
       "104. 1\n",
       "105. 1\n",
       "106. 1\n",
       "107. 1\n",
       "108. 1\n",
       "109. 1\n",
       "110. 1\n",
       "111. 1\n",
       "112. 1\n",
       "113. 1\n",
       "114. 1\n",
       "115. 1\n",
       "116. 1\n",
       "117. 1\n",
       "118. 1\n",
       "119. 1\n",
       "120. 1\n",
       "121. 1\n",
       "122. 1\n",
       "123. 1\n",
       "124. 1\n",
       "125. 1\n",
       "126. 1\n",
       "127. 1\n",
       "128. 1\n",
       "129. 1\n",
       "130. 1\n",
       "131. 1\n",
       "132. 1\n",
       "133. 1\n",
       "134. 1\n",
       "135. 1\n",
       "136. 1\n",
       "137. 1\n",
       "138. 1\n",
       "139. 1\n",
       "140. 1\n",
       "141. 1\n",
       "142. 1\n",
       "143. 1\n",
       "144. 1\n",
       "145. 1\n",
       "146. 1\n",
       "147. 1\n",
       "148. 1\n",
       "149. 1\n",
       "150. 1\n",
       "151. 1\n",
       "152. 1\n",
       "153. 1\n",
       "154. 1\n",
       "155. 1\n",
       "156. 1\n",
       "157. 1\n",
       "158. 1\n",
       "159. 1\n",
       "160. 1\n",
       "161. 1\n",
       "162. 1\n",
       "163. 1\n",
       "164. 1\n",
       "165. 1\n",
       "166. 1\n",
       "167. 1\n",
       "168. 1\n",
       "169. 1\n",
       "170. 1\n",
       "171. 1\n",
       "172. 1\n",
       "173. 1\n",
       "174. 1\n",
       "175. 1\n",
       "176. 1\n",
       "177. 1\n",
       "178. 1\n",
       "179. 1\n",
       "180. 1\n",
       "\n",
       "\n"
      ],
      "text/plain": [
       "  [1] 2 2 2 2 2 2 2 2 2 2 2 2 2 2 2 2 2 2 2 2 2 2 2 2 2 2 2 2 2 2 2 2 2 2 2 2 2\n",
       " [38] 2 2 2 2 2 2 2 2 2 2 2 2 2 2 2 2 2 2 2 2 2 2 2 2 2 2 2 2 2 2 2 2 2 2 2 2 2\n",
       " [75] 2 2 2 2 2 2 2 2 2 2 2 2 2 2 2 2 1 1 1 1 1 1 1 1 1 1 1 1 1 1 1 1 1 1 1 1 1\n",
       "[112] 1 1 1 1 1 1 1 1 1 1 1 1 1 1 1 1 1 1 1 1 1 1 1 1 1 1 1 1 1 1 1 1 1 1 1 1 1\n",
       "[149] 1 1 1 1 1 1 1 1 1 1 1 1 1 1 1 1 1 1 1 1 1 1 1 1 1 1 1 1 1 1 1 1"
      ]
     },
     "metadata": {},
     "output_type": "display_data"
    }
   ],
   "source": [
    "d$flight_id"
   ]
  },
  {
   "cell_type": "code",
   "execution_count": 61,
   "id": "cbdb425f-eafc-4813-93bb-8a27bdbfc472",
   "metadata": {},
   "outputs": [
    {
     "data": {
      "text/html": [
       "180"
      ],
      "text/latex": [
       "180"
      ],
      "text/markdown": [
       "180"
      ],
      "text/plain": [
       "[1] 180"
      ]
     },
     "metadata": {},
     "output_type": "display_data"
    }
   ],
   "source": [
    "length(d$wine.amer)"
   ]
  },
  {
   "cell_type": "code",
   "execution_count": 63,
   "id": "d9d17793-468a-40d6-9c0a-afd7823b3e60",
   "metadata": {},
   "outputs": [
    {
     "data": {
      "text/html": [
       "180"
      ],
      "text/latex": [
       "180"
      ],
      "text/markdown": [
       "180"
      ],
      "text/plain": [
       "[1] 180"
      ]
     },
     "metadata": {},
     "output_type": "display_data"
    }
   ],
   "source": [
    "length(d$flight_id)"
   ]
  },
  {
   "cell_type": "code",
   "execution_count": 71,
   "id": "a33c67c6-b315-4b5c-8e55-c12dc51836f0",
   "metadata": {},
   "outputs": [
    {
     "name": "stderr",
     "output_type": "stream",
     "text": [
      "Warning message in a[flight_id] + b[wine.amer]:\n",
      "“longer object length is not a multiple of shorter object length”\n",
      "Warning message in a[flight_id] + b[wine.amer] + c[judge.amer]:\n",
      "“longer object length is not a multiple of shorter object length”\n"
     ]
    }
   ],
   "source": [
    "m_wine_amer <- quap(\n",
    "    alist(\n",
    "        score_std ~ dnorm(mu, sigma), \n",
    "        mu <- a[flight_id]+b[wine.amer]+c[judge.amer],\n",
    "        a[flight_id] ~ dnorm(0, 0.5),\n",
    "        b[wine.amer] ~ dnorm(0, 0.5),\n",
    "        c[judge.amer] ~ dnorm(0, 0.5),\n",
    "        sigma ~ exp(1)\n",
    "        ),data =d)"
   ]
  },
  {
   "cell_type": "code",
   "execution_count": 72,
   "id": "dad34346-28da-4dad-862d-bf6e030e6c5b",
   "metadata": {},
   "outputs": [
    {
     "data": {
      "text/html": [
       "<table class=\"dataframe\">\n",
       "<caption>A precis: 6 × 4</caption>\n",
       "<thead>\n",
       "\t<tr><th></th><th scope=col>mean</th><th scope=col>sd</th><th scope=col>5.5%</th><th scope=col>94.5%</th></tr>\n",
       "\t<tr><th></th><th scope=col>&lt;dbl&gt;</th><th scope=col>&lt;dbl&gt;</th><th scope=col>&lt;dbl&gt;</th><th scope=col>&lt;dbl&gt;</th></tr>\n",
       "</thead>\n",
       "<tbody>\n",
       "\t<tr><th scope=row>a[1]</th><td>-1.563785e-03</td><td>0.3639269</td><td>-0.5831893</td><td>0.5800618</td></tr>\n",
       "\t<tr><th scope=row>a[2]</th><td> 1.577098e-03</td><td>0.3639269</td><td>-0.5800485</td><td>0.5832027</td></tr>\n",
       "\t<tr><th scope=row>b[1]</th><td> 1.847538e-06</td><td>0.3951750</td><td>-0.6315641</td><td>0.6315677</td></tr>\n",
       "\t<tr><th scope=row>b[2]</th><td>-3.755239e-06</td><td>0.5000000</td><td>-0.7991003</td><td>0.7990928</td></tr>\n",
       "\t<tr><th scope=row>c[1]</th><td>-8.045149e-06</td><td>0.3951750</td><td>-0.6315739</td><td>0.6315579</td></tr>\n",
       "\t<tr><th scope=row>c[2]</th><td>-2.780419e-06</td><td>0.5000000</td><td>-0.7990993</td><td>0.7990938</td></tr>\n",
       "</tbody>\n",
       "</table>\n"
      ],
      "text/latex": [
       "A precis: 6 × 4\n",
       "\\begin{tabular}{r|llll}\n",
       "  & mean & sd & 5.5\\% & 94.5\\%\\\\\n",
       "  & <dbl> & <dbl> & <dbl> & <dbl>\\\\\n",
       "\\hline\n",
       "\ta{[}1{]} & -1.563785e-03 & 0.3639269 & -0.5831893 & 0.5800618\\\\\n",
       "\ta{[}2{]} &  1.577098e-03 & 0.3639269 & -0.5800485 & 0.5832027\\\\\n",
       "\tb{[}1{]} &  1.847538e-06 & 0.3951750 & -0.6315641 & 0.6315677\\\\\n",
       "\tb{[}2{]} & -3.755239e-06 & 0.5000000 & -0.7991003 & 0.7990928\\\\\n",
       "\tc{[}1{]} & -8.045149e-06 & 0.3951750 & -0.6315739 & 0.6315579\\\\\n",
       "\tc{[}2{]} & -2.780419e-06 & 0.5000000 & -0.7990993 & 0.7990938\\\\\n",
       "\\end{tabular}\n"
      ],
      "text/markdown": [
       "\n",
       "A precis: 6 × 4\n",
       "\n",
       "| <!--/--> | mean &lt;dbl&gt; | sd &lt;dbl&gt; | 5.5% &lt;dbl&gt; | 94.5% &lt;dbl&gt; |\n",
       "|---|---|---|---|---|\n",
       "| a[1] | -1.563785e-03 | 0.3639269 | -0.5831893 | 0.5800618 |\n",
       "| a[2] |  1.577098e-03 | 0.3639269 | -0.5800485 | 0.5832027 |\n",
       "| b[1] |  1.847538e-06 | 0.3951750 | -0.6315641 | 0.6315677 |\n",
       "| b[2] | -3.755239e-06 | 0.5000000 | -0.7991003 | 0.7990928 |\n",
       "| c[1] | -8.045149e-06 | 0.3951750 | -0.6315739 | 0.6315579 |\n",
       "| c[2] | -2.780419e-06 | 0.5000000 | -0.7990993 | 0.7990938 |\n",
       "\n"
      ],
      "text/plain": [
       "     mean          sd        5.5%       94.5%    \n",
       "a[1] -1.563785e-03 0.3639269 -0.5831893 0.5800618\n",
       "a[2]  1.577098e-03 0.3639269 -0.5800485 0.5832027\n",
       "b[1]  1.847538e-06 0.3951750 -0.6315641 0.6315677\n",
       "b[2] -3.755239e-06 0.5000000 -0.7991003 0.7990928\n",
       "c[1] -8.045149e-06 0.3951750 -0.6315739 0.6315579\n",
       "c[2] -2.780419e-06 0.5000000 -0.7990993 0.7990938"
      ]
     },
     "metadata": {},
     "output_type": "display_data"
    }
   ],
   "source": [
    "precis(m_wine_amer, depth=2)"
   ]
  },
  {
   "cell_type": "markdown",
   "id": "62741cf2-849a-4699-b023-2f0bdfeecd71",
   "metadata": {},
   "source": [
    "There seems to have no effect for whether the wine was American or the Judge is American, and very little effect from the white/red"
   ]
  },
  {
   "cell_type": "markdown",
   "id": "7e6c46a4-c025-48f3-949a-552647757266",
   "metadata": {},
   "source": [
    "### 8H7.\n",
    "\n",
    "Now consider two-way interactions among the three features. You should end up with three\n",
    "different interaction terms in your model. These will be easier to build, if you use indicator variables.\n",
    "Again justify your priors. Explain what each interaction means. Be sure to interpret the model’s\n",
    "predictions on the outcome scale (mu, the expected score), not on the scale of individual parameters.\n",
    "You can use link to help with this, or just use your knowledge of the linear model instead. What do\n",
    "you conclude about the features and the scores? Can you relate the results of your model(s) to the\n",
    "individual judge and wine inferences from 8H5?"
   ]
  },
  {
   "cell_type": "code",
   "execution_count": 83,
   "id": "deb745b9-737d-4390-8d29-99c7126c653e",
   "metadata": {},
   "outputs": [
    {
     "name": "stderr",
     "output_type": "stream",
     "text": [
      "Warning message in a[flight_id] + b[wine.amer]:\n",
      "“longer object length is not a multiple of shorter object length”\n",
      "Warning message in a[flight_id] + b[wine.amer] + c[judge.amer]:\n",
      "“longer object length is not a multiple of shorter object length”\n"
     ]
    }
   ],
   "source": [
    "m_wine_amer_int <- quap(\n",
    "    alist(\n",
    "        score_std ~ dnorm(mu, sigma), \n",
    "        mu <- a[flight_id]+b[wine.amer]+c[judge.amer]+gamma*flight_id*wine.amer + delta*flight_id*judge.amer + omicron*judge.amer*wine.amer, \n",
    "        a[flight_id] ~ dnorm(0, 0.5),\n",
    "        b[wine.amer] ~ dnorm(0, 0.5),\n",
    "        c[judge.amer] ~ dnorm(0, 0.5),\n",
    "        gamma ~ dnorm(0, 0.5),\n",
    "        delta ~ dnorm(0, 0.5),\n",
    "        omicron ~ dnorm(0, 0.5),\n",
    "        sigma ~ exp(1)\n",
    "        ),data =d)"
   ]
  },
  {
   "cell_type": "code",
   "execution_count": 84,
   "id": "d710a195-d33f-4267-bd3d-9116c6277460",
   "metadata": {},
   "outputs": [
    {
     "data": {
      "text/html": [
       "<table class=\"dataframe\">\n",
       "<caption>A precis: 9 × 4</caption>\n",
       "<thead>\n",
       "\t<tr><th></th><th scope=col>mean</th><th scope=col>sd</th><th scope=col>5.5%</th><th scope=col>94.5%</th></tr>\n",
       "\t<tr><th></th><th scope=col>&lt;dbl&gt;</th><th scope=col>&lt;dbl&gt;</th><th scope=col>&lt;dbl&gt;</th><th scope=col>&lt;dbl&gt;</th></tr>\n",
       "</thead>\n",
       "<tbody>\n",
       "\t<tr><th scope=row>a[1]</th><td> 5.274003e-03</td><td>0.3659492</td><td>-0.5795835</td><td>0.5901316</td></tr>\n",
       "\t<tr><th scope=row>a[2]</th><td>-2.502656e-02</td><td>0.3847280</td><td>-0.6398963</td><td>0.5898431</td></tr>\n",
       "\t<tr><th scope=row>b[1]</th><td>-1.975296e-02</td><td>0.4074165</td><td>-0.6708831</td><td>0.6313772</td></tr>\n",
       "\t<tr><th scope=row>b[2]</th><td> 1.318879e-08</td><td>0.5000000</td><td>-0.7990966</td><td>0.7990966</td></tr>\n",
       "\t<tr><th scope=row>c[1]</th><td>-1.975328e-02</td><td>0.4074165</td><td>-0.6708835</td><td>0.6313769</td></tr>\n",
       "\t<tr><th scope=row>c[2]</th><td> 2.586678e-07</td><td>0.5000000</td><td>-0.7990963</td><td>0.7990968</td></tr>\n",
       "\t<tr><th scope=row>gamma</th><td>-3.898442e-02</td><td>0.2406701</td><td>-0.4236218</td><td>0.3456529</td></tr>\n",
       "\t<tr><th scope=row>delta</th><td> 1.220627e-01</td><td>0.2436336</td><td>-0.2673109</td><td>0.5114362</td></tr>\n",
       "\t<tr><th scope=row>omicron</th><td>-4.202046e-02</td><td>0.3846534</td><td>-0.6567709</td><td>0.5727299</td></tr>\n",
       "</tbody>\n",
       "</table>\n"
      ],
      "text/latex": [
       "A precis: 9 × 4\n",
       "\\begin{tabular}{r|llll}\n",
       "  & mean & sd & 5.5\\% & 94.5\\%\\\\\n",
       "  & <dbl> & <dbl> & <dbl> & <dbl>\\\\\n",
       "\\hline\n",
       "\ta{[}1{]} &  5.274003e-03 & 0.3659492 & -0.5795835 & 0.5901316\\\\\n",
       "\ta{[}2{]} & -2.502656e-02 & 0.3847280 & -0.6398963 & 0.5898431\\\\\n",
       "\tb{[}1{]} & -1.975296e-02 & 0.4074165 & -0.6708831 & 0.6313772\\\\\n",
       "\tb{[}2{]} &  1.318879e-08 & 0.5000000 & -0.7990966 & 0.7990966\\\\\n",
       "\tc{[}1{]} & -1.975328e-02 & 0.4074165 & -0.6708835 & 0.6313769\\\\\n",
       "\tc{[}2{]} &  2.586678e-07 & 0.5000000 & -0.7990963 & 0.7990968\\\\\n",
       "\tgamma & -3.898442e-02 & 0.2406701 & -0.4236218 & 0.3456529\\\\\n",
       "\tdelta &  1.220627e-01 & 0.2436336 & -0.2673109 & 0.5114362\\\\\n",
       "\tomicron & -4.202046e-02 & 0.3846534 & -0.6567709 & 0.5727299\\\\\n",
       "\\end{tabular}\n"
      ],
      "text/markdown": [
       "\n",
       "A precis: 9 × 4\n",
       "\n",
       "| <!--/--> | mean &lt;dbl&gt; | sd &lt;dbl&gt; | 5.5% &lt;dbl&gt; | 94.5% &lt;dbl&gt; |\n",
       "|---|---|---|---|---|\n",
       "| a[1] |  5.274003e-03 | 0.3659492 | -0.5795835 | 0.5901316 |\n",
       "| a[2] | -2.502656e-02 | 0.3847280 | -0.6398963 | 0.5898431 |\n",
       "| b[1] | -1.975296e-02 | 0.4074165 | -0.6708831 | 0.6313772 |\n",
       "| b[2] |  1.318879e-08 | 0.5000000 | -0.7990966 | 0.7990966 |\n",
       "| c[1] | -1.975328e-02 | 0.4074165 | -0.6708835 | 0.6313769 |\n",
       "| c[2] |  2.586678e-07 | 0.5000000 | -0.7990963 | 0.7990968 |\n",
       "| gamma | -3.898442e-02 | 0.2406701 | -0.4236218 | 0.3456529 |\n",
       "| delta |  1.220627e-01 | 0.2436336 | -0.2673109 | 0.5114362 |\n",
       "| omicron | -4.202046e-02 | 0.3846534 | -0.6567709 | 0.5727299 |\n",
       "\n"
      ],
      "text/plain": [
       "        mean          sd        5.5%       94.5%    \n",
       "a[1]     5.274003e-03 0.3659492 -0.5795835 0.5901316\n",
       "a[2]    -2.502656e-02 0.3847280 -0.6398963 0.5898431\n",
       "b[1]    -1.975296e-02 0.4074165 -0.6708831 0.6313772\n",
       "b[2]     1.318879e-08 0.5000000 -0.7990966 0.7990966\n",
       "c[1]    -1.975328e-02 0.4074165 -0.6708835 0.6313769\n",
       "c[2]     2.586678e-07 0.5000000 -0.7990963 0.7990968\n",
       "gamma   -3.898442e-02 0.2406701 -0.4236218 0.3456529\n",
       "delta    1.220627e-01 0.2436336 -0.2673109 0.5114362\n",
       "omicron -4.202046e-02 0.3846534 -0.6567709 0.5727299"
      ]
     },
     "metadata": {},
     "output_type": "display_data"
    }
   ],
   "source": [
    "precis(m_wine_amer_int, depth=3)"
   ]
  },
  {
   "cell_type": "markdown",
   "id": "b855473f-6767-434a-8bee-aec57f31e366",
   "metadata": {},
   "source": [
    "main interaction is delta which is flight * judge.amer, but generally, not a lot of predicative power"
   ]
  },
  {
   "cell_type": "code",
   "execution_count": null,
   "id": "4995aebd-2169-4ddd-8371-5169993bb0e0",
   "metadata": {},
   "outputs": [],
   "source": []
  }
 ],
 "metadata": {
  "kernelspec": {
   "display_name": "R",
   "language": "R",
   "name": "ir"
  },
  "language_info": {
   "codemirror_mode": "r",
   "file_extension": ".r",
   "mimetype": "text/x-r-source",
   "name": "R",
   "pygments_lexer": "r",
   "version": "4.2.1"
  }
 },
 "nbformat": 4,
 "nbformat_minor": 5
}
