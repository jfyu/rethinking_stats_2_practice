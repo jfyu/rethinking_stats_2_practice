{
 "cells": [
  {
   "cell_type": "markdown",
   "id": "12aeef7d-f1c9-4bd9-a73d-47b3aa8ae9f5",
   "metadata": {},
   "source": [
    "# Chapter 7 -- ULYSSES'COMPASS"
   ]
  },
  {
   "cell_type": "code",
   "execution_count": 1,
   "id": "e64cf54b-17c5-48ec-b0e9-d63a12c1258c",
   "metadata": {},
   "outputs": [
    {
     "name": "stderr",
     "output_type": "stream",
     "text": [
      "Loading required package: rstan\n",
      "\n",
      "Loading required package: StanHeaders\n",
      "\n",
      "Loading required package: ggplot2\n",
      "\n",
      "rstan (Version 2.21.7, GitRev: 2e1f913d3ca3)\n",
      "\n",
      "For execution on a local, multicore CPU with excess RAM we recommend calling\n",
      "options(mc.cores = parallel::detectCores()).\n",
      "To avoid recompilation of unchanged Stan programs, we recommend calling\n",
      "rstan_options(auto_write = TRUE)\n",
      "\n",
      "Loading required package: cmdstanr\n",
      "\n",
      "This is cmdstanr version 0.5.3\n",
      "\n",
      "- CmdStanR documentation and vignettes: mc-stan.org/cmdstanr\n",
      "\n",
      "- Use set_cmdstan_path() to set the path to CmdStan\n",
      "\n",
      "- Use install_cmdstan() to install CmdStan\n",
      "\n",
      "Loading required package: parallel\n",
      "\n",
      "rethinking (Version 2.21)\n",
      "\n",
      "\n",
      "Attaching package: ‘rethinking’\n",
      "\n",
      "\n",
      "The following object is masked from ‘package:rstan’:\n",
      "\n",
      "    stan\n",
      "\n",
      "\n",
      "The following object is masked from ‘package:stats’:\n",
      "\n",
      "    rstudent\n",
      "\n",
      "\n"
     ]
    }
   ],
   "source": [
    "library(rethinking)"
   ]
  },
  {
   "cell_type": "code",
   "execution_count": 2,
   "id": "bedc997c-9098-421d-b9ab-7a7525615b7a",
   "metadata": {},
   "outputs": [],
   "source": [
    "set.seed(1412)"
   ]
  },
  {
   "cell_type": "markdown",
   "id": "6284bf76-4637-4166-8cef-71bad47a00d9",
   "metadata": {},
   "source": [
    "## 7E1.\n",
    "\n",
    "State the three motivating criteria that define information entropy. Try to express each in your\n",
    "own words."
   ]
  },
  {
   "cell_type": "markdown",
   "id": "27b12618-5fa2-49f9-b446-eadaa227a32f",
   "metadata": {},
   "source": [
    "1. Uncertaintly needs to be continuous such that a small change in probability will not result in a large change in uncertainty. \n",
    "\n",
    "2. increase with the number of possible events (complexity?)\n",
    "\n",
    "3. additivity -- combination over individual indepedent events should be the sum of all uncertainties"
   ]
  },
  {
   "cell_type": "markdown",
   "id": "377092c7-ad11-4a7d-9ef6-416f5dd4c9d7",
   "metadata": {},
   "source": [
    "### 7E2.\n",
    "Suppose a coin is weighted such that, when it is tossed and lands on a table, it comes up heads\n",
    "70% of the time. What is the entropy of this coin?\n"
   ]
  },
  {
   "cell_type": "code",
   "execution_count": 3,
   "id": "6b5be42f-4853-454c-8bd9-765056878c8c",
   "metadata": {},
   "outputs": [
    {
     "data": {
      "text/html": [
       "0.610864302054894"
      ],
      "text/latex": [
       "0.610864302054894"
      ],
      "text/markdown": [
       "0.610864302054894"
      ],
      "text/plain": [
       "[1] 0.6108643"
      ]
     },
     "metadata": {},
     "output_type": "display_data"
    }
   ],
   "source": [
    "-(0.7*log(0.7)+0.3*log(0.3))"
   ]
  },
  {
   "cell_type": "markdown",
   "id": "9c888e6a-d005-4305-ad79-808bf8051288",
   "metadata": {},
   "source": [
    "### 7E3.\n",
    "Suppose a four-sided die is loaded such that, when tossed onto a table, it shows “1” 20%, “2” 25%, “3” 25%, and “4” 30% of the time. What is the entropy of this die?"
   ]
  },
  {
   "cell_type": "code",
   "execution_count": 4,
   "id": "8fbee6b6-1ead-49b2-bb86-46bb6e18c145",
   "metadata": {},
   "outputs": [
    {
     "data": {
      "text/html": [
       "1.37622660434455"
      ],
      "text/latex": [
       "1.37622660434455"
      ],
      "text/markdown": [
       "1.37622660434455"
      ],
      "text/plain": [
       "[1] 1.376227"
      ]
     },
     "metadata": {},
     "output_type": "display_data"
    }
   ],
   "source": [
    "-(0.2*log(0.2)+0.25*log(0.25)+0.25*log(0.25)+0.3*log(0.3))"
   ]
  },
  {
   "cell_type": "markdown",
   "id": "df919c47-09d0-476f-a82b-05f3b2af7b74",
   "metadata": {},
   "source": [
    "### 7E4.\n",
    "Suppose another four-sided die is loaded such that it never shows “4”. The other three sides show equally often. What is the entropy of this die?"
   ]
  },
  {
   "cell_type": "code",
   "execution_count": 5,
   "id": "82727a20-fa1c-484e-b8bb-45586d388180",
   "metadata": {},
   "outputs": [
    {
     "data": {
      "text/html": [
       "1.09861228866811"
      ],
      "text/latex": [
       "1.09861228866811"
      ],
      "text/markdown": [
       "1.09861228866811"
      ],
      "text/plain": [
       "[1] 1.098612"
      ]
     },
     "metadata": {},
     "output_type": "display_data"
    }
   ],
   "source": [
    "-3*(1/3*log(1/3))"
   ]
  },
  {
   "cell_type": "markdown",
   "id": "13bc1375-d9cd-454b-8203-84dbb06b4426",
   "metadata": {},
   "source": [
    "### 7M1.\n",
    "\n",
    "Write down and compare the definitions of AIC and WAIC. Which of these criteria is most\n",
    "general? Which assumptions are required to transform the more general criterion into a less general\n",
    "one?"
   ]
  },
  {
   "cell_type": "markdown",
   "id": "58e01fde-531a-41e7-84ff-a7f451ecfdc2",
   "metadata": {},
   "source": [
    "AIC = -2lppd + 2p p is the number of free parameters in the posterior distribution\n",
    "\n",
    "WAIC = -2(lppd-$\\sum_{i} \\textrm{var}\\log p(y_i|\\theta))$\n",
    "\n",
    "WAIC is more general. Equivalence requires posterior distribution to be approximately multivariate Gaussian, and sample size  N >> k where k is the # of parameters"
   ]
  },
  {
   "cell_type": "markdown",
   "id": "55a9c1ec-a5e1-4457-8a57-f839aef0f979",
   "metadata": {},
   "source": [
    "### 7M2.\n",
    "\n",
    "Explain the difference between model selection and model comparison. What information is lost under model selection?\n",
    "\n",
    "\n",
    "model selection is to choose a model among many models based on a criteria (say, lowest of the information criteria). This method disregards causal models and also discards the information contained in the differences between models (i.e. the undertainty of the differences). \n",
    "\n",
    "model comparison compares models by calculating the differences (relative performance) of WAIC and provides information on the improvement of predictions coming from conditioning on different variables (among differet models). PSIS can also tell the outliers. "
   ]
  },
  {
   "cell_type": "markdown",
   "id": "bb67f947-3605-464f-9ff5-27e40083bd84",
   "metadata": {},
   "source": [
    "### 7M3.\n",
    "\n",
    "When comparing models with an information criterion, why must all models be fit to exactly the same observations? What would happen to the information criterion values, if the models were fit to different numbers of observations? Perform some experiments, if you are not sure.\n",
    "\n",
    "\n",
    "Information criteria are evaluated pointwise, so if you fit to different obserservations you might be introducing additional/less penalities and unfiar"
   ]
  },
  {
   "cell_type": "markdown",
   "id": "80b245f6-d870-4698-8e89-b733658047dc",
   "metadata": {},
   "source": [
    "### 7M4.\n",
    "\n",
    "What happens to the effective number of parameters, as measured by PSIS or WAIC, as a prior\n",
    "becomes more concentrated? Why? Perform some experiments, if you are not sure.\n",
    "\n",
    "It should become smaller, because now prior is regularized and penalizes certain areas in the support. So the variance penalty will become smaller as the posterior is also sharper"
   ]
  },
  {
   "cell_type": "markdown",
   "id": "c0a0d449-226f-4ed6-b256-abf7bd0cc822",
   "metadata": {},
   "source": [
    "### 7M5.\n",
    "\n",
    "Provide an informal explanation of why informative priors reduce overfitting.\n",
    "\n",
    "Because it restricted the prob. space of posterior so you are less likely to get to over complicated models for overfitting"
   ]
  },
  {
   "cell_type": "markdown",
   "id": "688fdbd0-dd74-4db0-ad24-f77e37ed4d1f",
   "metadata": {},
   "source": [
    "### 7M6.\n",
    "\n",
    "Provide an informal explanation of why overly informative priors result in underfitting.\n",
    "\n",
    "\n",
    "Because it over-restricts the space of the posterior so now you don't have enough freedom to fit to the data"
   ]
  },
  {
   "cell_type": "markdown",
   "id": "a5a660eb-6888-4ab2-a641-ce2206df7e40",
   "metadata": {},
   "source": [
    "### 7H1.\n",
    "\n",
    "In 2007, The Wall Street Journal published an editorial (“We’re Number One, Alas”) with a graph of corporate tax rates in 29 countries plotted against tax revenue. A badly fit curve was drawn in (reconstructed\n",
    "at right), seemingly by hand, to make the argument that the relationship\n",
    "between tax rate and tax revenue increases and then declines, such that\n",
    "higher tax rates can actually produce less tax revenue. I want you to actually fit a curve to these data, found in data(Laffer). Consider models\n",
    "that use tax rate to predict tax revenue. Compare, using WAIC or PSIS, a\n",
    "straight-line model to any curved models you like. What do you conclude\n",
    "about the relationship between tax rate and tax revenue?"
   ]
  },
  {
   "cell_type": "code",
   "execution_count": 6,
   "id": "c016698d-5bb8-4b3b-91d9-49ed536283a7",
   "metadata": {},
   "outputs": [],
   "source": [
    "data(Laffer)\n",
    "d <- Laffer"
   ]
  },
  {
   "cell_type": "code",
   "execution_count": 7,
   "id": "f5344dab-b185-4e3f-ba74-4f654ae260bc",
   "metadata": {},
   "outputs": [
    {
     "data": {
      "text/html": [
       "<table class=\"dataframe\">\n",
       "<caption>A data.frame: 6 × 2</caption>\n",
       "<thead>\n",
       "\t<tr><th></th><th scope=col>tax_rate</th><th scope=col>tax_revenue</th></tr>\n",
       "\t<tr><th></th><th scope=col>&lt;dbl&gt;</th><th scope=col>&lt;dbl&gt;</th></tr>\n",
       "</thead>\n",
       "<tbody>\n",
       "\t<tr><th scope=row>1</th><td> 0.07</td><td>-0.06</td></tr>\n",
       "\t<tr><th scope=row>2</th><td> 8.81</td><td> 2.45</td></tr>\n",
       "\t<tr><th scope=row>3</th><td>12.84</td><td> 3.58</td></tr>\n",
       "\t<tr><th scope=row>4</th><td>16.24</td><td> 2.19</td></tr>\n",
       "\t<tr><th scope=row>5</th><td>19.18</td><td> 2.46</td></tr>\n",
       "\t<tr><th scope=row>6</th><td>19.29</td><td> 1.95</td></tr>\n",
       "</tbody>\n",
       "</table>\n"
      ],
      "text/latex": [
       "A data.frame: 6 × 2\n",
       "\\begin{tabular}{r|ll}\n",
       "  & tax\\_rate & tax\\_revenue\\\\\n",
       "  & <dbl> & <dbl>\\\\\n",
       "\\hline\n",
       "\t1 &  0.07 & -0.06\\\\\n",
       "\t2 &  8.81 &  2.45\\\\\n",
       "\t3 & 12.84 &  3.58\\\\\n",
       "\t4 & 16.24 &  2.19\\\\\n",
       "\t5 & 19.18 &  2.46\\\\\n",
       "\t6 & 19.29 &  1.95\\\\\n",
       "\\end{tabular}\n"
      ],
      "text/markdown": [
       "\n",
       "A data.frame: 6 × 2\n",
       "\n",
       "| <!--/--> | tax_rate &lt;dbl&gt; | tax_revenue &lt;dbl&gt; |\n",
       "|---|---|---|\n",
       "| 1 |  0.07 | -0.06 |\n",
       "| 2 |  8.81 |  2.45 |\n",
       "| 3 | 12.84 |  3.58 |\n",
       "| 4 | 16.24 |  2.19 |\n",
       "| 5 | 19.18 |  2.46 |\n",
       "| 6 | 19.29 |  1.95 |\n",
       "\n"
      ],
      "text/plain": [
       "  tax_rate tax_revenue\n",
       "1  0.07    -0.06      \n",
       "2  8.81     2.45      \n",
       "3 12.84     3.58      \n",
       "4 16.24     2.19      \n",
       "5 19.18     2.46      \n",
       "6 19.29     1.95      "
      ]
     },
     "metadata": {},
     "output_type": "display_data"
    }
   ],
   "source": [
    "head(d)"
   ]
  },
  {
   "cell_type": "code",
   "execution_count": 8,
   "id": "e4972b27-03db-4f0a-8654-3410342a3ad1",
   "metadata": {},
   "outputs": [
    {
     "data": {
      "image/png": "[encoded data removed]",
      "text/plain": [
       "plot without title"
      ]
     },
     "metadata": {
      "image/png": {
       "height": 420,
       "width": 420
      }
     },
     "output_type": "display_data"
    }
   ],
   "source": [
    "plot(d$tax_rate, d$tax_revenue)"
   ]
  },
  {
   "cell_type": "code",
   "execution_count": 9,
   "id": "5d5f5d6f-c955-42dd-b96d-ebfb39d1b58a",
   "metadata": {},
   "outputs": [],
   "source": [
    "d$s_tax_rate <- standardize(d$tax_rate)\n",
    "d$s_tax_revenue <- standardize(d$tax_revenue)"
   ]
  },
  {
   "cell_type": "code",
   "execution_count": 10,
   "id": "65f3a021-37f4-4dfe-8335-abc7a470c17c",
   "metadata": {},
   "outputs": [
    {
     "data": {
      "image/png": "[encoded data removed]",
      "text/plain": [
       "plot without title"
      ]
     },
     "metadata": {
      "image/png": {
       "height": 420,
       "width": 420
      }
     },
     "output_type": "display_data"
    }
   ],
   "source": [
    "plot(d$s_tax_rate, d$s_tax_revenue)"
   ]
  },
  {
   "cell_type": "code",
   "execution_count": 21,
   "id": "50d2220d-26ba-494a-9832-7eb5054c467f",
   "metadata": {},
   "outputs": [],
   "source": [
    "model <- quap(\n",
    "    alist(\n",
    "        s_tax_revenue ~ dnorm(mu, sigma),\n",
    "        mu <- a+b*s_tax_rate,\n",
    "        a ~ dnorm(-2, 1),\n",
    "        b ~ dnorm(0, 1),\n",
    "        sigma ~ exp(1)\n",
    "        ), data = d)"
   ]
  },
  {
   "cell_type": "code",
   "execution_count": 22,
   "id": "cce7cc81-1556-4cf5-aa1a-5b7b0461925b",
   "metadata": {},
   "outputs": [],
   "source": [
    "model_quad <- quap(\n",
    "    alist(\n",
    "        s_tax_revenue ~ dnorm(mu, sigma),\n",
    "        mu <- a+b*s_tax_rate+c*s_tax_rate**2,\n",
    "        a ~ dnorm(-2, 1),\n",
    "        b ~ dnorm(0, 1),\n",
    "        c ~ dnorm(0, 1),\n",
    "        sigma ~ exp(1)\n",
    "        ), data = d)"
   ]
  },
  {
   "cell_type": "code",
   "execution_count": 23,
   "id": "e4ee03f7-5d82-4b3d-a773-599e7b1bc746",
   "metadata": {},
   "outputs": [],
   "source": [
    "model_tri <- quap(\n",
    "    alist(\n",
    "        s_tax_revenue ~ dnorm(mu, sigma),\n",
    "        mu <- a+b_1*s_tax_rate+b_2*s_tax_rate**2+b_3*s_tax_rate**3,\n",
    "        a ~ dnorm(-2, 1),\n",
    "        b_1 ~ dnorm(0, 1),\n",
    "        b_2 ~ dnorm(0, 1),\n",
    "        b_3 ~ dnorm(0, 1),\n",
    "        sigma ~ exp(1)\n",
    "        ), data = d)"
   ]
  },
  {
   "cell_type": "code",
   "execution_count": 24,
   "id": "4bf67e8c-605a-4d23-8a3c-ffc236890ef4",
   "metadata": {},
   "outputs": [
    {
     "data": {
      "text/html": [
       "<table class=\"dataframe\">\n",
       "<caption>A compareIC: 3 × 6</caption>\n",
       "<thead>\n",
       "\t<tr><th></th><th scope=col>WAIC</th><th scope=col>SE</th><th scope=col>dWAIC</th><th scope=col>dSE</th><th scope=col>pWAIC</th><th scope=col>weight</th></tr>\n",
       "\t<tr><th></th><th scope=col>&lt;dbl&gt;</th><th scope=col>&lt;dbl&gt;</th><th scope=col>&lt;dbl&gt;</th><th scope=col>&lt;dbl&gt;</th><th scope=col>&lt;dbl&gt;</th><th scope=col>&lt;dbl&gt;</th></tr>\n",
       "</thead>\n",
       "<tbody>\n",
       "\t<tr><th scope=row>model</th><td>117.2431</td><td>2.269864</td><td>0.0000000</td><td>       NA</td><td>0.2282541</td><td>0.4984724</td></tr>\n",
       "\t<tr><th scope=row>model_quad</th><td>118.2373</td><td>2.411073</td><td>0.9942338</td><td>0.6470743</td><td>0.4626564</td><td>0.3032117</td></tr>\n",
       "\t<tr><th scope=row>model_tri</th><td>119.0864</td><td>2.643846</td><td>1.8433750</td><td>1.1825575</td><td>0.7205090</td><td>0.1983158</td></tr>\n",
       "</tbody>\n",
       "</table>\n"
      ],
      "text/latex": [
       "A compareIC: 3 × 6\n",
       "\\begin{tabular}{r|llllll}\n",
       "  & WAIC & SE & dWAIC & dSE & pWAIC & weight\\\\\n",
       "  & <dbl> & <dbl> & <dbl> & <dbl> & <dbl> & <dbl>\\\\\n",
       "\\hline\n",
       "\tmodel & 117.2431 & 2.269864 & 0.0000000 &        NA & 0.2282541 & 0.4984724\\\\\n",
       "\tmodel\\_quad & 118.2373 & 2.411073 & 0.9942338 & 0.6470743 & 0.4626564 & 0.3032117\\\\\n",
       "\tmodel\\_tri & 119.0864 & 2.643846 & 1.8433750 & 1.1825575 & 0.7205090 & 0.1983158\\\\\n",
       "\\end{tabular}\n"
      ],
      "text/markdown": [
       "\n",
       "A compareIC: 3 × 6\n",
       "\n",
       "| <!--/--> | WAIC &lt;dbl&gt; | SE &lt;dbl&gt; | dWAIC &lt;dbl&gt; | dSE &lt;dbl&gt; | pWAIC &lt;dbl&gt; | weight &lt;dbl&gt; |\n",
       "|---|---|---|---|---|---|---|\n",
       "| model | 117.2431 | 2.269864 | 0.0000000 |        NA | 0.2282541 | 0.4984724 |\n",
       "| model_quad | 118.2373 | 2.411073 | 0.9942338 | 0.6470743 | 0.4626564 | 0.3032117 |\n",
       "| model_tri | 119.0864 | 2.643846 | 1.8433750 | 1.1825575 | 0.7205090 | 0.1983158 |\n",
       "\n"
      ],
      "text/plain": [
       "           WAIC     SE       dWAIC     dSE       pWAIC     weight   \n",
       "model      117.2431 2.269864 0.0000000        NA 0.2282541 0.4984724\n",
       "model_quad 118.2373 2.411073 0.9942338 0.6470743 0.4626564 0.3032117\n",
       "model_tri  119.0864 2.643846 1.8433750 1.1825575 0.7205090 0.1983158"
      ]
     },
     "metadata": {},
     "output_type": "display_data"
    }
   ],
   "source": [
    "compare(model, model_quad, model_tri, func=WAIC)"
   ]
  },
  {
   "cell_type": "code",
   "execution_count": 25,
   "id": "6409def1-fd67-46e2-a11d-3a7fcb598a8b",
   "metadata": {},
   "outputs": [
    {
     "data": {
      "image/png": "[encoded data removed]",
      "text/plain": [
       "plot without title"
      ]
     },
     "metadata": {
      "image/png": {
       "height": 420,
       "width": 420
      }
     },
     "output_type": "display_data"
    }
   ],
   "source": [
    "plot(compare(model, model_quad, model_tri, func=WAIC))"
   ]
  },
  {
   "cell_type": "markdown",
   "id": "19485b1c-5231-4cf3-bc2f-aea041771b47",
   "metadata": {},
   "source": [
    "Inspecting the dWAIC, we see that model_quad is about 0.99+/-0.65 from the linear model, model_tri is about 0.85 +/-0.51 from model quad. It looks like there are still additional additive power with third order polynomial, but it diminishes"
   ]
  },
  {
   "cell_type": "markdown",
   "id": "de1ac0f0-25de-4935-8fe5-6a6b9c458c0d",
   "metadata": {},
   "source": [
    "We see some high Pareto values, so there seem to be outliers, inspecting the plot this is plausible"
   ]
  },
  {
   "cell_type": "markdown",
   "id": "79db2850-7ec0-4df6-b7f1-6ba9a12655eb",
   "metadata": {},
   "source": [
    "### 7H2.\n",
    "In the Laffer data, there is one country with a high tax revenue that is an outlier. Use PSIS\n",
    "and WAIC to measure the importance of this outlier in the models you fit in the previous problem.\n",
    "Then use robust regression with a Student’s t distribution to revisit the curve fitting problem. How\n",
    "much does a curved relationship depend upon the outlier point?"
   ]
  },
  {
   "cell_type": "code",
   "execution_count": 26,
   "id": "fd591f29-dcd5-49e4-b980-a14173be9d25",
   "metadata": {},
   "outputs": [
    {
     "name": "stderr",
     "output_type": "stream",
     "text": [
      "Some Pareto k values are high (>0.5). Set pointwise=TRUE to inspect individual points.\n",
      "\n",
      "Some Pareto k values are high (>0.5). Set pointwise=TRUE to inspect individual points.\n",
      "\n"
     ]
    },
    {
     "data": {
      "text/html": [
       "<table class=\"dataframe\">\n",
       "<caption>A compareIC: 3 × 6</caption>\n",
       "<thead>\n",
       "\t<tr><th></th><th scope=col>PSIS</th><th scope=col>SE</th><th scope=col>dPSIS</th><th scope=col>dSE</th><th scope=col>pPSIS</th><th scope=col>weight</th></tr>\n",
       "\t<tr><th></th><th scope=col>&lt;dbl&gt;</th><th scope=col>&lt;dbl&gt;</th><th scope=col>&lt;dbl&gt;</th><th scope=col>&lt;dbl&gt;</th><th scope=col>&lt;dbl&gt;</th><th scope=col>&lt;dbl&gt;</th></tr>\n",
       "</thead>\n",
       "<tbody>\n",
       "\t<tr><th scope=row>model</th><td>117.3301</td><td>2.310321</td><td>0.0000000</td><td>       NA</td><td>0.2468665</td><td>0.4952851</td></tr>\n",
       "\t<tr><th scope=row>model_quad</th><td>118.2895</td><td>2.471685</td><td>0.9593919</td><td>0.7731149</td><td>0.5386608</td><td>0.3065674</td></tr>\n",
       "\t<tr><th scope=row>model_tri</th><td>119.1623</td><td>2.749628</td><td>1.8322431</td><td>1.1708811</td><td>0.7476947</td><td>0.1981475</td></tr>\n",
       "</tbody>\n",
       "</table>\n"
      ],
      "text/latex": [
       "A compareIC: 3 × 6\n",
       "\\begin{tabular}{r|llllll}\n",
       "  & PSIS & SE & dPSIS & dSE & pPSIS & weight\\\\\n",
       "  & <dbl> & <dbl> & <dbl> & <dbl> & <dbl> & <dbl>\\\\\n",
       "\\hline\n",
       "\tmodel & 117.3301 & 2.310321 & 0.0000000 &        NA & 0.2468665 & 0.4952851\\\\\n",
       "\tmodel\\_quad & 118.2895 & 2.471685 & 0.9593919 & 0.7731149 & 0.5386608 & 0.3065674\\\\\n",
       "\tmodel\\_tri & 119.1623 & 2.749628 & 1.8322431 & 1.1708811 & 0.7476947 & 0.1981475\\\\\n",
       "\\end{tabular}\n"
      ],
      "text/markdown": [
       "\n",
       "A compareIC: 3 × 6\n",
       "\n",
       "| <!--/--> | PSIS &lt;dbl&gt; | SE &lt;dbl&gt; | dPSIS &lt;dbl&gt; | dSE &lt;dbl&gt; | pPSIS &lt;dbl&gt; | weight &lt;dbl&gt; |\n",
       "|---|---|---|---|---|---|---|\n",
       "| model | 117.3301 | 2.310321 | 0.0000000 |        NA | 0.2468665 | 0.4952851 |\n",
       "| model_quad | 118.2895 | 2.471685 | 0.9593919 | 0.7731149 | 0.5386608 | 0.3065674 |\n",
       "| model_tri | 119.1623 | 2.749628 | 1.8322431 | 1.1708811 | 0.7476947 | 0.1981475 |\n",
       "\n"
      ],
      "text/plain": [
       "           PSIS     SE       dPSIS     dSE       pPSIS     weight   \n",
       "model      117.3301 2.310321 0.0000000        NA 0.2468665 0.4952851\n",
       "model_quad 118.2895 2.471685 0.9593919 0.7731149 0.5386608 0.3065674\n",
       "model_tri  119.1623 2.749628 1.8322431 1.1708811 0.7476947 0.1981475"
      ]
     },
     "metadata": {},
     "output_type": "display_data"
    }
   ],
   "source": [
    "compare(model, model_quad, model_tri, func=PSIS)"
   ]
  },
  {
   "cell_type": "code",
   "execution_count": 27,
   "id": "f343257e-722b-45f7-80fa-3c094003162a",
   "metadata": {},
   "outputs": [
    {
     "name": "stderr",
     "output_type": "stream",
     "text": [
      "Some Pareto k values are high (>0.5). Set pointwise=TRUE to inspect individual points.\n",
      "\n"
     ]
    },
    {
     "data": {
      "image/png": "[encoded data removed]",
      "text/plain": [
       "plot without title"
      ]
     },
     "metadata": {
      "image/png": {
       "height": 420,
       "width": 420
      }
     },
     "output_type": "display_data"
    }
   ],
   "source": [
    "#use quad model\n",
    "PSIS_m_quad <- PSIS(model_quad, pointwise = TRUE)\n",
    "WAIC_m_quad <- WAIC(model_quad, pointwise = TRUE)\n",
    "\n",
    "plot(PSIS_m_quad$k, WAIC_m_quad$penalty, xlab = 'PSIS Pareto k', ylab = 'WAIC penalty', col=rangi2, lwd=2)"
   ]
  },
  {
   "cell_type": "markdown",
   "id": "175f09e8-2daf-4a22-9ea4-7016105cbad1",
   "metadata": {},
   "source": [
    "see 2 outliers"
   ]
  },
  {
   "cell_type": "markdown",
   "id": "e2acf462-0b83-42e0-8a20-0f8f853ea83d",
   "metadata": {},
   "source": [
    "replace with a student-t robust regression"
   ]
  },
  {
   "cell_type": "code",
   "execution_count": 30,
   "id": "db1a82d3-d842-4e38-8235-fda752c10c2f",
   "metadata": {},
   "outputs": [],
   "source": [
    "model_quad_std_t <- quap(\n",
    "    alist(\n",
    "        s_tax_revenue ~ dstudent(2, mu, sigma),\n",
    "        mu <- a+b*s_tax_rate+c*s_tax_rate**2,\n",
    "        a ~ dnorm(-2, 1),\n",
    "        b ~ dnorm(0, 1),\n",
    "        c ~ dnorm(0, 1),\n",
    "        sigma ~ dexp(1)\n",
    "        ), data = d)"
   ]
  },
  {
   "cell_type": "code",
   "execution_count": 31,
   "id": "e7c91725-b9bc-44b3-9346-086c27ba3b60",
   "metadata": {},
   "outputs": [
    {
     "data": {
      "text/html": [
       "<table class=\"dataframe\">\n",
       "<caption>A data.frame: 1 × 4</caption>\n",
       "<thead>\n",
       "\t<tr><th scope=col>WAIC</th><th scope=col>lppd</th><th scope=col>penalty</th><th scope=col>std_err</th></tr>\n",
       "\t<tr><th scope=col>&lt;dbl&gt;</th><th scope=col>&lt;dbl&gt;</th><th scope=col>&lt;dbl&gt;</th><th scope=col>&lt;dbl&gt;</th></tr>\n",
       "</thead>\n",
       "<tbody>\n",
       "\t<tr><td>71.22325</td><td>-31.52596</td><td>4.085666</td><td>14.11667</td></tr>\n",
       "</tbody>\n",
       "</table>\n"
      ],
      "text/latex": [
       "A data.frame: 1 × 4\n",
       "\\begin{tabular}{llll}\n",
       " WAIC & lppd & penalty & std\\_err\\\\\n",
       " <dbl> & <dbl> & <dbl> & <dbl>\\\\\n",
       "\\hline\n",
       "\t 71.22325 & -31.52596 & 4.085666 & 14.11667\\\\\n",
       "\\end{tabular}\n"
      ],
      "text/markdown": [
       "\n",
       "A data.frame: 1 × 4\n",
       "\n",
       "| WAIC &lt;dbl&gt; | lppd &lt;dbl&gt; | penalty &lt;dbl&gt; | std_err &lt;dbl&gt; |\n",
       "|---|---|---|---|\n",
       "| 71.22325 | -31.52596 | 4.085666 | 14.11667 |\n",
       "\n"
      ],
      "text/plain": [
       "  WAIC     lppd      penalty  std_err \n",
       "1 71.22325 -31.52596 4.085666 14.11667"
      ]
     },
     "metadata": {},
     "output_type": "display_data"
    }
   ],
   "source": [
    "WAIC(model_quad_std_t)"
   ]
  },
  {
   "cell_type": "code",
   "execution_count": 32,
   "id": "81d7b5f1-325e-4e1a-bef7-433c9ab44726",
   "metadata": {},
   "outputs": [
    {
     "data": {
      "text/html": [
       "<table class=\"dataframe\">\n",
       "<caption>A data.frame: 1 × 4</caption>\n",
       "<thead>\n",
       "\t<tr><th scope=col>PSIS</th><th scope=col>lppd</th><th scope=col>penalty</th><th scope=col>std_err</th></tr>\n",
       "\t<tr><th scope=col>&lt;dbl&gt;</th><th scope=col>&lt;dbl&gt;</th><th scope=col>&lt;dbl&gt;</th><th scope=col>&lt;dbl&gt;</th></tr>\n",
       "</thead>\n",
       "<tbody>\n",
       "\t<tr><td>71.58255</td><td>-35.79128</td><td>4.261104</td><td>14.50146</td></tr>\n",
       "</tbody>\n",
       "</table>\n"
      ],
      "text/latex": [
       "A data.frame: 1 × 4\n",
       "\\begin{tabular}{llll}\n",
       " PSIS & lppd & penalty & std\\_err\\\\\n",
       " <dbl> & <dbl> & <dbl> & <dbl>\\\\\n",
       "\\hline\n",
       "\t 71.58255 & -35.79128 & 4.261104 & 14.50146\\\\\n",
       "\\end{tabular}\n"
      ],
      "text/markdown": [
       "\n",
       "A data.frame: 1 × 4\n",
       "\n",
       "| PSIS &lt;dbl&gt; | lppd &lt;dbl&gt; | penalty &lt;dbl&gt; | std_err &lt;dbl&gt; |\n",
       "|---|---|---|---|\n",
       "| 71.58255 | -35.79128 | 4.261104 | 14.50146 |\n",
       "\n"
      ],
      "text/plain": [
       "  PSIS     lppd      penalty  std_err \n",
       "1 71.58255 -35.79128 4.261104 14.50146"
      ]
     },
     "metadata": {},
     "output_type": "display_data"
    }
   ],
   "source": [
    "PSIS(model_quad_std_t)"
   ]
  },
  {
   "cell_type": "markdown",
   "id": "4a1603a5-a648-4da7-a22f-ac21c5b2f391",
   "metadata": {},
   "source": [
    "no more warning"
   ]
  },
  {
   "cell_type": "code",
   "execution_count": 66,
   "id": "d905aa36-7020-4e8c-af5a-9bc8c3dce7cd",
   "metadata": {},
   "outputs": [
    {
     "data": {
      "image/png": "[encoded data removed]",
      "text/plain": [
       "plot without title"
      ]
     },
     "metadata": {
      "image/png": {
       "height": 420,
       "width": 420
      }
     },
     "output_type": "display_data"
    }
   ],
   "source": [
    "plot(s_tax_revenue ~ s_tax_rate, data = d, col=rangi2)\n",
    "post_m_quad <- extract.samples(model_quad)\n",
    "curve(mean(post_m_quad$a)+mean(post_m_quad$b)*x+mean(post_m_quad$c)*x**2, add=TRUE)\n",
    "post_m_quad_t <- extract.samples(model_quad_std_t)\n",
    "curve(mean(post_m_quad_t$a)+mean(post_m_quad_t$b)*x+mean(post_m_quad_t$c)*x**2, add=TRUE, col='red')"
   ]
  },
  {
   "cell_type": "markdown",
   "id": "48cd1e70-3e0b-47c4-9060-8e941badcd8f",
   "metadata": {},
   "source": [
    "The student-t robust regression is much less influenced by the outliers than the normal one"
   ]
  },
  {
   "cell_type": "markdown",
   "id": "40f6519f-a55f-4a2d-89f8-93be27b16446",
   "metadata": {},
   "source": [
    "### 7H3.\n",
    "Consider three fictional Polynesian islands. On each there is a Royal Ornithologist charged by\n",
    "the king with surveying the bird population. They have each found the following proportions of 5\n",
    "important bird species:\n",
    "\n",
    "\n",
    "| Island |Species A | Species B | Species C | Species D | Species E |\n",
    "| --- | --- | --- |  --- | --- | --- |\n",
    "|Island 1| 0.2 | 0.2 | 0.2 | 0.2 | 0.2 |\n",
    "|Island 2| 0.8| 0.1| 0.05| 0.025| 0.025|\n",
    "|Island 3 |0.05 |0.15 |0.7 |0.05 |0.05|\n",
    "\n",
    "\n",
    "Notice that each row sums to 1, all the birds. This problem has two parts. It is not computationally\n",
    "complicated. But it is conceptually tricky. First, compute the entropy of each island’s bird distribution.\n",
    "Interpret these entropy values. Second, use each island’s bird distribution to predict the other two.\n",
    "This means to compute the KL divergence of each island from the others, treating each island as if it\n",
    "were a statistical model of the other islands. You should end up with 6 different KL divergence values.\n",
    "Which island predicts the others best? Why?"
   ]
  },
  {
   "cell_type": "code",
   "execution_count": 77,
   "id": "615a8d47-48fb-4d72-a0d1-7ebddee0cb97",
   "metadata": {},
   "outputs": [],
   "source": [
    "entropy_1 = -5*0.2*log(0.2)"
   ]
  },
  {
   "cell_type": "code",
   "execution_count": 78,
   "id": "ce12628a-7740-4ae6-ad5e-07537f608b7f",
   "metadata": {},
   "outputs": [
    {
     "data": {
      "text/html": [
       "1.6094379124341"
      ],
      "text/latex": [
       "1.6094379124341"
      ],
      "text/markdown": [
       "1.6094379124341"
      ],
      "text/plain": [
       "[1] 1.609438"
      ]
     },
     "metadata": {},
     "output_type": "display_data"
    }
   ],
   "source": [
    "entropy_1"
   ]
  },
  {
   "cell_type": "code",
   "execution_count": 79,
   "id": "efc38746-9859-4cc3-a123-2f6a0b2297a9",
   "metadata": {},
   "outputs": [],
   "source": [
    "entropy_2 = -( 0.8*log(0.8) + 0.1*log(0.1) + 0.05*log(0.05) + 2*0.025*log(0.025) )"
   ]
  },
  {
   "cell_type": "code",
   "execution_count": 80,
   "id": "fc0e3a5b-085a-49f5-b676-2eeee44b17c8",
   "metadata": {},
   "outputs": [
    {
     "data": {
      "text/html": [
       "0.743003936734169"
      ],
      "text/latex": [
       "0.743003936734169"
      ],
      "text/markdown": [
       "0.743003936734169"
      ],
      "text/plain": [
       "[1] 0.7430039"
      ]
     },
     "metadata": {},
     "output_type": "display_data"
    }
   ],
   "source": [
    "entropy_2"
   ]
  },
  {
   "cell_type": "code",
   "execution_count": 81,
   "id": "2ce96d07-22d9-4b6d-8b1b-2401d0edcece",
   "metadata": {},
   "outputs": [],
   "source": [
    "entropy_3 = - (0.05*log(0.05) + 0.15*log(0.15)+0.7*log(0.7) + 2*0.05*log(0.05) )"
   ]
  },
  {
   "cell_type": "code",
   "execution_count": 82,
   "id": "4e000da4-cb6f-4797-bc03-4f59e061e614",
   "metadata": {},
   "outputs": [
    {
     "data": {
      "text/html": [
       "0.983600299523093"
      ],
      "text/latex": [
       "0.983600299523093"
      ],
      "text/markdown": [
       "0.983600299523093"
      ],
      "text/plain": [
       "[1] 0.9836003"
      ]
     },
     "metadata": {},
     "output_type": "display_data"
    }
   ],
   "source": [
    "entropy_3"
   ]
  },
  {
   "cell_type": "markdown",
   "id": "78fd3f61-f05a-4576-a7b5-9e719ab8cd21",
   "metadata": {},
   "source": [
    "Entropy meant the uncertainty about the probability of meeting the next bird species"
   ]
  },
  {
   "cell_type": "code",
   "execution_count": 85,
   "id": "7c2f0bae-13a5-495f-88bf-f784fb56066e",
   "metadata": {},
   "outputs": [],
   "source": [
    "island_1 <- c(0.2, 0.2, 0.2, 0.2, 0.2)\n",
    "island_2 <- c(0.8, 0.1, 0.05, 0.025, 0.025)\n",
    "island_3 <- c(0.05, 0.15, 0.7, 0.05, 0.05)"
   ]
  },
  {
   "cell_type": "code",
   "execution_count": 88,
   "id": "6fd0d19d-299f-4336-80ad-48002c85ff33",
   "metadata": {},
   "outputs": [
    {
     "data": {
      "text/html": [
       "0.970406052783923"
      ],
      "text/latex": [
       "0.970406052783923"
      ],
      "text/markdown": [
       "0.970406052783923"
      ],
      "text/plain": [
       "[1] 0.9704061"
      ]
     },
     "metadata": {},
     "output_type": "display_data"
    }
   ],
   "source": [
    "sum(island_1*log(island_1/island_2))"
   ]
  },
  {
   "cell_type": "code",
   "execution_count": 89,
   "id": "07c84195-79b9-4aea-8103-3631be2f18ee",
   "metadata": {},
   "outputs": [
    {
     "data": {
      "text/html": [
       "0.866433975699932"
      ],
      "text/latex": [
       "0.866433975699932"
      ],
      "text/markdown": [
       "0.866433975699932"
      ],
      "text/plain": [
       "[1] 0.866434"
      ]
     },
     "metadata": {},
     "output_type": "display_data"
    }
   ],
   "source": [
    "sum(island_2*log(island_2/island_1))"
   ]
  },
  {
   "cell_type": "code",
   "execution_count": 90,
   "id": "d09d6c6c-ce6c-4565-8460-5c7758bac7d3",
   "metadata": {},
   "outputs": [
    {
     "data": {
      "text/html": [
       "0.625837612911007"
      ],
      "text/latex": [
       "0.625837612911007"
      ],
      "text/markdown": [
       "0.625837612911007"
      ],
      "text/plain": [
       "[1] 0.6258376"
      ]
     },
     "metadata": {},
     "output_type": "display_data"
    }
   ],
   "source": [
    "sum(island_3*log(island_3/island_1))"
   ]
  },
  {
   "cell_type": "code",
   "execution_count": 93,
   "id": "d5bb1ec7-dc42-4b6c-9bca-ebc0a8262e84",
   "metadata": {},
   "outputs": [
    {
     "data": {
      "text/html": [
       "0.638760437463217"
      ],
      "text/latex": [
       "0.638760437463217"
      ],
      "text/markdown": [
       "0.638760437463217"
      ],
      "text/plain": [
       "[1] 0.6387604"
      ]
     },
     "metadata": {},
     "output_type": "display_data"
    }
   ],
   "source": [
    "sum(island_1*log(island_1/island_3))"
   ]
  },
  {
   "cell_type": "code",
   "execution_count": 91,
   "id": "68193c6b-eebd-4e34-ac5e-4debe8e356cb",
   "metadata": {},
   "outputs": [
    {
     "data": {
      "text/html": [
       "1.83884517889091"
      ],
      "text/latex": [
       "1.83884517889091"
      ],
      "text/markdown": [
       "1.83884517889091"
      ],
      "text/plain": [
       "[1] 1.838845"
      ]
     },
     "metadata": {},
     "output_type": "display_data"
    }
   ],
   "source": [
    "sum(island_3*log(island_3/island_2))"
   ]
  },
  {
   "cell_type": "code",
   "execution_count": 94,
   "id": "777adfb8-c4bc-4fa4-907d-697b98d02e22",
   "metadata": {},
   "outputs": [
    {
     "data": {
      "text/html": [
       "2.01091424147225"
      ],
      "text/latex": [
       "2.01091424147225"
      ],
      "text/markdown": [
       "2.01091424147225"
      ],
      "text/plain": [
       "[1] 2.010914"
      ]
     },
     "metadata": {},
     "output_type": "display_data"
    }
   ],
   "source": [
    "sum(island_2*log(island_2/island_3))"
   ]
  },
  {
   "cell_type": "markdown",
   "id": "23c38941-2fdf-4dd0-b0c8-d47947946731",
   "metadata": {},
   "source": [
    "2 and 3 have really large divergence (>1), because on island 2 there's small prob for specie C"
   ]
  },
  {
   "cell_type": "markdown",
   "id": "28663f32-9314-4ec0-b65a-7c08b0e572b9",
   "metadata": {},
   "source": [
    "### 7H4.\n",
    "\n",
    "Recall the marriage, age, and happiness collider bias example from Chapter 6. Run models\n",
    "m6.9 and m6.10 again (page 178). Compare these two models usingWAIC (or PSIS, they will produce\n",
    "identical results). Which model is expected to make better predictions? Which model provides the\n",
    "correct causal inference about the influence of age on happiness? Can you explain why the answers\n",
    "to these two questions disagree?"
   ]
  },
  {
   "cell_type": "code",
   "execution_count": 95,
   "id": "29669ac8-ec54-49c8-a6de-3ded795a847d",
   "metadata": {},
   "outputs": [
    {
     "data": {
      "text/html": [
       "<table class=\"dataframe\">\n",
       "<caption>A precis: 3 × 5</caption>\n",
       "<thead>\n",
       "\t<tr><th></th><th scope=col>mean</th><th scope=col>sd</th><th scope=col>5.5%</th><th scope=col>94.5%</th><th scope=col>histogram</th></tr>\n",
       "\t<tr><th></th><th scope=col>&lt;dbl&gt;</th><th scope=col>&lt;dbl&gt;</th><th scope=col>&lt;dbl&gt;</th><th scope=col>&lt;dbl&gt;</th><th scope=col>&lt;chr&gt;</th></tr>\n",
       "</thead>\n",
       "<tbody>\n",
       "\t<tr><th scope=row>age</th><td> 3.300000e+01</td><td>18.768883</td><td> 4.000000</td><td>62.000000</td><td>▇▇▇▇▇▇▇▇▇▇▇▇▇</td></tr>\n",
       "\t<tr><th scope=row>married</th><td> 3.007692e-01</td><td> 0.458769</td><td> 0.000000</td><td> 1.000000</td><td>▇▁▁▁▁▁▁▁▁▃   </td></tr>\n",
       "\t<tr><th scope=row>happiness</th><td>-1.000070e-16</td><td> 1.214421</td><td>-1.789474</td><td> 1.789474</td><td>▇▅▇▅▅▇▅▇     </td></tr>\n",
       "</tbody>\n",
       "</table>\n"
      ],
      "text/latex": [
       "A precis: 3 × 5\n",
       "\\begin{tabular}{r|lllll}\n",
       "  & mean & sd & 5.5\\% & 94.5\\% & histogram\\\\\n",
       "  & <dbl> & <dbl> & <dbl> & <dbl> & <chr>\\\\\n",
       "\\hline\n",
       "\tage &  3.300000e+01 & 18.768883 &  4.000000 & 62.000000 & ▇▇▇▇▇▇▇▇▇▇▇▇▇\\\\\n",
       "\tmarried &  3.007692e-01 &  0.458769 &  0.000000 &  1.000000 & ▇▁▁▁▁▁▁▁▁▃   \\\\\n",
       "\thappiness & -1.000070e-16 &  1.214421 & -1.789474 &  1.789474 & ▇▅▇▅▅▇▅▇     \\\\\n",
       "\\end{tabular}\n"
      ],
      "text/markdown": [
       "\n",
       "A precis: 3 × 5\n",
       "\n",
       "| <!--/--> | mean &lt;dbl&gt; | sd &lt;dbl&gt; | 5.5% &lt;dbl&gt; | 94.5% &lt;dbl&gt; | histogram &lt;chr&gt; |\n",
       "|---|---|---|---|---|---|\n",
       "| age |  3.300000e+01 | 18.768883 |  4.000000 | 62.000000 | ▇▇▇▇▇▇▇▇▇▇▇▇▇ |\n",
       "| married |  3.007692e-01 |  0.458769 |  0.000000 |  1.000000 | ▇▁▁▁▁▁▁▁▁▃    |\n",
       "| happiness | -1.000070e-16 |  1.214421 | -1.789474 |  1.789474 | ▇▅▇▅▅▇▅▇      |\n",
       "\n"
      ],
      "text/plain": [
       "          mean          sd        5.5%      94.5%     histogram    \n",
       "age        3.300000e+01 18.768883  4.000000 62.000000 ▇▇▇▇▇▇▇▇▇▇▇▇▇\n",
       "married    3.007692e-01  0.458769  0.000000  1.000000 ▇▁▁▁▁▁▁▁▁▃   \n",
       "happiness -1.000070e-16  1.214421 -1.789474  1.789474 ▇▅▇▅▅▇▅▇     "
      ]
     },
     "metadata": {},
     "output_type": "display_data"
    },
    {
     "data": {
      "text/html": [
       "<table class=\"dataframe\">\n",
       "<caption>A precis: 4 × 4</caption>\n",
       "<thead>\n",
       "\t<tr><th></th><th scope=col>mean</th><th scope=col>sd</th><th scope=col>5.5%</th><th scope=col>94.5%</th></tr>\n",
       "\t<tr><th></th><th scope=col>&lt;dbl&gt;</th><th scope=col>&lt;dbl&gt;</th><th scope=col>&lt;dbl&gt;</th><th scope=col>&lt;dbl&gt;</th></tr>\n",
       "</thead>\n",
       "<tbody>\n",
       "\t<tr><th scope=row>a[1]</th><td>-0.2350877</td><td>0.06348986</td><td>-0.3365568</td><td>-0.1336186</td></tr>\n",
       "\t<tr><th scope=row>a[2]</th><td> 1.2585517</td><td>0.08495989</td><td> 1.1227694</td><td> 1.3943340</td></tr>\n",
       "\t<tr><th scope=row>bA</th><td>-0.7490274</td><td>0.11320112</td><td>-0.9299447</td><td>-0.5681102</td></tr>\n",
       "\t<tr><th scope=row>sigma</th><td> 0.9897080</td><td>0.02255800</td><td> 0.9536559</td><td> 1.0257600</td></tr>\n",
       "</tbody>\n",
       "</table>\n"
      ],
      "text/latex": [
       "A precis: 4 × 4\n",
       "\\begin{tabular}{r|llll}\n",
       "  & mean & sd & 5.5\\% & 94.5\\%\\\\\n",
       "  & <dbl> & <dbl> & <dbl> & <dbl>\\\\\n",
       "\\hline\n",
       "\ta{[}1{]} & -0.2350877 & 0.06348986 & -0.3365568 & -0.1336186\\\\\n",
       "\ta{[}2{]} &  1.2585517 & 0.08495989 &  1.1227694 &  1.3943340\\\\\n",
       "\tbA & -0.7490274 & 0.11320112 & -0.9299447 & -0.5681102\\\\\n",
       "\tsigma &  0.9897080 & 0.02255800 &  0.9536559 &  1.0257600\\\\\n",
       "\\end{tabular}\n"
      ],
      "text/markdown": [
       "\n",
       "A precis: 4 × 4\n",
       "\n",
       "| <!--/--> | mean &lt;dbl&gt; | sd &lt;dbl&gt; | 5.5% &lt;dbl&gt; | 94.5% &lt;dbl&gt; |\n",
       "|---|---|---|---|---|\n",
       "| a[1] | -0.2350877 | 0.06348986 | -0.3365568 | -0.1336186 |\n",
       "| a[2] |  1.2585517 | 0.08495989 |  1.1227694 |  1.3943340 |\n",
       "| bA | -0.7490274 | 0.11320112 | -0.9299447 | -0.5681102 |\n",
       "| sigma |  0.9897080 | 0.02255800 |  0.9536559 |  1.0257600 |\n",
       "\n"
      ],
      "text/plain": [
       "      mean       sd         5.5%       94.5%     \n",
       "a[1]  -0.2350877 0.06348986 -0.3365568 -0.1336186\n",
       "a[2]   1.2585517 0.08495989  1.1227694  1.3943340\n",
       "bA    -0.7490274 0.11320112 -0.9299447 -0.5681102\n",
       "sigma  0.9897080 0.02255800  0.9536559  1.0257600"
      ]
     },
     "metadata": {},
     "output_type": "display_data"
    },
    {
     "data": {
      "text/html": [
       "<table class=\"dataframe\">\n",
       "<caption>A precis: 3 × 4</caption>\n",
       "<thead>\n",
       "\t<tr><th></th><th scope=col>mean</th><th scope=col>sd</th><th scope=col>5.5%</th><th scope=col>94.5%</th></tr>\n",
       "\t<tr><th></th><th scope=col>&lt;dbl&gt;</th><th scope=col>&lt;dbl&gt;</th><th scope=col>&lt;dbl&gt;</th><th scope=col>&lt;dbl&gt;</th></tr>\n",
       "</thead>\n",
       "<tbody>\n",
       "\t<tr><th scope=row>a</th><td> 1.649248e-07</td><td>0.07675015</td><td>-0.1226614</td><td>0.1226617</td></tr>\n",
       "\t<tr><th scope=row>bA</th><td>-2.728620e-07</td><td>0.13225976</td><td>-0.2113769</td><td>0.2113764</td></tr>\n",
       "\t<tr><th scope=row>sigma</th><td> 1.213188e+00</td><td>0.02766080</td><td> 1.1689803</td><td>1.2573949</td></tr>\n",
       "</tbody>\n",
       "</table>\n"
      ],
      "text/latex": [
       "A precis: 3 × 4\n",
       "\\begin{tabular}{r|llll}\n",
       "  & mean & sd & 5.5\\% & 94.5\\%\\\\\n",
       "  & <dbl> & <dbl> & <dbl> & <dbl>\\\\\n",
       "\\hline\n",
       "\ta &  1.649248e-07 & 0.07675015 & -0.1226614 & 0.1226617\\\\\n",
       "\tbA & -2.728620e-07 & 0.13225976 & -0.2113769 & 0.2113764\\\\\n",
       "\tsigma &  1.213188e+00 & 0.02766080 &  1.1689803 & 1.2573949\\\\\n",
       "\\end{tabular}\n"
      ],
      "text/markdown": [
       "\n",
       "A precis: 3 × 4\n",
       "\n",
       "| <!--/--> | mean &lt;dbl&gt; | sd &lt;dbl&gt; | 5.5% &lt;dbl&gt; | 94.5% &lt;dbl&gt; |\n",
       "|---|---|---|---|---|\n",
       "| a |  1.649248e-07 | 0.07675015 | -0.1226614 | 0.1226617 |\n",
       "| bA | -2.728620e-07 | 0.13225976 | -0.2113769 | 0.2113764 |\n",
       "| sigma |  1.213188e+00 | 0.02766080 |  1.1689803 | 1.2573949 |\n",
       "\n"
      ],
      "text/plain": [
       "      mean          sd         5.5%       94.5%    \n",
       "a      1.649248e-07 0.07675015 -0.1226614 0.1226617\n",
       "bA    -2.728620e-07 0.13225976 -0.2113769 0.2113764\n",
       "sigma  1.213188e+00 0.02766080  1.1689803 1.2573949"
      ]
     },
     "metadata": {},
     "output_type": "display_data"
    }
   ],
   "source": [
    "d <- sim_happiness( seed=1977 , N_years=1000 )\n",
    "precis(d)\n",
    "\n",
    "## R code 6.22\n",
    "d2 <- d[ d$age>17 , ] # only adults\n",
    "d2$A <- ( d2$age - 18 ) / ( 65 - 18 )\n",
    "\n",
    "## R code 6.23\n",
    "d2$mid <- d2$married + 1\n",
    "m6.9 <- quap(\n",
    "    alist(\n",
    "        happiness ~ dnorm( mu , sigma ),\n",
    "        mu <- a[mid] + bA*A,\n",
    "        a[mid] ~ dnorm( 0 , 1 ),\n",
    "        bA ~ dnorm( 0 , 2 ),\n",
    "        sigma ~ dexp(1)\n",
    "    ) , data=d2 )\n",
    "precis(m6.9,depth=2)\n",
    "\n",
    "## R code 6.24\n",
    "m6.10 <- quap(\n",
    "    alist(\n",
    "        happiness ~ dnorm( mu , sigma ),\n",
    "        mu <- a + bA*A,\n",
    "        a ~ dnorm( 0 , 1 ),\n",
    "        bA ~ dnorm( 0 , 2 ),\n",
    "        sigma ~ dexp(1)\n",
    "    ) , data=d2 )\n",
    "precis(m6.10)"
   ]
  },
  {
   "cell_type": "code",
   "execution_count": 97,
   "id": "8a96ccb0-9632-4554-b518-d3ff49afe7d0",
   "metadata": {},
   "outputs": [
    {
     "data": {
      "text/html": [
       "<table class=\"dataframe\">\n",
       "<caption>A compareIC: 2 × 6</caption>\n",
       "<thead>\n",
       "\t<tr><th></th><th scope=col>WAIC</th><th scope=col>SE</th><th scope=col>dWAIC</th><th scope=col>dSE</th><th scope=col>pWAIC</th><th scope=col>weight</th></tr>\n",
       "\t<tr><th></th><th scope=col>&lt;dbl&gt;</th><th scope=col>&lt;dbl&gt;</th><th scope=col>&lt;dbl&gt;</th><th scope=col>&lt;dbl&gt;</th><th scope=col>&lt;dbl&gt;</th><th scope=col>&lt;dbl&gt;</th></tr>\n",
       "</thead>\n",
       "<tbody>\n",
       "\t<tr><th scope=row>m6.9</th><td>2713.797</td><td>37.55914</td><td>  0.0000</td><td>      NA</td><td>3.647937</td><td>1.0000e+00</td></tr>\n",
       "\t<tr><th scope=row>m6.10</th><td>3102.072</td><td>27.75233</td><td>388.2746</td><td>35.46971</td><td>2.423316</td><td>4.8667e-85</td></tr>\n",
       "</tbody>\n",
       "</table>\n"
      ],
      "text/latex": [
       "A compareIC: 2 × 6\n",
       "\\begin{tabular}{r|llllll}\n",
       "  & WAIC & SE & dWAIC & dSE & pWAIC & weight\\\\\n",
       "  & <dbl> & <dbl> & <dbl> & <dbl> & <dbl> & <dbl>\\\\\n",
       "\\hline\n",
       "\tm6.9 & 2713.797 & 37.55914 &   0.0000 &       NA & 3.647937 & 1.0000e+00\\\\\n",
       "\tm6.10 & 3102.072 & 27.75233 & 388.2746 & 35.46971 & 2.423316 & 4.8667e-85\\\\\n",
       "\\end{tabular}\n"
      ],
      "text/markdown": [
       "\n",
       "A compareIC: 2 × 6\n",
       "\n",
       "| <!--/--> | WAIC &lt;dbl&gt; | SE &lt;dbl&gt; | dWAIC &lt;dbl&gt; | dSE &lt;dbl&gt; | pWAIC &lt;dbl&gt; | weight &lt;dbl&gt; |\n",
       "|---|---|---|---|---|---|---|\n",
       "| m6.9 | 2713.797 | 37.55914 |   0.0000 |       NA | 3.647937 | 1.0000e+00 |\n",
       "| m6.10 | 3102.072 | 27.75233 | 388.2746 | 35.46971 | 2.423316 | 4.8667e-85 |\n",
       "\n"
      ],
      "text/plain": [
       "      WAIC     SE       dWAIC    dSE      pWAIC    weight    \n",
       "m6.9  2713.797 37.55914   0.0000       NA 3.647937 1.0000e+00\n",
       "m6.10 3102.072 27.75233 388.2746 35.46971 2.423316 4.8667e-85"
      ]
     },
     "metadata": {},
     "output_type": "display_data"
    }
   ],
   "source": [
    "compare(m6.10, m6.9, func=WAIC)"
   ]
  },
  {
   "cell_type": "markdown",
   "id": "eba365a4-5fa1-4725-abda-9e8d7d0f990f",
   "metadata": {},
   "source": [
    "the causal model is  H -> M <- A, this is a collider, so we will see spurious relation"
   ]
  },
  {
   "cell_type": "markdown",
   "id": "8612abac-8b80-496a-a358-4ad5768d9b44",
   "metadata": {},
   "source": [
    "WAIC shows m6.9 is a better model, but this is not consistent with the causal model. But this model has better predicative power because knowing whether you are married gives you additional predicative power on happiness. "
   ]
  },
  {
   "cell_type": "markdown",
   "id": "8dd80db2-9846-43f6-b861-d00b12296c75",
   "metadata": {},
   "source": [
    "### 7H5.\n",
    "Revisit the urban fox data, data(foxes), from the previous chapter’s practice problems. Use\n",
    "WAIC or PSIS based model comparison on five different models, each using weight as the outcome,\n",
    "and containing these sets of predictor variables:\n",
    "\n",
    "(1) avgfood + groupsize + area\n",
    "\n",
    "(2) avgfood + groupsize\n",
    "\n",
    "(3) groupsize + area\n",
    "\n",
    "(4) avgfood\n",
    "\n",
    "(5) area\n",
    "\n",
    "Can you explain the relative differences in WAIC scores, using the fox DAG from the previous chapter? Be sure to pay attention to the standard error of the score differences (dSE)."
   ]
  },
  {
   "cell_type": "code",
   "execution_count": 103,
   "id": "d86ddb19-d93a-4cba-8a18-d3950d3e84d1",
   "metadata": {},
   "outputs": [],
   "source": [
    "data(foxes)"
   ]
  },
  {
   "cell_type": "code",
   "execution_count": 104,
   "id": "94cf710b-ac66-4108-8e54-1d028d2f68a2",
   "metadata": {},
   "outputs": [],
   "source": [
    "d <- foxes"
   ]
  },
  {
   "cell_type": "code",
   "execution_count": 107,
   "id": "caa10233-0676-4ee5-b569-8b932d39721f",
   "metadata": {},
   "outputs": [],
   "source": [
    "d$s_area <- standardize(d$area)\n",
    "d$s_weight<- standardize(d$weight)\n",
    "d$s_avgfood <- standardize(d$avgfood)\n",
    "d$s_groupsize <- standardize(d$groupsize)"
   ]
  },
  {
   "cell_type": "code",
   "execution_count": 110,
   "id": "ce818f4a-4d73-48e0-b40f-325b858b25c1",
   "metadata": {},
   "outputs": [],
   "source": [
    "m_5<- quap(\n",
    "    alist(\n",
    "        s_weight ~ dnorm(mu, sigma),\n",
    "        mu <- a + b*s_area,\n",
    "        a ~ dnorm(0,0.5),\n",
    "        b ~ dnorm(0, 0.5),\n",
    "        sigma ~ exp(1)\n",
    "        ), data = d)"
   ]
  },
  {
   "cell_type": "code",
   "execution_count": 111,
   "id": "e2dbbb3d-88d8-4c06-a895-6e8ac4b687b0",
   "metadata": {},
   "outputs": [],
   "source": [
    "m_4<- quap(\n",
    "    alist(\n",
    "        s_weight ~ dnorm(mu, sigma),\n",
    "        mu <- a + b*s_avgfood,\n",
    "        a ~ dnorm(0,0.5),\n",
    "        b ~ dnorm(0, 0.5),\n",
    "        sigma ~ exp(1)\n",
    "        ), data = d)"
   ]
  },
  {
   "cell_type": "code",
   "execution_count": 113,
   "id": "415a9cf3-f987-49f9-9fdc-be434ca2b172",
   "metadata": {},
   "outputs": [],
   "source": [
    "m_1<- quap(\n",
    "    alist(\n",
    "        s_weight ~ dnorm(mu, sigma),\n",
    "        mu <- a + b1*s_avgfood+b2*s_groupsize+b3*s_area,\n",
    "        a ~ dnorm(0,0.5),\n",
    "        b1 ~ dnorm(0, 0.5),\n",
    "        b2 ~ dnorm(0, 0.5),\n",
    "        b3 ~ dnorm(0, 0.5),\n",
    "        sigma ~ exp(1)\n",
    "        ), data = d)"
   ]
  },
  {
   "cell_type": "code",
   "execution_count": 114,
   "id": "2ead6709-3484-42c0-8033-30848f89bd3e",
   "metadata": {},
   "outputs": [],
   "source": [
    "m_2<- quap(\n",
    "    alist(\n",
    "        s_weight ~ dnorm(mu, sigma),\n",
    "        mu <- a + b1*s_avgfood+b2*s_groupsize,\n",
    "        a ~ dnorm(0,0.5),\n",
    "        b1 ~ dnorm(0, 0.5),\n",
    "        b2 ~ dnorm(0, 0.5),\n",
    "        sigma ~ exp(1)\n",
    "        ), data = d)"
   ]
  },
  {
   "cell_type": "code",
   "execution_count": 115,
   "id": "d14e9dd1-f3b6-468a-8ab0-c19c841629dd",
   "metadata": {},
   "outputs": [],
   "source": [
    "m_3<- quap(\n",
    "    alist(\n",
    "        s_weight ~ dnorm(mu, sigma),\n",
    "        mu <- a + b1*s_area+b2*s_groupsize,\n",
    "        a ~ dnorm(0,0.5),\n",
    "        b1 ~ dnorm(0, 0.5),\n",
    "        b2 ~ dnorm(0, 0.5),\n",
    "        sigma ~ exp(1)\n",
    "        ), data = d)"
   ]
  },
  {
   "cell_type": "code",
   "execution_count": 116,
   "id": "74fd1b63-4c8e-4292-9fa5-d2166aeb83e3",
   "metadata": {},
   "outputs": [
    {
     "data": {
      "text/html": [
       "<table class=\"dataframe\">\n",
       "<caption>A compareIC: 5 × 6</caption>\n",
       "<thead>\n",
       "\t<tr><th></th><th scope=col>WAIC</th><th scope=col>SE</th><th scope=col>dWAIC</th><th scope=col>dSE</th><th scope=col>pWAIC</th><th scope=col>weight</th></tr>\n",
       "\t<tr><th></th><th scope=col>&lt;dbl&gt;</th><th scope=col>&lt;dbl&gt;</th><th scope=col>&lt;dbl&gt;</th><th scope=col>&lt;dbl&gt;</th><th scope=col>&lt;dbl&gt;</th><th scope=col>&lt;dbl&gt;</th></tr>\n",
       "</thead>\n",
       "<tbody>\n",
       "\t<tr><th scope=row>m_2</th><td>462.1220</td><td>1.798097</td><td>0.00000000</td><td>       NA</td><td>0.2511294</td><td>0.2276360</td></tr>\n",
       "\t<tr><th scope=row>m_3</th><td>462.1704</td><td>1.781199</td><td>0.04843702</td><td>0.2435209</td><td>0.2800982</td><td>0.2221892</td></tr>\n",
       "\t<tr><th scope=row>m_1</th><td>462.4784</td><td>1.781305</td><td>0.35642961</td><td>0.2453691</td><td>0.3445686</td><td>0.1904773</td></tr>\n",
       "\t<tr><th scope=row>m_5</th><td>462.5849</td><td>1.779173</td><td>0.46289223</td><td>0.4192192</td><td>0.2266290</td><td>0.1806031</td></tr>\n",
       "\t<tr><th scope=row>m_4</th><td>462.6017</td><td>1.778694</td><td>0.47966909</td><td>0.3495400</td><td>0.2105078</td><td>0.1790944</td></tr>\n",
       "</tbody>\n",
       "</table>\n"
      ],
      "text/latex": [
       "A compareIC: 5 × 6\n",
       "\\begin{tabular}{r|llllll}\n",
       "  & WAIC & SE & dWAIC & dSE & pWAIC & weight\\\\\n",
       "  & <dbl> & <dbl> & <dbl> & <dbl> & <dbl> & <dbl>\\\\\n",
       "\\hline\n",
       "\tm\\_2 & 462.1220 & 1.798097 & 0.00000000 &        NA & 0.2511294 & 0.2276360\\\\\n",
       "\tm\\_3 & 462.1704 & 1.781199 & 0.04843702 & 0.2435209 & 0.2800982 & 0.2221892\\\\\n",
       "\tm\\_1 & 462.4784 & 1.781305 & 0.35642961 & 0.2453691 & 0.3445686 & 0.1904773\\\\\n",
       "\tm\\_5 & 462.5849 & 1.779173 & 0.46289223 & 0.4192192 & 0.2266290 & 0.1806031\\\\\n",
       "\tm\\_4 & 462.6017 & 1.778694 & 0.47966909 & 0.3495400 & 0.2105078 & 0.1790944\\\\\n",
       "\\end{tabular}\n"
      ],
      "text/markdown": [
       "\n",
       "A compareIC: 5 × 6\n",
       "\n",
       "| <!--/--> | WAIC &lt;dbl&gt; | SE &lt;dbl&gt; | dWAIC &lt;dbl&gt; | dSE &lt;dbl&gt; | pWAIC &lt;dbl&gt; | weight &lt;dbl&gt; |\n",
       "|---|---|---|---|---|---|---|\n",
       "| m_2 | 462.1220 | 1.798097 | 0.00000000 |        NA | 0.2511294 | 0.2276360 |\n",
       "| m_3 | 462.1704 | 1.781199 | 0.04843702 | 0.2435209 | 0.2800982 | 0.2221892 |\n",
       "| m_1 | 462.4784 | 1.781305 | 0.35642961 | 0.2453691 | 0.3445686 | 0.1904773 |\n",
       "| m_5 | 462.5849 | 1.779173 | 0.46289223 | 0.4192192 | 0.2266290 | 0.1806031 |\n",
       "| m_4 | 462.6017 | 1.778694 | 0.47966909 | 0.3495400 | 0.2105078 | 0.1790944 |\n",
       "\n"
      ],
      "text/plain": [
       "    WAIC     SE       dWAIC      dSE       pWAIC     weight   \n",
       "m_2 462.1220 1.798097 0.00000000        NA 0.2511294 0.2276360\n",
       "m_3 462.1704 1.781199 0.04843702 0.2435209 0.2800982 0.2221892\n",
       "m_1 462.4784 1.781305 0.35642961 0.2453691 0.3445686 0.1904773\n",
       "m_5 462.5849 1.779173 0.46289223 0.4192192 0.2266290 0.1806031\n",
       "m_4 462.6017 1.778694 0.47966909 0.3495400 0.2105078 0.1790944"
      ]
     },
     "metadata": {},
     "output_type": "display_data"
    }
   ],
   "source": [
    "compare(m_1,m_2,m_3,m_4,m_5, func=WAIC)"
   ]
  },
  {
   "cell_type": "markdown",
   "id": "c35e2ce7-e57b-4347-b943-0892156f2a62",
   "metadata": {},
   "source": [
    "we note that not much happens between m_5, m_4 (the dWAIC are similar and the dSE are similar), so swapping avgfood and area doesn't do much. This is because area -> avgfood -> weight, so area and avgfood are causally the same. But they perform badly becasue there is a backdoor on avgfood -> groupsize -> weight\n",
    "\n",
    "the winner is avgfood + groupsize. this is actually the correct causal model as we break the backdoor path avgfood->groupsize->weight. 1 and 2 shouldn't be different as area-> avgfood so avgfood already contains all information on area. 3 is bad because the backdoor is still there"
   ]
  },
  {
   "cell_type": "code",
   "execution_count": null,
   "id": "0450c6f7-0da6-4915-88ff-e1838812a899",
   "metadata": {},
   "outputs": [],
   "source": []
  }
 ],
 "metadata": {
  "kernelspec": {
   "display_name": "R",
   "language": "R",
   "name": "ir"
  },
  "language_info": {
   "codemirror_mode": "r",
   "file_extension": ".r",
   "mimetype": "text/x-r-source",
   "name": "R",
   "pygments_lexer": "r",
   "version": "4.2.1"
  }
 },
 "nbformat": 4,
 "nbformat_minor": 5
}
