{
 "cells": [
  {
   "cell_type": "markdown",
   "id": "3d788660-6087-4f9a-a134-3d978de3dbdc",
   "metadata": {},
   "source": [
    "# Chapter 11 - GOD SPIKED THE INTEGERS"
   ]
  },
  {
   "cell_type": "code",
   "execution_count": 1,
   "id": "eb6288bb-3570-4286-9d87-133516436620",
   "metadata": {
    "execution": {
     "iopub.execute_input": "2023-03-30T14:24:47.050975Z",
     "iopub.status.busy": "2023-03-30T14:24:47.048425Z",
     "iopub.status.idle": "2023-03-30T14:24:48.341681Z",
     "shell.execute_reply": "2023-03-30T14:24:48.340924Z"
    }
   },
   "outputs": [
    {
     "name": "stderr",
     "output_type": "stream",
     "text": [
      "Loading required package: rstan\n",
      "\n",
      "Loading required package: StanHeaders\n",
      "\n",
      "Loading required package: ggplot2\n",
      "\n",
      "rstan (Version 2.21.7, GitRev: 2e1f913d3ca3)\n",
      "\n",
      "For execution on a local, multicore CPU with excess RAM we recommend calling\n",
      "options(mc.cores = parallel::detectCores()).\n",
      "To avoid recompilation of unchanged Stan programs, we recommend calling\n",
      "rstan_options(auto_write = TRUE)\n",
      "\n",
      "Loading required package: cmdstanr\n",
      "\n",
      "This is cmdstanr version 0.5.3\n",
      "\n",
      "- CmdStanR documentation and vignettes: mc-stan.org/cmdstanr\n",
      "\n",
      "- Use set_cmdstan_path() to set the path to CmdStan\n",
      "\n",
      "- Use install_cmdstan() to install CmdStan\n",
      "\n",
      "Loading required package: parallel\n",
      "\n",
      "rethinking (Version 2.21)\n",
      "\n",
      "\n",
      "Attaching package: ‘rethinking’\n",
      "\n",
      "\n",
      "The following object is masked from ‘package:rstan’:\n",
      "\n",
      "    stan\n",
      "\n",
      "\n",
      "The following object is masked from ‘package:stats’:\n",
      "\n",
      "    rstudent\n",
      "\n",
      "\n"
     ]
    }
   ],
   "source": [
    "library(rethinking)"
   ]
  },
  {
   "cell_type": "markdown",
   "id": "ca0b4628-6ecc-4b64-8ba7-b4a3fea8c5b4",
   "metadata": {
    "tags": []
   },
   "source": [
    "## 11E1. \n",
    "\n",
    "**If an event has probability 0.35, what are the log-odds of this event?**\n"
   ]
  },
  {
   "cell_type": "code",
   "execution_count": 2,
   "id": "8f58435a-bccb-4337-bd90-f59d3c2baeb9",
   "metadata": {
    "execution": {
     "iopub.execute_input": "2023-03-30T14:24:48.353524Z",
     "iopub.status.busy": "2023-03-30T14:24:48.342653Z",
     "iopub.status.idle": "2023-03-30T14:24:48.359807Z",
     "shell.execute_reply": "2023-03-30T14:24:48.359087Z"
    },
    "tags": []
   },
   "outputs": [
    {
     "data": {
      "text/html": [
       "-0.619039208406224"
      ],
      "text/latex": [
       "-0.619039208406224"
      ],
      "text/markdown": [
       "-0.619039208406224"
      ],
      "text/plain": [
       "[1] -0.6190392"
      ]
     },
     "metadata": {},
     "output_type": "display_data"
    }
   ],
   "source": [
    "# log-odds = log(p/(1-p))\n",
    "log(0.35/0.65)"
   ]
  },
  {
   "cell_type": "markdown",
   "id": "8314522c-1ac0-47c3-8e7e-391b4f17cc87",
   "metadata": {},
   "source": [
    "## 11E2.\n",
    "\n",
    "**If an event has log-odds 3.2, what is the probability of this event?**"
   ]
  },
  {
   "cell_type": "code",
   "execution_count": 3,
   "id": "666f9c0f-ca56-4071-9c62-55a2b9ed83d5",
   "metadata": {
    "execution": {
     "iopub.execute_input": "2023-03-30T14:24:48.361294Z",
     "iopub.status.busy": "2023-03-30T14:24:48.360802Z",
     "iopub.status.idle": "2023-03-30T14:24:48.367065Z",
     "shell.execute_reply": "2023-03-30T14:24:48.366223Z"
    },
    "tags": []
   },
   "outputs": [
    {
     "data": {
      "text/html": [
       "0.960834277203236"
      ],
      "text/latex": [
       "0.960834277203236"
      ],
      "text/markdown": [
       "0.960834277203236"
      ],
      "text/plain": [
       "[1] 0.9608343"
      ]
     },
     "metadata": {},
     "output_type": "display_data"
    }
   ],
   "source": [
    "# log(p/1-p) = 3.2\n",
    "# exp(3.2) = p/(1-p)\n",
    "# (1-p)exp(3.2) = p\n",
    "# exp(3.2) = p(1+exp(3.2))\n",
    "# p = exp(3.2)/(1+exp(3.2))\n",
    "\n",
    "exp(3.2)/(1+exp(3.2))"
   ]
  },
  {
   "cell_type": "markdown",
   "id": "304d8c67-5d24-4d30-9157-1fffbc8d785f",
   "metadata": {},
   "source": [
    "## 11E3.\n",
    "\n",
    "**Suppose that a coefficient in a logistic regression has value 1.7. What does this imply about the proportional change in odds of the outcome?**\n"
   ]
  },
  {
   "cell_type": "markdown",
   "id": "ef0acc39-34d2-4889-bde1-4a84192f4e0e",
   "metadata": {},
   "source": [
    "if the predicator increases by 1, then the outcome increases by exp(1.7)"
   ]
  },
  {
   "cell_type": "markdown",
   "id": "95ff52ab-9b46-47e3-a66e-3e46a09c156f",
   "metadata": {},
   "source": [
    "## 11E4.\n",
    "\n",
    "**Why do Poisson regressions sometimes require the use of an offset? Provide an example.**\n",
    "\n",
    "Log of the _exposure_ is an offset. As the $\\lambda$ can be seen as a rate of counts, the time/distance across which this rate is calculated is called the _exposure_. This allows different exposures of counts to be compared in one model. In the example provided in the book, two monastaries have different counts of manuscripts (across week or day) "
   ]
  },
  {
   "cell_type": "markdown",
   "id": "ab087a42-44f3-4f01-a5d8-5072ac269bf4",
   "metadata": {},
   "source": [
    "##  11M1\n",
    "**As explained in the chapter, binomial data can be organized in aggregated and disaggregated forms, without any impact on inference. But the likelihood of the data does change when the data are converted between the two formats. Can you explain why?**"
   ]
  },
  {
   "cell_type": "markdown",
   "id": "8b92a595-58c2-46aa-a135-ce924b1eba0a",
   "metadata": {},
   "source": [
    "In single trial, the likelihood is $\\frac{n!}{(n-k)!k!}p^k(1-p)^{n-k}$, and for an aggregated binomial, if we don't care about the order of the outcomes, then the likelihood is $p^k(1-p)^{n-k}$, as the first term is just a constant, it does not affect our inference and the likelihood in the model"
   ]
  },
  {
   "cell_type": "markdown",
   "id": "d1f2b5d8-d96c-4957-9a1e-c23ff2c06fd6",
   "metadata": {},
   "source": [
    "## 11M2\n",
    "\n",
    "**If a coefficient in a Poisson regression has value 1.7, what does this imply about the change in the outcome?**"
   ]
  },
  {
   "cell_type": "markdown",
   "id": "7b6c7fdf-4b98-4854-a48c-3dd20a2ae511",
   "metadata": {},
   "source": [
    "if this coefficient changes by 1, then the log of the rate $\\lambda$ will change by 1.7, so $\\lambda$ will change by $\\exp(1.7)$. \n",
    "\n",
    "this is because we usually use the log link for Poisson models"
   ]
  },
  {
   "cell_type": "markdown",
   "id": "7dc6fd7d-d475-4242-830e-bcf658f7c5bc",
   "metadata": {},
   "source": [
    "## 11M3\n",
    "\n",
    "**Explain why the logit link is appropriate for a binomial generalized linear model**"
   ]
  },
  {
   "cell_type": "markdown",
   "id": "00388c22-409e-4c93-bfdb-00ad2c047874",
   "metadata": {},
   "source": [
    "Because it maps continous values of a linear model to probability space [0,1]"
   ]
  },
  {
   "cell_type": "markdown",
   "id": "aa97bd25-c25e-467f-a8db-93982b537b44",
   "metadata": {},
   "source": [
    "## 11M4\n",
    "\n",
    "**Explain why the log link is appropriate for a Poisson generalized linear model**"
   ]
  },
  {
   "cell_type": "markdown",
   "id": "f7b91642-f7f2-4244-bbe9-24f3b988c3eb",
   "metadata": {},
   "source": [
    "because it ensures the rate $\\lambda$ is always positive"
   ]
  },
  {
   "cell_type": "markdown",
   "id": "7a5d4dd0-f442-486c-a990-3015a1dac5a7",
   "metadata": {},
   "source": [
    "## 11M5\n",
    "\n",
    "**What would it imply to use a logit link for the mean of a Poisson GLM? Can you think of a real research problem for which this will make sense?**"
   ]
  },
  {
   "cell_type": "markdown",
   "id": "eb2ed38d-c589-4e17-a355-7a5d8e00d258",
   "metadata": {},
   "source": [
    "So it would mean to have\n",
    "\n",
    "$logit(\\lambda) = \\log(\\frac{\\lambda}{1-\\lambda}) = \\alpha + \\beta*x$ \n",
    "\n",
    "So somehow the predicators will affect the rate of counts, and it seems that $\\lambda$ is then restricted to between [0,1] because we cannot have $\\lambda \\geq 1$. \n",
    "\n",
    "I mean you can have certain processes that produces less than 1 unit of things with a given time/distance. Say in the monastory case you can say, instead of producing one manuscript, producing a fraction of an entire bible day. \n",
    "\n",
    "Apparently you can also set the maximum number, instead of 1, to M, so \n",
    "\n",
    "$logit(\\lambda) = \\log(\\frac{\\lambda}{M-\\lambda}) = \\alpha + \\beta*x$ \n",
    "\n",
    "If M is large, then the probability is low, and we can use Poisson here. Otherwise a binomial will be more appropriate"
   ]
  },
  {
   "cell_type": "markdown",
   "id": "f47c4556-0596-4f62-ba59-21e085e6fd56",
   "metadata": {},
   "source": [
    "## 11M6\n",
    "\n",
    "**State the constraints for which the binomial and the Poisson distributions have maximum entropy. Are the constraints different at all for binomial and Poisson? Why or Why not?**"
   ]
  },
  {
   "cell_type": "markdown",
   "id": "2edc2978-f5ab-4ef4-b957-52a6c16c03c8",
   "metadata": {},
   "source": [
    "Poisson and Binomial should have the same constraints since they are the same (Poisson being an special case of the binomial distribution)\n",
    "\n",
    "The expected outcome is the mean, the n and p are discrete, constant probability of events across trials. \n",
    "\n",
    "_Note: maximum entropy distribution means that under certain contraints (as stated above for binomial) this distribution is the most plausible distribution_\n",
    "\n",
    "In overthinking box on p. 312 there is a derivation for binomial distribution as the maximum entropy"
   ]
  },
  {
   "cell_type": "markdown",
   "id": "65504afd-70ed-4970-a42c-989886c9ba39",
   "metadata": {},
   "source": [
    "## 11M7\n",
    "\n",
    "Use `quap` to construct a quadratic approximate posterior distribution for the chimpanzee model that includes a unique intercept for each actor, `m11.4` (page 330). Compare the quadratic approx. to the posterior distribution produced instead from MCMC. Can you explain the differences and the similarities between the approx. and the MCMC distributions? Relax the prior on the actor intercepts to Normal(0, 10). Re-estimate the posterior using both `ulam` and `quap` Do the differences increase or decrease? Why?"
   ]
  },
  {
   "cell_type": "code",
   "execution_count": 4,
   "id": "9c495f35-9a80-405f-9a81-1ee2916d49e0",
   "metadata": {
    "execution": {
     "iopub.execute_input": "2023-03-30T14:24:50.826765Z",
     "iopub.status.busy": "2023-03-30T14:24:50.825098Z",
     "iopub.status.idle": "2023-03-30T14:24:50.847875Z",
     "shell.execute_reply": "2023-03-30T14:24:50.847081Z"
    }
   },
   "outputs": [],
   "source": [
    "data(chimpanzees)\n",
    "d <- chimpanzees"
   ]
  },
  {
   "cell_type": "code",
   "execution_count": 5,
   "id": "2a5af1ed-f68e-4dbc-b28d-8aaf86aa8698",
   "metadata": {
    "execution": {
     "iopub.execute_input": "2023-03-30T14:24:51.032027Z",
     "iopub.status.busy": "2023-03-30T14:24:51.030121Z",
     "iopub.status.idle": "2023-03-30T14:24:51.045125Z",
     "shell.execute_reply": "2023-03-30T14:24:51.042143Z"
    }
   },
   "outputs": [],
   "source": [
    "d$treatment <- 1 + d$prosoc_left + 2*d$condition"
   ]
  },
  {
   "cell_type": "code",
   "execution_count": 6,
   "id": "2220fcf5-9fa3-40c6-96aa-744be0b4ae0a",
   "metadata": {
    "execution": {
     "iopub.execute_input": "2023-03-30T14:24:51.866904Z",
     "iopub.status.busy": "2023-03-30T14:24:51.865097Z",
     "iopub.status.idle": "2023-03-30T14:24:51.889904Z",
     "shell.execute_reply": "2023-03-30T14:24:51.889115Z"
    }
   },
   "outputs": [
    {
     "data": {
      "text/html": [
       "<table class=\"dataframe\">\n",
       "<caption>A data.frame: 6 × 9</caption>\n",
       "<thead>\n",
       "\t<tr><th></th><th scope=col>actor</th><th scope=col>recipient</th><th scope=col>condition</th><th scope=col>block</th><th scope=col>trial</th><th scope=col>prosoc_left</th><th scope=col>chose_prosoc</th><th scope=col>pulled_left</th><th scope=col>treatment</th></tr>\n",
       "\t<tr><th></th><th scope=col>&lt;int&gt;</th><th scope=col>&lt;int&gt;</th><th scope=col>&lt;int&gt;</th><th scope=col>&lt;int&gt;</th><th scope=col>&lt;int&gt;</th><th scope=col>&lt;int&gt;</th><th scope=col>&lt;int&gt;</th><th scope=col>&lt;int&gt;</th><th scope=col>&lt;dbl&gt;</th></tr>\n",
       "</thead>\n",
       "<tbody>\n",
       "\t<tr><th scope=row>1</th><td>1</td><td>NA</td><td>0</td><td>1</td><td> 2</td><td>0</td><td>1</td><td>0</td><td>1</td></tr>\n",
       "\t<tr><th scope=row>2</th><td>1</td><td>NA</td><td>0</td><td>1</td><td> 4</td><td>0</td><td>0</td><td>1</td><td>1</td></tr>\n",
       "\t<tr><th scope=row>3</th><td>1</td><td>NA</td><td>0</td><td>1</td><td> 6</td><td>1</td><td>0</td><td>0</td><td>2</td></tr>\n",
       "\t<tr><th scope=row>4</th><td>1</td><td>NA</td><td>0</td><td>1</td><td> 8</td><td>0</td><td>1</td><td>0</td><td>1</td></tr>\n",
       "\t<tr><th scope=row>5</th><td>1</td><td>NA</td><td>0</td><td>1</td><td>10</td><td>1</td><td>1</td><td>1</td><td>2</td></tr>\n",
       "\t<tr><th scope=row>6</th><td>1</td><td>NA</td><td>0</td><td>1</td><td>12</td><td>1</td><td>1</td><td>1</td><td>2</td></tr>\n",
       "</tbody>\n",
       "</table>\n"
      ],
      "text/latex": [
       "A data.frame: 6 × 9\n",
       "\\begin{tabular}{r|lllllllll}\n",
       "  & actor & recipient & condition & block & trial & prosoc\\_left & chose\\_prosoc & pulled\\_left & treatment\\\\\n",
       "  & <int> & <int> & <int> & <int> & <int> & <int> & <int> & <int> & <dbl>\\\\\n",
       "\\hline\n",
       "\t1 & 1 & NA & 0 & 1 &  2 & 0 & 1 & 0 & 1\\\\\n",
       "\t2 & 1 & NA & 0 & 1 &  4 & 0 & 0 & 1 & 1\\\\\n",
       "\t3 & 1 & NA & 0 & 1 &  6 & 1 & 0 & 0 & 2\\\\\n",
       "\t4 & 1 & NA & 0 & 1 &  8 & 0 & 1 & 0 & 1\\\\\n",
       "\t5 & 1 & NA & 0 & 1 & 10 & 1 & 1 & 1 & 2\\\\\n",
       "\t6 & 1 & NA & 0 & 1 & 12 & 1 & 1 & 1 & 2\\\\\n",
       "\\end{tabular}\n"
      ],
      "text/markdown": [
       "\n",
       "A data.frame: 6 × 9\n",
       "\n",
       "| <!--/--> | actor &lt;int&gt; | recipient &lt;int&gt; | condition &lt;int&gt; | block &lt;int&gt; | trial &lt;int&gt; | prosoc_left &lt;int&gt; | chose_prosoc &lt;int&gt; | pulled_left &lt;int&gt; | treatment &lt;dbl&gt; |\n",
       "|---|---|---|---|---|---|---|---|---|---|\n",
       "| 1 | 1 | NA | 0 | 1 |  2 | 0 | 1 | 0 | 1 |\n",
       "| 2 | 1 | NA | 0 | 1 |  4 | 0 | 0 | 1 | 1 |\n",
       "| 3 | 1 | NA | 0 | 1 |  6 | 1 | 0 | 0 | 2 |\n",
       "| 4 | 1 | NA | 0 | 1 |  8 | 0 | 1 | 0 | 1 |\n",
       "| 5 | 1 | NA | 0 | 1 | 10 | 1 | 1 | 1 | 2 |\n",
       "| 6 | 1 | NA | 0 | 1 | 12 | 1 | 1 | 1 | 2 |\n",
       "\n"
      ],
      "text/plain": [
       "  actor recipient condition block trial prosoc_left chose_prosoc pulled_left\n",
       "1 1     NA        0         1      2    0           1            0          \n",
       "2 1     NA        0         1      4    0           0            1          \n",
       "3 1     NA        0         1      6    1           0            0          \n",
       "4 1     NA        0         1      8    0           1            0          \n",
       "5 1     NA        0         1     10    1           1            1          \n",
       "6 1     NA        0         1     12    1           1            1          \n",
       "  treatment\n",
       "1 1        \n",
       "2 1        \n",
       "3 2        \n",
       "4 1        \n",
       "5 2        \n",
       "6 2        "
      ]
     },
     "metadata": {},
     "output_type": "display_data"
    }
   ],
   "source": [
    "head(d)"
   ]
  },
  {
   "cell_type": "code",
   "execution_count": 7,
   "id": "ccd859ab-2b53-476b-a204-25a94544f32c",
   "metadata": {
    "execution": {
     "iopub.execute_input": "2023-03-30T14:24:52.599787Z",
     "iopub.status.busy": "2023-03-30T14:24:52.597634Z",
     "iopub.status.idle": "2023-03-30T14:24:52.612396Z",
     "shell.execute_reply": "2023-03-30T14:24:52.610394Z"
    }
   },
   "outputs": [],
   "source": [
    "dat_list <- list(\n",
    "    pulled_left = d$pulled_left,\n",
    "    actor = d$actor,\n",
    "    treatment = as.integer(d$treatment) )"
   ]
  },
  {
   "cell_type": "code",
   "execution_count": 12,
   "id": "9e5e1d6d-fe2f-42e3-b7e3-6b2ed5748eca",
   "metadata": {
    "execution": {
     "iopub.execute_input": "2023-03-30T14:25:25.156043Z",
     "iopub.status.busy": "2023-03-30T14:25:25.153430Z",
     "iopub.status.idle": "2023-03-30T14:25:25.172545Z",
     "shell.execute_reply": "2023-03-30T14:25:25.171706Z"
    },
    "tags": []
   },
   "outputs": [
    {
     "name": "stderr",
     "output_type": "stream",
     "text": [
      "CmdStan path set to: /Users/jingfei.yu/learning/cmdstan\n",
      "\n"
     ]
    }
   ],
   "source": [
    "set_cmdstan_path(path = '~/learning/cmdstan/')"
   ]
  },
  {
   "cell_type": "code",
   "execution_count": 13,
   "id": "78a4b9a4-c5b9-45be-8e6c-3104f044bf65",
   "metadata": {
    "execution": {
     "iopub.execute_input": "2023-03-30T14:25:27.678102Z",
     "iopub.status.busy": "2023-03-30T14:25:27.675194Z",
     "iopub.status.idle": "2023-03-30T14:26:06.189207Z",
     "shell.execute_reply": "2023-03-30T14:26:06.188615Z"
    },
    "tags": []
   },
   "outputs": [
    {
     "name": "stderr",
     "output_type": "stream",
     "text": [
      "Warning message in readLines(hpp_path):\n",
      "“incomplete final line found on '/var/folders/d7/f362skjd4nqdcwfmfwg636900000gp/T//RtmpsIfrDA/model-8fbf7e56498d.hpp'”\n",
      "Warning in '/var/folders/d7/f362skjd4nqdcwfmfwg636900000gp/T/RtmpsIfrDA/model-8fbf7e56498d.stan', line 2, column 4: Declaration\n",
      "    of arrays by placing brackets after a variable name is deprecated and\n",
      "    will be removed in Stan 2.32.0. Instead use the array keyword before the\n",
      "    type. This can be changed automatically using the auto-format flag to\n",
      "    stanc\n",
      "Warning in '/var/folders/d7/f362skjd4nqdcwfmfwg636900000gp/T/RtmpsIfrDA/model-8fbf7e56498d.stan', line 3, column 4: Declaration\n",
      "    of arrays by placing brackets after a variable name is deprecated and\n",
      "    will be removed in Stan 2.32.0. Instead use the array keyword before the\n",
      "    type. This can be changed automatically using the auto-format flag to\n",
      "    stanc\n",
      "Warning in '/var/folders/d7/f362skjd4nqdcwfmfwg636900000gp/T/RtmpsIfrDA/model-8fbf7e56498d.stan', line 4, column 4: Declaration\n",
      "    of arrays by placing brackets after a variable name is deprecated and\n",
      "    will be removed in Stan 2.32.0. Instead use the array keyword before the\n",
      "    type. This can be changed automatically using the auto-format flag to\n",
      "    stanc\n",
      "\n",
      "\n",
      "Warning message in readLines(private$hpp_file_):\n",
      "“incomplete final line found on '/var/folders/d7/f362skjd4nqdcwfmfwg636900000gp/T//RtmpsIfrDA/model-8fbf7e56498d.hpp'”\n"
     ]
    },
    {
     "name": "stdout",
     "output_type": "stream",
     "text": [
      "Running MCMC with 4 sequential chains, with 1 thread(s) per chain...\n",
      "\n",
      "Chain 1 Iteration:   1 / 1000 [  0%]  (Warmup) \n",
      "Chain 1 Iteration: 100 / 1000 [ 10%]  (Warmup) \n",
      "Chain 1 Iteration: 200 / 1000 [ 20%]  (Warmup) \n",
      "Chain 1 Iteration: 300 / 1000 [ 30%]  (Warmup) \n",
      "Chain 1 Iteration: 400 / 1000 [ 40%]  (Warmup) \n",
      "Chain 1 Iteration: 500 / 1000 [ 50%]  (Warmup) \n",
      "Chain 1 Iteration: 501 / 1000 [ 50%]  (Sampling) \n",
      "Chain 1 Iteration: 600 / 1000 [ 60%]  (Sampling) \n",
      "Chain 1 Iteration: 700 / 1000 [ 70%]  (Sampling) \n",
      "Chain 1 Iteration: 800 / 1000 [ 80%]  (Sampling) \n",
      "Chain 1 Iteration: 900 / 1000 [ 90%]  (Sampling) \n",
      "Chain 1 Iteration: 1000 / 1000 [100%]  (Sampling) \n",
      "Chain 1 finished in 0.4 seconds.\n",
      "Chain 2 Iteration:   1 / 1000 [  0%]  (Warmup) \n",
      "Chain 2 Iteration: 100 / 1000 [ 10%]  (Warmup) \n",
      "Chain 2 Iteration: 200 / 1000 [ 20%]  (Warmup) \n",
      "Chain 2 Iteration: 300 / 1000 [ 30%]  (Warmup) \n",
      "Chain 2 Iteration: 400 / 1000 [ 40%]  (Warmup) \n",
      "Chain 2 Iteration: 500 / 1000 [ 50%]  (Warmup) \n",
      "Chain 2 Iteration: 501 / 1000 [ 50%]  (Sampling) \n",
      "Chain 2 Iteration: 600 / 1000 [ 60%]  (Sampling) \n",
      "Chain 2 Iteration: 700 / 1000 [ 70%]  (Sampling) \n",
      "Chain 2 Iteration: 800 / 1000 [ 80%]  (Sampling) \n",
      "Chain 2 Iteration: 900 / 1000 [ 90%]  (Sampling) \n",
      "Chain 2 Iteration: 1000 / 1000 [100%]  (Sampling) \n",
      "Chain 2 finished in 0.5 seconds.\n",
      "Chain 3 Iteration:   1 / 1000 [  0%]  (Warmup) \n",
      "Chain 3 Iteration: 100 / 1000 [ 10%]  (Warmup) \n",
      "Chain 3 Iteration: 200 / 1000 [ 20%]  (Warmup) \n",
      "Chain 3 Iteration: 300 / 1000 [ 30%]  (Warmup) \n",
      "Chain 3 Iteration: 400 / 1000 [ 40%]  (Warmup) \n",
      "Chain 3 Iteration: 500 / 1000 [ 50%]  (Warmup) \n",
      "Chain 3 Iteration: 501 / 1000 [ 50%]  (Sampling) \n",
      "Chain 3 Iteration: 600 / 1000 [ 60%]  (Sampling) \n",
      "Chain 3 Iteration: 700 / 1000 [ 70%]  (Sampling) \n",
      "Chain 3 Iteration: 800 / 1000 [ 80%]  (Sampling) \n",
      "Chain 3 Iteration: 900 / 1000 [ 90%]  (Sampling) \n",
      "Chain 3 Iteration: 1000 / 1000 [100%]  (Sampling) \n",
      "Chain 3 finished in 0.4 seconds.\n",
      "Chain 4 Iteration:   1 / 1000 [  0%]  (Warmup) \n",
      "Chain 4 Iteration: 100 / 1000 [ 10%]  (Warmup) \n",
      "Chain 4 Iteration: 200 / 1000 [ 20%]  (Warmup) \n",
      "Chain 4 Iteration: 300 / 1000 [ 30%]  (Warmup) \n",
      "Chain 4 Iteration: 400 / 1000 [ 40%]  (Warmup) \n",
      "Chain 4 Iteration: 500 / 1000 [ 50%]  (Warmup) \n",
      "Chain 4 Iteration: 501 / 1000 [ 50%]  (Sampling) \n",
      "Chain 4 Iteration: 600 / 1000 [ 60%]  (Sampling) \n",
      "Chain 4 Iteration: 700 / 1000 [ 70%]  (Sampling) \n",
      "Chain 4 Iteration: 800 / 1000 [ 80%]  (Sampling) \n",
      "Chain 4 Iteration: 900 / 1000 [ 90%]  (Sampling) \n",
      "Chain 4 Iteration: 1000 / 1000 [100%]  (Sampling) \n",
      "Chain 4 finished in 0.4 seconds.\n",
      "\n",
      "All 4 chains finished successfully.\n",
      "Mean chain execution time: 0.4 seconds.\n",
      "Total execution time: 2.0 seconds.\n",
      "\n"
     ]
    }
   ],
   "source": [
    "m11.4 <- ulam(\n",
    "    alist(\n",
    "        pulled_left ~ dbinom( 1 , p ) ,\n",
    "        logit(p) <- a[actor] + b[treatment] ,\n",
    "        a[actor] ~ dnorm( 0 , 1.5 ),\n",
    "        b[treatment] ~ dnorm( 0 , 0.5 )\n",
    "    ) , data=dat_list , chains=4 , log_lik=TRUE )"
   ]
  },
  {
   "cell_type": "code",
   "execution_count": 16,
   "id": "21725647-c016-4253-b65e-a6478f938e9b",
   "metadata": {
    "execution": {
     "iopub.execute_input": "2023-03-30T14:26:48.857460Z",
     "iopub.status.busy": "2023-03-30T14:26:48.854767Z",
     "iopub.status.idle": "2023-03-30T14:26:49.066833Z",
     "shell.execute_reply": "2023-03-30T14:26:49.066230Z"
    },
    "tags": []
   },
   "outputs": [
    {
     "data": {
      "text/html": [
       "<table class=\"dataframe\">\n",
       "<caption>A precis: 11 × 6</caption>\n",
       "<thead>\n",
       "\t<tr><th></th><th scope=col>mean</th><th scope=col>sd</th><th scope=col>5.5%</th><th scope=col>94.5%</th><th scope=col>n_eff</th><th scope=col>Rhat4</th></tr>\n",
       "\t<tr><th></th><th scope=col>&lt;dbl&gt;</th><th scope=col>&lt;dbl&gt;</th><th scope=col>&lt;dbl&gt;</th><th scope=col>&lt;dbl&gt;</th><th scope=col>&lt;dbl&gt;</th><th scope=col>&lt;dbl&gt;</th></tr>\n",
       "</thead>\n",
       "<tbody>\n",
       "\t<tr><th scope=row>a[1]</th><td>-0.45721276</td><td>0.3148775</td><td>-0.94151768</td><td> 0.04730556</td><td> 539.9610</td><td>1.0049684</td></tr>\n",
       "\t<tr><th scope=row>a[2]</th><td> 3.90018408</td><td>0.7644576</td><td> 2.81363415</td><td> 5.20684760</td><td>1342.4193</td><td>1.0005253</td></tr>\n",
       "\t<tr><th scope=row>a[3]</th><td>-0.75818115</td><td>0.3223699</td><td>-1.25955835</td><td>-0.23361286</td><td> 666.2649</td><td>1.0026689</td></tr>\n",
       "\t<tr><th scope=row>a[4]</th><td>-0.75536722</td><td>0.3320000</td><td>-1.29533085</td><td>-0.21533004</td><td> 530.5441</td><td>1.0051427</td></tr>\n",
       "\t<tr><th scope=row>a[5]</th><td>-0.46232238</td><td>0.3205078</td><td>-0.98789625</td><td> 0.04361272</td><td> 596.2661</td><td>1.0054907</td></tr>\n",
       "\t<tr><th scope=row>a[6]</th><td> 0.46520840</td><td>0.3306841</td><td>-0.07866268</td><td> 1.00227890</td><td> 515.3978</td><td>1.0034741</td></tr>\n",
       "\t<tr><th scope=row>a[7]</th><td> 1.94637081</td><td>0.4098769</td><td> 1.30746035</td><td> 2.62842475</td><td> 829.0170</td><td>0.9997682</td></tr>\n",
       "\t<tr><th scope=row>b[1]</th><td>-0.03045482</td><td>0.2839028</td><td>-0.48836437</td><td> 0.42657167</td><td> 577.5263</td><td>1.0062392</td></tr>\n",
       "\t<tr><th scope=row>b[2]</th><td> 0.49040635</td><td>0.2803919</td><td> 0.04191742</td><td> 0.94556586</td><td> 572.5098</td><td>1.0046177</td></tr>\n",
       "\t<tr><th scope=row>b[3]</th><td>-0.37090529</td><td>0.2797246</td><td>-0.81763502</td><td> 0.07836041</td><td> 497.7978</td><td>1.0025515</td></tr>\n",
       "\t<tr><th scope=row>b[4]</th><td> 0.37868203</td><td>0.2855868</td><td>-0.07414829</td><td> 0.82752905</td><td> 516.5201</td><td>1.0030829</td></tr>\n",
       "</tbody>\n",
       "</table>\n"
      ],
      "text/latex": [
       "A precis: 11 × 6\n",
       "\\begin{tabular}{r|llllll}\n",
       "  & mean & sd & 5.5\\% & 94.5\\% & n\\_eff & Rhat4\\\\\n",
       "  & <dbl> & <dbl> & <dbl> & <dbl> & <dbl> & <dbl>\\\\\n",
       "\\hline\n",
       "\ta{[}1{]} & -0.45721276 & 0.3148775 & -0.94151768 &  0.04730556 &  539.9610 & 1.0049684\\\\\n",
       "\ta{[}2{]} &  3.90018408 & 0.7644576 &  2.81363415 &  5.20684760 & 1342.4193 & 1.0005253\\\\\n",
       "\ta{[}3{]} & -0.75818115 & 0.3223699 & -1.25955835 & -0.23361286 &  666.2649 & 1.0026689\\\\\n",
       "\ta{[}4{]} & -0.75536722 & 0.3320000 & -1.29533085 & -0.21533004 &  530.5441 & 1.0051427\\\\\n",
       "\ta{[}5{]} & -0.46232238 & 0.3205078 & -0.98789625 &  0.04361272 &  596.2661 & 1.0054907\\\\\n",
       "\ta{[}6{]} &  0.46520840 & 0.3306841 & -0.07866268 &  1.00227890 &  515.3978 & 1.0034741\\\\\n",
       "\ta{[}7{]} &  1.94637081 & 0.4098769 &  1.30746035 &  2.62842475 &  829.0170 & 0.9997682\\\\\n",
       "\tb{[}1{]} & -0.03045482 & 0.2839028 & -0.48836437 &  0.42657167 &  577.5263 & 1.0062392\\\\\n",
       "\tb{[}2{]} &  0.49040635 & 0.2803919 &  0.04191742 &  0.94556586 &  572.5098 & 1.0046177\\\\\n",
       "\tb{[}3{]} & -0.37090529 & 0.2797246 & -0.81763502 &  0.07836041 &  497.7978 & 1.0025515\\\\\n",
       "\tb{[}4{]} &  0.37868203 & 0.2855868 & -0.07414829 &  0.82752905 &  516.5201 & 1.0030829\\\\\n",
       "\\end{tabular}\n"
      ],
      "text/markdown": [
       "\n",
       "A precis: 11 × 6\n",
       "\n",
       "| <!--/--> | mean &lt;dbl&gt; | sd &lt;dbl&gt; | 5.5% &lt;dbl&gt; | 94.5% &lt;dbl&gt; | n_eff &lt;dbl&gt; | Rhat4 &lt;dbl&gt; |\n",
       "|---|---|---|---|---|---|---|\n",
       "| a[1] | -0.45721276 | 0.3148775 | -0.94151768 |  0.04730556 |  539.9610 | 1.0049684 |\n",
       "| a[2] |  3.90018408 | 0.7644576 |  2.81363415 |  5.20684760 | 1342.4193 | 1.0005253 |\n",
       "| a[3] | -0.75818115 | 0.3223699 | -1.25955835 | -0.23361286 |  666.2649 | 1.0026689 |\n",
       "| a[4] | -0.75536722 | 0.3320000 | -1.29533085 | -0.21533004 |  530.5441 | 1.0051427 |\n",
       "| a[5] | -0.46232238 | 0.3205078 | -0.98789625 |  0.04361272 |  596.2661 | 1.0054907 |\n",
       "| a[6] |  0.46520840 | 0.3306841 | -0.07866268 |  1.00227890 |  515.3978 | 1.0034741 |\n",
       "| a[7] |  1.94637081 | 0.4098769 |  1.30746035 |  2.62842475 |  829.0170 | 0.9997682 |\n",
       "| b[1] | -0.03045482 | 0.2839028 | -0.48836437 |  0.42657167 |  577.5263 | 1.0062392 |\n",
       "| b[2] |  0.49040635 | 0.2803919 |  0.04191742 |  0.94556586 |  572.5098 | 1.0046177 |\n",
       "| b[3] | -0.37090529 | 0.2797246 | -0.81763502 |  0.07836041 |  497.7978 | 1.0025515 |\n",
       "| b[4] |  0.37868203 | 0.2855868 | -0.07414829 |  0.82752905 |  516.5201 | 1.0030829 |\n",
       "\n"
      ],
      "text/plain": [
       "     mean        sd        5.5%        94.5%       n_eff     Rhat4    \n",
       "a[1] -0.45721276 0.3148775 -0.94151768  0.04730556  539.9610 1.0049684\n",
       "a[2]  3.90018408 0.7644576  2.81363415  5.20684760 1342.4193 1.0005253\n",
       "a[3] -0.75818115 0.3223699 -1.25955835 -0.23361286  666.2649 1.0026689\n",
       "a[4] -0.75536722 0.3320000 -1.29533085 -0.21533004  530.5441 1.0051427\n",
       "a[5] -0.46232238 0.3205078 -0.98789625  0.04361272  596.2661 1.0054907\n",
       "a[6]  0.46520840 0.3306841 -0.07866268  1.00227890  515.3978 1.0034741\n",
       "a[7]  1.94637081 0.4098769  1.30746035  2.62842475  829.0170 0.9997682\n",
       "b[1] -0.03045482 0.2839028 -0.48836437  0.42657167  577.5263 1.0062392\n",
       "b[2]  0.49040635 0.2803919  0.04191742  0.94556586  572.5098 1.0046177\n",
       "b[3] -0.37090529 0.2797246 -0.81763502  0.07836041  497.7978 1.0025515\n",
       "b[4]  0.37868203 0.2855868 -0.07414829  0.82752905  516.5201 1.0030829"
      ]
     },
     "metadata": {},
     "output_type": "display_data"
    }
   ],
   "source": [
    "precis(m11.4, depth=2)"
   ]
  },
  {
   "cell_type": "code",
   "execution_count": 14,
   "id": "f76827bd-626b-4204-a0ca-f4013ee4b892",
   "metadata": {
    "execution": {
     "iopub.execute_input": "2023-03-30T14:26:15.598612Z",
     "iopub.status.busy": "2023-03-30T14:26:15.595875Z",
     "iopub.status.idle": "2023-03-30T14:26:15.750354Z",
     "shell.execute_reply": "2023-03-30T14:26:15.749651Z"
    }
   },
   "outputs": [],
   "source": [
    "m11.4_quap <- quap(\n",
    "    alist(\n",
    "        pulled_left ~ dbinom( 1 , p ) ,\n",
    "        logit(p) <- a[actor] + b[treatment] ,\n",
    "        a[actor] ~ dnorm( 0 , 1.5 ),\n",
    "        b[treatment] ~ dnorm( 0 , 0.5 )\n",
    "    ) , data=dat_list)"
   ]
  },
  {
   "cell_type": "code",
   "execution_count": 17,
   "id": "d4dd6695-4755-4c00-8b21-f67aa71ca9b0",
   "metadata": {
    "execution": {
     "iopub.execute_input": "2023-03-30T14:27:03.405056Z",
     "iopub.status.busy": "2023-03-30T14:27:03.402769Z",
     "iopub.status.idle": "2023-03-30T14:27:03.426521Z",
     "shell.execute_reply": "2023-03-30T14:27:03.425764Z"
    }
   },
   "outputs": [
    {
     "data": {
      "text/html": [
       "<table class=\"dataframe\">\n",
       "<caption>A precis: 11 × 4</caption>\n",
       "<thead>\n",
       "\t<tr><th></th><th scope=col>mean</th><th scope=col>sd</th><th scope=col>5.5%</th><th scope=col>94.5%</th></tr>\n",
       "\t<tr><th></th><th scope=col>&lt;dbl&gt;</th><th scope=col>&lt;dbl&gt;</th><th scope=col>&lt;dbl&gt;</th><th scope=col>&lt;dbl&gt;</th></tr>\n",
       "</thead>\n",
       "<tbody>\n",
       "\t<tr><th scope=row>a[1]</th><td>-0.43921069</td><td>0.3276017</td><td>-0.96278151</td><td> 0.08436013</td></tr>\n",
       "\t<tr><th scope=row>a[2]</th><td> 3.70602014</td><td>0.7217414</td><td> 2.55253791</td><td> 4.85950237</td></tr>\n",
       "\t<tr><th scope=row>a[3]</th><td>-0.73275903</td><td>0.3329757</td><td>-1.26491849</td><td>-0.20059957</td></tr>\n",
       "\t<tr><th scope=row>a[4]</th><td>-0.73275783</td><td>0.3329757</td><td>-1.26491725</td><td>-0.20059842</td></tr>\n",
       "\t<tr><th scope=row>a[5]</th><td>-0.43921198</td><td>0.3276017</td><td>-0.96278283</td><td> 0.08435886</td></tr>\n",
       "\t<tr><th scope=row>a[6]</th><td> 0.46894421</td><td>0.3317747</td><td>-0.06129588</td><td> 0.99918430</td></tr>\n",
       "\t<tr><th scope=row>a[7]</th><td> 1.90505068</td><td>0.4136432</td><td> 1.24396901</td><td> 2.56613235</td></tr>\n",
       "\t<tr><th scope=row>b[1]</th><td>-0.04065383</td><td>0.2837319</td><td>-0.49411215</td><td> 0.41280449</td></tr>\n",
       "\t<tr><th scope=row>b[2]</th><td> 0.47214802</td><td>0.2842162</td><td> 0.01791558</td><td> 0.92638046</td></tr>\n",
       "\t<tr><th scope=row>b[3]</th><td>-0.37835226</td><td>0.2852441</td><td>-0.83422743</td><td> 0.07752291</td></tr>\n",
       "\t<tr><th scope=row>b[4]</th><td> 0.36201922</td><td>0.2838328</td><td>-0.09160033</td><td> 0.81563878</td></tr>\n",
       "</tbody>\n",
       "</table>\n"
      ],
      "text/latex": [
       "A precis: 11 × 4\n",
       "\\begin{tabular}{r|llll}\n",
       "  & mean & sd & 5.5\\% & 94.5\\%\\\\\n",
       "  & <dbl> & <dbl> & <dbl> & <dbl>\\\\\n",
       "\\hline\n",
       "\ta{[}1{]} & -0.43921069 & 0.3276017 & -0.96278151 &  0.08436013\\\\\n",
       "\ta{[}2{]} &  3.70602014 & 0.7217414 &  2.55253791 &  4.85950237\\\\\n",
       "\ta{[}3{]} & -0.73275903 & 0.3329757 & -1.26491849 & -0.20059957\\\\\n",
       "\ta{[}4{]} & -0.73275783 & 0.3329757 & -1.26491725 & -0.20059842\\\\\n",
       "\ta{[}5{]} & -0.43921198 & 0.3276017 & -0.96278283 &  0.08435886\\\\\n",
       "\ta{[}6{]} &  0.46894421 & 0.3317747 & -0.06129588 &  0.99918430\\\\\n",
       "\ta{[}7{]} &  1.90505068 & 0.4136432 &  1.24396901 &  2.56613235\\\\\n",
       "\tb{[}1{]} & -0.04065383 & 0.2837319 & -0.49411215 &  0.41280449\\\\\n",
       "\tb{[}2{]} &  0.47214802 & 0.2842162 &  0.01791558 &  0.92638046\\\\\n",
       "\tb{[}3{]} & -0.37835226 & 0.2852441 & -0.83422743 &  0.07752291\\\\\n",
       "\tb{[}4{]} &  0.36201922 & 0.2838328 & -0.09160033 &  0.81563878\\\\\n",
       "\\end{tabular}\n"
      ],
      "text/markdown": [
       "\n",
       "A precis: 11 × 4\n",
       "\n",
       "| <!--/--> | mean &lt;dbl&gt; | sd &lt;dbl&gt; | 5.5% &lt;dbl&gt; | 94.5% &lt;dbl&gt; |\n",
       "|---|---|---|---|---|\n",
       "| a[1] | -0.43921069 | 0.3276017 | -0.96278151 |  0.08436013 |\n",
       "| a[2] |  3.70602014 | 0.7217414 |  2.55253791 |  4.85950237 |\n",
       "| a[3] | -0.73275903 | 0.3329757 | -1.26491849 | -0.20059957 |\n",
       "| a[4] | -0.73275783 | 0.3329757 | -1.26491725 | -0.20059842 |\n",
       "| a[5] | -0.43921198 | 0.3276017 | -0.96278283 |  0.08435886 |\n",
       "| a[6] |  0.46894421 | 0.3317747 | -0.06129588 |  0.99918430 |\n",
       "| a[7] |  1.90505068 | 0.4136432 |  1.24396901 |  2.56613235 |\n",
       "| b[1] | -0.04065383 | 0.2837319 | -0.49411215 |  0.41280449 |\n",
       "| b[2] |  0.47214802 | 0.2842162 |  0.01791558 |  0.92638046 |\n",
       "| b[3] | -0.37835226 | 0.2852441 | -0.83422743 |  0.07752291 |\n",
       "| b[4] |  0.36201922 | 0.2838328 | -0.09160033 |  0.81563878 |\n",
       "\n"
      ],
      "text/plain": [
       "     mean        sd        5.5%        94.5%      \n",
       "a[1] -0.43921069 0.3276017 -0.96278151  0.08436013\n",
       "a[2]  3.70602014 0.7217414  2.55253791  4.85950237\n",
       "a[3] -0.73275903 0.3329757 -1.26491849 -0.20059957\n",
       "a[4] -0.73275783 0.3329757 -1.26491725 -0.20059842\n",
       "a[5] -0.43921198 0.3276017 -0.96278283  0.08435886\n",
       "a[6]  0.46894421 0.3317747 -0.06129588  0.99918430\n",
       "a[7]  1.90505068 0.4136432  1.24396901  2.56613235\n",
       "b[1] -0.04065383 0.2837319 -0.49411215  0.41280449\n",
       "b[2]  0.47214802 0.2842162  0.01791558  0.92638046\n",
       "b[3] -0.37835226 0.2852441 -0.83422743  0.07752291\n",
       "b[4]  0.36201922 0.2838328 -0.09160033  0.81563878"
      ]
     },
     "metadata": {},
     "output_type": "display_data"
    }
   ],
   "source": [
    "precis(m11.4_quap, depth=2)"
   ]
  },
  {
   "cell_type": "markdown",
   "id": "cc71fc21-7aa3-4ea5-96f1-16f329c93dbc",
   "metadata": {},
   "source": [
    "Everything looks very similar"
   ]
  },
  {
   "cell_type": "code",
   "execution_count": 23,
   "id": "34fb2eb5-b562-4c52-bd2f-100181fd06b5",
   "metadata": {
    "execution": {
     "iopub.execute_input": "2023-03-30T14:32:09.840204Z",
     "iopub.status.busy": "2023-03-30T14:32:09.837508Z",
     "iopub.status.idle": "2023-03-30T14:32:10.096241Z",
     "shell.execute_reply": "2023-03-30T14:32:10.095347Z"
    },
    "tags": []
   },
   "outputs": [
    {
     "data": {
      "image/png": "[encoded data removed]",
      "text/plain": [
       "plot without title"
      ]
     },
     "metadata": {
      "image/png": {
       "height": 420,
       "width": 420
      }
     },
     "output_type": "display_data"
    },
    {
     "data": {
      "image/png": "[encoded data removed]",
      "text/plain": [
       "plot without title"
      ]
     },
     "metadata": {
      "image/png": {
       "height": 420,
       "width": 420
      }
     },
     "output_type": "display_data"
    }
   ],
   "source": [
    "plot(precis(m11.4, depth=2))\n",
    "plot(precis(m11.4_quap, depth=2))"
   ]
  },
  {
   "cell_type": "markdown",
   "id": "0c659de6-9a37-4557-b927-5a827440783c",
   "metadata": {},
   "source": [
    "Looks exactly the same"
   ]
  },
  {
   "cell_type": "markdown",
   "id": "0ef82335-1b1e-403a-a3d0-2e6b1216697b",
   "metadata": {},
   "source": [
    "relax the requirement"
   ]
  },
  {
   "cell_type": "code",
   "execution_count": 24,
   "id": "24b04e78-38ac-4fa6-b980-1cf3bcb9a956",
   "metadata": {
    "execution": {
     "iopub.execute_input": "2023-03-30T14:33:55.199126Z",
     "iopub.status.busy": "2023-03-30T14:33:55.196001Z",
     "iopub.status.idle": "2023-03-30T14:34:06.083915Z",
     "shell.execute_reply": "2023-03-30T14:34:06.083344Z"
    }
   },
   "outputs": [
    {
     "name": "stderr",
     "output_type": "stream",
     "text": [
      "Warning message in readLines(hpp_path):\n",
      "“incomplete final line found on '/var/folders/d7/f362skjd4nqdcwfmfwg636900000gp/T//RtmpsIfrDA/model-8fbf5b2d05b.hpp'”\n",
      "Warning in '/var/folders/d7/f362skjd4nqdcwfmfwg636900000gp/T/RtmpsIfrDA/model-8fbf5b2d05b.stan', line 2, column 4: Declaration\n",
      "    of arrays by placing brackets after a variable name is deprecated and\n",
      "    will be removed in Stan 2.32.0. Instead use the array keyword before the\n",
      "    type. This can be changed automatically using the auto-format flag to\n",
      "    stanc\n",
      "Warning in '/var/folders/d7/f362skjd4nqdcwfmfwg636900000gp/T/RtmpsIfrDA/model-8fbf5b2d05b.stan', line 3, column 4: Declaration\n",
      "    of arrays by placing brackets after a variable name is deprecated and\n",
      "    will be removed in Stan 2.32.0. Instead use the array keyword before the\n",
      "    type. This can be changed automatically using the auto-format flag to\n",
      "    stanc\n",
      "Warning in '/var/folders/d7/f362skjd4nqdcwfmfwg636900000gp/T/RtmpsIfrDA/model-8fbf5b2d05b.stan', line 4, column 4: Declaration\n",
      "    of arrays by placing brackets after a variable name is deprecated and\n",
      "    will be removed in Stan 2.32.0. Instead use the array keyword before the\n",
      "    type. This can be changed automatically using the auto-format flag to\n",
      "    stanc\n",
      "\n",
      "\n",
      "Warning message in readLines(private$hpp_file_):\n",
      "“incomplete final line found on '/var/folders/d7/f362skjd4nqdcwfmfwg636900000gp/T//RtmpsIfrDA/model-8fbf5b2d05b.hpp'”\n"
     ]
    },
    {
     "name": "stdout",
     "output_type": "stream",
     "text": [
      "Running MCMC with 4 sequential chains, with 1 thread(s) per chain...\n",
      "\n",
      "Chain 1 Iteration:   1 / 1000 [  0%]  (Warmup) \n",
      "Chain 1 Iteration: 100 / 1000 [ 10%]  (Warmup) \n",
      "Chain 1 Iteration: 200 / 1000 [ 20%]  (Warmup) \n",
      "Chain 1 Iteration: 300 / 1000 [ 30%]  (Warmup) \n",
      "Chain 1 Iteration: 400 / 1000 [ 40%]  (Warmup) \n",
      "Chain 1 Iteration: 500 / 1000 [ 50%]  (Warmup) \n",
      "Chain 1 Iteration: 501 / 1000 [ 50%]  (Sampling) \n",
      "Chain 1 Iteration: 600 / 1000 [ 60%]  (Sampling) \n",
      "Chain 1 Iteration: 700 / 1000 [ 70%]  (Sampling) \n",
      "Chain 1 Iteration: 800 / 1000 [ 80%]  (Sampling) \n",
      "Chain 1 Iteration: 900 / 1000 [ 90%]  (Sampling) \n",
      "Chain 1 Iteration: 1000 / 1000 [100%]  (Sampling) \n",
      "Chain 1 finished in 0.5 seconds.\n",
      "Chain 2 Iteration:   1 / 1000 [  0%]  (Warmup) \n",
      "Chain 2 Iteration: 100 / 1000 [ 10%]  (Warmup) \n",
      "Chain 2 Iteration: 200 / 1000 [ 20%]  (Warmup) \n",
      "Chain 2 Iteration: 300 / 1000 [ 30%]  (Warmup) \n",
      "Chain 2 Iteration: 400 / 1000 [ 40%]  (Warmup) \n",
      "Chain 2 Iteration: 500 / 1000 [ 50%]  (Warmup) \n",
      "Chain 2 Iteration: 501 / 1000 [ 50%]  (Sampling) \n",
      "Chain 2 Iteration: 600 / 1000 [ 60%]  (Sampling) \n",
      "Chain 2 Iteration: 700 / 1000 [ 70%]  (Sampling) \n",
      "Chain 2 Iteration: 800 / 1000 [ 80%]  (Sampling) \n",
      "Chain 2 Iteration: 900 / 1000 [ 90%]  (Sampling) \n",
      "Chain 2 Iteration: 1000 / 1000 [100%]  (Sampling) \n",
      "Chain 2 finished in 0.7 seconds.\n",
      "Chain 3 Iteration:   1 / 1000 [  0%]  (Warmup) \n",
      "Chain 3 Iteration: 100 / 1000 [ 10%]  (Warmup) \n",
      "Chain 3 Iteration: 200 / 1000 [ 20%]  (Warmup) \n",
      "Chain 3 Iteration: 300 / 1000 [ 30%]  (Warmup) \n",
      "Chain 3 Iteration: 400 / 1000 [ 40%]  (Warmup) \n",
      "Chain 3 Iteration: 500 / 1000 [ 50%]  (Warmup) \n",
      "Chain 3 Iteration: 501 / 1000 [ 50%]  (Sampling) \n",
      "Chain 3 Iteration: 600 / 1000 [ 60%]  (Sampling) \n",
      "Chain 3 Iteration: 700 / 1000 [ 70%]  (Sampling) \n",
      "Chain 3 Iteration: 800 / 1000 [ 80%]  (Sampling) \n",
      "Chain 3 Iteration: 900 / 1000 [ 90%]  (Sampling) \n",
      "Chain 3 Iteration: 1000 / 1000 [100%]  (Sampling) \n",
      "Chain 3 finished in 0.5 seconds.\n",
      "Chain 4 Iteration:   1 / 1000 [  0%]  (Warmup) \n",
      "Chain 4 Iteration: 100 / 1000 [ 10%]  (Warmup) \n",
      "Chain 4 Iteration: 200 / 1000 [ 20%]  (Warmup) \n",
      "Chain 4 Iteration: 300 / 1000 [ 30%]  (Warmup) \n",
      "Chain 4 Iteration: 400 / 1000 [ 40%]  (Warmup) \n",
      "Chain 4 Iteration: 500 / 1000 [ 50%]  (Warmup) \n",
      "Chain 4 Iteration: 501 / 1000 [ 50%]  (Sampling) \n",
      "Chain 4 Iteration: 600 / 1000 [ 60%]  (Sampling) \n",
      "Chain 4 Iteration: 700 / 1000 [ 70%]  (Sampling) \n",
      "Chain 4 Iteration: 800 / 1000 [ 80%]  (Sampling) \n",
      "Chain 4 Iteration: 900 / 1000 [ 90%]  (Sampling) \n",
      "Chain 4 Iteration: 1000 / 1000 [100%]  (Sampling) \n",
      "Chain 4 finished in 0.5 seconds.\n",
      "\n",
      "All 4 chains finished successfully.\n",
      "Mean chain execution time: 0.5 seconds.\n",
      "Total execution time: 2.3 seconds.\n",
      "\n"
     ]
    }
   ],
   "source": [
    "m11.4_2 <- ulam(\n",
    "    alist(\n",
    "        pulled_left ~ dbinom( 1 , p ) ,\n",
    "        logit(p) <- a[actor] + b[treatment] ,\n",
    "        a[actor] ~ dnorm( 0 , 10 ),\n",
    "        b[treatment] ~ dnorm( 0 , 0.5 )\n",
    "    ) , data=dat_list , chains=4 , log_lik=TRUE )"
   ]
  },
  {
   "cell_type": "code",
   "execution_count": 25,
   "id": "d6635cd8-cc79-4e7e-b6f9-973ccaed8b00",
   "metadata": {
    "execution": {
     "iopub.execute_input": "2023-03-30T14:34:16.000127Z",
     "iopub.status.busy": "2023-03-30T14:34:15.997344Z",
     "iopub.status.idle": "2023-03-30T14:34:16.191004Z",
     "shell.execute_reply": "2023-03-30T14:34:16.190231Z"
    }
   },
   "outputs": [],
   "source": [
    "m11.4_quap_2 <- quap(\n",
    "    alist(\n",
    "        pulled_left ~ dbinom( 1 , p ) ,\n",
    "        logit(p) <- a[actor] + b[treatment] ,\n",
    "        a[actor] ~ dnorm( 0 , 10 ),\n",
    "        b[treatment] ~ dnorm( 0 , 0.5 )\n",
    "    ) , data=dat_list)"
   ]
  },
  {
   "cell_type": "code",
   "execution_count": 26,
   "id": "59594a5b-6615-47ac-929a-13b15e65d6de",
   "metadata": {
    "execution": {
     "iopub.execute_input": "2023-03-30T14:34:27.422571Z",
     "iopub.status.busy": "2023-03-30T14:34:27.420484Z",
     "iopub.status.idle": "2023-03-30T14:34:27.672108Z",
     "shell.execute_reply": "2023-03-30T14:34:27.671551Z"
    }
   },
   "outputs": [
    {
     "data": {
      "image/png": "[encoded data removed]",
      "text/plain": [
       "plot without title"
      ]
     },
     "metadata": {
      "image/png": {
       "height": 420,
       "width": 420
      }
     },
     "output_type": "display_data"
    },
    {
     "data": {
      "image/png": "[encoded data removed]",
      "text/plain": [
       "plot without title"
      ]
     },
     "metadata": {
      "image/png": {
       "height": 420,
       "width": 420
      }
     },
     "output_type": "display_data"
    }
   ],
   "source": [
    "plot(precis(m11.4_2, depth=2))\n",
    "plot(precis(m11.4_quap_2, depth=2))"
   ]
  },
  {
   "cell_type": "code",
   "execution_count": 27,
   "id": "cb530b1b-4b78-45ef-aa8c-c10f74857270",
   "metadata": {
    "execution": {
     "iopub.execute_input": "2023-03-30T14:37:46.518338Z",
     "iopub.status.busy": "2023-03-30T14:37:46.515239Z",
     "iopub.status.idle": "2023-03-30T14:37:46.707984Z",
     "shell.execute_reply": "2023-03-30T14:37:46.707396Z"
    }
   },
   "outputs": [
    {
     "data": {
      "text/html": [
       "<table class=\"dataframe\">\n",
       "<caption>A precis: 11 × 6</caption>\n",
       "<thead>\n",
       "\t<tr><th></th><th scope=col>mean</th><th scope=col>sd</th><th scope=col>5.5%</th><th scope=col>94.5%</th><th scope=col>n_eff</th><th scope=col>Rhat4</th></tr>\n",
       "\t<tr><th></th><th scope=col>&lt;dbl&gt;</th><th scope=col>&lt;dbl&gt;</th><th scope=col>&lt;dbl&gt;</th><th scope=col>&lt;dbl&gt;</th><th scope=col>&lt;dbl&gt;</th><th scope=col>&lt;dbl&gt;</th></tr>\n",
       "</thead>\n",
       "<tbody>\n",
       "\t<tr><th scope=row>a[1]</th><td>-0.3833182</td><td>0.3391935</td><td>-0.96385198</td><td> 0.14031468</td><td>561.5226</td><td>1.010519</td></tr>\n",
       "\t<tr><th scope=row>a[2]</th><td>11.4133634</td><td>5.2635914</td><td> 4.89645130</td><td>21.36899650</td><td>783.1861</td><td>1.003888</td></tr>\n",
       "\t<tr><th scope=row>a[3]</th><td>-0.6953852</td><td>0.3438345</td><td>-1.26184275</td><td>-0.15900708</td><td>570.5825</td><td>1.013625</td></tr>\n",
       "\t<tr><th scope=row>a[4]</th><td>-0.7027025</td><td>0.3444558</td><td>-1.27368635</td><td>-0.14904589</td><td>610.8759</td><td>1.008690</td></tr>\n",
       "\t<tr><th scope=row>a[5]</th><td>-0.3870254</td><td>0.3281340</td><td>-0.92911497</td><td> 0.13046327</td><td>546.5922</td><td>1.010659</td></tr>\n",
       "\t<tr><th scope=row>a[6]</th><td> 0.5645890</td><td>0.3382481</td><td> 0.01583708</td><td> 1.11089110</td><td>588.2430</td><td>1.007212</td></tr>\n",
       "\t<tr><th scope=row>a[7]</th><td> 2.1540456</td><td>0.4646779</td><td> 1.44243900</td><td> 2.89974235</td><td>776.6381</td><td>1.006956</td></tr>\n",
       "\t<tr><th scope=row>b[1]</th><td>-0.1138726</td><td>0.2895041</td><td>-0.57909144</td><td> 0.35218542</td><td>486.0774</td><td>1.013124</td></tr>\n",
       "\t<tr><th scope=row>b[2]</th><td> 0.4164070</td><td>0.2888592</td><td>-0.02396101</td><td> 0.86808550</td><td>529.9786</td><td>1.013818</td></tr>\n",
       "\t<tr><th scope=row>b[3]</th><td>-0.4743991</td><td>0.2856093</td><td>-0.92838340</td><td>-0.01422098</td><td>492.8162</td><td>1.015920</td></tr>\n",
       "\t<tr><th scope=row>b[4]</th><td> 0.2997539</td><td>0.2836195</td><td>-0.13754696</td><td> 0.75976071</td><td>537.7521</td><td>1.009499</td></tr>\n",
       "</tbody>\n",
       "</table>\n"
      ],
      "text/latex": [
       "A precis: 11 × 6\n",
       "\\begin{tabular}{r|llllll}\n",
       "  & mean & sd & 5.5\\% & 94.5\\% & n\\_eff & Rhat4\\\\\n",
       "  & <dbl> & <dbl> & <dbl> & <dbl> & <dbl> & <dbl>\\\\\n",
       "\\hline\n",
       "\ta{[}1{]} & -0.3833182 & 0.3391935 & -0.96385198 &  0.14031468 & 561.5226 & 1.010519\\\\\n",
       "\ta{[}2{]} & 11.4133634 & 5.2635914 &  4.89645130 & 21.36899650 & 783.1861 & 1.003888\\\\\n",
       "\ta{[}3{]} & -0.6953852 & 0.3438345 & -1.26184275 & -0.15900708 & 570.5825 & 1.013625\\\\\n",
       "\ta{[}4{]} & -0.7027025 & 0.3444558 & -1.27368635 & -0.14904589 & 610.8759 & 1.008690\\\\\n",
       "\ta{[}5{]} & -0.3870254 & 0.3281340 & -0.92911497 &  0.13046327 & 546.5922 & 1.010659\\\\\n",
       "\ta{[}6{]} &  0.5645890 & 0.3382481 &  0.01583708 &  1.11089110 & 588.2430 & 1.007212\\\\\n",
       "\ta{[}7{]} &  2.1540456 & 0.4646779 &  1.44243900 &  2.89974235 & 776.6381 & 1.006956\\\\\n",
       "\tb{[}1{]} & -0.1138726 & 0.2895041 & -0.57909144 &  0.35218542 & 486.0774 & 1.013124\\\\\n",
       "\tb{[}2{]} &  0.4164070 & 0.2888592 & -0.02396101 &  0.86808550 & 529.9786 & 1.013818\\\\\n",
       "\tb{[}3{]} & -0.4743991 & 0.2856093 & -0.92838340 & -0.01422098 & 492.8162 & 1.015920\\\\\n",
       "\tb{[}4{]} &  0.2997539 & 0.2836195 & -0.13754696 &  0.75976071 & 537.7521 & 1.009499\\\\\n",
       "\\end{tabular}\n"
      ],
      "text/markdown": [
       "\n",
       "A precis: 11 × 6\n",
       "\n",
       "| <!--/--> | mean &lt;dbl&gt; | sd &lt;dbl&gt; | 5.5% &lt;dbl&gt; | 94.5% &lt;dbl&gt; | n_eff &lt;dbl&gt; | Rhat4 &lt;dbl&gt; |\n",
       "|---|---|---|---|---|---|---|\n",
       "| a[1] | -0.3833182 | 0.3391935 | -0.96385198 |  0.14031468 | 561.5226 | 1.010519 |\n",
       "| a[2] | 11.4133634 | 5.2635914 |  4.89645130 | 21.36899650 | 783.1861 | 1.003888 |\n",
       "| a[3] | -0.6953852 | 0.3438345 | -1.26184275 | -0.15900708 | 570.5825 | 1.013625 |\n",
       "| a[4] | -0.7027025 | 0.3444558 | -1.27368635 | -0.14904589 | 610.8759 | 1.008690 |\n",
       "| a[5] | -0.3870254 | 0.3281340 | -0.92911497 |  0.13046327 | 546.5922 | 1.010659 |\n",
       "| a[6] |  0.5645890 | 0.3382481 |  0.01583708 |  1.11089110 | 588.2430 | 1.007212 |\n",
       "| a[7] |  2.1540456 | 0.4646779 |  1.44243900 |  2.89974235 | 776.6381 | 1.006956 |\n",
       "| b[1] | -0.1138726 | 0.2895041 | -0.57909144 |  0.35218542 | 486.0774 | 1.013124 |\n",
       "| b[2] |  0.4164070 | 0.2888592 | -0.02396101 |  0.86808550 | 529.9786 | 1.013818 |\n",
       "| b[3] | -0.4743991 | 0.2856093 | -0.92838340 | -0.01422098 | 492.8162 | 1.015920 |\n",
       "| b[4] |  0.2997539 | 0.2836195 | -0.13754696 |  0.75976071 | 537.7521 | 1.009499 |\n",
       "\n"
      ],
      "text/plain": [
       "     mean       sd        5.5%        94.5%       n_eff    Rhat4   \n",
       "a[1] -0.3833182 0.3391935 -0.96385198  0.14031468 561.5226 1.010519\n",
       "a[2] 11.4133634 5.2635914  4.89645130 21.36899650 783.1861 1.003888\n",
       "a[3] -0.6953852 0.3438345 -1.26184275 -0.15900708 570.5825 1.013625\n",
       "a[4] -0.7027025 0.3444558 -1.27368635 -0.14904589 610.8759 1.008690\n",
       "a[5] -0.3870254 0.3281340 -0.92911497  0.13046327 546.5922 1.010659\n",
       "a[6]  0.5645890 0.3382481  0.01583708  1.11089110 588.2430 1.007212\n",
       "a[7]  2.1540456 0.4646779  1.44243900  2.89974235 776.6381 1.006956\n",
       "b[1] -0.1138726 0.2895041 -0.57909144  0.35218542 486.0774 1.013124\n",
       "b[2]  0.4164070 0.2888592 -0.02396101  0.86808550 529.9786 1.013818\n",
       "b[3] -0.4743991 0.2856093 -0.92838340 -0.01422098 492.8162 1.015920\n",
       "b[4]  0.2997539 0.2836195 -0.13754696  0.75976071 537.7521 1.009499"
      ]
     },
     "metadata": {},
     "output_type": "display_data"
    }
   ],
   "source": [
    "precis(m11.4_2, depth=2)"
   ]
  },
  {
   "cell_type": "code",
   "execution_count": 28,
   "id": "288fcfaa-d74e-464a-bfbc-8e60b23a31b5",
   "metadata": {
    "execution": {
     "iopub.execute_input": "2023-03-30T14:37:55.044090Z",
     "iopub.status.busy": "2023-03-30T14:37:55.026206Z",
     "iopub.status.idle": "2023-03-30T14:37:55.060616Z",
     "shell.execute_reply": "2023-03-30T14:37:55.059892Z"
    }
   },
   "outputs": [
    {
     "data": {
      "text/html": [
       "<table class=\"dataframe\">\n",
       "<caption>A precis: 11 × 4</caption>\n",
       "<thead>\n",
       "\t<tr><th></th><th scope=col>mean</th><th scope=col>sd</th><th scope=col>5.5%</th><th scope=col>94.5%</th></tr>\n",
       "\t<tr><th></th><th scope=col>&lt;dbl&gt;</th><th scope=col>&lt;dbl&gt;</th><th scope=col>&lt;dbl&gt;</th><th scope=col>&lt;dbl&gt;</th></tr>\n",
       "</thead>\n",
       "<tbody>\n",
       "\t<tr><th scope=row>a[1]</th><td>-0.3520204</td><td>0.3477653</td><td>-0.90781650</td><td> 0.20377570</td></tr>\n",
       "\t<tr><th scope=row>a[2]</th><td> 6.9922834</td><td>3.5459548</td><td> 1.32516278</td><td>12.65940403</td></tr>\n",
       "\t<tr><th scope=row>a[3]</th><td>-0.6546794</td><td>0.3537050</td><td>-1.21996839</td><td>-0.08939044</td></tr>\n",
       "\t<tr><th scope=row>a[4]</th><td>-0.6546797</td><td>0.3537051</td><td>-1.21996864</td><td>-0.08939067</td></tr>\n",
       "\t<tr><th scope=row>a[5]</th><td>-0.3520189</td><td>0.3477653</td><td>-0.90781499</td><td> 0.20377716</td></tr>\n",
       "\t<tr><th scope=row>a[6]</th><td> 0.5811571</td><td>0.3522748</td><td> 0.01815393</td><td> 1.14416032</td></tr>\n",
       "\t<tr><th scope=row>a[7]</th><td> 2.1186233</td><td>0.4523594</td><td> 1.39566557</td><td> 2.84158098</td></tr>\n",
       "\t<tr><th scope=row>b[1]</th><td>-0.1418631</td><td>0.3011498</td><td>-0.62315870</td><td> 0.33943242</td></tr>\n",
       "\t<tr><th scope=row>b[2]</th><td> 0.3816099</td><td>0.3009912</td><td>-0.09943213</td><td> 0.86265189</td></tr>\n",
       "\t<tr><th scope=row>b[3]</th><td>-0.4901278</td><td>0.3030961</td><td>-0.97453389</td><td>-0.00572180</td></tr>\n",
       "\t<tr><th scope=row>b[4]</th><td> 0.2695765</td><td>0.3007595</td><td>-0.21109539</td><td> 0.75024830</td></tr>\n",
       "</tbody>\n",
       "</table>\n"
      ],
      "text/latex": [
       "A precis: 11 × 4\n",
       "\\begin{tabular}{r|llll}\n",
       "  & mean & sd & 5.5\\% & 94.5\\%\\\\\n",
       "  & <dbl> & <dbl> & <dbl> & <dbl>\\\\\n",
       "\\hline\n",
       "\ta{[}1{]} & -0.3520204 & 0.3477653 & -0.90781650 &  0.20377570\\\\\n",
       "\ta{[}2{]} &  6.9922834 & 3.5459548 &  1.32516278 & 12.65940403\\\\\n",
       "\ta{[}3{]} & -0.6546794 & 0.3537050 & -1.21996839 & -0.08939044\\\\\n",
       "\ta{[}4{]} & -0.6546797 & 0.3537051 & -1.21996864 & -0.08939067\\\\\n",
       "\ta{[}5{]} & -0.3520189 & 0.3477653 & -0.90781499 &  0.20377716\\\\\n",
       "\ta{[}6{]} &  0.5811571 & 0.3522748 &  0.01815393 &  1.14416032\\\\\n",
       "\ta{[}7{]} &  2.1186233 & 0.4523594 &  1.39566557 &  2.84158098\\\\\n",
       "\tb{[}1{]} & -0.1418631 & 0.3011498 & -0.62315870 &  0.33943242\\\\\n",
       "\tb{[}2{]} &  0.3816099 & 0.3009912 & -0.09943213 &  0.86265189\\\\\n",
       "\tb{[}3{]} & -0.4901278 & 0.3030961 & -0.97453389 & -0.00572180\\\\\n",
       "\tb{[}4{]} &  0.2695765 & 0.3007595 & -0.21109539 &  0.75024830\\\\\n",
       "\\end{tabular}\n"
      ],
      "text/markdown": [
       "\n",
       "A precis: 11 × 4\n",
       "\n",
       "| <!--/--> | mean &lt;dbl&gt; | sd &lt;dbl&gt; | 5.5% &lt;dbl&gt; | 94.5% &lt;dbl&gt; |\n",
       "|---|---|---|---|---|\n",
       "| a[1] | -0.3520204 | 0.3477653 | -0.90781650 |  0.20377570 |\n",
       "| a[2] |  6.9922834 | 3.5459548 |  1.32516278 | 12.65940403 |\n",
       "| a[3] | -0.6546794 | 0.3537050 | -1.21996839 | -0.08939044 |\n",
       "| a[4] | -0.6546797 | 0.3537051 | -1.21996864 | -0.08939067 |\n",
       "| a[5] | -0.3520189 | 0.3477653 | -0.90781499 |  0.20377716 |\n",
       "| a[6] |  0.5811571 | 0.3522748 |  0.01815393 |  1.14416032 |\n",
       "| a[7] |  2.1186233 | 0.4523594 |  1.39566557 |  2.84158098 |\n",
       "| b[1] | -0.1418631 | 0.3011498 | -0.62315870 |  0.33943242 |\n",
       "| b[2] |  0.3816099 | 0.3009912 | -0.09943213 |  0.86265189 |\n",
       "| b[3] | -0.4901278 | 0.3030961 | -0.97453389 | -0.00572180 |\n",
       "| b[4] |  0.2695765 | 0.3007595 | -0.21109539 |  0.75024830 |\n",
       "\n"
      ],
      "text/plain": [
       "     mean       sd        5.5%        94.5%      \n",
       "a[1] -0.3520204 0.3477653 -0.90781650  0.20377570\n",
       "a[2]  6.9922834 3.5459548  1.32516278 12.65940403\n",
       "a[3] -0.6546794 0.3537050 -1.21996839 -0.08939044\n",
       "a[4] -0.6546797 0.3537051 -1.21996864 -0.08939067\n",
       "a[5] -0.3520189 0.3477653 -0.90781499  0.20377716\n",
       "a[6]  0.5811571 0.3522748  0.01815393  1.14416032\n",
       "a[7]  2.1186233 0.4523594  1.39566557  2.84158098\n",
       "b[1] -0.1418631 0.3011498 -0.62315870  0.33943242\n",
       "b[2]  0.3816099 0.3009912 -0.09943213  0.86265189\n",
       "b[3] -0.4901278 0.3030961 -0.97453389 -0.00572180\n",
       "b[4]  0.2695765 0.3007595 -0.21109539  0.75024830"
      ]
     },
     "metadata": {},
     "output_type": "display_data"
    }
   ],
   "source": [
    "precis(m11.4_quap_2, depth=2)"
   ]
  },
  {
   "cell_type": "markdown",
   "id": "0fbbcf58-8982-43b2-8f35-9cd31e32ea86",
   "metadata": {},
   "source": [
    "The differences increased. So now especially Actor 2 now are are off by a lot. This is mostly because quap is constrained to a Gaussian, but ulam isn't. We know that Actor 2 has a strong preference to left and never pulled right once. The data is extremely skewed, and Gaussian isn't good at dealing with that"
   ]
  },
  {
   "cell_type": "markdown",
   "id": "af3d22a2-af26-4932-a971-37defee65beb",
   "metadata": {},
   "source": [
    "## 11M8\n",
    "\n",
    "Revisit the `data(Kline)`, this time drop Hawaii from the sample and refit the models. What changes do you observe?"
   ]
  },
  {
   "cell_type": "code",
   "execution_count": 29,
   "id": "80019ad3-f15a-4587-8d93-eb6566cf9a0e",
   "metadata": {
    "execution": {
     "iopub.execute_input": "2023-03-30T15:06:37.898108Z",
     "iopub.status.busy": "2023-03-30T15:06:37.895148Z",
     "iopub.status.idle": "2023-03-30T15:06:37.929857Z",
     "shell.execute_reply": "2023-03-30T15:06:37.929137Z"
    }
   },
   "outputs": [
    {
     "data": {
      "text/html": [
       "<table class=\"dataframe\">\n",
       "<caption>A data.frame: 10 × 5</caption>\n",
       "<thead>\n",
       "\t<tr><th scope=col>culture</th><th scope=col>population</th><th scope=col>contact</th><th scope=col>total_tools</th><th scope=col>mean_TU</th></tr>\n",
       "\t<tr><th scope=col>&lt;fct&gt;</th><th scope=col>&lt;int&gt;</th><th scope=col>&lt;fct&gt;</th><th scope=col>&lt;int&gt;</th><th scope=col>&lt;dbl&gt;</th></tr>\n",
       "</thead>\n",
       "<tbody>\n",
       "\t<tr><td>Malekula  </td><td>  1100</td><td>low </td><td>13</td><td>3.2</td></tr>\n",
       "\t<tr><td>Tikopia   </td><td>  1500</td><td>low </td><td>22</td><td>4.7</td></tr>\n",
       "\t<tr><td>Santa Cruz</td><td>  3600</td><td>low </td><td>24</td><td>4.0</td></tr>\n",
       "\t<tr><td>Yap       </td><td>  4791</td><td>high</td><td>43</td><td>5.0</td></tr>\n",
       "\t<tr><td>Lau Fiji  </td><td>  7400</td><td>high</td><td>33</td><td>5.0</td></tr>\n",
       "\t<tr><td>Trobriand </td><td>  8000</td><td>high</td><td>19</td><td>4.0</td></tr>\n",
       "\t<tr><td>Chuuk     </td><td>  9200</td><td>high</td><td>40</td><td>3.8</td></tr>\n",
       "\t<tr><td>Manus     </td><td> 13000</td><td>low </td><td>28</td><td>6.6</td></tr>\n",
       "\t<tr><td>Tonga     </td><td> 17500</td><td>high</td><td>55</td><td>5.4</td></tr>\n",
       "\t<tr><td>Hawaii    </td><td>275000</td><td>low </td><td>71</td><td>6.6</td></tr>\n",
       "</tbody>\n",
       "</table>\n"
      ],
      "text/latex": [
       "A data.frame: 10 × 5\n",
       "\\begin{tabular}{lllll}\n",
       " culture & population & contact & total\\_tools & mean\\_TU\\\\\n",
       " <fct> & <int> & <fct> & <int> & <dbl>\\\\\n",
       "\\hline\n",
       "\t Malekula   &   1100 & low  & 13 & 3.2\\\\\n",
       "\t Tikopia    &   1500 & low  & 22 & 4.7\\\\\n",
       "\t Santa Cruz &   3600 & low  & 24 & 4.0\\\\\n",
       "\t Yap        &   4791 & high & 43 & 5.0\\\\\n",
       "\t Lau Fiji   &   7400 & high & 33 & 5.0\\\\\n",
       "\t Trobriand  &   8000 & high & 19 & 4.0\\\\\n",
       "\t Chuuk      &   9200 & high & 40 & 3.8\\\\\n",
       "\t Manus      &  13000 & low  & 28 & 6.6\\\\\n",
       "\t Tonga      &  17500 & high & 55 & 5.4\\\\\n",
       "\t Hawaii     & 275000 & low  & 71 & 6.6\\\\\n",
       "\\end{tabular}\n"
      ],
      "text/markdown": [
       "\n",
       "A data.frame: 10 × 5\n",
       "\n",
       "| culture &lt;fct&gt; | population &lt;int&gt; | contact &lt;fct&gt; | total_tools &lt;int&gt; | mean_TU &lt;dbl&gt; |\n",
       "|---|---|---|---|---|\n",
       "| Malekula   |   1100 | low  | 13 | 3.2 |\n",
       "| Tikopia    |   1500 | low  | 22 | 4.7 |\n",
       "| Santa Cruz |   3600 | low  | 24 | 4.0 |\n",
       "| Yap        |   4791 | high | 43 | 5.0 |\n",
       "| Lau Fiji   |   7400 | high | 33 | 5.0 |\n",
       "| Trobriand  |   8000 | high | 19 | 4.0 |\n",
       "| Chuuk      |   9200 | high | 40 | 3.8 |\n",
       "| Manus      |  13000 | low  | 28 | 6.6 |\n",
       "| Tonga      |  17500 | high | 55 | 5.4 |\n",
       "| Hawaii     | 275000 | low  | 71 | 6.6 |\n",
       "\n"
      ],
      "text/plain": [
       "   culture    population contact total_tools mean_TU\n",
       "1  Malekula     1100     low     13          3.2    \n",
       "2  Tikopia      1500     low     22          4.7    \n",
       "3  Santa Cruz   3600     low     24          4.0    \n",
       "4  Yap          4791     high    43          5.0    \n",
       "5  Lau Fiji     7400     high    33          5.0    \n",
       "6  Trobriand    8000     high    19          4.0    \n",
       "7  Chuuk        9200     high    40          3.8    \n",
       "8  Manus       13000     low     28          6.6    \n",
       "9  Tonga       17500     high    55          5.4    \n",
       "10 Hawaii     275000     low     71          6.6    "
      ]
     },
     "metadata": {},
     "output_type": "display_data"
    }
   ],
   "source": [
    "data(Kline)\n",
    "d <- Kline\n",
    "d"
   ]
  },
  {
   "cell_type": "code",
   "execution_count": 30,
   "id": "ffda7fb1-880f-4316-a49f-5de7fcd63d0b",
   "metadata": {
    "execution": {
     "iopub.execute_input": "2023-03-30T15:06:48.970649Z",
     "iopub.status.busy": "2023-03-30T15:06:48.968410Z",
     "iopub.status.idle": "2023-03-30T15:06:48.985366Z",
     "shell.execute_reply": "2023-03-30T15:06:48.984541Z"
    }
   },
   "outputs": [],
   "source": [
    "d$P <- scale( log(d$population) )\n",
    "d$contact_id <- ifelse( d$contact==\"high\" , 2 , 1 )"
   ]
  },
  {
   "cell_type": "code",
   "execution_count": 62,
   "id": "8e795117-19bb-4b5c-9e66-83ed85176df7",
   "metadata": {
    "execution": {
     "iopub.execute_input": "2023-03-30T15:16:50.829849Z",
     "iopub.status.busy": "2023-03-30T15:16:50.827441Z",
     "iopub.status.idle": "2023-03-30T15:16:50.844587Z",
     "shell.execute_reply": "2023-03-30T15:16:50.841958Z"
    },
    "tags": []
   },
   "outputs": [],
   "source": [
    "d2 <- d[d['culture']!='Hawaii', ]"
   ]
  },
  {
   "cell_type": "code",
   "execution_count": 63,
   "id": "614c1bcd-539f-43fe-beda-5ac59dd60130",
   "metadata": {
    "execution": {
     "iopub.execute_input": "2023-03-30T15:16:51.490398Z",
     "iopub.status.busy": "2023-03-30T15:16:51.487296Z",
     "iopub.status.idle": "2023-03-30T15:16:51.514909Z",
     "shell.execute_reply": "2023-03-30T15:16:51.513973Z"
    },
    "tags": []
   },
   "outputs": [
    {
     "data": {
      "text/html": [
       "<table class=\"dataframe\">\n",
       "<caption>A data.frame: 9 × 7</caption>\n",
       "<thead>\n",
       "\t<tr><th></th><th scope=col>culture</th><th scope=col>population</th><th scope=col>contact</th><th scope=col>total_tools</th><th scope=col>mean_TU</th><th scope=col>P</th><th scope=col>contact_id</th></tr>\n",
       "\t<tr><th></th><th scope=col>&lt;fct&gt;</th><th scope=col>&lt;int&gt;</th><th scope=col>&lt;fct&gt;</th><th scope=col>&lt;int&gt;</th><th scope=col>&lt;dbl&gt;</th><th scope=col>&lt;dbl[,1]&gt;</th><th scope=col>&lt;dbl&gt;</th></tr>\n",
       "</thead>\n",
       "<tbody>\n",
       "\t<tr><th scope=row>1</th><td>Malekula  </td><td> 1100</td><td>low </td><td>13</td><td>3.2</td><td>-1.291473310</td><td>1</td></tr>\n",
       "\t<tr><th scope=row>2</th><td>Tikopia   </td><td> 1500</td><td>low </td><td>22</td><td>4.7</td><td>-1.088550750</td><td>1</td></tr>\n",
       "\t<tr><th scope=row>3</th><td>Santa Cruz</td><td> 3600</td><td>low </td><td>24</td><td>4.0</td><td>-0.515764892</td><td>1</td></tr>\n",
       "\t<tr><th scope=row>4</th><td>Yap       </td><td> 4791</td><td>high</td><td>43</td><td>5.0</td><td>-0.328773359</td><td>2</td></tr>\n",
       "\t<tr><th scope=row>5</th><td>Lau Fiji  </td><td> 7400</td><td>high</td><td>33</td><td>5.0</td><td>-0.044338980</td><td>2</td></tr>\n",
       "\t<tr><th scope=row>6</th><td>Trobriand </td><td> 8000</td><td>high</td><td>19</td><td>4.0</td><td> 0.006668287</td><td>2</td></tr>\n",
       "\t<tr><th scope=row>7</th><td>Chuuk     </td><td> 9200</td><td>high</td><td>40</td><td>3.8</td><td> 0.098109204</td><td>2</td></tr>\n",
       "\t<tr><th scope=row>8</th><td>Manus     </td><td>13000</td><td>low </td><td>28</td><td>6.6</td><td> 0.324317564</td><td>1</td></tr>\n",
       "\t<tr><th scope=row>9</th><td>Tonga     </td><td>17500</td><td>high</td><td>55</td><td>5.4</td><td> 0.518797917</td><td>2</td></tr>\n",
       "</tbody>\n",
       "</table>\n"
      ],
      "text/latex": [
       "A data.frame: 9 × 7\n",
       "\\begin{tabular}{r|lllllll}\n",
       "  & culture & population & contact & total\\_tools & mean\\_TU & P & contact\\_id\\\\\n",
       "  & <fct> & <int> & <fct> & <int> & <dbl> & <dbl{[},1{]}> & <dbl>\\\\\n",
       "\\hline\n",
       "\t1 & Malekula   &  1100 & low  & 13 & 3.2 & -1.291473310 & 1\\\\\n",
       "\t2 & Tikopia    &  1500 & low  & 22 & 4.7 & -1.088550750 & 1\\\\\n",
       "\t3 & Santa Cruz &  3600 & low  & 24 & 4.0 & -0.515764892 & 1\\\\\n",
       "\t4 & Yap        &  4791 & high & 43 & 5.0 & -0.328773359 & 2\\\\\n",
       "\t5 & Lau Fiji   &  7400 & high & 33 & 5.0 & -0.044338980 & 2\\\\\n",
       "\t6 & Trobriand  &  8000 & high & 19 & 4.0 &  0.006668287 & 2\\\\\n",
       "\t7 & Chuuk      &  9200 & high & 40 & 3.8 &  0.098109204 & 2\\\\\n",
       "\t8 & Manus      & 13000 & low  & 28 & 6.6 &  0.324317564 & 1\\\\\n",
       "\t9 & Tonga      & 17500 & high & 55 & 5.4 &  0.518797917 & 2\\\\\n",
       "\\end{tabular}\n"
      ],
      "text/markdown": [
       "\n",
       "A data.frame: 9 × 7\n",
       "\n",
       "| <!--/--> | culture &lt;fct&gt; | population &lt;int&gt; | contact &lt;fct&gt; | total_tools &lt;int&gt; | mean_TU &lt;dbl&gt; | P &lt;dbl[,1]&gt; | contact_id &lt;dbl&gt; |\n",
       "|---|---|---|---|---|---|---|---|\n",
       "| 1 | Malekula   |  1100 | low  | 13 | 3.2 | -1.291473310 | 1 |\n",
       "| 2 | Tikopia    |  1500 | low  | 22 | 4.7 | -1.088550750 | 1 |\n",
       "| 3 | Santa Cruz |  3600 | low  | 24 | 4.0 | -0.515764892 | 1 |\n",
       "| 4 | Yap        |  4791 | high | 43 | 5.0 | -0.328773359 | 2 |\n",
       "| 5 | Lau Fiji   |  7400 | high | 33 | 5.0 | -0.044338980 | 2 |\n",
       "| 6 | Trobriand  |  8000 | high | 19 | 4.0 |  0.006668287 | 2 |\n",
       "| 7 | Chuuk      |  9200 | high | 40 | 3.8 |  0.098109204 | 2 |\n",
       "| 8 | Manus      | 13000 | low  | 28 | 6.6 |  0.324317564 | 1 |\n",
       "| 9 | Tonga      | 17500 | high | 55 | 5.4 |  0.518797917 | 2 |\n",
       "\n"
      ],
      "text/plain": [
       "  culture    population contact total_tools mean_TU P            contact_id\n",
       "1 Malekula    1100      low     13          3.2     -1.291473310 1         \n",
       "2 Tikopia     1500      low     22          4.7     -1.088550750 1         \n",
       "3 Santa Cruz  3600      low     24          4.0     -0.515764892 1         \n",
       "4 Yap         4791      high    43          5.0     -0.328773359 2         \n",
       "5 Lau Fiji    7400      high    33          5.0     -0.044338980 2         \n",
       "6 Trobriand   8000      high    19          4.0      0.006668287 2         \n",
       "7 Chuuk       9200      high    40          3.8      0.098109204 2         \n",
       "8 Manus      13000      low     28          6.6      0.324317564 1         \n",
       "9 Tonga      17500      high    55          5.4      0.518797917 2         "
      ]
     },
     "metadata": {},
     "output_type": "display_data"
    }
   ],
   "source": [
    "d2"
   ]
  },
  {
   "cell_type": "code",
   "execution_count": 64,
   "id": "74443117-a6f2-4d16-a30e-2f35fecdf1f3",
   "metadata": {
    "execution": {
     "iopub.execute_input": "2023-03-30T15:16:54.528754Z",
     "iopub.status.busy": "2023-03-30T15:16:54.525902Z",
     "iopub.status.idle": "2023-03-30T15:16:54.547013Z",
     "shell.execute_reply": "2023-03-30T15:16:54.546140Z"
    },
    "tags": []
   },
   "outputs": [],
   "source": [
    "dat <- list(\n",
    "    T = d2$total_tools ,\n",
    "    P = d2$P ,\n",
    "    cid = d2$contact_id )"
   ]
  },
  {
   "cell_type": "code",
   "execution_count": 65,
   "id": "7a5de238-de5b-4a95-b062-839a20d28b44",
   "metadata": {
    "execution": {
     "iopub.execute_input": "2023-03-30T15:16:55.422195Z",
     "iopub.status.busy": "2023-03-30T15:16:55.418736Z",
     "iopub.status.idle": "2023-03-30T15:16:55.442579Z",
     "shell.execute_reply": "2023-03-30T15:16:55.441764Z"
    },
    "tags": []
   },
   "outputs": [
    {
     "data": {
      "text/html": [
       "<dl>\n",
       "\t<dt>$T</dt>\n",
       "\t\t<dd><style>\n",
       ".list-inline {list-style: none; margin:0; padding: 0}\n",
       ".list-inline>li {display: inline-block}\n",
       ".list-inline>li:not(:last-child)::after {content: \"\\00b7\"; padding: 0 .5ex}\n",
       "</style>\n",
       "<ol class=list-inline><li>13</li><li>22</li><li>24</li><li>43</li><li>33</li><li>19</li><li>40</li><li>28</li><li>55</li></ol>\n",
       "</dd>\n",
       "\t<dt>$P</dt>\n",
       "\t\t<dd><table class=\"dataframe\">\n",
       "<caption>A matrix: 9 × 1 of type dbl</caption>\n",
       "<tbody>\n",
       "\t<tr><td>-1.291473310</td></tr>\n",
       "\t<tr><td>-1.088550750</td></tr>\n",
       "\t<tr><td>-0.515764892</td></tr>\n",
       "\t<tr><td>-0.328773359</td></tr>\n",
       "\t<tr><td>-0.044338980</td></tr>\n",
       "\t<tr><td> 0.006668287</td></tr>\n",
       "\t<tr><td> 0.098109204</td></tr>\n",
       "\t<tr><td> 0.324317564</td></tr>\n",
       "\t<tr><td> 0.518797917</td></tr>\n",
       "</tbody>\n",
       "</table>\n",
       "</dd>\n",
       "\t<dt>$cid</dt>\n",
       "\t\t<dd><style>\n",
       ".list-inline {list-style: none; margin:0; padding: 0}\n",
       ".list-inline>li {display: inline-block}\n",
       ".list-inline>li:not(:last-child)::after {content: \"\\00b7\"; padding: 0 .5ex}\n",
       "</style>\n",
       "<ol class=list-inline><li>1</li><li>1</li><li>1</li><li>2</li><li>2</li><li>2</li><li>2</li><li>1</li><li>2</li></ol>\n",
       "</dd>\n",
       "</dl>\n"
      ],
      "text/latex": [
       "\\begin{description}\n",
       "\\item[\\$T] \\begin{enumerate*}\n",
       "\\item 13\n",
       "\\item 22\n",
       "\\item 24\n",
       "\\item 43\n",
       "\\item 33\n",
       "\\item 19\n",
       "\\item 40\n",
       "\\item 28\n",
       "\\item 55\n",
       "\\end{enumerate*}\n",
       "\n",
       "\\item[\\$P] A matrix: 9 × 1 of type dbl\n",
       "\\begin{tabular}{l}\n",
       "\t -1.291473310\\\\\n",
       "\t -1.088550750\\\\\n",
       "\t -0.515764892\\\\\n",
       "\t -0.328773359\\\\\n",
       "\t -0.044338980\\\\\n",
       "\t  0.006668287\\\\\n",
       "\t  0.098109204\\\\\n",
       "\t  0.324317564\\\\\n",
       "\t  0.518797917\\\\\n",
       "\\end{tabular}\n",
       "\n",
       "\\item[\\$cid] \\begin{enumerate*}\n",
       "\\item 1\n",
       "\\item 1\n",
       "\\item 1\n",
       "\\item 2\n",
       "\\item 2\n",
       "\\item 2\n",
       "\\item 2\n",
       "\\item 1\n",
       "\\item 2\n",
       "\\end{enumerate*}\n",
       "\n",
       "\\end{description}\n"
      ],
      "text/markdown": [
       "$T\n",
       ":   1. 13\n",
       "2. 22\n",
       "3. 24\n",
       "4. 43\n",
       "5. 33\n",
       "6. 19\n",
       "7. 40\n",
       "8. 28\n",
       "9. 55\n",
       "\n",
       "\n",
       "\n",
       "$P\n",
       ":   \n",
       "A matrix: 9 × 1 of type dbl\n",
       "\n",
       "| -1.291473310 |\n",
       "| -1.088550750 |\n",
       "| -0.515764892 |\n",
       "| -0.328773359 |\n",
       "| -0.044338980 |\n",
       "|  0.006668287 |\n",
       "|  0.098109204 |\n",
       "|  0.324317564 |\n",
       "|  0.518797917 |\n",
       "\n",
       "\n",
       "$cid\n",
       ":   1. 1\n",
       "2. 1\n",
       "3. 1\n",
       "4. 2\n",
       "5. 2\n",
       "6. 2\n",
       "7. 2\n",
       "8. 1\n",
       "9. 2\n",
       "\n",
       "\n",
       "\n",
       "\n",
       "\n"
      ],
      "text/plain": [
       "$T\n",
       "[1] 13 22 24 43 33 19 40 28 55\n",
       "\n",
       "$P\n",
       "              [,1]\n",
       " [1,] -1.291473310\n",
       " [2,] -1.088550750\n",
       " [3,] -0.515764892\n",
       " [4,] -0.328773359\n",
       " [5,] -0.044338980\n",
       " [6,]  0.006668287\n",
       " [7,]  0.098109204\n",
       " [8,]  0.324317564\n",
       " [9,]  0.518797917\n",
       "\n",
       "$cid\n",
       "[1] 1 1 1 2 2 2 2 1 2\n"
      ]
     },
     "metadata": {},
     "output_type": "display_data"
    }
   ],
   "source": [
    "dat"
   ]
  },
  {
   "cell_type": "code",
   "execution_count": 66,
   "id": "0af723e3-6cdd-40c6-99ac-7ba3d20d2aa1",
   "metadata": {
    "execution": {
     "iopub.execute_input": "2023-03-30T15:16:56.554491Z",
     "iopub.status.busy": "2023-03-30T15:16:56.529644Z",
     "iopub.status.idle": "2023-03-30T15:17:01.570421Z",
     "shell.execute_reply": "2023-03-30T15:17:01.569824Z"
    },
    "tags": []
   },
   "outputs": [
    {
     "name": "stderr",
     "output_type": "stream",
     "text": [
      "Warning message in readLines(hpp_path):\n",
      "“incomplete final line found on '/var/folders/d7/f362skjd4nqdcwfmfwg636900000gp/T//RtmpsIfrDA/model-8fbf5b64e167.hpp'”\n",
      "Warning in '/var/folders/d7/f362skjd4nqdcwfmfwg636900000gp/T/RtmpsIfrDA/model-8fbf5b64e167.stan', line 2, column 4: Declaration\n",
      "    of arrays by placing brackets after a variable name is deprecated and\n",
      "    will be removed in Stan 2.32.0. Instead use the array keyword before the\n",
      "    type. This can be changed automatically using the auto-format flag to\n",
      "    stanc\n",
      "Warning in '/var/folders/d7/f362skjd4nqdcwfmfwg636900000gp/T/RtmpsIfrDA/model-8fbf5b64e167.stan', line 4, column 4: Declaration\n",
      "    of arrays by placing brackets after a variable name is deprecated and\n",
      "    will be removed in Stan 2.32.0. Instead use the array keyword before the\n",
      "    type. This can be changed automatically using the auto-format flag to\n",
      "    stanc\n",
      "\n",
      "\n",
      "Warning message in readLines(private$hpp_file_):\n",
      "“incomplete final line found on '/var/folders/d7/f362skjd4nqdcwfmfwg636900000gp/T//RtmpsIfrDA/model-8fbf5b64e167.hpp'”\n"
     ]
    },
    {
     "name": "stdout",
     "output_type": "stream",
     "text": [
      "Running MCMC with 4 sequential chains, with 1 thread(s) per chain...\n",
      "\n",
      "Chain 1 Iteration:   1 / 1000 [  0%]  (Warmup) \n",
      "Chain 1 Iteration: 100 / 1000 [ 10%]  (Warmup) \n",
      "Chain 1 Iteration: 200 / 1000 [ 20%]  (Warmup) \n",
      "Chain 1 Iteration: 300 / 1000 [ 30%]  (Warmup) \n",
      "Chain 1 Iteration: 400 / 1000 [ 40%]  (Warmup) \n",
      "Chain 1 Iteration: 500 / 1000 [ 50%]  (Warmup) \n",
      "Chain 1 Iteration: 501 / 1000 [ 50%]  (Sampling) \n",
      "Chain 1 Iteration: 600 / 1000 [ 60%]  (Sampling) \n",
      "Chain 1 Iteration: 700 / 1000 [ 70%]  (Sampling) \n",
      "Chain 1 Iteration: 800 / 1000 [ 80%]  (Sampling) \n",
      "Chain 1 Iteration: 900 / 1000 [ 90%]  (Sampling) \n",
      "Chain 1 Iteration: 1000 / 1000 [100%]  (Sampling) \n",
      "Chain 1 finished in 0.0 seconds.\n",
      "Chain 2 Iteration:   1 / 1000 [  0%]  (Warmup) \n",
      "Chain 2 Iteration: 100 / 1000 [ 10%]  (Warmup) \n",
      "Chain 2 Iteration: 200 / 1000 [ 20%]  (Warmup) \n",
      "Chain 2 Iteration: 300 / 1000 [ 30%]  (Warmup) \n",
      "Chain 2 Iteration: 400 / 1000 [ 40%]  (Warmup) \n",
      "Chain 2 Iteration: 500 / 1000 [ 50%]  (Warmup) \n",
      "Chain 2 Iteration: 501 / 1000 [ 50%]  (Sampling) \n",
      "Chain 2 Iteration: 600 / 1000 [ 60%]  (Sampling) \n",
      "Chain 2 Iteration: 700 / 1000 [ 70%]  (Sampling) \n",
      "Chain 2 Iteration: 800 / 1000 [ 80%]  (Sampling) \n",
      "Chain 2 Iteration: 900 / 1000 [ 90%]  (Sampling) \n",
      "Chain 2 Iteration: 1000 / 1000 [100%]  (Sampling) \n",
      "Chain 2 finished in 0.0 seconds.\n",
      "Chain 3 Iteration:   1 / 1000 [  0%]  (Warmup) \n",
      "Chain 3 Iteration: 100 / 1000 [ 10%]  (Warmup) \n",
      "Chain 3 Iteration: 200 / 1000 [ 20%]  (Warmup) \n",
      "Chain 3 Iteration: 300 / 1000 [ 30%]  (Warmup) \n",
      "Chain 3 Iteration: 400 / 1000 [ 40%]  (Warmup) \n",
      "Chain 3 Iteration: 500 / 1000 [ 50%]  (Warmup) \n",
      "Chain 3 Iteration: 501 / 1000 [ 50%]  (Sampling) \n",
      "Chain 3 Iteration: 600 / 1000 [ 60%]  (Sampling) \n",
      "Chain 3 Iteration: 700 / 1000 [ 70%]  (Sampling) \n",
      "Chain 3 Iteration: 800 / 1000 [ 80%]  (Sampling) \n",
      "Chain 3 Iteration: 900 / 1000 [ 90%]  (Sampling) \n",
      "Chain 3 Iteration: 1000 / 1000 [100%]  (Sampling) \n",
      "Chain 3 finished in 0.0 seconds.\n",
      "Chain 4 Iteration:   1 / 1000 [  0%]  (Warmup) \n",
      "Chain 4 Iteration: 100 / 1000 [ 10%]  (Warmup) \n",
      "Chain 4 Iteration: 200 / 1000 [ 20%]  (Warmup) \n",
      "Chain 4 Iteration: 300 / 1000 [ 30%]  (Warmup) \n",
      "Chain 4 Iteration: 400 / 1000 [ 40%]  (Warmup) \n",
      "Chain 4 Iteration: 500 / 1000 [ 50%]  (Warmup) \n",
      "Chain 4 Iteration: 501 / 1000 [ 50%]  (Sampling) \n",
      "Chain 4 Iteration: 600 / 1000 [ 60%]  (Sampling) \n",
      "Chain 4 Iteration: 700 / 1000 [ 70%]  (Sampling) \n",
      "Chain 4 Iteration: 800 / 1000 [ 80%]  (Sampling) \n",
      "Chain 4 Iteration: 900 / 1000 [ 90%]  (Sampling) \n",
      "Chain 4 Iteration: 1000 / 1000 [100%]  (Sampling) \n",
      "Chain 4 finished in 0.0 seconds.\n",
      "\n",
      "All 4 chains finished successfully.\n",
      "Mean chain execution time: 0.0 seconds.\n",
      "Total execution time: 0.5 seconds.\n",
      "\n"
     ]
    }
   ],
   "source": [
    "m11.9 <- ulam(\n",
    "    alist(\n",
    "        T ~ dpois( lambda ),\n",
    "        log(lambda) <- a,\n",
    "        a ~ dnorm( 3 , 0.5 )\n",
    "    ), data=dat , chains=4 , log_lik=TRUE )\n"
   ]
  },
  {
   "cell_type": "code",
   "execution_count": 67,
   "id": "b0669f28-9fa5-4077-b9ca-82e5c58df50e",
   "metadata": {
    "execution": {
     "iopub.execute_input": "2023-03-30T15:18:51.739706Z",
     "iopub.status.busy": "2023-03-30T15:18:51.736815Z",
     "iopub.status.idle": "2023-03-30T15:18:51.760632Z",
     "shell.execute_reply": "2023-03-30T15:18:51.759964Z"
    }
   },
   "outputs": [
    {
     "data": {
      "text/html": [
       "<dl>\n",
       "\t<dt>$T</dt>\n",
       "\t\t<dd><style>\n",
       ".list-inline {list-style: none; margin:0; padding: 0}\n",
       ".list-inline>li {display: inline-block}\n",
       ".list-inline>li:not(:last-child)::after {content: \"\\00b7\"; padding: 0 .5ex}\n",
       "</style>\n",
       "<ol class=list-inline><li>13</li><li>22</li><li>24</li><li>43</li><li>33</li><li>19</li><li>40</li><li>28</li><li>55</li><li>71</li></ol>\n",
       "</dd>\n",
       "\t<dt>$P</dt>\n",
       "\t\t<dd><table class=\"dataframe\">\n",
       "<caption>A matrix: 10 × 1 of type dbl</caption>\n",
       "<tbody>\n",
       "\t<tr><td>-1.291473310</td></tr>\n",
       "\t<tr><td>-1.088550750</td></tr>\n",
       "\t<tr><td>-0.515764892</td></tr>\n",
       "\t<tr><td>-0.328773359</td></tr>\n",
       "\t<tr><td>-0.044338980</td></tr>\n",
       "\t<tr><td> 0.006668287</td></tr>\n",
       "\t<tr><td> 0.098109204</td></tr>\n",
       "\t<tr><td> 0.324317564</td></tr>\n",
       "\t<tr><td> 0.518797917</td></tr>\n",
       "\t<tr><td> 2.321008320</td></tr>\n",
       "</tbody>\n",
       "</table>\n",
       "</dd>\n",
       "\t<dt>$cid</dt>\n",
       "\t\t<dd><style>\n",
       ".list-inline {list-style: none; margin:0; padding: 0}\n",
       ".list-inline>li {display: inline-block}\n",
       ".list-inline>li:not(:last-child)::after {content: \"\\00b7\"; padding: 0 .5ex}\n",
       "</style>\n",
       "<ol class=list-inline><li>1</li><li>1</li><li>1</li><li>2</li><li>2</li><li>2</li><li>2</li><li>1</li><li>2</li><li>1</li></ol>\n",
       "</dd>\n",
       "</dl>\n"
      ],
      "text/latex": [
       "\\begin{description}\n",
       "\\item[\\$T] \\begin{enumerate*}\n",
       "\\item 13\n",
       "\\item 22\n",
       "\\item 24\n",
       "\\item 43\n",
       "\\item 33\n",
       "\\item 19\n",
       "\\item 40\n",
       "\\item 28\n",
       "\\item 55\n",
       "\\item 71\n",
       "\\end{enumerate*}\n",
       "\n",
       "\\item[\\$P] A matrix: 10 × 1 of type dbl\n",
       "\\begin{tabular}{l}\n",
       "\t -1.291473310\\\\\n",
       "\t -1.088550750\\\\\n",
       "\t -0.515764892\\\\\n",
       "\t -0.328773359\\\\\n",
       "\t -0.044338980\\\\\n",
       "\t  0.006668287\\\\\n",
       "\t  0.098109204\\\\\n",
       "\t  0.324317564\\\\\n",
       "\t  0.518797917\\\\\n",
       "\t  2.321008320\\\\\n",
       "\\end{tabular}\n",
       "\n",
       "\\item[\\$cid] \\begin{enumerate*}\n",
       "\\item 1\n",
       "\\item 1\n",
       "\\item 1\n",
       "\\item 2\n",
       "\\item 2\n",
       "\\item 2\n",
       "\\item 2\n",
       "\\item 1\n",
       "\\item 2\n",
       "\\item 1\n",
       "\\end{enumerate*}\n",
       "\n",
       "\\end{description}\n"
      ],
      "text/markdown": [
       "$T\n",
       ":   1. 13\n",
       "2. 22\n",
       "3. 24\n",
       "4. 43\n",
       "5. 33\n",
       "6. 19\n",
       "7. 40\n",
       "8. 28\n",
       "9. 55\n",
       "10. 71\n",
       "\n",
       "\n",
       "\n",
       "$P\n",
       ":   \n",
       "A matrix: 10 × 1 of type dbl\n",
       "\n",
       "| -1.291473310 |\n",
       "| -1.088550750 |\n",
       "| -0.515764892 |\n",
       "| -0.328773359 |\n",
       "| -0.044338980 |\n",
       "|  0.006668287 |\n",
       "|  0.098109204 |\n",
       "|  0.324317564 |\n",
       "|  0.518797917 |\n",
       "|  2.321008320 |\n",
       "\n",
       "\n",
       "$cid\n",
       ":   1. 1\n",
       "2. 1\n",
       "3. 1\n",
       "4. 2\n",
       "5. 2\n",
       "6. 2\n",
       "7. 2\n",
       "8. 1\n",
       "9. 2\n",
       "10. 1\n",
       "\n",
       "\n",
       "\n",
       "\n",
       "\n"
      ],
      "text/plain": [
       "$T\n",
       " [1] 13 22 24 43 33 19 40 28 55 71\n",
       "\n",
       "$P\n",
       "              [,1]\n",
       " [1,] -1.291473310\n",
       " [2,] -1.088550750\n",
       " [3,] -0.515764892\n",
       " [4,] -0.328773359\n",
       " [5,] -0.044338980\n",
       " [6,]  0.006668287\n",
       " [7,]  0.098109204\n",
       " [8,]  0.324317564\n",
       " [9,]  0.518797917\n",
       "[10,]  2.321008320\n",
       "attr(,\"scaled:center\")\n",
       "[1] 8.977005\n",
       "attr(,\"scaled:scale\")\n",
       "[1] 1.52844\n",
       "\n",
       "$cid\n",
       " [1] 1 1 1 2 2 2 2 1 2 1\n"
      ]
     },
     "metadata": {},
     "output_type": "display_data"
    }
   ],
   "source": [
    "list(\n",
    "    T = d$total_tools ,\n",
    "    P = d$P ,\n",
    "    cid = d$contact_id )"
   ]
  },
  {
   "cell_type": "code",
   "execution_count": 78,
   "id": "dcdc7370-4894-488e-81f5-103702136381",
   "metadata": {
    "execution": {
     "iopub.execute_input": "2023-03-30T15:21:10.492703Z",
     "iopub.status.busy": "2023-03-30T15:21:10.489754Z",
     "iopub.status.idle": "2023-03-30T15:21:11.087034Z",
     "shell.execute_reply": "2023-03-30T15:21:11.085777Z"
    },
    "tags": []
   },
   "outputs": [
    {
     "name": "stderr",
     "output_type": "stream",
     "text": [
      "Warning in '/var/folders/d7/f362skjd4nqdcwfmfwg636900000gp/T/RtmpsIfrDA/model-8fbf7923ebd2.stan', line 2, column 4: Declaration\n",
      "    of arrays by placing brackets after a variable name is deprecated and\n",
      "    will be removed in Stan 2.32.0. Instead use the array keyword before the\n",
      "    type. This can be changed automatically using the auto-format flag to\n",
      "    stanc\n",
      "Warning in '/var/folders/d7/f362skjd4nqdcwfmfwg636900000gp/T/RtmpsIfrDA/model-8fbf7923ebd2.stan', line 4, column 4: Declaration\n",
      "    of arrays by placing brackets after a variable name is deprecated and\n",
      "    will be removed in Stan 2.32.0. Instead use the array keyword before the\n",
      "    type. This can be changed automatically using the auto-format flag to\n",
      "    stanc\n",
      "Semantic error in '/var/folders/d7/f362skjd4nqdcwfmfwg636900000gp/T/RtmpsIfrDA/model-8fbf7923ebd2.stan', line 15, column 8 to column 49:\n",
      "   -------------------------------------------------\n",
      "    13:      a ~ normal( 3 , 0.5 );\n",
      "    14:      for ( i in 1:9 ) {\n",
      "    15:          lambda[i] = a[cid[i]] + b[cid[i]] * P[i];\n",
      "                 ^\n",
      "    16:          lambda[i] = exp(lambda[i]);\n",
      "    17:      }\n",
      "   -------------------------------------------------\n",
      "\n",
      "Ill-typed arguments supplied to assignment operator =: lhs has type real and rhs has type row_vector\n",
      "\n",
      "\n",
      "make: *** [/var/folders/d7/f362skjd4nqdcwfmfwg636900000gp/T/RtmpsIfrDA/model-8fbf7923ebd2.hpp] Error 1\n",
      "\n",
      "\n"
     ]
    },
    {
     "ename": "ERROR",
     "evalue": "Error: An error occured during compilation! See the message above for more information.\n",
     "output_type": "error",
     "traceback": [
      "Error: An error occured during compilation! See the message above for more information.\nTraceback:\n",
      "1. ulam(alist(T ~ dpois(lambda), log(lambda) <- a[cid] + b[cid] * \n .     P, a[cid] ~ dnorm(3, 0.5), b[cid] ~ dnorm(0, 0.2)), data = list(T = d2$total_tools, \n .     P = d2$P, cid = d2$contact_id), chains = 4, log_lik = TRUE)",
      "2. cmdstan_model(stan_file = filex[[1]], compile = filex[[3]], cpp_options = cpp_options)",
      "3. CmdStanModel$new(stan_file = stan_file, exe_file = exe_file, \n .     compile = compile, ...)",
      "4. initialize(...)",
      "5. self$compile(...)",
      "6. stop(\"An error occured during compilation! See the message above for more information.\", \n .     call. = FALSE)"
     ]
    }
   ],
   "source": [
    "m11.10 <- ulam(\n",
    "    alist(\n",
    "        T ~ dpois( lambda ),\n",
    "        log(lambda) <- a[cid] + b[cid]*P,\n",
    "        a[cid] ~ dnorm( 3 , 0.5 ),\n",
    "        b[cid] ~ dnorm( 0 , 0.2 )\n",
    "    ), data=list(\n",
    "    T = d2$total_tools ,\n",
    "    P = d2$P ,\n",
    "    cid = d2$contact_id ) , chains=4 , log_lik=TRUE )"
   ]
  },
  {
   "cell_type": "markdown",
   "id": "c6fc2c9e-4ee5-4108-aee2-afebf558fce7",
   "metadata": {},
   "source": [
    "For some reason this doesn't work but if I switch to P = d$P it works. I don't know why... based on [this](https://sr2-solutions.wjakethompson.com/generalized-linear-models.html#chapter-11) it seems that Hawaii was driving the slope between high and low contact"
   ]
  },
  {
   "cell_type": "markdown",
   "id": "79650e99-ff4b-4bda-8a1d-2084ed51cb59",
   "metadata": {
    "tags": []
   },
   "source": [
    "## 11H1\n",
    "\n",
    "Use `WAIC` or `PSIS` to compare the chimpanzee model that includes a unique intercept for each actor, `m11.4` to teh simpler models fit in the same section. Interpret the results "
   ]
  },
  {
   "cell_type": "code",
   "execution_count": 87,
   "id": "78f5972d-7bc3-44b9-82bd-f5a7ea8a8b49",
   "metadata": {
    "execution": {
     "iopub.execute_input": "2023-03-30T15:26:17.823709Z",
     "iopub.status.busy": "2023-03-30T15:26:17.820496Z",
     "iopub.status.idle": "2023-03-30T15:26:17.846975Z",
     "shell.execute_reply": "2023-03-30T15:26:17.845231Z"
    }
   },
   "outputs": [],
   "source": [
    "library(rethinking)\n",
    "data(chimpanzees)\n",
    "d <- chimpanzees"
   ]
  },
  {
   "cell_type": "code",
   "execution_count": 89,
   "id": "6c519b38-f890-4bd5-940d-226557eaab3a",
   "metadata": {
    "execution": {
     "iopub.execute_input": "2023-03-30T15:26:28.745064Z",
     "iopub.status.busy": "2023-03-30T15:26:28.742100Z",
     "iopub.status.idle": "2023-03-30T15:26:28.759268Z",
     "shell.execute_reply": "2023-03-30T15:26:28.757388Z"
    }
   },
   "outputs": [],
   "source": [
    "d$treatment <- 1 + d$prosoc_left + 2*d$condition"
   ]
  },
  {
   "cell_type": "code",
   "execution_count": 91,
   "id": "2cc1f4de-d525-45e3-972b-063222ef5276",
   "metadata": {
    "execution": {
     "iopub.execute_input": "2023-03-30T15:26:52.253287Z",
     "iopub.status.busy": "2023-03-30T15:26:52.249769Z",
     "iopub.status.idle": "2023-03-30T15:26:52.292793Z",
     "shell.execute_reply": "2023-03-30T15:26:52.292057Z"
    },
    "tags": []
   },
   "outputs": [],
   "source": [
    "m11.3 <- quap(\n",
    "    alist(\n",
    "        pulled_left ~ dbinom( 1 , p ) ,\n",
    "        logit(p) <- a + b[treatment] ,\n",
    "        a ~ dnorm( 0 , 1.5 ),\n",
    "        b[treatment] ~ dnorm( 0 , 0.5 )\n",
    "    ) , data=d )"
   ]
  },
  {
   "cell_type": "code",
   "execution_count": 93,
   "id": "bad6331d-a9ef-4294-a532-beeb4dfcfeba",
   "metadata": {
    "execution": {
     "iopub.execute_input": "2023-03-30T15:27:07.297785Z",
     "iopub.status.busy": "2023-03-30T15:27:07.295042Z",
     "iopub.status.idle": "2023-03-30T15:27:07.470951Z",
     "shell.execute_reply": "2023-03-30T15:27:07.470385Z"
    },
    "tags": []
   },
   "outputs": [
    {
     "name": "stderr",
     "output_type": "stream",
     "text": [
      "Warning message in compare(m11.4, m11.3, func = WAIC):\n",
      "“Not all model fits of same class.\n",
      "This is usually a bad idea, because it implies they were fit by different algorithms.\n",
      "Check yourself, before you wreck yourself.”\n"
     ]
    },
    {
     "data": {
      "text/html": [
       "<table class=\"dataframe\">\n",
       "<caption>A compareIC: 2 × 6</caption>\n",
       "<thead>\n",
       "\t<tr><th></th><th scope=col>WAIC</th><th scope=col>SE</th><th scope=col>dWAIC</th><th scope=col>dSE</th><th scope=col>pWAIC</th><th scope=col>weight</th></tr>\n",
       "\t<tr><th></th><th scope=col>&lt;dbl&gt;</th><th scope=col>&lt;dbl&gt;</th><th scope=col>&lt;dbl&gt;</th><th scope=col>&lt;dbl&gt;</th><th scope=col>&lt;dbl&gt;</th><th scope=col>&lt;dbl&gt;</th></tr>\n",
       "</thead>\n",
       "<tbody>\n",
       "\t<tr><th scope=row>m11.4</th><td>531.1840</td><td>18.876869</td><td>  0.0000</td><td>      NA</td><td>7.981378</td><td>1.000000e+00</td></tr>\n",
       "\t<tr><th scope=row>m11.3</th><td>682.2743</td><td> 9.075381</td><td>151.0903</td><td>18.35883</td><td>3.513709</td><td>1.552935e-33</td></tr>\n",
       "</tbody>\n",
       "</table>\n"
      ],
      "text/latex": [
       "A compareIC: 2 × 6\n",
       "\\begin{tabular}{r|llllll}\n",
       "  & WAIC & SE & dWAIC & dSE & pWAIC & weight\\\\\n",
       "  & <dbl> & <dbl> & <dbl> & <dbl> & <dbl> & <dbl>\\\\\n",
       "\\hline\n",
       "\tm11.4 & 531.1840 & 18.876869 &   0.0000 &       NA & 7.981378 & 1.000000e+00\\\\\n",
       "\tm11.3 & 682.2743 &  9.075381 & 151.0903 & 18.35883 & 3.513709 & 1.552935e-33\\\\\n",
       "\\end{tabular}\n"
      ],
      "text/markdown": [
       "\n",
       "A compareIC: 2 × 6\n",
       "\n",
       "| <!--/--> | WAIC &lt;dbl&gt; | SE &lt;dbl&gt; | dWAIC &lt;dbl&gt; | dSE &lt;dbl&gt; | pWAIC &lt;dbl&gt; | weight &lt;dbl&gt; |\n",
       "|---|---|---|---|---|---|---|\n",
       "| m11.4 | 531.1840 | 18.876869 |   0.0000 |       NA | 7.981378 | 1.000000e+00 |\n",
       "| m11.3 | 682.2743 |  9.075381 | 151.0903 | 18.35883 | 3.513709 | 1.552935e-33 |\n",
       "\n"
      ],
      "text/plain": [
       "      WAIC     SE        dWAIC    dSE      pWAIC    weight      \n",
       "m11.4 531.1840 18.876869   0.0000       NA 7.981378 1.000000e+00\n",
       "m11.3 682.2743  9.075381 151.0903 18.35883 3.513709 1.552935e-33"
      ]
     },
     "metadata": {},
     "output_type": "display_data"
    }
   ],
   "source": [
    "compare(m11.4, m11.3, func = WAIC)"
   ]
  },
  {
   "cell_type": "markdown",
   "id": "6c3a21ff-015c-4fb5-abc2-fb0631bf9ae4",
   "metadata": {},
   "source": [
    "Great warning message. "
   ]
  },
  {
   "cell_type": "code",
   "execution_count": 95,
   "id": "14ac1b05-b79c-41b4-ad36-3b1f277d6598",
   "metadata": {
    "execution": {
     "iopub.execute_input": "2023-03-30T15:27:50.133842Z",
     "iopub.status.busy": "2023-03-30T15:27:50.130901Z",
     "iopub.status.idle": "2023-03-30T15:27:50.316426Z",
     "shell.execute_reply": "2023-03-30T15:27:50.315707Z"
    }
   },
   "outputs": [
    {
     "name": "stderr",
     "output_type": "stream",
     "text": [
      "Warning message in compare(m11.4, m11.3, func = WAIC):\n",
      "“Not all model fits of same class.\n",
      "This is usually a bad idea, because it implies they were fit by different algorithms.\n",
      "Check yourself, before you wreck yourself.”\n"
     ]
    },
    {
     "data": {
      "image/png": "[encoded data removed]",
      "text/plain": [
       "plot without title"
      ]
     },
     "metadata": {
      "image/png": {
       "height": 420,
       "width": 420
      }
     },
     "output_type": "display_data"
    }
   ],
   "source": [
    "plot(compare(m11.4, m11.3, func = WAIC))"
   ]
  },
  {
   "cell_type": "markdown",
   "id": "a2b62684-56d1-46fb-a4e1-0433793e4203",
   "metadata": {},
   "source": [
    "Looks like they are very different from each other. but WAIC says that the one with separate intercept works the best. Variations in individual chimpanzees are strong compared to just treatments"
   ]
  },
  {
   "cell_type": "markdown",
   "id": "005247ab-7a38-4411-a358-4a71c9a7b09f",
   "metadata": {},
   "source": [
    "## 11H2\n",
    "\n",
    "question is a bit long refer to the book..."
   ]
  },
  {
   "cell_type": "code",
   "execution_count": 96,
   "id": "4a0185e9-ef5d-4039-b1c7-519869083fee",
   "metadata": {
    "execution": {
     "iopub.execute_input": "2023-03-30T17:58:49.120923Z",
     "iopub.status.busy": "2023-03-30T17:58:49.118458Z",
     "iopub.status.idle": "2023-03-30T17:58:49.150140Z",
     "shell.execute_reply": "2023-03-30T17:58:49.148637Z"
    }
   },
   "outputs": [],
   "source": [
    "library(MASS)"
   ]
  },
  {
   "cell_type": "code",
   "execution_count": 97,
   "id": "3124db29-be92-493e-95bd-9e65645799ec",
   "metadata": {
    "execution": {
     "iopub.execute_input": "2023-03-30T17:58:56.334992Z",
     "iopub.status.busy": "2023-03-30T17:58:56.331885Z",
     "iopub.status.idle": "2023-03-30T17:58:56.372205Z",
     "shell.execute_reply": "2023-03-30T17:58:56.352943Z"
    }
   },
   "outputs": [],
   "source": [
    "data(eagles)"
   ]
  },
  {
   "cell_type": "code",
   "execution_count": 98,
   "id": "34f2feda-d967-4dc5-837d-fea6473b36b4",
   "metadata": {
    "execution": {
     "iopub.execute_input": "2023-03-30T17:59:01.885572Z",
     "iopub.status.busy": "2023-03-30T17:59:01.882580Z",
     "iopub.status.idle": "2023-03-30T17:59:01.901304Z",
     "shell.execute_reply": "2023-03-30T17:59:01.899394Z"
    }
   },
   "outputs": [],
   "source": [
    "d <- eagles"
   ]
  },
  {
   "cell_type": "code",
   "execution_count": 99,
   "id": "914f6725-4d26-4555-a3fd-a3d3c5a52d07",
   "metadata": {
    "execution": {
     "iopub.execute_input": "2023-03-30T17:59:02.879405Z",
     "iopub.status.busy": "2023-03-30T17:59:02.876511Z",
     "iopub.status.idle": "2023-03-30T17:59:02.900444Z",
     "shell.execute_reply": "2023-03-30T17:59:02.899759Z"
    }
   },
   "outputs": [
    {
     "data": {
      "text/html": [
       "<table class=\"dataframe\">\n",
       "<caption>A data.frame: 8 × 5</caption>\n",
       "<thead>\n",
       "\t<tr><th></th><th scope=col>y</th><th scope=col>n</th><th scope=col>P</th><th scope=col>A</th><th scope=col>V</th></tr>\n",
       "\t<tr><th></th><th scope=col>&lt;int&gt;</th><th scope=col>&lt;int&gt;</th><th scope=col>&lt;fct&gt;</th><th scope=col>&lt;fct&gt;</th><th scope=col>&lt;fct&gt;</th></tr>\n",
       "</thead>\n",
       "<tbody>\n",
       "\t<tr><th scope=row>1</th><td>17</td><td>24</td><td>L</td><td>A</td><td>L</td></tr>\n",
       "\t<tr><th scope=row>2</th><td>29</td><td>29</td><td>L</td><td>A</td><td>S</td></tr>\n",
       "\t<tr><th scope=row>3</th><td>17</td><td>27</td><td>L</td><td>I</td><td>L</td></tr>\n",
       "\t<tr><th scope=row>4</th><td>20</td><td>20</td><td>L</td><td>I</td><td>S</td></tr>\n",
       "\t<tr><th scope=row>5</th><td> 1</td><td>12</td><td>S</td><td>A</td><td>L</td></tr>\n",
       "\t<tr><th scope=row>6</th><td>15</td><td>16</td><td>S</td><td>A</td><td>S</td></tr>\n",
       "\t<tr><th scope=row>7</th><td> 0</td><td>28</td><td>S</td><td>I</td><td>L</td></tr>\n",
       "\t<tr><th scope=row>8</th><td> 1</td><td> 4</td><td>S</td><td>I</td><td>S</td></tr>\n",
       "</tbody>\n",
       "</table>\n"
      ],
      "text/latex": [
       "A data.frame: 8 × 5\n",
       "\\begin{tabular}{r|lllll}\n",
       "  & y & n & P & A & V\\\\\n",
       "  & <int> & <int> & <fct> & <fct> & <fct>\\\\\n",
       "\\hline\n",
       "\t1 & 17 & 24 & L & A & L\\\\\n",
       "\t2 & 29 & 29 & L & A & S\\\\\n",
       "\t3 & 17 & 27 & L & I & L\\\\\n",
       "\t4 & 20 & 20 & L & I & S\\\\\n",
       "\t5 &  1 & 12 & S & A & L\\\\\n",
       "\t6 & 15 & 16 & S & A & S\\\\\n",
       "\t7 &  0 & 28 & S & I & L\\\\\n",
       "\t8 &  1 &  4 & S & I & S\\\\\n",
       "\\end{tabular}\n"
      ],
      "text/markdown": [
       "\n",
       "A data.frame: 8 × 5\n",
       "\n",
       "| <!--/--> | y &lt;int&gt; | n &lt;int&gt; | P &lt;fct&gt; | A &lt;fct&gt; | V &lt;fct&gt; |\n",
       "|---|---|---|---|---|---|\n",
       "| 1 | 17 | 24 | L | A | L |\n",
       "| 2 | 29 | 29 | L | A | S |\n",
       "| 3 | 17 | 27 | L | I | L |\n",
       "| 4 | 20 | 20 | L | I | S |\n",
       "| 5 |  1 | 12 | S | A | L |\n",
       "| 6 | 15 | 16 | S | A | S |\n",
       "| 7 |  0 | 28 | S | I | L |\n",
       "| 8 |  1 |  4 | S | I | S |\n",
       "\n"
      ],
      "text/plain": [
       "  y  n  P A V\n",
       "1 17 24 L A L\n",
       "2 29 29 L A S\n",
       "3 17 27 L I L\n",
       "4 20 20 L I S\n",
       "5  1 12 S A L\n",
       "6 15 16 S A S\n",
       "7  0 28 S I L\n",
       "8  1  4 S I S"
      ]
     },
     "metadata": {},
     "output_type": "display_data"
    }
   ],
   "source": [
    "d"
   ]
  },
  {
   "cell_type": "code",
   "execution_count": 100,
   "id": "15da0c19-b565-439f-80b6-a1ad39806501",
   "metadata": {
    "execution": {
     "iopub.execute_input": "2023-03-30T18:02:34.053869Z",
     "iopub.status.busy": "2023-03-30T18:02:34.051071Z",
     "iopub.status.idle": "2023-03-30T18:02:34.069006Z",
     "shell.execute_reply": "2023-03-30T18:02:34.068238Z"
    }
   },
   "outputs": [],
   "source": [
    "d$P_ind <- ifelse( d$P==\"L\" , 1 , 0 )\n",
    "d$A_ind <- ifelse( d$A=='A', 1, 0)\n",
    "d$V_ind <- ifelse( d$V=='L', 1, 0)"
   ]
  },
  {
   "cell_type": "code",
   "execution_count": 101,
   "id": "b2f92c93-0b5e-4d1b-a049-f56be2dcb574",
   "metadata": {
    "execution": {
     "iopub.execute_input": "2023-03-30T18:02:36.158212Z",
     "iopub.status.busy": "2023-03-30T18:02:36.156295Z",
     "iopub.status.idle": "2023-03-30T18:02:36.183782Z",
     "shell.execute_reply": "2023-03-30T18:02:36.183083Z"
    }
   },
   "outputs": [
    {
     "data": {
      "text/html": [
       "<table class=\"dataframe\">\n",
       "<caption>A data.frame: 8 × 8</caption>\n",
       "<thead>\n",
       "\t<tr><th></th><th scope=col>y</th><th scope=col>n</th><th scope=col>P</th><th scope=col>A</th><th scope=col>V</th><th scope=col>P_ind</th><th scope=col>A_ind</th><th scope=col>V_ind</th></tr>\n",
       "\t<tr><th></th><th scope=col>&lt;int&gt;</th><th scope=col>&lt;int&gt;</th><th scope=col>&lt;fct&gt;</th><th scope=col>&lt;fct&gt;</th><th scope=col>&lt;fct&gt;</th><th scope=col>&lt;dbl&gt;</th><th scope=col>&lt;dbl&gt;</th><th scope=col>&lt;dbl&gt;</th></tr>\n",
       "</thead>\n",
       "<tbody>\n",
       "\t<tr><th scope=row>1</th><td>17</td><td>24</td><td>L</td><td>A</td><td>L</td><td>1</td><td>1</td><td>1</td></tr>\n",
       "\t<tr><th scope=row>2</th><td>29</td><td>29</td><td>L</td><td>A</td><td>S</td><td>1</td><td>1</td><td>0</td></tr>\n",
       "\t<tr><th scope=row>3</th><td>17</td><td>27</td><td>L</td><td>I</td><td>L</td><td>1</td><td>0</td><td>1</td></tr>\n",
       "\t<tr><th scope=row>4</th><td>20</td><td>20</td><td>L</td><td>I</td><td>S</td><td>1</td><td>0</td><td>0</td></tr>\n",
       "\t<tr><th scope=row>5</th><td> 1</td><td>12</td><td>S</td><td>A</td><td>L</td><td>0</td><td>1</td><td>1</td></tr>\n",
       "\t<tr><th scope=row>6</th><td>15</td><td>16</td><td>S</td><td>A</td><td>S</td><td>0</td><td>1</td><td>0</td></tr>\n",
       "\t<tr><th scope=row>7</th><td> 0</td><td>28</td><td>S</td><td>I</td><td>L</td><td>0</td><td>0</td><td>1</td></tr>\n",
       "\t<tr><th scope=row>8</th><td> 1</td><td> 4</td><td>S</td><td>I</td><td>S</td><td>0</td><td>0</td><td>0</td></tr>\n",
       "</tbody>\n",
       "</table>\n"
      ],
      "text/latex": [
       "A data.frame: 8 × 8\n",
       "\\begin{tabular}{r|llllllll}\n",
       "  & y & n & P & A & V & P\\_ind & A\\_ind & V\\_ind\\\\\n",
       "  & <int> & <int> & <fct> & <fct> & <fct> & <dbl> & <dbl> & <dbl>\\\\\n",
       "\\hline\n",
       "\t1 & 17 & 24 & L & A & L & 1 & 1 & 1\\\\\n",
       "\t2 & 29 & 29 & L & A & S & 1 & 1 & 0\\\\\n",
       "\t3 & 17 & 27 & L & I & L & 1 & 0 & 1\\\\\n",
       "\t4 & 20 & 20 & L & I & S & 1 & 0 & 0\\\\\n",
       "\t5 &  1 & 12 & S & A & L & 0 & 1 & 1\\\\\n",
       "\t6 & 15 & 16 & S & A & S & 0 & 1 & 0\\\\\n",
       "\t7 &  0 & 28 & S & I & L & 0 & 0 & 1\\\\\n",
       "\t8 &  1 &  4 & S & I & S & 0 & 0 & 0\\\\\n",
       "\\end{tabular}\n"
      ],
      "text/markdown": [
       "\n",
       "A data.frame: 8 × 8\n",
       "\n",
       "| <!--/--> | y &lt;int&gt; | n &lt;int&gt; | P &lt;fct&gt; | A &lt;fct&gt; | V &lt;fct&gt; | P_ind &lt;dbl&gt; | A_ind &lt;dbl&gt; | V_ind &lt;dbl&gt; |\n",
       "|---|---|---|---|---|---|---|---|---|\n",
       "| 1 | 17 | 24 | L | A | L | 1 | 1 | 1 |\n",
       "| 2 | 29 | 29 | L | A | S | 1 | 1 | 0 |\n",
       "| 3 | 17 | 27 | L | I | L | 1 | 0 | 1 |\n",
       "| 4 | 20 | 20 | L | I | S | 1 | 0 | 0 |\n",
       "| 5 |  1 | 12 | S | A | L | 0 | 1 | 1 |\n",
       "| 6 | 15 | 16 | S | A | S | 0 | 1 | 0 |\n",
       "| 7 |  0 | 28 | S | I | L | 0 | 0 | 1 |\n",
       "| 8 |  1 |  4 | S | I | S | 0 | 0 | 0 |\n",
       "\n"
      ],
      "text/plain": [
       "  y  n  P A V P_ind A_ind V_ind\n",
       "1 17 24 L A L 1     1     1    \n",
       "2 29 29 L A S 1     1     0    \n",
       "3 17 27 L I L 1     0     1    \n",
       "4 20 20 L I S 1     0     0    \n",
       "5  1 12 S A L 0     1     1    \n",
       "6 15 16 S A S 0     1     0    \n",
       "7  0 28 S I L 0     0     1    \n",
       "8  1  4 S I S 0     0     0    "
      ]
     },
     "metadata": {},
     "output_type": "display_data"
    }
   ],
   "source": [
    "d"
   ]
  },
  {
   "cell_type": "code",
   "execution_count": 120,
   "id": "4f710c52-a750-4323-997a-0217de0025bd",
   "metadata": {
    "execution": {
     "iopub.execute_input": "2023-03-30T18:21:49.524444Z",
     "iopub.status.busy": "2023-03-30T18:21:49.522788Z",
     "iopub.status.idle": "2023-03-30T18:21:49.539360Z",
     "shell.execute_reply": "2023-03-30T18:21:49.537412Z"
    },
    "tags": []
   },
   "outputs": [],
   "source": [
    "dat_list <- list(\n",
    "    y = d$y,\n",
    "    n = d$n,\n",
    "    P = d$P_ind,\n",
    "    V = d$V_ind,\n",
    "    A = d$A_ind\n",
    "    )"
   ]
  },
  {
   "cell_type": "code",
   "execution_count": 121,
   "id": "5eedbb8e-257f-4e2e-a0b6-9ae52e7847e4",
   "metadata": {
    "execution": {
     "iopub.execute_input": "2023-03-30T18:21:50.415293Z",
     "iopub.status.busy": "2023-03-30T18:21:50.413867Z",
     "iopub.status.idle": "2023-03-30T18:21:50.443664Z",
     "shell.execute_reply": "2023-03-30T18:21:50.442929Z"
    },
    "tags": []
   },
   "outputs": [],
   "source": [
    "m_quap = quap(\n",
    "    alist(\n",
    "        y ~ dbinom(n, p),\n",
    "        logit(p) <- a+b_p*P+b_v*V+b_a*A,\n",
    "        a ~ dnorm(0, 1.5),\n",
    "        b_p ~ dnorm(0, 0.5),\n",
    "        b_v ~ dnorm(0, 0.5),\n",
    "        b_a ~ dnorm(0, 0.5)\n",
    "        ), data = dat_list)"
   ]
  },
  {
   "cell_type": "code",
   "execution_count": 122,
   "id": "20ff4247-bbb6-4739-9ea6-c9e78c8c5ce0",
   "metadata": {
    "execution": {
     "iopub.execute_input": "2023-03-30T18:21:50.994049Z",
     "iopub.status.busy": "2023-03-30T18:21:50.991334Z",
     "iopub.status.idle": "2023-03-30T18:21:56.520690Z",
     "shell.execute_reply": "2023-03-30T18:21:56.519876Z"
    },
    "tags": []
   },
   "outputs": [
    {
     "name": "stderr",
     "output_type": "stream",
     "text": [
      "Warning message in readLines(hpp_path):\n",
      "“incomplete final line found on '/var/folders/d7/f362skjd4nqdcwfmfwg636900000gp/T//RtmpsIfrDA/model-8fbf5ed286b5.hpp'”\n",
      "Warning in '/var/folders/d7/f362skjd4nqdcwfmfwg636900000gp/T/RtmpsIfrDA/model-8fbf5ed286b5.stan', line 2, column 4: Declaration\n",
      "    of arrays by placing brackets after a variable name is deprecated and\n",
      "    will be removed in Stan 2.32.0. Instead use the array keyword before the\n",
      "    type. This can be changed automatically using the auto-format flag to\n",
      "    stanc\n",
      "Warning in '/var/folders/d7/f362skjd4nqdcwfmfwg636900000gp/T/RtmpsIfrDA/model-8fbf5ed286b5.stan', line 3, column 4: Declaration\n",
      "    of arrays by placing brackets after a variable name is deprecated and\n",
      "    will be removed in Stan 2.32.0. Instead use the array keyword before the\n",
      "    type. This can be changed automatically using the auto-format flag to\n",
      "    stanc\n",
      "Warning in '/var/folders/d7/f362skjd4nqdcwfmfwg636900000gp/T/RtmpsIfrDA/model-8fbf5ed286b5.stan', line 4, column 4: Declaration\n",
      "    of arrays by placing brackets after a variable name is deprecated and\n",
      "    will be removed in Stan 2.32.0. Instead use the array keyword before the\n",
      "    type. This can be changed automatically using the auto-format flag to\n",
      "    stanc\n",
      "Warning in '/var/folders/d7/f362skjd4nqdcwfmfwg636900000gp/T/RtmpsIfrDA/model-8fbf5ed286b5.stan', line 5, column 4: Declaration\n",
      "    of arrays by placing brackets after a variable name is deprecated and\n",
      "    will be removed in Stan 2.32.0. Instead use the array keyword before the\n",
      "    type. This can be changed automatically using the auto-format flag to\n",
      "    stanc\n",
      "Warning in '/var/folders/d7/f362skjd4nqdcwfmfwg636900000gp/T/RtmpsIfrDA/model-8fbf5ed286b5.stan', line 6, column 4: Declaration\n",
      "    of arrays by placing brackets after a variable name is deprecated and\n",
      "    will be removed in Stan 2.32.0. Instead use the array keyword before the\n",
      "    type. This can be changed automatically using the auto-format flag to\n",
      "    stanc\n",
      "\n",
      "\n",
      "Warning message in readLines(private$hpp_file_):\n",
      "“incomplete final line found on '/var/folders/d7/f362skjd4nqdcwfmfwg636900000gp/T//RtmpsIfrDA/model-8fbf5ed286b5.hpp'”\n"
     ]
    },
    {
     "name": "stdout",
     "output_type": "stream",
     "text": [
      "Running MCMC with 4 sequential chains, with 1 thread(s) per chain...\n",
      "\n",
      "Chain 1 Iteration:   1 / 1000 [  0%]  (Warmup) \n",
      "Chain 1 Iteration: 100 / 1000 [ 10%]  (Warmup) \n",
      "Chain 1 Iteration: 200 / 1000 [ 20%]  (Warmup) \n",
      "Chain 1 Iteration: 300 / 1000 [ 30%]  (Warmup) \n",
      "Chain 1 Iteration: 400 / 1000 [ 40%]  (Warmup) \n",
      "Chain 1 Iteration: 500 / 1000 [ 50%]  (Warmup) \n",
      "Chain 1 Iteration: 501 / 1000 [ 50%]  (Sampling) \n",
      "Chain 1 Iteration: 600 / 1000 [ 60%]  (Sampling) \n",
      "Chain 1 Iteration: 700 / 1000 [ 70%]  (Sampling) \n",
      "Chain 1 Iteration: 800 / 1000 [ 80%]  (Sampling) \n",
      "Chain 1 Iteration: 900 / 1000 [ 90%]  (Sampling) \n",
      "Chain 1 Iteration: 1000 / 1000 [100%]  (Sampling) \n",
      "Chain 1 finished in 0.0 seconds.\n",
      "Chain 2 Iteration:   1 / 1000 [  0%]  (Warmup) \n",
      "Chain 2 Iteration: 100 / 1000 [ 10%]  (Warmup) \n",
      "Chain 2 Iteration: 200 / 1000 [ 20%]  (Warmup) \n",
      "Chain 2 Iteration: 300 / 1000 [ 30%]  (Warmup) \n",
      "Chain 2 Iteration: 400 / 1000 [ 40%]  (Warmup) \n",
      "Chain 2 Iteration: 500 / 1000 [ 50%]  (Warmup) \n",
      "Chain 2 Iteration: 501 / 1000 [ 50%]  (Sampling) \n",
      "Chain 2 Iteration: 600 / 1000 [ 60%]  (Sampling) \n",
      "Chain 2 Iteration: 700 / 1000 [ 70%]  (Sampling) \n",
      "Chain 2 Iteration: 800 / 1000 [ 80%]  (Sampling) \n",
      "Chain 2 Iteration: 900 / 1000 [ 90%]  (Sampling) \n",
      "Chain 2 Iteration: 1000 / 1000 [100%]  (Sampling) \n",
      "Chain 2 finished in 0.0 seconds.\n",
      "Chain 3 Iteration:   1 / 1000 [  0%]  (Warmup) \n",
      "Chain 3 Iteration: 100 / 1000 [ 10%]  (Warmup) \n",
      "Chain 3 Iteration: 200 / 1000 [ 20%]  (Warmup) \n",
      "Chain 3 Iteration: 300 / 1000 [ 30%]  (Warmup) \n",
      "Chain 3 Iteration: 400 / 1000 [ 40%]  (Warmup) \n",
      "Chain 3 Iteration: 500 / 1000 [ 50%]  (Warmup) \n",
      "Chain 3 Iteration: 501 / 1000 [ 50%]  (Sampling) \n",
      "Chain 3 Iteration: 600 / 1000 [ 60%]  (Sampling) \n",
      "Chain 3 Iteration: 700 / 1000 [ 70%]  (Sampling) \n",
      "Chain 3 Iteration: 800 / 1000 [ 80%]  (Sampling) \n",
      "Chain 3 Iteration: 900 / 1000 [ 90%]  (Sampling) \n",
      "Chain 3 Iteration: 1000 / 1000 [100%]  (Sampling) \n",
      "Chain 3 finished in 0.0 seconds.\n",
      "Chain 4 Iteration:   1 / 1000 [  0%]  (Warmup) \n",
      "Chain 4 Iteration: 100 / 1000 [ 10%]  (Warmup) \n",
      "Chain 4 Iteration: 200 / 1000 [ 20%]  (Warmup) \n",
      "Chain 4 Iteration: 300 / 1000 [ 30%]  (Warmup) \n",
      "Chain 4 Iteration: 400 / 1000 [ 40%]  (Warmup) \n",
      "Chain 4 Iteration: 500 / 1000 [ 50%]  (Warmup) \n",
      "Chain 4 Iteration: 501 / 1000 [ 50%]  (Sampling) \n",
      "Chain 4 Iteration: 600 / 1000 [ 60%]  (Sampling) \n",
      "Chain 4 Iteration: 700 / 1000 [ 70%]  (Sampling) \n",
      "Chain 4 Iteration: 800 / 1000 [ 80%]  (Sampling) \n",
      "Chain 4 Iteration: 900 / 1000 [ 90%]  (Sampling) \n",
      "Chain 4 Iteration: 1000 / 1000 [100%]  (Sampling) \n",
      "Chain 4 finished in 0.0 seconds.\n",
      "\n",
      "All 4 chains finished successfully.\n",
      "Mean chain execution time: 0.0 seconds.\n",
      "Total execution time: 0.5 seconds.\n",
      "\n"
     ]
    }
   ],
   "source": [
    "m_ulam = ulam(\n",
    "    alist(\n",
    "        y ~ dbinom(n, p),\n",
    "        logit(p) <- a+b_p*P+b_v*V+b_a*A,\n",
    "        a ~ dnorm(0, 1.5),\n",
    "        b_p ~ dnorm(0, 0.5),\n",
    "        b_v ~ dnorm(0, 0.5),\n",
    "        b_a ~ dnorm(0, 0.5)\n",
    "        ), data = dat_list, chains = 4, log_lik = TRUE)"
   ]
  },
  {
   "cell_type": "code",
   "execution_count": 123,
   "id": "ec8b8a49-ea11-4a4d-9553-6d6169a8951a",
   "metadata": {
    "execution": {
     "iopub.execute_input": "2023-03-30T18:21:56.522527Z",
     "iopub.status.busy": "2023-03-30T18:21:56.521891Z",
     "iopub.status.idle": "2023-03-30T18:21:56.530412Z",
     "shell.execute_reply": "2023-03-30T18:21:56.529850Z"
    },
    "tags": []
   },
   "outputs": [
    {
     "data": {
      "text/html": [
       "<table class=\"dataframe\">\n",
       "<caption>A precis: 4 × 4</caption>\n",
       "<thead>\n",
       "\t<tr><th></th><th scope=col>mean</th><th scope=col>sd</th><th scope=col>5.5%</th><th scope=col>94.5%</th></tr>\n",
       "\t<tr><th></th><th scope=col>&lt;dbl&gt;</th><th scope=col>&lt;dbl&gt;</th><th scope=col>&lt;dbl&gt;</th><th scope=col>&lt;dbl&gt;</th></tr>\n",
       "</thead>\n",
       "<tbody>\n",
       "\t<tr><th scope=row>a</th><td> 0.2934000</td><td>0.3681330</td><td>-0.2949477</td><td> 0.8817476</td></tr>\n",
       "\t<tr><th scope=row>b_p</th><td> 1.6211033</td><td>0.3063637</td><td> 1.1314749</td><td> 2.1107316</td></tr>\n",
       "\t<tr><th scope=row>b_v</th><td>-1.6729820</td><td>0.3191304</td><td>-2.1830141</td><td>-1.1629500</td></tr>\n",
       "\t<tr><th scope=row>b_a</th><td> 0.6518641</td><td>0.3054220</td><td> 0.1637408</td><td> 1.1399874</td></tr>\n",
       "</tbody>\n",
       "</table>\n"
      ],
      "text/latex": [
       "A precis: 4 × 4\n",
       "\\begin{tabular}{r|llll}\n",
       "  & mean & sd & 5.5\\% & 94.5\\%\\\\\n",
       "  & <dbl> & <dbl> & <dbl> & <dbl>\\\\\n",
       "\\hline\n",
       "\ta &  0.2934000 & 0.3681330 & -0.2949477 &  0.8817476\\\\\n",
       "\tb\\_p &  1.6211033 & 0.3063637 &  1.1314749 &  2.1107316\\\\\n",
       "\tb\\_v & -1.6729820 & 0.3191304 & -2.1830141 & -1.1629500\\\\\n",
       "\tb\\_a &  0.6518641 & 0.3054220 &  0.1637408 &  1.1399874\\\\\n",
       "\\end{tabular}\n"
      ],
      "text/markdown": [
       "\n",
       "A precis: 4 × 4\n",
       "\n",
       "| <!--/--> | mean &lt;dbl&gt; | sd &lt;dbl&gt; | 5.5% &lt;dbl&gt; | 94.5% &lt;dbl&gt; |\n",
       "|---|---|---|---|---|\n",
       "| a |  0.2934000 | 0.3681330 | -0.2949477 |  0.8817476 |\n",
       "| b_p |  1.6211033 | 0.3063637 |  1.1314749 |  2.1107316 |\n",
       "| b_v | -1.6729820 | 0.3191304 | -2.1830141 | -1.1629500 |\n",
       "| b_a |  0.6518641 | 0.3054220 |  0.1637408 |  1.1399874 |\n",
       "\n"
      ],
      "text/plain": [
       "    mean       sd        5.5%       94.5%     \n",
       "a    0.2934000 0.3681330 -0.2949477  0.8817476\n",
       "b_p  1.6211033 0.3063637  1.1314749  2.1107316\n",
       "b_v -1.6729820 0.3191304 -2.1830141 -1.1629500\n",
       "b_a  0.6518641 0.3054220  0.1637408  1.1399874"
      ]
     },
     "metadata": {},
     "output_type": "display_data"
    }
   ],
   "source": [
    "precis(m_quap)"
   ]
  },
  {
   "cell_type": "code",
   "execution_count": 124,
   "id": "d54e73a9-fa64-4c54-b2f1-e5f6ed9b529f",
   "metadata": {
    "execution": {
     "iopub.execute_input": "2023-03-30T18:21:56.531763Z",
     "iopub.status.busy": "2023-03-30T18:21:56.531282Z",
     "iopub.status.idle": "2023-03-30T18:21:56.544783Z",
     "shell.execute_reply": "2023-03-30T18:21:56.544181Z"
    },
    "tags": []
   },
   "outputs": [
    {
     "data": {
      "text/html": [
       "<table class=\"dataframe\">\n",
       "<caption>A precis: 4 × 6</caption>\n",
       "<thead>\n",
       "\t<tr><th></th><th scope=col>mean</th><th scope=col>sd</th><th scope=col>5.5%</th><th scope=col>94.5%</th><th scope=col>n_eff</th><th scope=col>Rhat4</th></tr>\n",
       "\t<tr><th></th><th scope=col>&lt;dbl&gt;</th><th scope=col>&lt;dbl&gt;</th><th scope=col>&lt;dbl&gt;</th><th scope=col>&lt;dbl&gt;</th><th scope=col>&lt;dbl&gt;</th><th scope=col>&lt;dbl&gt;</th></tr>\n",
       "</thead>\n",
       "<tbody>\n",
       "\t<tr><th scope=row>a</th><td> 0.2974940</td><td>0.3659106</td><td>-0.2918936</td><td> 0.8813244</td><td>1052.652</td><td>1.0044293</td></tr>\n",
       "\t<tr><th scope=row>b_p</th><td> 1.6415409</td><td>0.3142498</td><td> 1.1462468</td><td> 2.1388084</td><td>1049.984</td><td>0.9998132</td></tr>\n",
       "\t<tr><th scope=row>b_v</th><td>-1.6865428</td><td>0.3168347</td><td>-2.2123991</td><td>-1.1911095</td><td>1378.732</td><td>1.0022954</td></tr>\n",
       "\t<tr><th scope=row>b_a</th><td> 0.6641079</td><td>0.3070594</td><td> 0.1760987</td><td> 1.1527998</td><td>1237.230</td><td>0.9997171</td></tr>\n",
       "</tbody>\n",
       "</table>\n"
      ],
      "text/latex": [
       "A precis: 4 × 6\n",
       "\\begin{tabular}{r|llllll}\n",
       "  & mean & sd & 5.5\\% & 94.5\\% & n\\_eff & Rhat4\\\\\n",
       "  & <dbl> & <dbl> & <dbl> & <dbl> & <dbl> & <dbl>\\\\\n",
       "\\hline\n",
       "\ta &  0.2974940 & 0.3659106 & -0.2918936 &  0.8813244 & 1052.652 & 1.0044293\\\\\n",
       "\tb\\_p &  1.6415409 & 0.3142498 &  1.1462468 &  2.1388084 & 1049.984 & 0.9998132\\\\\n",
       "\tb\\_v & -1.6865428 & 0.3168347 & -2.2123991 & -1.1911095 & 1378.732 & 1.0022954\\\\\n",
       "\tb\\_a &  0.6641079 & 0.3070594 &  0.1760987 &  1.1527998 & 1237.230 & 0.9997171\\\\\n",
       "\\end{tabular}\n"
      ],
      "text/markdown": [
       "\n",
       "A precis: 4 × 6\n",
       "\n",
       "| <!--/--> | mean &lt;dbl&gt; | sd &lt;dbl&gt; | 5.5% &lt;dbl&gt; | 94.5% &lt;dbl&gt; | n_eff &lt;dbl&gt; | Rhat4 &lt;dbl&gt; |\n",
       "|---|---|---|---|---|---|---|\n",
       "| a |  0.2974940 | 0.3659106 | -0.2918936 |  0.8813244 | 1052.652 | 1.0044293 |\n",
       "| b_p |  1.6415409 | 0.3142498 |  1.1462468 |  2.1388084 | 1049.984 | 0.9998132 |\n",
       "| b_v | -1.6865428 | 0.3168347 | -2.2123991 | -1.1911095 | 1378.732 | 1.0022954 |\n",
       "| b_a |  0.6641079 | 0.3070594 |  0.1760987 |  1.1527998 | 1237.230 | 0.9997171 |\n",
       "\n"
      ],
      "text/plain": [
       "    mean       sd        5.5%       94.5%      n_eff    Rhat4    \n",
       "a    0.2974940 0.3659106 -0.2918936  0.8813244 1052.652 1.0044293\n",
       "b_p  1.6415409 0.3142498  1.1462468  2.1388084 1049.984 0.9998132\n",
       "b_v -1.6865428 0.3168347 -2.2123991 -1.1911095 1378.732 1.0022954\n",
       "b_a  0.6641079 0.3070594  0.1760987  1.1527998 1237.230 0.9997171"
      ]
     },
     "metadata": {},
     "output_type": "display_data"
    }
   ],
   "source": [
    "precis(m_ulam)"
   ]
  },
  {
   "cell_type": "markdown",
   "id": "8b08b387-a190-4465-90ff-56dded010a35",
   "metadata": {},
   "source": [
    "Looks okay..."
   ]
  },
  {
   "cell_type": "markdown",
   "id": "930492fa-6c70-4377-b220-52d09af79e80",
   "metadata": {},
   "source": [
    "Now use ulam"
   ]
  },
  {
   "cell_type": "code",
   "execution_count": 125,
   "id": "36cff62e-bff0-423c-94b8-ba29e4d23fb5",
   "metadata": {
    "execution": {
     "iopub.execute_input": "2023-03-30T18:21:59.262650Z",
     "iopub.status.busy": "2023-03-30T18:21:59.259726Z",
     "iopub.status.idle": "2023-03-30T18:21:59.279548Z",
     "shell.execute_reply": "2023-03-30T18:21:59.278404Z"
    },
    "tags": []
   },
   "outputs": [],
   "source": [
    "p_post = link(m_ulam, data=dat_list)"
   ]
  },
  {
   "cell_type": "code",
   "execution_count": 126,
   "id": "ab199ff7-9395-4993-8abd-e965cb752600",
   "metadata": {
    "execution": {
     "iopub.execute_input": "2023-03-30T18:22:07.226084Z",
     "iopub.status.busy": "2023-03-30T18:22:07.224661Z",
     "iopub.status.idle": "2023-03-30T18:22:07.242362Z",
     "shell.execute_reply": "2023-03-30T18:22:07.240408Z"
    }
   },
   "outputs": [],
   "source": [
    "p_mu <- apply(p_post, 2, mean)"
   ]
  },
  {
   "cell_type": "code",
   "execution_count": 146,
   "id": "a887c5f8-a7dd-4833-90f0-af0ec338bba8",
   "metadata": {
    "execution": {
     "iopub.execute_input": "2023-03-30T18:34:28.507610Z",
     "iopub.status.busy": "2023-03-30T18:34:28.504153Z",
     "iopub.status.idle": "2023-03-30T18:34:28.525568Z",
     "shell.execute_reply": "2023-03-30T18:34:28.524792Z"
    },
    "tags": []
   },
   "outputs": [],
   "source": [
    "p_ci <- apply(p_post, 2, HPDI)"
   ]
  },
  {
   "cell_type": "code",
   "execution_count": 147,
   "id": "55b5457c-0a19-4004-b90a-f393de52e4f8",
   "metadata": {
    "execution": {
     "iopub.execute_input": "2023-03-30T18:34:28.650145Z",
     "iopub.status.busy": "2023-03-30T18:34:28.647326Z",
     "iopub.status.idle": "2023-03-30T18:34:28.673612Z",
     "shell.execute_reply": "2023-03-30T18:34:28.671710Z"
    },
    "tags": []
   },
   "outputs": [
    {
     "data": {
      "text/html": [
       "<table class=\"dataframe\">\n",
       "<caption>A matrix: 2 × 8 of type dbl</caption>\n",
       "<tbody>\n",
       "\t<tr><th scope=row>|0.89</th><td>0.6105602</td><td>0.8900175</td><td>0.4547878</td><td>0.8077292</td><td>0.2176869</td><td>0.6069646</td><td>0.1272354</td><td>0.4269909</td></tr>\n",
       "\t<tr><th scope=row>0.89|</th><td>0.8006701</td><td>0.9630404</td><td>0.6708423</td><td>0.9326307</td><td>0.4443488</td><td>0.8298321</td><td>0.2899753</td><td>0.7066645</td></tr>\n",
       "</tbody>\n",
       "</table>\n"
      ],
      "text/latex": [
       "A matrix: 2 × 8 of type dbl\n",
       "\\begin{tabular}{r|llllllll}\n",
       "\t\\textbar{}0.89 & 0.6105602 & 0.8900175 & 0.4547878 & 0.8077292 & 0.2176869 & 0.6069646 & 0.1272354 & 0.4269909\\\\\n",
       "\t0.89\\textbar{} & 0.8006701 & 0.9630404 & 0.6708423 & 0.9326307 & 0.4443488 & 0.8298321 & 0.2899753 & 0.7066645\\\\\n",
       "\\end{tabular}\n"
      ],
      "text/markdown": [
       "\n",
       "A matrix: 2 × 8 of type dbl\n",
       "\n",
       "| |0.89 | 0.6105602 | 0.8900175 | 0.4547878 | 0.8077292 | 0.2176869 | 0.6069646 | 0.1272354 | 0.4269909 |\n",
       "| 0.89| | 0.8006701 | 0.9630404 | 0.6708423 | 0.9326307 | 0.4443488 | 0.8298321 | 0.2899753 | 0.7066645 |\n",
       "\n"
      ],
      "text/plain": [
       "      [,1]      [,2]      [,3]      [,4]      [,5]      [,6]      [,7]     \n",
       "|0.89 0.6105602 0.8900175 0.4547878 0.8077292 0.2176869 0.6069646 0.1272354\n",
       "0.89| 0.8006701 0.9630404 0.6708423 0.9326307 0.4443488 0.8298321 0.2899753\n",
       "      [,8]     \n",
       "|0.89 0.4269909\n",
       "0.89| 0.7066645"
      ]
     },
     "metadata": {},
     "output_type": "display_data"
    }
   ],
   "source": [
    "p_ci"
   ]
  },
  {
   "cell_type": "markdown",
   "id": "4697f1ac-b467-4531-9ab2-02146e7f2985",
   "metadata": {},
   "source": [
    "I am too lazy to figure out how to plot this..."
   ]
  },
  {
   "cell_type": "code",
   "execution_count": 153,
   "id": "9d0c6a4d-f776-4b0b-9b1a-13181657a100",
   "metadata": {
    "execution": {
     "iopub.execute_input": "2023-03-30T18:35:54.295583Z",
     "iopub.status.busy": "2023-03-30T18:35:54.293209Z",
     "iopub.status.idle": "2023-03-30T18:35:54.331665Z",
     "shell.execute_reply": "2023-03-30T18:35:54.331038Z"
    },
    "tags": []
   },
   "outputs": [
    {
     "data": {
      "image/png": "[encoded data removed]",
      "text/plain": [
       "plot without title"
      ]
     },
     "metadata": {
      "image/png": {
       "height": 420,
       "width": 420
      }
     },
     "output_type": "display_data"
    }
   ],
   "source": [
    "plot(p_mu)"
   ]
  },
  {
   "cell_type": "markdown",
   "id": "19185843-b356-483b-b925-9999f98791fb",
   "metadata": {},
   "source": [
    "Not sure how to plot the vertical bars..."
   ]
  },
  {
   "cell_type": "markdown",
   "id": "6a635275-e8e7-45c3-be45-15082320c3db",
   "metadata": {},
   "source": [
    "but anyway this is for the p of success for each row just the HPDI isn't plotted, we also do have to inv_logit this, but it wasn't working code wise"
   ]
  },
  {
   "cell_type": "code",
   "execution_count": null,
   "id": "d16dc7cc-12a7-4271-a95e-9120aa20addd",
   "metadata": {},
   "outputs": [],
   "source": []
  }
 ],
 "metadata": {
  "kernelspec": {
   "display_name": "R",
   "language": "R",
   "name": "ir"
  },
  "language_info": {
   "codemirror_mode": "r",
   "file_extension": ".r",
   "mimetype": "text/x-r-source",
   "name": "R",
   "pygments_lexer": "r",
   "version": "4.2.2"
  }
 },
 "nbformat": 4,
 "nbformat_minor": 5
}
