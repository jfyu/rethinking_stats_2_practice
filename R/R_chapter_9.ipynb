{
 "cells": [
  {
   "cell_type": "code",
   "execution_count": 1,
   "id": "a6d0585f-4286-48bf-99bd-aaed1627cc6e",
   "metadata": {},
   "outputs": [
    {
     "name": "stderr",
     "output_type": "stream",
     "text": [
      "Loading required package: rstan\n",
      "\n",
      "Loading required package: StanHeaders\n",
      "\n",
      "Loading required package: ggplot2\n",
      "\n",
      "rstan (Version 2.21.7, GitRev: 2e1f913d3ca3)\n",
      "\n",
      "For execution on a local, multicore CPU with excess RAM we recommend calling\n",
      "options(mc.cores = parallel::detectCores()).\n",
      "To avoid recompilation of unchanged Stan programs, we recommend calling\n",
      "rstan_options(auto_write = TRUE)\n",
      "\n",
      "Loading required package: cmdstanr\n",
      "\n",
      "This is cmdstanr version 0.5.3\n",
      "\n",
      "- CmdStanR documentation and vignettes: mc-stan.org/cmdstanr\n",
      "\n",
      "- Use set_cmdstan_path() to set the path to CmdStan\n",
      "\n",
      "- Use install_cmdstan() to install CmdStan\n",
      "\n",
      "Loading required package: parallel\n",
      "\n",
      "rethinking (Version 2.21)\n",
      "\n",
      "\n",
      "Attaching package: ‘rethinking’\n",
      "\n",
      "\n",
      "The following object is masked from ‘package:rstan’:\n",
      "\n",
      "    stan\n",
      "\n",
      "\n",
      "The following object is masked from ‘package:stats’:\n",
      "\n",
      "    rstudent\n",
      "\n",
      "\n"
     ]
    }
   ],
   "source": [
    "library(rethinking)"
   ]
  },
  {
   "cell_type": "markdown",
   "id": "a76ccdda-a130-432d-952c-85879771517b",
   "metadata": {},
   "source": [
    "# Chapter 9 - MARKOV CHAIN MONTE CARLO"
   ]
  },
  {
   "cell_type": "markdown",
   "id": "91a72c7b-5948-4a58-8894-e23fdfe125c7",
   "metadata": {},
   "source": [
    "### 9E1.\n",
    "\n",
    "Which of the following is a requirement of the simple Metropolis algorithm?\n",
    "\n",
    "(1) The parameters must be discrete.\n",
    "\n",
    "(2) The likelihood function must be Gaussian.\n",
    "\n",
    "(3) The proposal distribution must be symmetric"
   ]
  },
  {
   "cell_type": "markdown",
   "id": "0fdf9635-cbd4-437a-ad8f-7afffe8bd798",
   "metadata": {},
   "source": [
    "3"
   ]
  },
  {
   "cell_type": "markdown",
   "id": "cd1bacb0-a640-4613-9766-9a309e794502",
   "metadata": {},
   "source": [
    "### 9E2.\n",
    "\n",
    "Gibbs sampling is more efficient than the Metropolis algorithm. How does it achieve this extra\n",
    "efficiency? Are there any limitations to the Gibbs sampling strategy?"
   ]
  },
  {
   "cell_type": "markdown",
   "id": "06e37c69-0464-4fb6-a448-0adcf58e6040",
   "metadata": {},
   "source": [
    "adaptive proposals, where the proposal is adjusted by the parameter values at the moment"
   ]
  },
  {
   "cell_type": "markdown",
   "id": "a7889d17-187f-43c9-a3bc-7fe9bdf275ed",
   "metadata": {},
   "source": [
    "### 9E3.\n",
    "\n",
    "Which sort of parameters can Hamiltonian Monte Carlo not handle? Can you explain why?"
   ]
  },
  {
   "cell_type": "markdown",
   "id": "062cdb96-5329-4751-91ab-76d9c7640385",
   "metadata": {},
   "source": [
    "it cannot have discrete parameter due to differentiability requirement for the potential energy"
   ]
  },
  {
   "cell_type": "markdown",
   "id": "6ff3e5ef-7632-4a46-8b3f-d5e6303fd1d6",
   "metadata": {},
   "source": [
    "### 9E4.\n",
    "\n",
    "Explain the difference between the effective number of samples, `n_eff` as calculated by Stan. and the actual number of samples"
   ]
  },
  {
   "cell_type": "markdown",
   "id": "97d14b9c-e907-4b94-a64a-14a1a91d48e0",
   "metadata": {},
   "source": [
    "an estimate of the number of independent samples from the posterior distribution, or a length of a Markov chain with no autocorrelation that would provide the same quality as the existing chain"
   ]
  },
  {
   "cell_type": "markdown",
   "id": "eee5663a-d3ee-4c03-97da-da4ee4270843",
   "metadata": {},
   "source": [
    "### 9E5.\n",
    "\n",
    "Which value should Rhat approach, when a chain is sampling the posterior distribution correctly?"
   ]
  },
  {
   "cell_type": "markdown",
   "id": "35ca7a65-3d59-41a0-b122-bdac31047292",
   "metadata": {},
   "source": [
    "approach 1 from above"
   ]
  },
  {
   "cell_type": "markdown",
   "id": "0fa9efe5-f7b1-4d92-a480-2b1c7e477076",
   "metadata": {},
   "source": [
    "### 9M1.\n",
    "\n",
    "Re-estimate the terrain ruggedness model from the chapter, but now using a uniform prior\n",
    "for the standard deviation, sigma. The uniform prior should be dunif(0,1). Use ulam to estimate\n",
    "the posterior. Does the different prior have any detectible influence on the posterior distribution of\n",
    "sigma? Why or why not?"
   ]
  },
  {
   "cell_type": "code",
   "execution_count": 8,
   "id": "4edf175b-be5d-4ad3-b536-dd6dcae256bf",
   "metadata": {},
   "outputs": [],
   "source": [
    "data(rugged)"
   ]
  },
  {
   "cell_type": "code",
   "execution_count": 9,
   "id": "7e362385-c6be-45a2-adcf-da5a059d68f8",
   "metadata": {},
   "outputs": [],
   "source": [
    "d <- rugged\n",
    "d$log_gdp <- log(d$rgdppc_2000)\n",
    "dd <- d[ complete.cases(d$rgdppc_2000) , ]\n",
    "dd$log_gdp_std <- dd$log_gdp / mean(dd$log_gdp)\n",
    "dd$rugged_std <- dd$rugged / max(dd$rugged)\n",
    "dd$cid <- ifelse( dd$cont_africa==1 , 1 , 2 )\n"
   ]
  },
  {
   "cell_type": "code",
   "execution_count": 10,
   "id": "92b7cfda-ce2c-4849-a5d2-a5e487272bb2",
   "metadata": {},
   "outputs": [],
   "source": [
    "dat_slim <- list(\n",
    "    log_gdp_std = dd$log_gdp_std,\n",
    "    rugged_std = dd$rugged_std,\n",
    "    cid = as.integer( dd$cid )\n",
    ")"
   ]
  },
  {
   "cell_type": "code",
   "execution_count": 11,
   "id": "2b5abc58-da29-4c8f-aeca-be52f8161330",
   "metadata": {},
   "outputs": [
    {
     "name": "stderr",
     "output_type": "stream",
     "text": [
      "Warning in '/tmp/RtmpEea6Tu/model-247733ae5904.stan', line 4, column 4: Declaration\n",
      "    of arrays by placing brackets after a variable name is deprecated and\n",
      "    will be removed in Stan 2.32.0. Instead use the array keyword before the\n",
      "    type. This can be changed automatically using the auto-format flag to\n",
      "    stanc\n",
      "\n",
      "\n"
     ]
    },
    {
     "name": "stdout",
     "output_type": "stream",
     "text": [
      "Running MCMC with 1 chain, with 1 thread(s) per chain...\n",
      "\n",
      "Chain 1 Iteration:   1 / 1000 [  0%]  (Warmup) \n",
      "Chain 1 Iteration: 100 / 1000 [ 10%]  (Warmup) \n",
      "Chain 1 Iteration: 200 / 1000 [ 20%]  (Warmup) \n",
      "Chain 1 Iteration: 300 / 1000 [ 30%]  (Warmup) \n",
      "Chain 1 Iteration: 400 / 1000 [ 40%]  (Warmup) \n",
      "Chain 1 Iteration: 500 / 1000 [ 50%]  (Warmup) \n",
      "Chain 1 Iteration: 501 / 1000 [ 50%]  (Sampling) \n",
      "Chain 1 Iteration: 600 / 1000 [ 60%]  (Sampling) \n",
      "Chain 1 Iteration: 700 / 1000 [ 70%]  (Sampling) \n",
      "Chain 1 Iteration: 800 / 1000 [ 80%]  (Sampling) \n",
      "Chain 1 Iteration: 900 / 1000 [ 90%]  (Sampling) \n",
      "Chain 1 Iteration: 1000 / 1000 [100%]  (Sampling) \n"
     ]
    },
    {
     "name": "stderr",
     "output_type": "stream",
     "text": [
      "Chain 1 Informational Message: The current Metropolis proposal is about to be rejected because of the following issue:\n",
      "\n",
      "Chain 1 Exception: normal_lpdf: Scale parameter is 0, but must be positive! (in '/tmp/RtmpEea6Tu/model-247733ae5904.stan', line 19, column 4 to column 39)\n",
      "\n",
      "Chain 1 If this warning occurs sporadically, such as for highly constrained variable types like covariance matrices, then the sampler is fine,\n",
      "\n",
      "Chain 1 but if this warning occurs often then your model may be either severely ill-conditioned or misspecified.\n",
      "\n",
      "Chain 1 \n",
      "\n"
     ]
    },
    {
     "name": "stdout",
     "output_type": "stream",
     "text": [
      "Chain 1 finished in 0.1 seconds.\n"
     ]
    }
   ],
   "source": [
    "m9.1_mod <- ulam(\n",
    "    alist(\n",
    "        log_gdp_std ~ dnorm(mu, sigma),\n",
    "        mu <- a[cid] + b[cid]*(rugged_std - 0.215),\n",
    "        a[cid] ~ dnorm(1, 0.1), \n",
    "        b[cid] ~ dnorm(0, 0.3),\n",
    "        sigma ~ dunif(0,1)\n",
    "        ), data = dat_slim, chains = 1)"
   ]
  },
  {
   "cell_type": "code",
   "execution_count": 14,
   "id": "b20bd60b-5614-4bd9-a4ec-2030de4fd9f9",
   "metadata": {},
   "outputs": [
    {
     "name": "stderr",
     "output_type": "stream",
     "text": [
      "Warning in '/tmp/RtmpEea6Tu/model-247748339a8d.stan', line 4, column 4: Declaration\n",
      "    of arrays by placing brackets after a variable name is deprecated and\n",
      "    will be removed in Stan 2.32.0. Instead use the array keyword before the\n",
      "    type. This can be changed automatically using the auto-format flag to\n",
      "    stanc\n",
      "\n",
      "\n"
     ]
    },
    {
     "name": "stdout",
     "output_type": "stream",
     "text": [
      "Running MCMC with 1 chain, with 1 thread(s) per chain...\n",
      "\n",
      "Chain 1 Iteration:   1 / 1000 [  0%]  (Warmup) \n",
      "Chain 1 Iteration: 100 / 1000 [ 10%]  (Warmup) \n",
      "Chain 1 Iteration: 200 / 1000 [ 20%]  (Warmup) \n",
      "Chain 1 Iteration: 300 / 1000 [ 30%]  (Warmup) \n",
      "Chain 1 Iteration: 400 / 1000 [ 40%]  (Warmup) \n",
      "Chain 1 Iteration: 500 / 1000 [ 50%]  (Warmup) \n",
      "Chain 1 Iteration: 501 / 1000 [ 50%]  (Sampling) \n",
      "Chain 1 Iteration: 600 / 1000 [ 60%]  (Sampling) \n",
      "Chain 1 Iteration: 700 / 1000 [ 70%]  (Sampling) \n",
      "Chain 1 Iteration: 800 / 1000 [ 80%]  (Sampling) \n",
      "Chain 1 Iteration: 900 / 1000 [ 90%]  (Sampling) \n",
      "Chain 1 Iteration: 1000 / 1000 [100%]  (Sampling) \n",
      "Chain 1 finished in 0.1 seconds.\n"
     ]
    }
   ],
   "source": [
    "m9.1 <- ulam(\n",
    "    alist(\n",
    "        log_gdp_std ~ dnorm(mu, sigma),\n",
    "        mu <- a[cid] + b[cid]*(rugged_std - 0.215),\n",
    "        a[cid] ~ dnorm(1, 0.1), \n",
    "        b[cid] ~ dnorm(0, 0.3),\n",
    "        sigma ~ dexp(1)\n",
    "        ), data = dat_slim, chains = 1)"
   ]
  },
  {
   "cell_type": "markdown",
   "id": "c8d20d90-e002-49af-ba09-611e80ff1e84",
   "metadata": {},
   "source": [
    "It looks like with uniform, we got this one ill-conditioned sampling, but the error message suggest that it is ok "
   ]
  },
  {
   "cell_type": "code",
   "execution_count": 17,
   "id": "64d058c3-f78f-445a-817b-83a12e882f20",
   "metadata": {},
   "outputs": [
    {
     "data": {
      "text/html": [
       "<table class=\"dataframe\">\n",
       "<caption>A precis: 5 × 6</caption>\n",
       "<thead>\n",
       "\t<tr><th></th><th scope=col>mean</th><th scope=col>sd</th><th scope=col>5.5%</th><th scope=col>94.5%</th><th scope=col>n_eff</th><th scope=col>Rhat4</th></tr>\n",
       "\t<tr><th></th><th scope=col>&lt;dbl&gt;</th><th scope=col>&lt;dbl&gt;</th><th scope=col>&lt;dbl&gt;</th><th scope=col>&lt;dbl&gt;</th><th scope=col>&lt;dbl&gt;</th><th scope=col>&lt;dbl&gt;</th></tr>\n",
       "</thead>\n",
       "<tbody>\n",
       "\t<tr><th scope=row>a[1]</th><td> 0.8858661</td><td>0.015898768</td><td> 0.86131345</td><td> 0.91195897</td><td>623.8379</td><td>1.0000349</td></tr>\n",
       "\t<tr><th scope=row>a[2]</th><td> 1.0498330</td><td>0.009826327</td><td> 1.03493010</td><td> 1.06533660</td><td>875.1452</td><td>0.9980162</td></tr>\n",
       "\t<tr><th scope=row>b[1]</th><td> 0.1327948</td><td>0.075754383</td><td> 0.01387392</td><td> 0.25411280</td><td>592.5839</td><td>0.9981182</td></tr>\n",
       "\t<tr><th scope=row>b[2]</th><td>-0.1446413</td><td>0.055290645</td><td>-0.23080509</td><td>-0.06484407</td><td>693.1663</td><td>0.9984709</td></tr>\n",
       "\t<tr><th scope=row>sigma</th><td> 0.1113792</td><td>0.005747716</td><td> 0.10254650</td><td> 0.12132106</td><td>498.0527</td><td>1.0079817</td></tr>\n",
       "</tbody>\n",
       "</table>\n"
      ],
      "text/latex": [
       "A precis: 5 × 6\n",
       "\\begin{tabular}{r|llllll}\n",
       "  & mean & sd & 5.5\\% & 94.5\\% & n\\_eff & Rhat4\\\\\n",
       "  & <dbl> & <dbl> & <dbl> & <dbl> & <dbl> & <dbl>\\\\\n",
       "\\hline\n",
       "\ta{[}1{]} &  0.8858661 & 0.015898768 &  0.86131345 &  0.91195897 & 623.8379 & 1.0000349\\\\\n",
       "\ta{[}2{]} &  1.0498330 & 0.009826327 &  1.03493010 &  1.06533660 & 875.1452 & 0.9980162\\\\\n",
       "\tb{[}1{]} &  0.1327948 & 0.075754383 &  0.01387392 &  0.25411280 & 592.5839 & 0.9981182\\\\\n",
       "\tb{[}2{]} & -0.1446413 & 0.055290645 & -0.23080509 & -0.06484407 & 693.1663 & 0.9984709\\\\\n",
       "\tsigma &  0.1113792 & 0.005747716 &  0.10254650 &  0.12132106 & 498.0527 & 1.0079817\\\\\n",
       "\\end{tabular}\n"
      ],
      "text/markdown": [
       "\n",
       "A precis: 5 × 6\n",
       "\n",
       "| <!--/--> | mean &lt;dbl&gt; | sd &lt;dbl&gt; | 5.5% &lt;dbl&gt; | 94.5% &lt;dbl&gt; | n_eff &lt;dbl&gt; | Rhat4 &lt;dbl&gt; |\n",
       "|---|---|---|---|---|---|---|\n",
       "| a[1] |  0.8858661 | 0.015898768 |  0.86131345 |  0.91195897 | 623.8379 | 1.0000349 |\n",
       "| a[2] |  1.0498330 | 0.009826327 |  1.03493010 |  1.06533660 | 875.1452 | 0.9980162 |\n",
       "| b[1] |  0.1327948 | 0.075754383 |  0.01387392 |  0.25411280 | 592.5839 | 0.9981182 |\n",
       "| b[2] | -0.1446413 | 0.055290645 | -0.23080509 | -0.06484407 | 693.1663 | 0.9984709 |\n",
       "| sigma |  0.1113792 | 0.005747716 |  0.10254650 |  0.12132106 | 498.0527 | 1.0079817 |\n",
       "\n"
      ],
      "text/plain": [
       "      mean       sd          5.5%        94.5%       n_eff    Rhat4    \n",
       "a[1]   0.8858661 0.015898768  0.86131345  0.91195897 623.8379 1.0000349\n",
       "a[2]   1.0498330 0.009826327  1.03493010  1.06533660 875.1452 0.9980162\n",
       "b[1]   0.1327948 0.075754383  0.01387392  0.25411280 592.5839 0.9981182\n",
       "b[2]  -0.1446413 0.055290645 -0.23080509 -0.06484407 693.1663 0.9984709\n",
       "sigma  0.1113792 0.005747716  0.10254650  0.12132106 498.0527 1.0079817"
      ]
     },
     "metadata": {},
     "output_type": "display_data"
    }
   ],
   "source": [
    "precis(m9.1_mod, depth=2)"
   ]
  },
  {
   "cell_type": "code",
   "execution_count": 18,
   "id": "176ebc63-d046-436a-8811-69229e5b5acf",
   "metadata": {},
   "outputs": [
    {
     "data": {
      "text/html": [
       "<table class=\"dataframe\">\n",
       "<caption>A precis: 5 × 6</caption>\n",
       "<thead>\n",
       "\t<tr><th></th><th scope=col>mean</th><th scope=col>sd</th><th scope=col>5.5%</th><th scope=col>94.5%</th><th scope=col>n_eff</th><th scope=col>Rhat4</th></tr>\n",
       "\t<tr><th></th><th scope=col>&lt;dbl&gt;</th><th scope=col>&lt;dbl&gt;</th><th scope=col>&lt;dbl&gt;</th><th scope=col>&lt;dbl&gt;</th><th scope=col>&lt;dbl&gt;</th><th scope=col>&lt;dbl&gt;</th></tr>\n",
       "</thead>\n",
       "<tbody>\n",
       "\t<tr><th scope=row>a[1]</th><td> 0.8870462</td><td>0.015766012</td><td> 0.86150469</td><td> 0.91221299</td><td>588.6343</td><td>0.9980605</td></tr>\n",
       "\t<tr><th scope=row>a[2]</th><td> 1.0502025</td><td>0.010027665</td><td> 1.03344335</td><td> 1.06640105</td><td>704.1930</td><td>0.9983913</td></tr>\n",
       "\t<tr><th scope=row>b[1]</th><td> 0.1314328</td><td>0.073656789</td><td> 0.02103799</td><td> 0.25444704</td><td>725.0349</td><td>0.9982027</td></tr>\n",
       "\t<tr><th scope=row>b[2]</th><td>-0.1405872</td><td>0.056508322</td><td>-0.23033817</td><td>-0.05294874</td><td>512.2924</td><td>0.9997336</td></tr>\n",
       "\t<tr><th scope=row>sigma</th><td> 0.1117403</td><td>0.006112304</td><td> 0.10148159</td><td> 0.12144289</td><td>524.0529</td><td>0.9983227</td></tr>\n",
       "</tbody>\n",
       "</table>\n"
      ],
      "text/latex": [
       "A precis: 5 × 6\n",
       "\\begin{tabular}{r|llllll}\n",
       "  & mean & sd & 5.5\\% & 94.5\\% & n\\_eff & Rhat4\\\\\n",
       "  & <dbl> & <dbl> & <dbl> & <dbl> & <dbl> & <dbl>\\\\\n",
       "\\hline\n",
       "\ta{[}1{]} &  0.8870462 & 0.015766012 &  0.86150469 &  0.91221299 & 588.6343 & 0.9980605\\\\\n",
       "\ta{[}2{]} &  1.0502025 & 0.010027665 &  1.03344335 &  1.06640105 & 704.1930 & 0.9983913\\\\\n",
       "\tb{[}1{]} &  0.1314328 & 0.073656789 &  0.02103799 &  0.25444704 & 725.0349 & 0.9982027\\\\\n",
       "\tb{[}2{]} & -0.1405872 & 0.056508322 & -0.23033817 & -0.05294874 & 512.2924 & 0.9997336\\\\\n",
       "\tsigma &  0.1117403 & 0.006112304 &  0.10148159 &  0.12144289 & 524.0529 & 0.9983227\\\\\n",
       "\\end{tabular}\n"
      ],
      "text/markdown": [
       "\n",
       "A precis: 5 × 6\n",
       "\n",
       "| <!--/--> | mean &lt;dbl&gt; | sd &lt;dbl&gt; | 5.5% &lt;dbl&gt; | 94.5% &lt;dbl&gt; | n_eff &lt;dbl&gt; | Rhat4 &lt;dbl&gt; |\n",
       "|---|---|---|---|---|---|---|\n",
       "| a[1] |  0.8870462 | 0.015766012 |  0.86150469 |  0.91221299 | 588.6343 | 0.9980605 |\n",
       "| a[2] |  1.0502025 | 0.010027665 |  1.03344335 |  1.06640105 | 704.1930 | 0.9983913 |\n",
       "| b[1] |  0.1314328 | 0.073656789 |  0.02103799 |  0.25444704 | 725.0349 | 0.9982027 |\n",
       "| b[2] | -0.1405872 | 0.056508322 | -0.23033817 | -0.05294874 | 512.2924 | 0.9997336 |\n",
       "| sigma |  0.1117403 | 0.006112304 |  0.10148159 |  0.12144289 | 524.0529 | 0.9983227 |\n",
       "\n"
      ],
      "text/plain": [
       "      mean       sd          5.5%        94.5%       n_eff    Rhat4    \n",
       "a[1]   0.8870462 0.015766012  0.86150469  0.91221299 588.6343 0.9980605\n",
       "a[2]   1.0502025 0.010027665  1.03344335  1.06640105 704.1930 0.9983913\n",
       "b[1]   0.1314328 0.073656789  0.02103799  0.25444704 725.0349 0.9982027\n",
       "b[2]  -0.1405872 0.056508322 -0.23033817 -0.05294874 512.2924 0.9997336\n",
       "sigma  0.1117403 0.006112304  0.10148159  0.12144289 524.0529 0.9983227"
      ]
     },
     "metadata": {},
     "output_type": "display_data"
    }
   ],
   "source": [
    "precis(m9.1, depth=2)"
   ]
  },
  {
   "cell_type": "markdown",
   "id": "75c9c9b0-1a19-4755-82a4-9e60f1bd67eb",
   "metadata": {},
   "source": [
    "we are not observing any major differences between the two. It seems that there are enough data to drown out the differences in the prior"
   ]
  },
  {
   "cell_type": "markdown",
   "id": "b6c40a5c-24c4-4c09-be25-23726fdb69a2",
   "metadata": {},
   "source": [
    "### 9M2.\n",
    "\n",
    "Modify the terrain ruggedness model again. This time, change the prior for b[cid] to dexp(0.3).\n",
    "What does this do to the posterior distribution? Can you explain it?"
   ]
  },
  {
   "cell_type": "code",
   "execution_count": 19,
   "id": "bcae24e2-1fec-4b16-96c4-270674c9612e",
   "metadata": {},
   "outputs": [
    {
     "name": "stderr",
     "output_type": "stream",
     "text": [
      "Warning in '/tmp/RtmpEea6Tu/model-24774cf89d2.stan', line 4, column 4: Declaration\n",
      "    of arrays by placing brackets after a variable name is deprecated and\n",
      "    will be removed in Stan 2.32.0. Instead use the array keyword before the\n",
      "    type. This can be changed automatically using the auto-format flag to\n",
      "    stanc\n",
      "\n",
      "\n"
     ]
    },
    {
     "name": "stdout",
     "output_type": "stream",
     "text": [
      "Running MCMC with 1 chain, with 1 thread(s) per chain...\n",
      "\n",
      "Chain 1 Iteration:   1 / 1000 [  0%]  (Warmup) \n",
      "Chain 1 Iteration: 100 / 1000 [ 10%]  (Warmup) \n",
      "Chain 1 Iteration: 200 / 1000 [ 20%]  (Warmup) \n",
      "Chain 1 Iteration: 300 / 1000 [ 30%]  (Warmup) \n",
      "Chain 1 Iteration: 400 / 1000 [ 40%]  (Warmup) \n",
      "Chain 1 Iteration: 500 / 1000 [ 50%]  (Warmup) \n",
      "Chain 1 Iteration: 501 / 1000 [ 50%]  (Sampling) \n",
      "Chain 1 Iteration: 600 / 1000 [ 60%]  (Sampling) \n"
     ]
    },
    {
     "name": "stderr",
     "output_type": "stream",
     "text": [
      "Chain 1 Informational Message: The current Metropolis proposal is about to be rejected because of the following issue:\n",
      "\n",
      "Chain 1 Exception: normal_lpdf: Scale parameter is 0, but must be positive! (in '/tmp/RtmpEea6Tu/model-24774cf89d2.stan', line 19, column 4 to column 39)\n",
      "\n",
      "Chain 1 If this warning occurs sporadically, such as for highly constrained variable types like covariance matrices, then the sampler is fine,\n",
      "\n",
      "Chain 1 but if this warning occurs often then your model may be either severely ill-conditioned or misspecified.\n",
      "\n",
      "Chain 1 \n",
      "\n"
     ]
    },
    {
     "name": "stdout",
     "output_type": "stream",
     "text": [
      "Chain 1 Iteration: 700 / 1000 [ 70%]  (Sampling) \n",
      "Chain 1 Iteration: 800 / 1000 [ 80%]  (Sampling) \n",
      "Chain 1 Iteration: 900 / 1000 [ 90%]  (Sampling) \n",
      "Chain 1 Iteration: 1000 / 1000 [100%]  (Sampling) \n",
      "Chain 1 finished in 0.1 seconds.\n"
     ]
    }
   ],
   "source": [
    "m9m2<- ulam(\n",
    "    alist(\n",
    "        log_gdp_std ~ dnorm(mu, sigma),\n",
    "        mu <- a[cid] + b[cid]*(rugged_std - 0.215),\n",
    "        a[cid] ~ dnorm(1, 0.1), \n",
    "        b[cid] ~ dexp(0.3),\n",
    "        sigma ~ dexp(1)\n",
    "        ), data = dat_slim, chains = 1)"
   ]
  },
  {
   "cell_type": "code",
   "execution_count": 20,
   "id": "b04a4052-1db9-4c84-83c4-ae662ab93446",
   "metadata": {},
   "outputs": [
    {
     "data": {
      "text/html": [
       "<table class=\"dataframe\">\n",
       "<caption>A precis: 5 × 6</caption>\n",
       "<thead>\n",
       "\t<tr><th></th><th scope=col>mean</th><th scope=col>sd</th><th scope=col>5.5%</th><th scope=col>94.5%</th><th scope=col>n_eff</th><th scope=col>Rhat4</th></tr>\n",
       "\t<tr><th></th><th scope=col>&lt;dbl&gt;</th><th scope=col>&lt;dbl&gt;</th><th scope=col>&lt;dbl&gt;</th><th scope=col>&lt;dbl&gt;</th><th scope=col>&lt;dbl&gt;</th><th scope=col>&lt;dbl&gt;</th></tr>\n",
       "</thead>\n",
       "<tbody>\n",
       "\t<tr><th scope=row>a[1]</th><td>0.88835347</td><td>0.016491934</td><td>0.8616089500</td><td>0.9149706</td><td>307.4168</td><td>0.9991148</td></tr>\n",
       "\t<tr><th scope=row>a[2]</th><td>1.04847018</td><td>0.010760057</td><td>1.0309167500</td><td>1.0651200</td><td>369.7853</td><td>0.9991985</td></tr>\n",
       "\t<tr><th scope=row>b[1]</th><td>0.14636098</td><td>0.068271614</td><td>0.0450947460</td><td>0.2662600</td><td>206.8909</td><td>0.9986841</td></tr>\n",
       "\t<tr><th scope=row>b[2]</th><td>0.01759612</td><td>0.017669205</td><td>0.0009595518</td><td>0.0482799</td><td>604.1858</td><td>0.9993326</td></tr>\n",
       "\t<tr><th scope=row>sigma</th><td>0.11429226</td><td>0.006302984</td><td>0.1050301750</td><td>0.1246150</td><td>416.9741</td><td>1.0009261</td></tr>\n",
       "</tbody>\n",
       "</table>\n"
      ],
      "text/latex": [
       "A precis: 5 × 6\n",
       "\\begin{tabular}{r|llllll}\n",
       "  & mean & sd & 5.5\\% & 94.5\\% & n\\_eff & Rhat4\\\\\n",
       "  & <dbl> & <dbl> & <dbl> & <dbl> & <dbl> & <dbl>\\\\\n",
       "\\hline\n",
       "\ta{[}1{]} & 0.88835347 & 0.016491934 & 0.8616089500 & 0.9149706 & 307.4168 & 0.9991148\\\\\n",
       "\ta{[}2{]} & 1.04847018 & 0.010760057 & 1.0309167500 & 1.0651200 & 369.7853 & 0.9991985\\\\\n",
       "\tb{[}1{]} & 0.14636098 & 0.068271614 & 0.0450947460 & 0.2662600 & 206.8909 & 0.9986841\\\\\n",
       "\tb{[}2{]} & 0.01759612 & 0.017669205 & 0.0009595518 & 0.0482799 & 604.1858 & 0.9993326\\\\\n",
       "\tsigma & 0.11429226 & 0.006302984 & 0.1050301750 & 0.1246150 & 416.9741 & 1.0009261\\\\\n",
       "\\end{tabular}\n"
      ],
      "text/markdown": [
       "\n",
       "A precis: 5 × 6\n",
       "\n",
       "| <!--/--> | mean &lt;dbl&gt; | sd &lt;dbl&gt; | 5.5% &lt;dbl&gt; | 94.5% &lt;dbl&gt; | n_eff &lt;dbl&gt; | Rhat4 &lt;dbl&gt; |\n",
       "|---|---|---|---|---|---|---|\n",
       "| a[1] | 0.88835347 | 0.016491934 | 0.8616089500 | 0.9149706 | 307.4168 | 0.9991148 |\n",
       "| a[2] | 1.04847018 | 0.010760057 | 1.0309167500 | 1.0651200 | 369.7853 | 0.9991985 |\n",
       "| b[1] | 0.14636098 | 0.068271614 | 0.0450947460 | 0.2662600 | 206.8909 | 0.9986841 |\n",
       "| b[2] | 0.01759612 | 0.017669205 | 0.0009595518 | 0.0482799 | 604.1858 | 0.9993326 |\n",
       "| sigma | 0.11429226 | 0.006302984 | 0.1050301750 | 0.1246150 | 416.9741 | 1.0009261 |\n",
       "\n"
      ],
      "text/plain": [
       "      mean       sd          5.5%         94.5%     n_eff    Rhat4    \n",
       "a[1]  0.88835347 0.016491934 0.8616089500 0.9149706 307.4168 0.9991148\n",
       "a[2]  1.04847018 0.010760057 1.0309167500 1.0651200 369.7853 0.9991985\n",
       "b[1]  0.14636098 0.068271614 0.0450947460 0.2662600 206.8909 0.9986841\n",
       "b[2]  0.01759612 0.017669205 0.0009595518 0.0482799 604.1858 0.9993326\n",
       "sigma 0.11429226 0.006302984 0.1050301750 0.1246150 416.9741 1.0009261"
      ]
     },
     "metadata": {},
     "output_type": "display_data"
    }
   ],
   "source": [
    "precis(m9m2, depth=2)"
   ]
  },
  {
   "cell_type": "code",
   "execution_count": 21,
   "id": "1fe72e22-87e7-40df-9b23-ee36c00e34b3",
   "metadata": {},
   "outputs": [
    {
     "data": {
      "text/html": [
       "<table class=\"dataframe\">\n",
       "<caption>A precis: 5 × 6</caption>\n",
       "<thead>\n",
       "\t<tr><th></th><th scope=col>mean</th><th scope=col>sd</th><th scope=col>5.5%</th><th scope=col>94.5%</th><th scope=col>n_eff</th><th scope=col>Rhat4</th></tr>\n",
       "\t<tr><th></th><th scope=col>&lt;dbl&gt;</th><th scope=col>&lt;dbl&gt;</th><th scope=col>&lt;dbl&gt;</th><th scope=col>&lt;dbl&gt;</th><th scope=col>&lt;dbl&gt;</th><th scope=col>&lt;dbl&gt;</th></tr>\n",
       "</thead>\n",
       "<tbody>\n",
       "\t<tr><th scope=row>a[1]</th><td> 0.8870462</td><td>0.015766012</td><td> 0.86150469</td><td> 0.91221299</td><td>588.6343</td><td>0.9980605</td></tr>\n",
       "\t<tr><th scope=row>a[2]</th><td> 1.0502025</td><td>0.010027665</td><td> 1.03344335</td><td> 1.06640105</td><td>704.1930</td><td>0.9983913</td></tr>\n",
       "\t<tr><th scope=row>b[1]</th><td> 0.1314328</td><td>0.073656789</td><td> 0.02103799</td><td> 0.25444704</td><td>725.0349</td><td>0.9982027</td></tr>\n",
       "\t<tr><th scope=row>b[2]</th><td>-0.1405872</td><td>0.056508322</td><td>-0.23033817</td><td>-0.05294874</td><td>512.2924</td><td>0.9997336</td></tr>\n",
       "\t<tr><th scope=row>sigma</th><td> 0.1117403</td><td>0.006112304</td><td> 0.10148159</td><td> 0.12144289</td><td>524.0529</td><td>0.9983227</td></tr>\n",
       "</tbody>\n",
       "</table>\n"
      ],
      "text/latex": [
       "A precis: 5 × 6\n",
       "\\begin{tabular}{r|llllll}\n",
       "  & mean & sd & 5.5\\% & 94.5\\% & n\\_eff & Rhat4\\\\\n",
       "  & <dbl> & <dbl> & <dbl> & <dbl> & <dbl> & <dbl>\\\\\n",
       "\\hline\n",
       "\ta{[}1{]} &  0.8870462 & 0.015766012 &  0.86150469 &  0.91221299 & 588.6343 & 0.9980605\\\\\n",
       "\ta{[}2{]} &  1.0502025 & 0.010027665 &  1.03344335 &  1.06640105 & 704.1930 & 0.9983913\\\\\n",
       "\tb{[}1{]} &  0.1314328 & 0.073656789 &  0.02103799 &  0.25444704 & 725.0349 & 0.9982027\\\\\n",
       "\tb{[}2{]} & -0.1405872 & 0.056508322 & -0.23033817 & -0.05294874 & 512.2924 & 0.9997336\\\\\n",
       "\tsigma &  0.1117403 & 0.006112304 &  0.10148159 &  0.12144289 & 524.0529 & 0.9983227\\\\\n",
       "\\end{tabular}\n"
      ],
      "text/markdown": [
       "\n",
       "A precis: 5 × 6\n",
       "\n",
       "| <!--/--> | mean &lt;dbl&gt; | sd &lt;dbl&gt; | 5.5% &lt;dbl&gt; | 94.5% &lt;dbl&gt; | n_eff &lt;dbl&gt; | Rhat4 &lt;dbl&gt; |\n",
       "|---|---|---|---|---|---|---|\n",
       "| a[1] |  0.8870462 | 0.015766012 |  0.86150469 |  0.91221299 | 588.6343 | 0.9980605 |\n",
       "| a[2] |  1.0502025 | 0.010027665 |  1.03344335 |  1.06640105 | 704.1930 | 0.9983913 |\n",
       "| b[1] |  0.1314328 | 0.073656789 |  0.02103799 |  0.25444704 | 725.0349 | 0.9982027 |\n",
       "| b[2] | -0.1405872 | 0.056508322 | -0.23033817 | -0.05294874 | 512.2924 | 0.9997336 |\n",
       "| sigma |  0.1117403 | 0.006112304 |  0.10148159 |  0.12144289 | 524.0529 | 0.9983227 |\n",
       "\n"
      ],
      "text/plain": [
       "      mean       sd          5.5%        94.5%       n_eff    Rhat4    \n",
       "a[1]   0.8870462 0.015766012  0.86150469  0.91221299 588.6343 0.9980605\n",
       "a[2]   1.0502025 0.010027665  1.03344335  1.06640105 704.1930 0.9983913\n",
       "b[1]   0.1314328 0.073656789  0.02103799  0.25444704 725.0349 0.9982027\n",
       "b[2]  -0.1405872 0.056508322 -0.23033817 -0.05294874 512.2924 0.9997336\n",
       "sigma  0.1117403 0.006112304  0.10148159  0.12144289 524.0529 0.9983227"
      ]
     },
     "metadata": {},
     "output_type": "display_data"
    }
   ],
   "source": [
    "precis(m9.1, depth=2)"
   ]
  },
  {
   "cell_type": "markdown",
   "id": "f24d2f76-9e38-4128-a6ad-7e269cea201b",
   "metadata": {},
   "source": [
    "this has now changed b, it barely changed b[1] but definitely changed b[2] which went from positive to negative. \n",
    "\n",
    "This can be attributed to the exponential prior requires the paramters to be positive, so it cannot be -0.14"
   ]
  },
  {
   "cell_type": "markdown",
   "id": "91c64c76-020c-4517-b4ff-a4443c14eebc",
   "metadata": {},
   "source": [
    "### 9M3.\n",
    "\n",
    "Re-estimate one of the Stan models from the chapter, but at different numbers of warmup iterations. Be sure to use the same number of sampling iterations in each case. Compare the n_eff\n",
    "values. How much warmup is enough?"
   ]
  },
  {
   "cell_type": "code",
   "execution_count": 30,
   "id": "9b9b97c9-60d1-41dd-85c2-53a298da8efe",
   "metadata": {},
   "outputs": [
    {
     "name": "stderr",
     "output_type": "stream",
     "text": [
      "Warning in '/tmp/RtmpEea6Tu/model-24774819ad0b.stan', line 4, column 4: Declaration\n",
      "    of arrays by placing brackets after a variable name is deprecated and\n",
      "    will be removed in Stan 2.32.0. Instead use the array keyword before the\n",
      "    type. This can be changed automatically using the auto-format flag to\n",
      "    stanc\n",
      "\n",
      "\n"
     ]
    },
    {
     "name": "stdout",
     "output_type": "stream",
     "text": [
      "Running MCMC with 1 chain, with 1 thread(s) per chain...\n",
      "\n",
      "Chain 1 WARNING: There aren't enough warmup iterations to fit the \n",
      "Chain 1          three stages of adaptation as currently configured. \n",
      "Chain 1          Reducing each adaptation stage to 15%/75%/10% of \n",
      "Chain 1          the given number of warmup iterations: \n",
      "Chain 1            init_buffer = 15 \n",
      "Chain 1            adapt_window = 75 \n",
      "Chain 1            term_buffer = 10 \n",
      "Chain 1 Iteration:    1 / 2000 [  0%]  (Warmup) \n",
      "Chain 1 Iteration:  100 / 2000 [  5%]  (Warmup) \n",
      "Chain 1 Iteration:  101 / 2000 [  5%]  (Sampling) \n",
      "Chain 1 Iteration:  200 / 2000 [ 10%]  (Sampling) \n",
      "Chain 1 Iteration:  300 / 2000 [ 15%]  (Sampling) \n",
      "Chain 1 Iteration:  400 / 2000 [ 20%]  (Sampling) \n",
      "Chain 1 Iteration:  500 / 2000 [ 25%]  (Sampling) \n",
      "Chain 1 Iteration:  600 / 2000 [ 30%]  (Sampling) \n",
      "Chain 1 Iteration:  700 / 2000 [ 35%]  (Sampling) \n",
      "Chain 1 Iteration:  800 / 2000 [ 40%]  (Sampling) \n",
      "Chain 1 Iteration:  900 / 2000 [ 45%]  (Sampling) \n"
     ]
    },
    {
     "name": "stderr",
     "output_type": "stream",
     "text": [
      "Chain 1 Informational Message: The current Metropolis proposal is about to be rejected because of the following issue:\n",
      "\n",
      "Chain 1 Exception: normal_lpdf: Scale parameter is 0, but must be positive! (in '/tmp/RtmpEea6Tu/model-24774819ad0b.stan', line 19, column 4 to column 39)\n",
      "\n",
      "Chain 1 If this warning occurs sporadically, such as for highly constrained variable types like covariance matrices, then the sampler is fine,\n",
      "\n",
      "Chain 1 but if this warning occurs often then your model may be either severely ill-conditioned or misspecified.\n",
      "\n",
      "Chain 1 \n",
      "\n"
     ]
    },
    {
     "name": "stdout",
     "output_type": "stream",
     "text": [
      "Chain 1 Iteration: 1000 / 2000 [ 50%]  (Sampling) \n",
      "Chain 1 Iteration: 1100 / 2000 [ 55%]  (Sampling) \n",
      "Chain 1 Iteration: 1200 / 2000 [ 60%]  (Sampling) \n",
      "Chain 1 Iteration: 1300 / 2000 [ 65%]  (Sampling) \n",
      "Chain 1 Iteration: 1400 / 2000 [ 70%]  (Sampling) \n",
      "Chain 1 Iteration: 1500 / 2000 [ 75%]  (Sampling) \n",
      "Chain 1 Iteration: 1600 / 2000 [ 80%]  (Sampling) \n",
      "Chain 1 Iteration: 1700 / 2000 [ 85%]  (Sampling) \n",
      "Chain 1 Iteration: 1800 / 2000 [ 90%]  (Sampling) \n",
      "Chain 1 Iteration: 1900 / 2000 [ 95%]  (Sampling) \n",
      "Chain 1 Iteration: 2000 / 2000 [100%]  (Sampling) \n",
      "Chain 1 finished in 0.2 seconds.\n"
     ]
    }
   ],
   "source": [
    "m_warmup_100 <- ulam(\n",
    "    alist(\n",
    "        log_gdp_std ~ dnorm(mu, sigma),\n",
    "        mu <- a[cid] + b[cid]*(rugged_std - 0.215),\n",
    "        a[cid] ~ dnorm(1, 0.1), \n",
    "        b[cid] ~ dnorm(0, 0.3),\n",
    "        sigma ~ dexp(1)\n",
    "        ), data = dat_slim, chains = 1, warmup = 100, iter=2000)"
   ]
  },
  {
   "cell_type": "code",
   "execution_count": 26,
   "id": "d31af260-d8fd-445d-956a-b01653d363b8",
   "metadata": {},
   "outputs": [
    {
     "name": "stderr",
     "output_type": "stream",
     "text": [
      "Warning in '/tmp/RtmpEea6Tu/model-2477462121e9.stan', line 4, column 4: Declaration\n",
      "    of arrays by placing brackets after a variable name is deprecated and\n",
      "    will be removed in Stan 2.32.0. Instead use the array keyword before the\n",
      "    type. This can be changed automatically using the auto-format flag to\n",
      "    stanc\n",
      "\n",
      "\n"
     ]
    },
    {
     "name": "stdout",
     "output_type": "stream",
     "text": [
      "Running MCMC with 1 chain, with 1 thread(s) per chain...\n",
      "\n",
      "Chain 1 WARNING: There aren't enough warmup iterations to fit the \n",
      "Chain 1          three stages of adaptation as currently configured. \n",
      "Chain 1          Reducing each adaptation stage to 15%/75%/10% of \n",
      "Chain 1          the given number of warmup iterations: \n",
      "Chain 1            init_buffer = 7 \n",
      "Chain 1            adapt_window = 38 \n",
      "Chain 1            term_buffer = 5 \n",
      "Chain 1 Iteration:   1 / 1000 [  0%]  (Warmup) \n",
      "Chain 1 Iteration:  51 / 1000 [  5%]  (Sampling) \n",
      "Chain 1 Iteration: 150 / 1000 [ 15%]  (Sampling) \n",
      "Chain 1 Iteration: 250 / 1000 [ 25%]  (Sampling) \n",
      "Chain 1 Iteration: 350 / 1000 [ 35%]  (Sampling) \n",
      "Chain 1 Iteration: 450 / 1000 [ 45%]  (Sampling) \n",
      "Chain 1 Iteration: 550 / 1000 [ 55%]  (Sampling) \n",
      "Chain 1 Iteration: 650 / 1000 [ 65%]  (Sampling) \n",
      "Chain 1 Iteration: 750 / 1000 [ 75%]  (Sampling) \n",
      "Chain 1 Iteration: 850 / 1000 [ 85%]  (Sampling) \n",
      "Chain 1 Iteration: 950 / 1000 [ 95%]  (Sampling) \n",
      "Chain 1 Iteration: 1000 / 1000 [100%]  (Sampling) \n",
      "Chain 1 finished in 0.1 seconds.\n"
     ]
    }
   ],
   "source": [
    "m_warmup_50 <- ulam(\n",
    "    alist(\n",
    "        log_gdp_std ~ dnorm(mu, sigma),\n",
    "        mu <- a[cid] + b[cid]*(rugged_std - 0.215),\n",
    "        a[cid] ~ dnorm(1, 0.1), \n",
    "        b[cid] ~ dnorm(0, 0.3),\n",
    "        sigma ~ dexp(1)\n",
    "        ), data = dat_slim, chains = 1, warmup = 50)"
   ]
  },
  {
   "cell_type": "code",
   "execution_count": 31,
   "id": "ba4be108-3202-4fe7-896c-7ea8bff9cc75",
   "metadata": {},
   "outputs": [
    {
     "name": "stderr",
     "output_type": "stream",
     "text": [
      "Warning in '/tmp/RtmpEea6Tu/model-24777ff0b4a6.stan', line 4, column 4: Declaration\n",
      "    of arrays by placing brackets after a variable name is deprecated and\n",
      "    will be removed in Stan 2.32.0. Instead use the array keyword before the\n",
      "    type. This can be changed automatically using the auto-format flag to\n",
      "    stanc\n",
      "\n",
      "\n"
     ]
    },
    {
     "name": "stdout",
     "output_type": "stream",
     "text": [
      "Running MCMC with 1 chain, with 1 thread(s) per chain...\n",
      "\n",
      "Chain 1 Iteration:    1 / 2000 [  0%]  (Warmup) \n",
      "Chain 1 Iteration:  100 / 2000 [  5%]  (Warmup) \n",
      "Chain 1 Iteration:  200 / 2000 [ 10%]  (Warmup) \n",
      "Chain 1 Iteration:  300 / 2000 [ 15%]  (Warmup) \n",
      "Chain 1 Iteration:  400 / 2000 [ 20%]  (Warmup) \n",
      "Chain 1 Iteration:  500 / 2000 [ 25%]  (Warmup) \n",
      "Chain 1 Iteration:  501 / 2000 [ 25%]  (Sampling) \n",
      "Chain 1 Iteration:  600 / 2000 [ 30%]  (Sampling) \n",
      "Chain 1 Iteration:  700 / 2000 [ 35%]  (Sampling) \n",
      "Chain 1 Iteration:  800 / 2000 [ 40%]  (Sampling) \n",
      "Chain 1 Iteration:  900 / 2000 [ 45%]  (Sampling) \n",
      "Chain 1 Iteration: 1000 / 2000 [ 50%]  (Sampling) \n",
      "Chain 1 Iteration: 1100 / 2000 [ 55%]  (Sampling) \n",
      "Chain 1 Iteration: 1200 / 2000 [ 60%]  (Sampling) \n",
      "Chain 1 Iteration: 1300 / 2000 [ 65%]  (Sampling) \n",
      "Chain 1 Iteration: 1400 / 2000 [ 70%]  (Sampling) \n",
      "Chain 1 Iteration: 1500 / 2000 [ 75%]  (Sampling) \n",
      "Chain 1 Iteration: 1600 / 2000 [ 80%]  (Sampling) \n",
      "Chain 1 Iteration: 1700 / 2000 [ 85%]  (Sampling) \n",
      "Chain 1 Iteration: 1800 / 2000 [ 90%]  (Sampling) \n",
      "Chain 1 Iteration: 1900 / 2000 [ 95%]  (Sampling) \n",
      "Chain 1 Iteration: 2000 / 2000 [100%]  (Sampling) \n",
      "Chain 1 finished in 0.1 seconds.\n"
     ]
    }
   ],
   "source": [
    "m_warmup_500 <- ulam(\n",
    "    alist(\n",
    "        log_gdp_std ~ dnorm(mu, sigma),\n",
    "        mu <- a[cid] + b[cid]*(rugged_std - 0.215),\n",
    "        a[cid] ~ dnorm(1, 0.1), \n",
    "        b[cid] ~ dnorm(0, 0.3),\n",
    "        sigma ~ dexp(1)\n",
    "        ), data = dat_slim, chains = 1, warmup = 500, iter=2000)"
   ]
  },
  {
   "cell_type": "code",
   "execution_count": 34,
   "id": "2a8a044b-fc5b-4f96-9335-47cfd2e5ff42",
   "metadata": {},
   "outputs": [
    {
     "name": "stderr",
     "output_type": "stream",
     "text": [
      "Warning in '/tmp/RtmpEea6Tu/model-2477251b5ace.stan', line 4, column 4: Declaration\n",
      "    of arrays by placing brackets after a variable name is deprecated and\n",
      "    will be removed in Stan 2.32.0. Instead use the array keyword before the\n",
      "    type. This can be changed automatically using the auto-format flag to\n",
      "    stanc\n",
      "\n",
      "\n"
     ]
    },
    {
     "name": "stdout",
     "output_type": "stream",
     "text": [
      "Running MCMC with 1 chain, with 1 thread(s) per chain...\n",
      "\n",
      "Chain 1 Iteration:    1 / 2000 [  0%]  (Warmup) \n",
      "Chain 1 Iteration:  100 / 2000 [  5%]  (Warmup) \n",
      "Chain 1 Iteration:  200 / 2000 [ 10%]  (Warmup) \n",
      "Chain 1 Iteration:  300 / 2000 [ 15%]  (Warmup) \n",
      "Chain 1 Iteration:  400 / 2000 [ 20%]  (Warmup) \n",
      "Chain 1 Iteration:  500 / 2000 [ 25%]  (Warmup) \n",
      "Chain 1 Iteration:  600 / 2000 [ 30%]  (Warmup) \n",
      "Chain 1 Iteration:  700 / 2000 [ 35%]  (Warmup) \n",
      "Chain 1 Iteration:  800 / 2000 [ 40%]  (Warmup) \n",
      "Chain 1 Iteration:  900 / 2000 [ 45%]  (Warmup) \n",
      "Chain 1 Iteration: 1000 / 2000 [ 50%]  (Warmup) \n",
      "Chain 1 Iteration: 1001 / 2000 [ 50%]  (Sampling) \n",
      "Chain 1 Iteration: 1100 / 2000 [ 55%]  (Sampling) \n",
      "Chain 1 Iteration: 1200 / 2000 [ 60%]  (Sampling) \n",
      "Chain 1 Iteration: 1300 / 2000 [ 65%]  (Sampling) \n",
      "Chain 1 Iteration: 1400 / 2000 [ 70%]  (Sampling) \n",
      "Chain 1 Iteration: 1500 / 2000 [ 75%]  (Sampling) \n",
      "Chain 1 Iteration: 1600 / 2000 [ 80%]  (Sampling) \n",
      "Chain 1 Iteration: 1700 / 2000 [ 85%]  (Sampling) \n",
      "Chain 1 Iteration: 1800 / 2000 [ 90%]  (Sampling) \n",
      "Chain 1 Iteration: 1900 / 2000 [ 95%]  (Sampling) \n"
     ]
    },
    {
     "name": "stderr",
     "output_type": "stream",
     "text": [
      "Chain 1 Informational Message: The current Metropolis proposal is about to be rejected because of the following issue:\n",
      "\n",
      "Chain 1 Exception: normal_lpdf: Scale parameter is 0, but must be positive! (in '/tmp/RtmpEea6Tu/model-2477251b5ace.stan', line 19, column 4 to column 39)\n",
      "\n",
      "Chain 1 If this warning occurs sporadically, such as for highly constrained variable types like covariance matrices, then the sampler is fine,\n",
      "\n",
      "Chain 1 but if this warning occurs often then your model may be either severely ill-conditioned or misspecified.\n",
      "\n",
      "Chain 1 \n",
      "\n"
     ]
    },
    {
     "name": "stdout",
     "output_type": "stream",
     "text": [
      "Chain 1 Iteration: 2000 / 2000 [100%]  (Sampling) \n",
      "Chain 1 finished in 0.1 seconds.\n"
     ]
    }
   ],
   "source": [
    "m_warmup_1000 <- ulam(\n",
    "    alist(\n",
    "        log_gdp_std ~ dnorm(mu, sigma),\n",
    "        mu <- a[cid] + b[cid]*(rugged_std - 0.215),\n",
    "        a[cid] ~ dnorm(1, 0.1), \n",
    "        b[cid] ~ dnorm(0, 0.3),\n",
    "        sigma ~ dexp(1)\n",
    "        ), data = dat_slim, chains = 1, warmup = 1000, iter = 2000)"
   ]
  },
  {
   "cell_type": "code",
   "execution_count": 35,
   "id": "84c9b231-06de-4857-9973-56446d44ba3c",
   "metadata": {},
   "outputs": [
    {
     "name": "stderr",
     "output_type": "stream",
     "text": [
      "Warning in '/tmp/RtmpEea6Tu/model-247752fca2b1.stan', line 4, column 4: Declaration\n",
      "    of arrays by placing brackets after a variable name is deprecated and\n",
      "    will be removed in Stan 2.32.0. Instead use the array keyword before the\n",
      "    type. This can be changed automatically using the auto-format flag to\n",
      "    stanc\n",
      "\n",
      "\n"
     ]
    },
    {
     "name": "stdout",
     "output_type": "stream",
     "text": [
      "Running MCMC with 1 chain, with 1 thread(s) per chain...\n",
      "\n",
      "Chain 1 Iteration:    1 / 2000 [  0%]  (Warmup) \n",
      "Chain 1 Iteration:  100 / 2000 [  5%]  (Warmup) \n",
      "Chain 1 Iteration:  200 / 2000 [ 10%]  (Warmup) \n",
      "Chain 1 Iteration:  300 / 2000 [ 15%]  (Warmup) \n",
      "Chain 1 Iteration:  400 / 2000 [ 20%]  (Warmup) \n",
      "Chain 1 Iteration:  500 / 2000 [ 25%]  (Warmup) \n",
      "Chain 1 Iteration:  600 / 2000 [ 30%]  (Warmup) \n",
      "Chain 1 Iteration:  700 / 2000 [ 35%]  (Warmup) \n",
      "Chain 1 Iteration:  800 / 2000 [ 40%]  (Warmup) \n",
      "Chain 1 Iteration:  900 / 2000 [ 45%]  (Warmup) \n",
      "Chain 1 Iteration: 1000 / 2000 [ 50%]  (Warmup) \n",
      "Chain 1 Iteration: 1100 / 2000 [ 55%]  (Warmup) \n",
      "Chain 1 Iteration: 1200 / 2000 [ 60%]  (Warmup) \n",
      "Chain 1 Iteration: 1300 / 2000 [ 65%]  (Warmup) \n",
      "Chain 1 Iteration: 1400 / 2000 [ 70%]  (Warmup) \n",
      "Chain 1 Iteration: 1500 / 2000 [ 75%]  (Warmup) \n",
      "Chain 1 Iteration: 1501 / 2000 [ 75%]  (Sampling) \n",
      "Chain 1 Iteration: 1600 / 2000 [ 80%]  (Sampling) \n",
      "Chain 1 Iteration: 1700 / 2000 [ 85%]  (Sampling) \n",
      "Chain 1 Iteration: 1800 / 2000 [ 90%]  (Sampling) \n",
      "Chain 1 Iteration: 1900 / 2000 [ 95%]  (Sampling) \n",
      "Chain 1 Iteration: 2000 / 2000 [100%]  (Sampling) \n",
      "Chain 1 finished in 0.1 seconds.\n"
     ]
    }
   ],
   "source": [
    "m_warmup_1500 <- ulam(\n",
    "    alist(\n",
    "        log_gdp_std ~ dnorm(mu, sigma),\n",
    "        mu <- a[cid] + b[cid]*(rugged_std - 0.215),\n",
    "        a[cid] ~ dnorm(1, 0.1), \n",
    "        b[cid] ~ dnorm(0, 0.3),\n",
    "        sigma ~ dexp(1)\n",
    "        ), data = dat_slim, chains = 1, warmup = 1500, iter = 2000)"
   ]
  },
  {
   "cell_type": "code",
   "execution_count": 36,
   "id": "85a214c8-561c-45ae-a4d2-0ca76be54a76",
   "metadata": {},
   "outputs": [
    {
     "data": {
      "text/html": [
       "<table class=\"dataframe\">\n",
       "<caption>A precis: 5 × 6</caption>\n",
       "<thead>\n",
       "\t<tr><th></th><th scope=col>mean</th><th scope=col>sd</th><th scope=col>5.5%</th><th scope=col>94.5%</th><th scope=col>n_eff</th><th scope=col>Rhat4</th></tr>\n",
       "\t<tr><th></th><th scope=col>&lt;dbl&gt;</th><th scope=col>&lt;dbl&gt;</th><th scope=col>&lt;dbl&gt;</th><th scope=col>&lt;dbl&gt;</th><th scope=col>&lt;dbl&gt;</th><th scope=col>&lt;dbl&gt;</th></tr>\n",
       "</thead>\n",
       "<tbody>\n",
       "\t<tr><th scope=row>a[1]</th><td> 0.8866607</td><td>0.015659040</td><td> 0.86096733</td><td> 0.91111160</td><td>1030.4470</td><td>0.9989543</td></tr>\n",
       "\t<tr><th scope=row>a[2]</th><td> 1.0501637</td><td>0.010169000</td><td> 1.03361705</td><td> 1.06598490</td><td> 988.2105</td><td>0.9991198</td></tr>\n",
       "\t<tr><th scope=row>b[1]</th><td> 0.1309867</td><td>0.074839972</td><td> 0.01435978</td><td> 0.25238550</td><td> 442.3558</td><td>0.9998944</td></tr>\n",
       "\t<tr><th scope=row>b[2]</th><td>-0.1416763</td><td>0.055614894</td><td>-0.23181529</td><td>-0.05429623</td><td> 663.0703</td><td>1.0025928</td></tr>\n",
       "\t<tr><th scope=row>sigma</th><td> 0.1115016</td><td>0.006441014</td><td> 0.10171104</td><td> 0.12242879</td><td> 556.6169</td><td>1.0081666</td></tr>\n",
       "</tbody>\n",
       "</table>\n"
      ],
      "text/latex": [
       "A precis: 5 × 6\n",
       "\\begin{tabular}{r|llllll}\n",
       "  & mean & sd & 5.5\\% & 94.5\\% & n\\_eff & Rhat4\\\\\n",
       "  & <dbl> & <dbl> & <dbl> & <dbl> & <dbl> & <dbl>\\\\\n",
       "\\hline\n",
       "\ta{[}1{]} &  0.8866607 & 0.015659040 &  0.86096733 &  0.91111160 & 1030.4470 & 0.9989543\\\\\n",
       "\ta{[}2{]} &  1.0501637 & 0.010169000 &  1.03361705 &  1.06598490 &  988.2105 & 0.9991198\\\\\n",
       "\tb{[}1{]} &  0.1309867 & 0.074839972 &  0.01435978 &  0.25238550 &  442.3558 & 0.9998944\\\\\n",
       "\tb{[}2{]} & -0.1416763 & 0.055614894 & -0.23181529 & -0.05429623 &  663.0703 & 1.0025928\\\\\n",
       "\tsigma &  0.1115016 & 0.006441014 &  0.10171104 &  0.12242879 &  556.6169 & 1.0081666\\\\\n",
       "\\end{tabular}\n"
      ],
      "text/markdown": [
       "\n",
       "A precis: 5 × 6\n",
       "\n",
       "| <!--/--> | mean &lt;dbl&gt; | sd &lt;dbl&gt; | 5.5% &lt;dbl&gt; | 94.5% &lt;dbl&gt; | n_eff &lt;dbl&gt; | Rhat4 &lt;dbl&gt; |\n",
       "|---|---|---|---|---|---|---|\n",
       "| a[1] |  0.8866607 | 0.015659040 |  0.86096733 |  0.91111160 | 1030.4470 | 0.9989543 |\n",
       "| a[2] |  1.0501637 | 0.010169000 |  1.03361705 |  1.06598490 |  988.2105 | 0.9991198 |\n",
       "| b[1] |  0.1309867 | 0.074839972 |  0.01435978 |  0.25238550 |  442.3558 | 0.9998944 |\n",
       "| b[2] | -0.1416763 | 0.055614894 | -0.23181529 | -0.05429623 |  663.0703 | 1.0025928 |\n",
       "| sigma |  0.1115016 | 0.006441014 |  0.10171104 |  0.12242879 |  556.6169 | 1.0081666 |\n",
       "\n"
      ],
      "text/plain": [
       "      mean       sd          5.5%        94.5%       n_eff     Rhat4    \n",
       "a[1]   0.8866607 0.015659040  0.86096733  0.91111160 1030.4470 0.9989543\n",
       "a[2]   1.0501637 0.010169000  1.03361705  1.06598490  988.2105 0.9991198\n",
       "b[1]   0.1309867 0.074839972  0.01435978  0.25238550  442.3558 0.9998944\n",
       "b[2]  -0.1416763 0.055614894 -0.23181529 -0.05429623  663.0703 1.0025928\n",
       "sigma  0.1115016 0.006441014  0.10171104  0.12242879  556.6169 1.0081666"
      ]
     },
     "metadata": {},
     "output_type": "display_data"
    }
   ],
   "source": [
    "precis(m_warmup_50, depth = 2)"
   ]
  },
  {
   "cell_type": "code",
   "execution_count": 37,
   "id": "769442e0-ec41-4bfc-a67e-d52889494e61",
   "metadata": {},
   "outputs": [
    {
     "data": {
      "text/html": [
       "<table class=\"dataframe\">\n",
       "<caption>A precis: 5 × 6</caption>\n",
       "<thead>\n",
       "\t<tr><th></th><th scope=col>mean</th><th scope=col>sd</th><th scope=col>5.5%</th><th scope=col>94.5%</th><th scope=col>n_eff</th><th scope=col>Rhat4</th></tr>\n",
       "\t<tr><th></th><th scope=col>&lt;dbl&gt;</th><th scope=col>&lt;dbl&gt;</th><th scope=col>&lt;dbl&gt;</th><th scope=col>&lt;dbl&gt;</th><th scope=col>&lt;dbl&gt;</th><th scope=col>&lt;dbl&gt;</th></tr>\n",
       "</thead>\n",
       "<tbody>\n",
       "\t<tr><th scope=row>a[1]</th><td> 0.8861027</td><td>0.01537114</td><td> 0.86073537</td><td> 0.90966488</td><td>2061.560</td><td>0.9999581</td></tr>\n",
       "\t<tr><th scope=row>a[2]</th><td> 1.0505314</td><td>0.01027472</td><td> 1.03440000</td><td> 1.06689880</td><td>2274.430</td><td>0.9995685</td></tr>\n",
       "\t<tr><th scope=row>b[1]</th><td> 0.1284368</td><td>0.07461007</td><td> 0.01052533</td><td> 0.25249552</td><td> 929.778</td><td>0.9994819</td></tr>\n",
       "\t<tr><th scope=row>b[2]</th><td>-0.1425858</td><td>0.05469386</td><td>-0.23013617</td><td>-0.05658728</td><td>1383.635</td><td>1.0013335</td></tr>\n",
       "\t<tr><th scope=row>sigma</th><td> 0.1114010</td><td>0.00593045</td><td> 0.10208078</td><td> 0.12109644</td><td>1229.984</td><td>1.0075074</td></tr>\n",
       "</tbody>\n",
       "</table>\n"
      ],
      "text/latex": [
       "A precis: 5 × 6\n",
       "\\begin{tabular}{r|llllll}\n",
       "  & mean & sd & 5.5\\% & 94.5\\% & n\\_eff & Rhat4\\\\\n",
       "  & <dbl> & <dbl> & <dbl> & <dbl> & <dbl> & <dbl>\\\\\n",
       "\\hline\n",
       "\ta{[}1{]} &  0.8861027 & 0.01537114 &  0.86073537 &  0.90966488 & 2061.560 & 0.9999581\\\\\n",
       "\ta{[}2{]} &  1.0505314 & 0.01027472 &  1.03440000 &  1.06689880 & 2274.430 & 0.9995685\\\\\n",
       "\tb{[}1{]} &  0.1284368 & 0.07461007 &  0.01052533 &  0.25249552 &  929.778 & 0.9994819\\\\\n",
       "\tb{[}2{]} & -0.1425858 & 0.05469386 & -0.23013617 & -0.05658728 & 1383.635 & 1.0013335\\\\\n",
       "\tsigma &  0.1114010 & 0.00593045 &  0.10208078 &  0.12109644 & 1229.984 & 1.0075074\\\\\n",
       "\\end{tabular}\n"
      ],
      "text/markdown": [
       "\n",
       "A precis: 5 × 6\n",
       "\n",
       "| <!--/--> | mean &lt;dbl&gt; | sd &lt;dbl&gt; | 5.5% &lt;dbl&gt; | 94.5% &lt;dbl&gt; | n_eff &lt;dbl&gt; | Rhat4 &lt;dbl&gt; |\n",
       "|---|---|---|---|---|---|---|\n",
       "| a[1] |  0.8861027 | 0.01537114 |  0.86073537 |  0.90966488 | 2061.560 | 0.9999581 |\n",
       "| a[2] |  1.0505314 | 0.01027472 |  1.03440000 |  1.06689880 | 2274.430 | 0.9995685 |\n",
       "| b[1] |  0.1284368 | 0.07461007 |  0.01052533 |  0.25249552 |  929.778 | 0.9994819 |\n",
       "| b[2] | -0.1425858 | 0.05469386 | -0.23013617 | -0.05658728 | 1383.635 | 1.0013335 |\n",
       "| sigma |  0.1114010 | 0.00593045 |  0.10208078 |  0.12109644 | 1229.984 | 1.0075074 |\n",
       "\n"
      ],
      "text/plain": [
       "      mean       sd         5.5%        94.5%       n_eff    Rhat4    \n",
       "a[1]   0.8861027 0.01537114  0.86073537  0.90966488 2061.560 0.9999581\n",
       "a[2]   1.0505314 0.01027472  1.03440000  1.06689880 2274.430 0.9995685\n",
       "b[1]   0.1284368 0.07461007  0.01052533  0.25249552  929.778 0.9994819\n",
       "b[2]  -0.1425858 0.05469386 -0.23013617 -0.05658728 1383.635 1.0013335\n",
       "sigma  0.1114010 0.00593045  0.10208078  0.12109644 1229.984 1.0075074"
      ]
     },
     "metadata": {},
     "output_type": "display_data"
    }
   ],
   "source": [
    "precis(m_warmup_100, depth=2)"
   ]
  },
  {
   "cell_type": "code",
   "execution_count": 39,
   "id": "244daadc-478d-4775-9115-2a9c304a6f05",
   "metadata": {},
   "outputs": [
    {
     "data": {
      "text/html": [
       "<table class=\"dataframe\">\n",
       "<caption>A precis: 5 × 6</caption>\n",
       "<thead>\n",
       "\t<tr><th></th><th scope=col>mean</th><th scope=col>sd</th><th scope=col>5.5%</th><th scope=col>94.5%</th><th scope=col>n_eff</th><th scope=col>Rhat4</th></tr>\n",
       "\t<tr><th></th><th scope=col>&lt;dbl&gt;</th><th scope=col>&lt;dbl&gt;</th><th scope=col>&lt;dbl&gt;</th><th scope=col>&lt;dbl&gt;</th><th scope=col>&lt;dbl&gt;</th><th scope=col>&lt;dbl&gt;</th></tr>\n",
       "</thead>\n",
       "<tbody>\n",
       "\t<tr><th scope=row>a[1]</th><td> 0.8865690</td><td>0.015902235</td><td> 0.85998882</td><td> 0.91240710</td><td>1891.796</td><td>1.0000045</td></tr>\n",
       "\t<tr><th scope=row>a[2]</th><td> 1.0504642</td><td>0.010105794</td><td> 1.03389230</td><td> 1.06714660</td><td>2287.305</td><td>0.9993661</td></tr>\n",
       "\t<tr><th scope=row>b[1]</th><td> 0.1342087</td><td>0.076147029</td><td> 0.01304174</td><td> 0.25108028</td><td>1921.813</td><td>0.9993717</td></tr>\n",
       "\t<tr><th scope=row>b[2]</th><td>-0.1417920</td><td>0.054528760</td><td>-0.22801456</td><td>-0.05648288</td><td>2096.016</td><td>0.9995429</td></tr>\n",
       "\t<tr><th scope=row>sigma</th><td> 0.1116294</td><td>0.006276033</td><td> 0.10207912</td><td> 0.12230051</td><td>2181.611</td><td>0.9993428</td></tr>\n",
       "</tbody>\n",
       "</table>\n"
      ],
      "text/latex": [
       "A precis: 5 × 6\n",
       "\\begin{tabular}{r|llllll}\n",
       "  & mean & sd & 5.5\\% & 94.5\\% & n\\_eff & Rhat4\\\\\n",
       "  & <dbl> & <dbl> & <dbl> & <dbl> & <dbl> & <dbl>\\\\\n",
       "\\hline\n",
       "\ta{[}1{]} &  0.8865690 & 0.015902235 &  0.85998882 &  0.91240710 & 1891.796 & 1.0000045\\\\\n",
       "\ta{[}2{]} &  1.0504642 & 0.010105794 &  1.03389230 &  1.06714660 & 2287.305 & 0.9993661\\\\\n",
       "\tb{[}1{]} &  0.1342087 & 0.076147029 &  0.01304174 &  0.25108028 & 1921.813 & 0.9993717\\\\\n",
       "\tb{[}2{]} & -0.1417920 & 0.054528760 & -0.22801456 & -0.05648288 & 2096.016 & 0.9995429\\\\\n",
       "\tsigma &  0.1116294 & 0.006276033 &  0.10207912 &  0.12230051 & 2181.611 & 0.9993428\\\\\n",
       "\\end{tabular}\n"
      ],
      "text/markdown": [
       "\n",
       "A precis: 5 × 6\n",
       "\n",
       "| <!--/--> | mean &lt;dbl&gt; | sd &lt;dbl&gt; | 5.5% &lt;dbl&gt; | 94.5% &lt;dbl&gt; | n_eff &lt;dbl&gt; | Rhat4 &lt;dbl&gt; |\n",
       "|---|---|---|---|---|---|---|\n",
       "| a[1] |  0.8865690 | 0.015902235 |  0.85998882 |  0.91240710 | 1891.796 | 1.0000045 |\n",
       "| a[2] |  1.0504642 | 0.010105794 |  1.03389230 |  1.06714660 | 2287.305 | 0.9993661 |\n",
       "| b[1] |  0.1342087 | 0.076147029 |  0.01304174 |  0.25108028 | 1921.813 | 0.9993717 |\n",
       "| b[2] | -0.1417920 | 0.054528760 | -0.22801456 | -0.05648288 | 2096.016 | 0.9995429 |\n",
       "| sigma |  0.1116294 | 0.006276033 |  0.10207912 |  0.12230051 | 2181.611 | 0.9993428 |\n",
       "\n"
      ],
      "text/plain": [
       "      mean       sd          5.5%        94.5%       n_eff    Rhat4    \n",
       "a[1]   0.8865690 0.015902235  0.85998882  0.91240710 1891.796 1.0000045\n",
       "a[2]   1.0504642 0.010105794  1.03389230  1.06714660 2287.305 0.9993661\n",
       "b[1]   0.1342087 0.076147029  0.01304174  0.25108028 1921.813 0.9993717\n",
       "b[2]  -0.1417920 0.054528760 -0.22801456 -0.05648288 2096.016 0.9995429\n",
       "sigma  0.1116294 0.006276033  0.10207912  0.12230051 2181.611 0.9993428"
      ]
     },
     "metadata": {},
     "output_type": "display_data"
    }
   ],
   "source": [
    "precis(m_warmup_500, depth=2)"
   ]
  },
  {
   "cell_type": "code",
   "execution_count": 40,
   "id": "df28ed72-83d2-44bc-afa2-f0ec9d9dabc1",
   "metadata": {},
   "outputs": [
    {
     "data": {
      "text/html": [
       "<table class=\"dataframe\">\n",
       "<caption>A precis: 5 × 6</caption>\n",
       "<thead>\n",
       "\t<tr><th></th><th scope=col>mean</th><th scope=col>sd</th><th scope=col>5.5%</th><th scope=col>94.5%</th><th scope=col>n_eff</th><th scope=col>Rhat4</th></tr>\n",
       "\t<tr><th></th><th scope=col>&lt;dbl&gt;</th><th scope=col>&lt;dbl&gt;</th><th scope=col>&lt;dbl&gt;</th><th scope=col>&lt;dbl&gt;</th><th scope=col>&lt;dbl&gt;</th><th scope=col>&lt;dbl&gt;</th></tr>\n",
       "</thead>\n",
       "<tbody>\n",
       "\t<tr><th scope=row>a[1]</th><td> 0.8865959</td><td>0.014956997</td><td> 0.86230824</td><td> 0.91044746</td><td>1189.0323</td><td>0.9989995</td></tr>\n",
       "\t<tr><th scope=row>a[2]</th><td> 1.0509904</td><td>0.009605617</td><td> 1.03621945</td><td> 1.06679165</td><td> 977.4508</td><td>0.9992112</td></tr>\n",
       "\t<tr><th scope=row>b[1]</th><td> 0.1329878</td><td>0.070745822</td><td> 0.01741036</td><td> 0.24442342</td><td>1142.0205</td><td>0.9989998</td></tr>\n",
       "\t<tr><th scope=row>b[2]</th><td>-0.1444674</td><td>0.053791592</td><td>-0.23027632</td><td>-0.05805588</td><td>1736.7321</td><td>0.9990021</td></tr>\n",
       "\t<tr><th scope=row>sigma</th><td> 0.1112654</td><td>0.005951967</td><td> 0.10199689</td><td> 0.12113650</td><td>1290.8227</td><td>0.9994018</td></tr>\n",
       "</tbody>\n",
       "</table>\n"
      ],
      "text/latex": [
       "A precis: 5 × 6\n",
       "\\begin{tabular}{r|llllll}\n",
       "  & mean & sd & 5.5\\% & 94.5\\% & n\\_eff & Rhat4\\\\\n",
       "  & <dbl> & <dbl> & <dbl> & <dbl> & <dbl> & <dbl>\\\\\n",
       "\\hline\n",
       "\ta{[}1{]} &  0.8865959 & 0.014956997 &  0.86230824 &  0.91044746 & 1189.0323 & 0.9989995\\\\\n",
       "\ta{[}2{]} &  1.0509904 & 0.009605617 &  1.03621945 &  1.06679165 &  977.4508 & 0.9992112\\\\\n",
       "\tb{[}1{]} &  0.1329878 & 0.070745822 &  0.01741036 &  0.24442342 & 1142.0205 & 0.9989998\\\\\n",
       "\tb{[}2{]} & -0.1444674 & 0.053791592 & -0.23027632 & -0.05805588 & 1736.7321 & 0.9990021\\\\\n",
       "\tsigma &  0.1112654 & 0.005951967 &  0.10199689 &  0.12113650 & 1290.8227 & 0.9994018\\\\\n",
       "\\end{tabular}\n"
      ],
      "text/markdown": [
       "\n",
       "A precis: 5 × 6\n",
       "\n",
       "| <!--/--> | mean &lt;dbl&gt; | sd &lt;dbl&gt; | 5.5% &lt;dbl&gt; | 94.5% &lt;dbl&gt; | n_eff &lt;dbl&gt; | Rhat4 &lt;dbl&gt; |\n",
       "|---|---|---|---|---|---|---|\n",
       "| a[1] |  0.8865959 | 0.014956997 |  0.86230824 |  0.91044746 | 1189.0323 | 0.9989995 |\n",
       "| a[2] |  1.0509904 | 0.009605617 |  1.03621945 |  1.06679165 |  977.4508 | 0.9992112 |\n",
       "| b[1] |  0.1329878 | 0.070745822 |  0.01741036 |  0.24442342 | 1142.0205 | 0.9989998 |\n",
       "| b[2] | -0.1444674 | 0.053791592 | -0.23027632 | -0.05805588 | 1736.7321 | 0.9990021 |\n",
       "| sigma |  0.1112654 | 0.005951967 |  0.10199689 |  0.12113650 | 1290.8227 | 0.9994018 |\n",
       "\n"
      ],
      "text/plain": [
       "      mean       sd          5.5%        94.5%       n_eff     Rhat4    \n",
       "a[1]   0.8865959 0.014956997  0.86230824  0.91044746 1189.0323 0.9989995\n",
       "a[2]   1.0509904 0.009605617  1.03621945  1.06679165  977.4508 0.9992112\n",
       "b[1]   0.1329878 0.070745822  0.01741036  0.24442342 1142.0205 0.9989998\n",
       "b[2]  -0.1444674 0.053791592 -0.23027632 -0.05805588 1736.7321 0.9990021\n",
       "sigma  0.1112654 0.005951967  0.10199689  0.12113650 1290.8227 0.9994018"
      ]
     },
     "metadata": {},
     "output_type": "display_data"
    }
   ],
   "source": [
    "precis(m_warmup_1000, depth=2)"
   ]
  },
  {
   "cell_type": "code",
   "execution_count": 41,
   "id": "ad514861-0d9d-4d87-96ba-244eea9015ca",
   "metadata": {},
   "outputs": [
    {
     "data": {
      "text/html": [
       "<table class=\"dataframe\">\n",
       "<caption>A precis: 5 × 6</caption>\n",
       "<thead>\n",
       "\t<tr><th></th><th scope=col>mean</th><th scope=col>sd</th><th scope=col>5.5%</th><th scope=col>94.5%</th><th scope=col>n_eff</th><th scope=col>Rhat4</th></tr>\n",
       "\t<tr><th></th><th scope=col>&lt;dbl&gt;</th><th scope=col>&lt;dbl&gt;</th><th scope=col>&lt;dbl&gt;</th><th scope=col>&lt;dbl&gt;</th><th scope=col>&lt;dbl&gt;</th><th scope=col>&lt;dbl&gt;</th></tr>\n",
       "</thead>\n",
       "<tbody>\n",
       "\t<tr><th scope=row>a[1]</th><td> 0.8854088</td><td>0.016078884</td><td> 0.86031606</td><td> 0.91209264</td><td> 527.5777</td><td>0.9988747</td></tr>\n",
       "\t<tr><th scope=row>a[2]</th><td> 1.0499993</td><td>0.009157043</td><td> 1.03569445</td><td> 1.06470775</td><td>1035.8161</td><td>0.9982557</td></tr>\n",
       "\t<tr><th scope=row>b[1]</th><td> 0.1316504</td><td>0.075116523</td><td> 0.01501769</td><td> 0.25690069</td><td> 696.1349</td><td>0.9982359</td></tr>\n",
       "\t<tr><th scope=row>b[2]</th><td>-0.1436957</td><td>0.054802349</td><td>-0.23072472</td><td>-0.06111223</td><td> 496.5020</td><td>1.0001049</td></tr>\n",
       "\t<tr><th scope=row>sigma</th><td> 0.1113644</td><td>0.006055662</td><td> 0.10168556</td><td> 0.12014160</td><td> 947.5646</td><td>1.0002476</td></tr>\n",
       "</tbody>\n",
       "</table>\n"
      ],
      "text/latex": [
       "A precis: 5 × 6\n",
       "\\begin{tabular}{r|llllll}\n",
       "  & mean & sd & 5.5\\% & 94.5\\% & n\\_eff & Rhat4\\\\\n",
       "  & <dbl> & <dbl> & <dbl> & <dbl> & <dbl> & <dbl>\\\\\n",
       "\\hline\n",
       "\ta{[}1{]} &  0.8854088 & 0.016078884 &  0.86031606 &  0.91209264 &  527.5777 & 0.9988747\\\\\n",
       "\ta{[}2{]} &  1.0499993 & 0.009157043 &  1.03569445 &  1.06470775 & 1035.8161 & 0.9982557\\\\\n",
       "\tb{[}1{]} &  0.1316504 & 0.075116523 &  0.01501769 &  0.25690069 &  696.1349 & 0.9982359\\\\\n",
       "\tb{[}2{]} & -0.1436957 & 0.054802349 & -0.23072472 & -0.06111223 &  496.5020 & 1.0001049\\\\\n",
       "\tsigma &  0.1113644 & 0.006055662 &  0.10168556 &  0.12014160 &  947.5646 & 1.0002476\\\\\n",
       "\\end{tabular}\n"
      ],
      "text/markdown": [
       "\n",
       "A precis: 5 × 6\n",
       "\n",
       "| <!--/--> | mean &lt;dbl&gt; | sd &lt;dbl&gt; | 5.5% &lt;dbl&gt; | 94.5% &lt;dbl&gt; | n_eff &lt;dbl&gt; | Rhat4 &lt;dbl&gt; |\n",
       "|---|---|---|---|---|---|---|\n",
       "| a[1] |  0.8854088 | 0.016078884 |  0.86031606 |  0.91209264 |  527.5777 | 0.9988747 |\n",
       "| a[2] |  1.0499993 | 0.009157043 |  1.03569445 |  1.06470775 | 1035.8161 | 0.9982557 |\n",
       "| b[1] |  0.1316504 | 0.075116523 |  0.01501769 |  0.25690069 |  696.1349 | 0.9982359 |\n",
       "| b[2] | -0.1436957 | 0.054802349 | -0.23072472 | -0.06111223 |  496.5020 | 1.0001049 |\n",
       "| sigma |  0.1113644 | 0.006055662 |  0.10168556 |  0.12014160 |  947.5646 | 1.0002476 |\n",
       "\n"
      ],
      "text/plain": [
       "      mean       sd          5.5%        94.5%       n_eff     Rhat4    \n",
       "a[1]   0.8854088 0.016078884  0.86031606  0.91209264  527.5777 0.9988747\n",
       "a[2]   1.0499993 0.009157043  1.03569445  1.06470775 1035.8161 0.9982557\n",
       "b[1]   0.1316504 0.075116523  0.01501769  0.25690069  696.1349 0.9982359\n",
       "b[2]  -0.1436957 0.054802349 -0.23072472 -0.06111223  496.5020 1.0001049\n",
       "sigma  0.1113644 0.006055662  0.10168556  0.12014160  947.5646 1.0002476"
      ]
     },
     "metadata": {},
     "output_type": "display_data"
    }
   ],
   "source": [
    "precis(m_warmup_1500, depth=2)"
   ]
  },
  {
   "cell_type": "markdown",
   "id": "dfeab1c0-1f77-49da-a90e-b0afec603811",
   "metadata": {},
   "source": [
    "n_eff is significantly lower when warmup increases, which means the samping is much more efficient"
   ]
  },
  {
   "cell_type": "markdown",
   "id": "8c9266e5-034f-4897-98ac-a1805e948281",
   "metadata": {},
   "source": [
    "### 9H1.\n",
    "\n",
    "Run the model below and then inspect the posterior distribution and explain what it is accomplishing."
   ]
  },
  {
   "cell_type": "code",
   "execution_count": 42,
   "id": "96265c96-52e5-453d-a053-97e092810fb2",
   "metadata": {},
   "outputs": [
    {
     "name": "stdout",
     "output_type": "stream",
     "text": [
      "Running MCMC with 1 chain, with 1 thread(s) per chain...\n",
      "\n",
      "Chain 1 Iteration:   1 / 1000 [  0%]  (Warmup) \n",
      "Chain 1 Iteration: 100 / 1000 [ 10%]  (Warmup) \n",
      "Chain 1 Iteration: 200 / 1000 [ 20%]  (Warmup) \n",
      "Chain 1 Iteration: 300 / 1000 [ 30%]  (Warmup) \n",
      "Chain 1 Iteration: 400 / 1000 [ 40%]  (Warmup) \n",
      "Chain 1 Iteration: 500 / 1000 [ 50%]  (Warmup) \n",
      "Chain 1 Iteration: 501 / 1000 [ 50%]  (Sampling) \n",
      "Chain 1 Iteration: 600 / 1000 [ 60%]  (Sampling) \n",
      "Chain 1 Iteration: 700 / 1000 [ 70%]  (Sampling) \n",
      "Chain 1 Iteration: 800 / 1000 [ 80%]  (Sampling) \n",
      "Chain 1 Iteration: 900 / 1000 [ 90%]  (Sampling) \n",
      "Chain 1 Iteration: 1000 / 1000 [100%]  (Sampling) \n",
      "Chain 1 finished in 0.1 seconds.\n"
     ]
    }
   ],
   "source": [
    "mp <- ulam(\n",
    "    alist(\n",
    "        a ~ dnorm(0,1), \n",
    "        b ~ dcauchy(0, 1)\n",
    "        ), data = list(y=1), chains = 1)"
   ]
  },
  {
   "cell_type": "code",
   "execution_count": 43,
   "id": "0efc927f-0714-4e8a-ba3d-410dce3c0fcb",
   "metadata": {},
   "outputs": [
    {
     "data": {
      "text/html": [
       "<table class=\"dataframe\">\n",
       "<caption>A precis: 2 × 6</caption>\n",
       "<thead>\n",
       "\t<tr><th></th><th scope=col>mean</th><th scope=col>sd</th><th scope=col>5.5%</th><th scope=col>94.5%</th><th scope=col>n_eff</th><th scope=col>Rhat4</th></tr>\n",
       "\t<tr><th></th><th scope=col>&lt;dbl&gt;</th><th scope=col>&lt;dbl&gt;</th><th scope=col>&lt;dbl&gt;</th><th scope=col>&lt;dbl&gt;</th><th scope=col>&lt;dbl&gt;</th><th scope=col>&lt;dbl&gt;</th></tr>\n",
       "</thead>\n",
       "<tbody>\n",
       "\t<tr><th scope=row>a</th><td>-0.008604581</td><td>1.076741</td><td>-1.865394</td><td>1.527486</td><td> 66.44636</td><td>1.0124298</td></tr>\n",
       "\t<tr><th scope=row>b</th><td> 0.215047445</td><td>9.989682</td><td>-6.112007</td><td>5.447397</td><td>448.98373</td><td>0.9980239</td></tr>\n",
       "</tbody>\n",
       "</table>\n"
      ],
      "text/latex": [
       "A precis: 2 × 6\n",
       "\\begin{tabular}{r|llllll}\n",
       "  & mean & sd & 5.5\\% & 94.5\\% & n\\_eff & Rhat4\\\\\n",
       "  & <dbl> & <dbl> & <dbl> & <dbl> & <dbl> & <dbl>\\\\\n",
       "\\hline\n",
       "\ta & -0.008604581 & 1.076741 & -1.865394 & 1.527486 &  66.44636 & 1.0124298\\\\\n",
       "\tb &  0.215047445 & 9.989682 & -6.112007 & 5.447397 & 448.98373 & 0.9980239\\\\\n",
       "\\end{tabular}\n"
      ],
      "text/markdown": [
       "\n",
       "A precis: 2 × 6\n",
       "\n",
       "| <!--/--> | mean &lt;dbl&gt; | sd &lt;dbl&gt; | 5.5% &lt;dbl&gt; | 94.5% &lt;dbl&gt; | n_eff &lt;dbl&gt; | Rhat4 &lt;dbl&gt; |\n",
       "|---|---|---|---|---|---|---|\n",
       "| a | -0.008604581 | 1.076741 | -1.865394 | 1.527486 |  66.44636 | 1.0124298 |\n",
       "| b |  0.215047445 | 9.989682 | -6.112007 | 5.447397 | 448.98373 | 0.9980239 |\n",
       "\n"
      ],
      "text/plain": [
       "  mean         sd       5.5%      94.5%    n_eff     Rhat4    \n",
       "a -0.008604581 1.076741 -1.865394 1.527486  66.44636 1.0124298\n",
       "b  0.215047445 9.989682 -6.112007 5.447397 448.98373 0.9980239"
      ]
     },
     "metadata": {},
     "output_type": "display_data"
    }
   ],
   "source": [
    "precis(mp)"
   ]
  },
  {
   "cell_type": "markdown",
   "id": "2c41bb53-6a1c-49df-8a9f-559cb455e1fd",
   "metadata": {},
   "source": [
    "basically the code is giving one data point 1, there is no likelihood, just priors. Not entirely sure what the MCMC is doing, it should just show the same posterior as the prior since no likelihood"
   ]
  },
  {
   "cell_type": "code",
   "execution_count": 45,
   "id": "63a29176-2c1b-40b2-998c-03bcf4ab204a",
   "metadata": {},
   "outputs": [
    {
     "data": {
      "image/png": "[encoded data removed]",
      "text/plain": [
       "plot without title"
      ]
     },
     "metadata": {
      "image/png": {
       "height": 420,
       "width": 420
      }
     },
     "output_type": "display_data"
    }
   ],
   "source": [
    "traceplot(mp)"
   ]
  },
  {
   "cell_type": "code",
   "execution_count": 47,
   "id": "61a92d64-a246-447b-96dd-f03935939ef5",
   "metadata": {},
   "outputs": [
    {
     "name": "stderr",
     "output_type": "stream",
     "text": [
      "Warning message in par(usr):\n",
      "“argument 1 does not name a graphical parameter”\n",
      "Warning message in par(usr):\n",
      "“argument 1 does not name a graphical parameter”\n"
     ]
    },
    {
     "data": {
      "image/png": "[encoded data removed]",
      "text/plain": [
       "plot without title"
      ]
     },
     "metadata": {
      "image/png": {
       "height": 420,
       "width": 420
      }
     },
     "output_type": "display_data"
    }
   ],
   "source": [
    "pairs(mp)"
   ]
  },
  {
   "cell_type": "markdown",
   "id": "1f191859-aff4-4719-8d6e-0af36bde950d",
   "metadata": {},
   "source": [
    "For b it makes no sense, we are just getting extreme values. We get a very sharp value for b posterior (same as prior). Cauchy distribution has no mean (1st moment) or variance (2nd moment). It is a pathological distribution. Therefore it does not satisfy the CLT, and MCMC cannot work "
   ]
  },
  {
   "cell_type": "markdown",
   "id": "0ea06c3c-63ef-4e07-9301-26707503abd1",
   "metadata": {},
   "source": [
    "### 9H2.\n",
    "Recall the divorce rate example from Chapter 5. Repeat that analysis, using ulam this time,\n",
    "fitting models m5.1, m5.2, and m5.3. Use compare to compare the models on the basis of WAIC\n",
    "or PSIS. To use WAIC or PSIS with ulam, you need add the argument log_log=TRUE. Explain the\n",
    "model comparison results."
   ]
  },
  {
   "cell_type": "code",
   "execution_count": 48,
   "id": "325ca1c1-9556-4561-99f2-ef2e455314c0",
   "metadata": {},
   "outputs": [],
   "source": [
    "library(rethinking)\n",
    "data(WaffleDivorce)\n",
    "d <- WaffleDivorce"
   ]
  },
  {
   "cell_type": "code",
   "execution_count": 49,
   "id": "9d0bf375-4a4a-4b80-91c1-72ae65c34f06",
   "metadata": {},
   "outputs": [],
   "source": [
    "d$D <- standardize( d$Divorce )\n",
    "d$M <- standardize( d$Marriage )\n",
    "d$A <- standardize( d$MedianAgeMarriage )"
   ]
  },
  {
   "cell_type": "code",
   "execution_count": 52,
   "id": "ce0e0391-d1b6-4d62-8173-26cca7ca3404",
   "metadata": {},
   "outputs": [],
   "source": [
    "dat_slim <- list(\n",
    "    D = d$D,\n",
    "    M = d$M,\n",
    "    A = d$A\n",
    ")"
   ]
  },
  {
   "cell_type": "code",
   "execution_count": 65,
   "id": "d44e1df0-a6ee-4cc9-a214-2007de5c7d24",
   "metadata": {},
   "outputs": [
    {
     "name": "stdout",
     "output_type": "stream",
     "text": [
      "Running MCMC with 4 parallel chains, with 1 thread(s) per chain...\n",
      "\n",
      "Chain 1 Iteration:   1 / 1000 [  0%]  (Warmup) \n",
      "Chain 1 Iteration: 100 / 1000 [ 10%]  (Warmup) \n",
      "Chain 1 Iteration: 200 / 1000 [ 20%]  (Warmup) \n",
      "Chain 1 Iteration: 300 / 1000 [ 30%]  (Warmup) \n",
      "Chain 1 Iteration: 400 / 1000 [ 40%]  (Warmup) \n",
      "Chain 1 Iteration: 500 / 1000 [ 50%]  (Warmup) \n",
      "Chain 1 Iteration: 501 / 1000 [ 50%]  (Sampling) \n",
      "Chain 1 Iteration: 600 / 1000 [ 60%]  (Sampling) \n",
      "Chain 1 Iteration: 700 / 1000 [ 70%]  (Sampling) \n",
      "Chain 1 Iteration: 800 / 1000 [ 80%]  (Sampling) \n",
      "Chain 1 Iteration: 900 / 1000 [ 90%]  (Sampling) \n",
      "Chain 1 Iteration: 1000 / 1000 [100%]  (Sampling) \n",
      "Chain 2 Iteration:   1 / 1000 [  0%]  (Warmup) \n",
      "Chain 2 Iteration: 100 / 1000 [ 10%]  (Warmup) \n",
      "Chain 2 Iteration: 200 / 1000 [ 20%]  (Warmup) \n",
      "Chain 2 Iteration: 300 / 1000 [ 30%]  (Warmup) \n",
      "Chain 2 Iteration: 400 / 1000 [ 40%]  (Warmup) \n",
      "Chain 2 Iteration: 500 / 1000 [ 50%]  (Warmup) \n",
      "Chain 2 Iteration: 501 / 1000 [ 50%]  (Sampling) \n",
      "Chain 2 Iteration: 600 / 1000 [ 60%]  (Sampling) \n",
      "Chain 2 Iteration: 700 / 1000 [ 70%]  (Sampling) \n",
      "Chain 2 Iteration: 800 / 1000 [ 80%]  (Sampling) \n",
      "Chain 2 Iteration: 900 / 1000 [ 90%]  (Sampling) \n",
      "Chain 2 Iteration: 1000 / 1000 [100%]  (Sampling) \n",
      "Chain 3 Iteration:   1 / 1000 [  0%]  (Warmup) \n",
      "Chain 3 Iteration: 100 / 1000 [ 10%]  (Warmup) \n",
      "Chain 3 Iteration: 200 / 1000 [ 20%]  (Warmup) \n",
      "Chain 3 Iteration: 300 / 1000 [ 30%]  (Warmup) \n",
      "Chain 3 Iteration: 400 / 1000 [ 40%]  (Warmup) \n",
      "Chain 3 Iteration: 500 / 1000 [ 50%]  (Warmup) \n",
      "Chain 3 Iteration: 501 / 1000 [ 50%]  (Sampling) \n",
      "Chain 3 Iteration: 600 / 1000 [ 60%]  (Sampling) \n",
      "Chain 3 Iteration: 700 / 1000 [ 70%]  (Sampling) \n",
      "Chain 3 Iteration: 800 / 1000 [ 80%]  (Sampling) \n",
      "Chain 3 Iteration: 900 / 1000 [ 90%]  (Sampling) \n",
      "Chain 3 Iteration: 1000 / 1000 [100%]  (Sampling) \n",
      "Chain 4 Iteration:   1 / 1000 [  0%]  (Warmup) \n",
      "Chain 4 Iteration: 100 / 1000 [ 10%]  (Warmup) \n",
      "Chain 4 Iteration: 200 / 1000 [ 20%]  (Warmup) \n",
      "Chain 4 Iteration: 300 / 1000 [ 30%]  (Warmup) \n",
      "Chain 4 Iteration: 400 / 1000 [ 40%]  (Warmup) \n",
      "Chain 4 Iteration: 500 / 1000 [ 50%]  (Warmup) \n",
      "Chain 4 Iteration: 501 / 1000 [ 50%]  (Sampling) \n",
      "Chain 4 Iteration: 600 / 1000 [ 60%]  (Sampling) \n",
      "Chain 4 Iteration: 700 / 1000 [ 70%]  (Sampling) \n",
      "Chain 4 Iteration: 800 / 1000 [ 80%]  (Sampling) \n",
      "Chain 4 Iteration: 900 / 1000 [ 90%]  (Sampling) \n",
      "Chain 4 Iteration: 1000 / 1000 [100%]  (Sampling) \n",
      "Chain 1 finished in 0.0 seconds.\n",
      "Chain 2 finished in 0.0 seconds.\n",
      "Chain 3 finished in 0.0 seconds.\n",
      "Chain 4 finished in 0.0 seconds.\n",
      "\n",
      "All 4 chains finished successfully.\n",
      "Mean chain execution time: 0.0 seconds.\n",
      "Total execution time: 0.2 seconds.\n",
      "\n"
     ]
    }
   ],
   "source": [
    "m5.1 <- ulam(\n",
    "    alist(\n",
    "        D ~ dnorm( mu , sigma ) ,\n",
    "        mu <- a + bA * A ,\n",
    "        a ~ dnorm( 0 , 0.2 ) ,\n",
    "        bA ~ dnorm( 0 , 0.5 ) ,\n",
    "        sigma ~ dexp( 1 )\n",
    "    ) , data = dat_slim, chain = 4, core=4, log_lik=TRUE)"
   ]
  },
  {
   "cell_type": "code",
   "execution_count": 66,
   "id": "65e2bcf5-638d-4f5e-9a7a-e9c60365ea3e",
   "metadata": {},
   "outputs": [
    {
     "name": "stdout",
     "output_type": "stream",
     "text": [
      "Running MCMC with 4 parallel chains, with 1 thread(s) per chain...\n",
      "\n",
      "Chain 1 Iteration:   1 / 1000 [  0%]  (Warmup) \n",
      "Chain 1 Iteration: 100 / 1000 [ 10%]  (Warmup) \n",
      "Chain 1 Iteration: 200 / 1000 [ 20%]  (Warmup) \n",
      "Chain 1 Iteration: 300 / 1000 [ 30%]  (Warmup) \n",
      "Chain 1 Iteration: 400 / 1000 [ 40%]  (Warmup) \n",
      "Chain 1 Iteration: 500 / 1000 [ 50%]  (Warmup) \n",
      "Chain 1 Iteration: 501 / 1000 [ 50%]  (Sampling) \n",
      "Chain 1 Iteration: 600 / 1000 [ 60%]  (Sampling) \n",
      "Chain 1 Iteration: 700 / 1000 [ 70%]  (Sampling) \n",
      "Chain 1 Iteration: 800 / 1000 [ 80%]  (Sampling) \n",
      "Chain 1 Iteration: 900 / 1000 [ 90%]  (Sampling) \n",
      "Chain 1 Iteration: 1000 / 1000 [100%]  (Sampling) \n",
      "Chain 2 Iteration:   1 / 1000 [  0%]  (Warmup) \n",
      "Chain 2 Iteration: 100 / 1000 [ 10%]  (Warmup) \n",
      "Chain 2 Iteration: 200 / 1000 [ 20%]  (Warmup) \n",
      "Chain 2 Iteration: 300 / 1000 [ 30%]  (Warmup) \n",
      "Chain 2 Iteration: 400 / 1000 [ 40%]  (Warmup) \n",
      "Chain 2 Iteration: 500 / 1000 [ 50%]  (Warmup) \n",
      "Chain 2 Iteration: 501 / 1000 [ 50%]  (Sampling) \n",
      "Chain 2 Iteration: 600 / 1000 [ 60%]  (Sampling) \n",
      "Chain 2 Iteration: 700 / 1000 [ 70%]  (Sampling) \n",
      "Chain 2 Iteration: 800 / 1000 [ 80%]  (Sampling) \n",
      "Chain 2 Iteration: 900 / 1000 [ 90%]  (Sampling) \n",
      "Chain 2 Iteration: 1000 / 1000 [100%]  (Sampling) \n"
     ]
    },
    {
     "name": "stderr",
     "output_type": "stream",
     "text": [
      "Chain 2 Informational Message: The current Metropolis proposal is about to be rejected because of the following issue:\n",
      "\n",
      "Chain 2 Exception: normal_lpdf: Scale parameter is 0, but must be positive! (in '/tmp/RtmpEea6Tu/model-24772cb557c1.stan', line 19, column 4 to column 29)\n",
      "\n",
      "Chain 2 If this warning occurs sporadically, such as for highly constrained variable types like covariance matrices, then the sampler is fine,\n",
      "\n",
      "Chain 2 but if this warning occurs often then your model may be either severely ill-conditioned or misspecified.\n",
      "\n",
      "Chain 2 \n",
      "\n"
     ]
    },
    {
     "name": "stdout",
     "output_type": "stream",
     "text": [
      "Chain 3 Iteration:   1 / 1000 [  0%]  (Warmup) \n",
      "Chain 3 Iteration: 100 / 1000 [ 10%]  (Warmup) \n",
      "Chain 3 Iteration: 200 / 1000 [ 20%]  (Warmup) \n",
      "Chain 3 Iteration: 300 / 1000 [ 30%]  (Warmup) \n",
      "Chain 3 Iteration: 400 / 1000 [ 40%]  (Warmup) \n",
      "Chain 3 Iteration: 500 / 1000 [ 50%]  (Warmup) \n",
      "Chain 3 Iteration: 501 / 1000 [ 50%]  (Sampling) \n",
      "Chain 3 Iteration: 600 / 1000 [ 60%]  (Sampling) \n",
      "Chain 3 Iteration: 700 / 1000 [ 70%]  (Sampling) \n",
      "Chain 3 Iteration: 800 / 1000 [ 80%]  (Sampling) \n",
      "Chain 3 Iteration: 900 / 1000 [ 90%]  (Sampling) \n",
      "Chain 3 Iteration: 1000 / 1000 [100%]  (Sampling) \n",
      "Chain 4 Iteration:   1 / 1000 [  0%]  (Warmup) \n",
      "Chain 4 Iteration: 100 / 1000 [ 10%]  (Warmup) \n",
      "Chain 4 Iteration: 200 / 1000 [ 20%]  (Warmup) \n",
      "Chain 4 Iteration: 300 / 1000 [ 30%]  (Warmup) \n",
      "Chain 4 Iteration: 400 / 1000 [ 40%]  (Warmup) \n",
      "Chain 4 Iteration: 500 / 1000 [ 50%]  (Warmup) \n",
      "Chain 4 Iteration: 501 / 1000 [ 50%]  (Sampling) \n",
      "Chain 4 Iteration: 600 / 1000 [ 60%]  (Sampling) \n",
      "Chain 4 Iteration: 700 / 1000 [ 70%]  (Sampling) \n",
      "Chain 4 Iteration: 800 / 1000 [ 80%]  (Sampling) \n",
      "Chain 4 Iteration: 900 / 1000 [ 90%]  (Sampling) \n",
      "Chain 4 Iteration: 1000 / 1000 [100%]  (Sampling) \n",
      "Chain 1 finished in 0.0 seconds.\n",
      "Chain 2 finished in 0.0 seconds.\n",
      "Chain 3 finished in 0.0 seconds.\n",
      "Chain 4 finished in 0.0 seconds.\n",
      "\n",
      "All 4 chains finished successfully.\n",
      "Mean chain execution time: 0.0 seconds.\n",
      "Total execution time: 0.2 seconds.\n",
      "\n"
     ]
    }
   ],
   "source": [
    "m5.2 <- ulam(\n",
    "    alist(\n",
    "        D ~ dnorm( mu , sigma ) ,\n",
    "        mu <- a + bM * M ,\n",
    "        a ~ dnorm( 0 , 0.2 ) ,\n",
    "        bM ~ dnorm( 0 , 0.5 ) ,\n",
    "        sigma ~ dexp( 1 )\n",
    "    ) , data = dat_slim, chain=4, core=4, log_lik=TRUE)\n"
   ]
  },
  {
   "cell_type": "code",
   "execution_count": 64,
   "id": "491e61a2-9212-488c-8bf8-570237af474d",
   "metadata": {},
   "outputs": [
    {
     "name": "stdout",
     "output_type": "stream",
     "text": [
      "Running MCMC with 4 parallel chains, with 1 thread(s) per chain...\n",
      "\n",
      "Chain 1 Iteration:   1 / 1000 [  0%]  (Warmup) \n",
      "Chain 1 Iteration: 100 / 1000 [ 10%]  (Warmup) \n",
      "Chain 1 Iteration: 200 / 1000 [ 20%]  (Warmup) \n",
      "Chain 1 Iteration: 300 / 1000 [ 30%]  (Warmup) \n",
      "Chain 1 Iteration: 400 / 1000 [ 40%]  (Warmup) \n",
      "Chain 1 Iteration: 500 / 1000 [ 50%]  (Warmup) \n",
      "Chain 1 Iteration: 501 / 1000 [ 50%]  (Sampling) \n",
      "Chain 1 Iteration: 600 / 1000 [ 60%]  (Sampling) \n",
      "Chain 1 Iteration: 700 / 1000 [ 70%]  (Sampling) \n",
      "Chain 1 Iteration: 800 / 1000 [ 80%]  (Sampling) \n",
      "Chain 1 Iteration: 900 / 1000 [ 90%]  (Sampling) \n",
      "Chain 1 Iteration: 1000 / 1000 [100%]  (Sampling) \n",
      "Chain 2 Iteration:   1 / 1000 [  0%]  (Warmup) \n",
      "Chain 2 Iteration: 100 / 1000 [ 10%]  (Warmup) \n",
      "Chain 2 Iteration: 200 / 1000 [ 20%]  (Warmup) \n",
      "Chain 2 Iteration: 300 / 1000 [ 30%]  (Warmup) \n",
      "Chain 2 Iteration: 400 / 1000 [ 40%]  (Warmup) \n",
      "Chain 2 Iteration: 500 / 1000 [ 50%]  (Warmup) \n",
      "Chain 2 Iteration: 501 / 1000 [ 50%]  (Sampling) \n",
      "Chain 2 Iteration: 600 / 1000 [ 60%]  (Sampling) \n",
      "Chain 2 Iteration: 700 / 1000 [ 70%]  (Sampling) \n",
      "Chain 2 Iteration: 800 / 1000 [ 80%]  (Sampling) \n",
      "Chain 2 Iteration: 900 / 1000 [ 90%]  (Sampling) \n",
      "Chain 2 Iteration: 1000 / 1000 [100%]  (Sampling) \n",
      "Chain 3 Iteration:   1 / 1000 [  0%]  (Warmup) \n",
      "Chain 3 Iteration: 100 / 1000 [ 10%]  (Warmup) \n",
      "Chain 3 Iteration: 200 / 1000 [ 20%]  (Warmup) \n",
      "Chain 3 Iteration: 300 / 1000 [ 30%]  (Warmup) \n",
      "Chain 3 Iteration: 400 / 1000 [ 40%]  (Warmup) \n",
      "Chain 3 Iteration: 500 / 1000 [ 50%]  (Warmup) \n",
      "Chain 3 Iteration: 501 / 1000 [ 50%]  (Sampling) \n",
      "Chain 3 Iteration: 600 / 1000 [ 60%]  (Sampling) \n",
      "Chain 3 Iteration: 700 / 1000 [ 70%]  (Sampling) \n",
      "Chain 3 Iteration: 800 / 1000 [ 80%]  (Sampling) \n",
      "Chain 3 Iteration: 900 / 1000 [ 90%]  (Sampling) \n",
      "Chain 3 Iteration: 1000 / 1000 [100%]  (Sampling) \n",
      "Chain 4 Iteration:   1 / 1000 [  0%]  (Warmup) \n",
      "Chain 4 Iteration: 100 / 1000 [ 10%]  (Warmup) \n",
      "Chain 4 Iteration: 200 / 1000 [ 20%]  (Warmup) \n",
      "Chain 4 Iteration: 300 / 1000 [ 30%]  (Warmup) \n",
      "Chain 4 Iteration: 400 / 1000 [ 40%]  (Warmup) \n",
      "Chain 4 Iteration: 500 / 1000 [ 50%]  (Warmup) \n",
      "Chain 4 Iteration: 501 / 1000 [ 50%]  (Sampling) \n",
      "Chain 4 Iteration: 600 / 1000 [ 60%]  (Sampling) \n",
      "Chain 4 Iteration: 700 / 1000 [ 70%]  (Sampling) \n",
      "Chain 4 Iteration: 800 / 1000 [ 80%]  (Sampling) \n",
      "Chain 4 Iteration: 900 / 1000 [ 90%]  (Sampling) \n",
      "Chain 4 Iteration: 1000 / 1000 [100%]  (Sampling) \n",
      "Chain 1 finished in 0.1 seconds.\n",
      "Chain 2 finished in 0.1 seconds.\n",
      "Chain 3 finished in 0.1 seconds.\n",
      "Chain 4 finished in 0.1 seconds.\n",
      "\n",
      "All 4 chains finished successfully.\n",
      "Mean chain execution time: 0.1 seconds.\n",
      "Total execution time: 0.2 seconds.\n",
      "\n"
     ]
    }
   ],
   "source": [
    "m5.3 <- ulam(\n",
    "    alist(\n",
    "        D ~ dnorm( mu , sigma ) ,\n",
    "        mu <- a + bM*M + bA*A ,\n",
    "        a ~ dnorm( 0 , 0.2 ) ,\n",
    "        bM ~ dnorm( 0 , 0.5 ) ,\n",
    "        bA ~ dnorm( 0 , 0.5 ) ,\n",
    "        sigma ~ dexp( 1 )\n",
    "    ) , data = dat_slim, core=4, chain=4, log_lik=TRUE )"
   ]
  },
  {
   "cell_type": "code",
   "execution_count": 67,
   "id": "b29be0ef-9c77-498e-82dd-e208a6e75b68",
   "metadata": {},
   "outputs": [
    {
     "data": {
      "text/html": [
       "<table class=\"dataframe\">\n",
       "<caption>A compareIC: 3 × 6</caption>\n",
       "<thead>\n",
       "\t<tr><th></th><th scope=col>WAIC</th><th scope=col>SE</th><th scope=col>dWAIC</th><th scope=col>dSE</th><th scope=col>pWAIC</th><th scope=col>weight</th></tr>\n",
       "\t<tr><th></th><th scope=col>&lt;dbl&gt;</th><th scope=col>&lt;dbl&gt;</th><th scope=col>&lt;dbl&gt;</th><th scope=col>&lt;dbl&gt;</th><th scope=col>&lt;dbl&gt;</th><th scope=col>&lt;dbl&gt;</th></tr>\n",
       "</thead>\n",
       "<tbody>\n",
       "\t<tr><th scope=row>m5.1</th><td>125.7554</td><td>12.715099</td><td> 0.00000</td><td>       NA</td><td>3.672628</td><td>0.7111513733</td></tr>\n",
       "\t<tr><th scope=row>m5.3</th><td>127.5641</td><td>12.676399</td><td> 1.80867</td><td>0.6811518</td><td>4.697154</td><td>0.2878818333</td></tr>\n",
       "\t<tr><th scope=row>m5.2</th><td>138.9567</td><td> 9.678592</td><td>13.20131</td><td>9.3304085</td><td>2.762444</td><td>0.0009667934</td></tr>\n",
       "</tbody>\n",
       "</table>\n"
      ],
      "text/latex": [
       "A compareIC: 3 × 6\n",
       "\\begin{tabular}{r|llllll}\n",
       "  & WAIC & SE & dWAIC & dSE & pWAIC & weight\\\\\n",
       "  & <dbl> & <dbl> & <dbl> & <dbl> & <dbl> & <dbl>\\\\\n",
       "\\hline\n",
       "\tm5.1 & 125.7554 & 12.715099 &  0.00000 &        NA & 3.672628 & 0.7111513733\\\\\n",
       "\tm5.3 & 127.5641 & 12.676399 &  1.80867 & 0.6811518 & 4.697154 & 0.2878818333\\\\\n",
       "\tm5.2 & 138.9567 &  9.678592 & 13.20131 & 9.3304085 & 2.762444 & 0.0009667934\\\\\n",
       "\\end{tabular}\n"
      ],
      "text/markdown": [
       "\n",
       "A compareIC: 3 × 6\n",
       "\n",
       "| <!--/--> | WAIC &lt;dbl&gt; | SE &lt;dbl&gt; | dWAIC &lt;dbl&gt; | dSE &lt;dbl&gt; | pWAIC &lt;dbl&gt; | weight &lt;dbl&gt; |\n",
       "|---|---|---|---|---|---|---|\n",
       "| m5.1 | 125.7554 | 12.715099 |  0.00000 |        NA | 3.672628 | 0.7111513733 |\n",
       "| m5.3 | 127.5641 | 12.676399 |  1.80867 | 0.6811518 | 4.697154 | 0.2878818333 |\n",
       "| m5.2 | 138.9567 |  9.678592 | 13.20131 | 9.3304085 | 2.762444 | 0.0009667934 |\n",
       "\n"
      ],
      "text/plain": [
       "     WAIC     SE        dWAIC    dSE       pWAIC    weight      \n",
       "m5.1 125.7554 12.715099  0.00000        NA 3.672628 0.7111513733\n",
       "m5.3 127.5641 12.676399  1.80867 0.6811518 4.697154 0.2878818333\n",
       "m5.2 138.9567  9.678592 13.20131 9.3304085 2.762444 0.0009667934"
      ]
     },
     "metadata": {},
     "output_type": "display_data"
    }
   ],
   "source": [
    "compare(m5.1, m5.2, m5.3, func = WAIC)"
   ]
  },
  {
   "cell_type": "markdown",
   "id": "5d8c9595-084b-4310-a901-4df6f3753a08",
   "metadata": {},
   "source": [
    "looks like m5.3 and m5.1 are practically the same. m5.2 is off by a lot, so Marriage isn't a predictor"
   ]
  },
  {
   "cell_type": "markdown",
   "id": "f4132ddb-0743-414f-a1cc-10b0bd16b264",
   "metadata": {},
   "source": [
    "### 9H3.\n",
    "\n",
    "Sometimes changing a prior for one parameter has unanticipated effects on other parameters.\n",
    "This is because when a parameter is highly correlated with another parameter in the posterior, the\n",
    "prior influences both parameters. Here’s an example to work and think through.\n",
    "\n",
    "Go back to the leg length example in Chapter 6 and use the code there to simulate height and\n",
    "leg lengths for 100 imagined individuals. Below is the model you fit before, resulting in a highly\n",
    "correlated posterior for the two beta parameters. This time, fit the model using ulam:"
   ]
  },
  {
   "cell_type": "code",
   "execution_count": 69,
   "id": "97c28aa7-dcf0-4d2d-97e3-555d29dfcf6e",
   "metadata": {},
   "outputs": [],
   "source": [
    "N <- 100                          # number of individuals\n",
    "set.seed(909)\n",
    "height <- rnorm(N,10,2)           # sim total height of each\n",
    "leg_prop <- runif(N,0.4,0.5)      # leg as proportion of height\n",
    "leg_left <- leg_prop*height +     # sim left leg as proportion + error\n",
    "    rnorm( N , 0 , 0.02 )\n",
    "leg_right <- leg_prop*height +    # sim right leg as proportion + error\n",
    "    rnorm( N , 0 , 0.02 )\n",
    "                                  # combine into data frame\n",
    "d <- data.frame(height,leg_left,leg_right)"
   ]
  },
  {
   "cell_type": "code",
   "execution_count": 70,
   "id": "45b13b61-1394-4a5b-a354-1eb98581521b",
   "metadata": {},
   "outputs": [
    {
     "name": "stdout",
     "output_type": "stream",
     "text": [
      "Running MCMC with 4 sequential chains...\n",
      "\n",
      "Chain 1 Iteration:   1 / 1000 [  0%]  (Warmup) \n",
      "Chain 1 Iteration: 100 / 1000 [ 10%]  (Warmup) \n",
      "Chain 1 Iteration: 200 / 1000 [ 20%]  (Warmup) \n",
      "Chain 1 Iteration: 300 / 1000 [ 30%]  (Warmup) \n",
      "Chain 1 Iteration: 400 / 1000 [ 40%]  (Warmup) \n",
      "Chain 1 Iteration: 500 / 1000 [ 50%]  (Warmup) \n",
      "Chain 1 Iteration: 501 / 1000 [ 50%]  (Sampling) \n",
      "Chain 1 Iteration: 600 / 1000 [ 60%]  (Sampling) \n",
      "Chain 1 Iteration: 700 / 1000 [ 70%]  (Sampling) \n",
      "Chain 1 Iteration: 800 / 1000 [ 80%]  (Sampling) \n",
      "Chain 1 Iteration: 900 / 1000 [ 90%]  (Sampling) \n",
      "Chain 1 Iteration: 1000 / 1000 [100%]  (Sampling) \n",
      "Chain 1 finished in 3.5 seconds.\n",
      "Chain 2 Iteration:   1 / 1000 [  0%]  (Warmup) \n",
      "Chain 2 Iteration: 100 / 1000 [ 10%]  (Warmup) \n",
      "Chain 2 Iteration: 200 / 1000 [ 20%]  (Warmup) \n",
      "Chain 2 Iteration: 300 / 1000 [ 30%]  (Warmup) \n",
      "Chain 2 Iteration: 400 / 1000 [ 40%]  (Warmup) \n",
      "Chain 2 Iteration: 500 / 1000 [ 50%]  (Warmup) \n",
      "Chain 2 Iteration: 501 / 1000 [ 50%]  (Sampling) \n",
      "Chain 2 Iteration: 600 / 1000 [ 60%]  (Sampling) \n",
      "Chain 2 Iteration: 700 / 1000 [ 70%]  (Sampling) \n",
      "Chain 2 Iteration: 800 / 1000 [ 80%]  (Sampling) \n",
      "Chain 2 Iteration: 900 / 1000 [ 90%]  (Sampling) \n",
      "Chain 2 Iteration: 1000 / 1000 [100%]  (Sampling) \n",
      "Chain 2 finished in 3.8 seconds.\n",
      "Chain 3 Iteration:   1 / 1000 [  0%]  (Warmup) \n",
      "Chain 3 Iteration: 100 / 1000 [ 10%]  (Warmup) \n",
      "Chain 3 Iteration: 200 / 1000 [ 20%]  (Warmup) \n",
      "Chain 3 Iteration: 300 / 1000 [ 30%]  (Warmup) \n",
      "Chain 3 Iteration: 400 / 1000 [ 40%]  (Warmup) \n",
      "Chain 3 Iteration: 500 / 1000 [ 50%]  (Warmup) \n",
      "Chain 3 Iteration: 501 / 1000 [ 50%]  (Sampling) \n",
      "Chain 3 Iteration: 600 / 1000 [ 60%]  (Sampling) \n",
      "Chain 3 Iteration: 700 / 1000 [ 70%]  (Sampling) \n",
      "Chain 3 Iteration: 800 / 1000 [ 80%]  (Sampling) \n",
      "Chain 3 Iteration: 900 / 1000 [ 90%]  (Sampling) \n",
      "Chain 3 Iteration: 1000 / 1000 [100%]  (Sampling) \n",
      "Chain 3 finished in 3.4 seconds.\n",
      "Chain 4 Iteration:   1 / 1000 [  0%]  (Warmup) \n",
      "Chain 4 Iteration: 100 / 1000 [ 10%]  (Warmup) \n",
      "Chain 4 Iteration: 200 / 1000 [ 20%]  (Warmup) \n",
      "Chain 4 Iteration: 300 / 1000 [ 30%]  (Warmup) \n",
      "Chain 4 Iteration: 400 / 1000 [ 40%]  (Warmup) \n",
      "Chain 4 Iteration: 500 / 1000 [ 50%]  (Warmup) \n",
      "Chain 4 Iteration: 501 / 1000 [ 50%]  (Sampling) \n",
      "Chain 4 Iteration: 600 / 1000 [ 60%]  (Sampling) \n",
      "Chain 4 Iteration: 700 / 1000 [ 70%]  (Sampling) \n",
      "Chain 4 Iteration: 800 / 1000 [ 80%]  (Sampling) \n",
      "Chain 4 Iteration: 900 / 1000 [ 90%]  (Sampling) \n",
      "Chain 4 Iteration: 1000 / 1000 [100%]  (Sampling) \n",
      "Chain 4 finished in 3.5 seconds.\n",
      "\n",
      "All 4 chains finished successfully.\n",
      "Mean chain execution time: 3.6 seconds.\n",
      "Total execution time: 14.5 seconds.\n",
      "\n"
     ]
    },
    {
     "name": "stderr",
     "output_type": "stream",
     "text": [
      "Warning: 25 of 2000 (1.0%) transitions hit the maximum treedepth limit of 11.\n",
      "See https://mc-stan.org/misc/warnings for details.\n",
      "\n",
      "\n"
     ]
    }
   ],
   "source": [
    "m5.8s <- ulam(\n",
    "    alist(\n",
    "        height ~ dnorm( mu , sigma ) ,\n",
    "        mu <- a + bl*leg_left + br*leg_right ,\n",
    "        a ~ dnorm( 10 , 100 ) ,\n",
    "        bl ~ dnorm( 2 , 10 ) ,\n",
    "        br ~ dnorm( 2 , 10 ) ,\n",
    "        sigma ~ dexp( 1 )\n",
    "    ) , data=d, chains=4,\n",
    "    start=list(a=10,bl=0,br=0.1,sigma=1) )"
   ]
  },
  {
   "cell_type": "code",
   "execution_count": 71,
   "id": "549986e9-5bd5-4c1e-b2ee-b24dd965e03d",
   "metadata": {},
   "outputs": [
    {
     "name": "stdout",
     "output_type": "stream",
     "text": [
      "Running MCMC with 4 sequential chains...\n",
      "\n",
      "Chain 1 Iteration:   1 / 1000 [  0%]  (Warmup) \n",
      "Chain 1 Iteration: 100 / 1000 [ 10%]  (Warmup) \n",
      "Chain 1 Iteration: 200 / 1000 [ 20%]  (Warmup) \n",
      "Chain 1 Iteration: 300 / 1000 [ 30%]  (Warmup) \n",
      "Chain 1 Iteration: 400 / 1000 [ 40%]  (Warmup) \n",
      "Chain 1 Iteration: 500 / 1000 [ 50%]  (Warmup) \n",
      "Chain 1 Iteration: 501 / 1000 [ 50%]  (Sampling) \n",
      "Chain 1 Iteration: 600 / 1000 [ 60%]  (Sampling) \n",
      "Chain 1 Iteration: 700 / 1000 [ 70%]  (Sampling) \n",
      "Chain 1 Iteration: 800 / 1000 [ 80%]  (Sampling) \n",
      "Chain 1 Iteration: 900 / 1000 [ 90%]  (Sampling) \n",
      "Chain 1 Iteration: 1000 / 1000 [100%]  (Sampling) \n",
      "Chain 1 finished in 3.8 seconds.\n",
      "Chain 2 Iteration:   1 / 1000 [  0%]  (Warmup) \n",
      "Chain 2 Iteration: 100 / 1000 [ 10%]  (Warmup) \n",
      "Chain 2 Iteration: 200 / 1000 [ 20%]  (Warmup) \n",
      "Chain 2 Iteration: 300 / 1000 [ 30%]  (Warmup) \n",
      "Chain 2 Iteration: 400 / 1000 [ 40%]  (Warmup) \n",
      "Chain 2 Iteration: 500 / 1000 [ 50%]  (Warmup) \n",
      "Chain 2 Iteration: 501 / 1000 [ 50%]  (Sampling) \n",
      "Chain 2 Iteration: 600 / 1000 [ 60%]  (Sampling) \n",
      "Chain 2 Iteration: 700 / 1000 [ 70%]  (Sampling) \n",
      "Chain 2 Iteration: 800 / 1000 [ 80%]  (Sampling) \n",
      "Chain 2 Iteration: 900 / 1000 [ 90%]  (Sampling) \n",
      "Chain 2 Iteration: 1000 / 1000 [100%]  (Sampling) \n",
      "Chain 2 finished in 3.2 seconds.\n",
      "Chain 3 Iteration:   1 / 1000 [  0%]  (Warmup) \n",
      "Chain 3 Iteration: 100 / 1000 [ 10%]  (Warmup) \n",
      "Chain 3 Iteration: 200 / 1000 [ 20%]  (Warmup) \n",
      "Chain 3 Iteration: 300 / 1000 [ 30%]  (Warmup) \n",
      "Chain 3 Iteration: 400 / 1000 [ 40%]  (Warmup) \n",
      "Chain 3 Iteration: 500 / 1000 [ 50%]  (Warmup) \n",
      "Chain 3 Iteration: 501 / 1000 [ 50%]  (Sampling) \n",
      "Chain 3 Iteration: 600 / 1000 [ 60%]  (Sampling) \n",
      "Chain 3 Iteration: 700 / 1000 [ 70%]  (Sampling) \n",
      "Chain 3 Iteration: 800 / 1000 [ 80%]  (Sampling) \n",
      "Chain 3 Iteration: 900 / 1000 [ 90%]  (Sampling) \n",
      "Chain 3 Iteration: 1000 / 1000 [100%]  (Sampling) \n",
      "Chain 3 finished in 4.4 seconds.\n",
      "Chain 4 Iteration:   1 / 1000 [  0%]  (Warmup) \n",
      "Chain 4 Iteration: 100 / 1000 [ 10%]  (Warmup) \n",
      "Chain 4 Iteration: 200 / 1000 [ 20%]  (Warmup) \n",
      "Chain 4 Iteration: 300 / 1000 [ 30%]  (Warmup) \n",
      "Chain 4 Iteration: 400 / 1000 [ 40%]  (Warmup) \n",
      "Chain 4 Iteration: 500 / 1000 [ 50%]  (Warmup) \n",
      "Chain 4 Iteration: 501 / 1000 [ 50%]  (Sampling) \n",
      "Chain 4 Iteration: 600 / 1000 [ 60%]  (Sampling) \n",
      "Chain 4 Iteration: 700 / 1000 [ 70%]  (Sampling) \n",
      "Chain 4 Iteration: 800 / 1000 [ 80%]  (Sampling) \n",
      "Chain 4 Iteration: 900 / 1000 [ 90%]  (Sampling) \n",
      "Chain 4 Iteration: 1000 / 1000 [100%]  (Sampling) \n",
      "Chain 4 finished in 4.8 seconds.\n",
      "\n",
      "All 4 chains finished successfully.\n",
      "Mean chain execution time: 4.0 seconds.\n",
      "Total execution time: 16.5 seconds.\n",
      "\n"
     ]
    },
    {
     "name": "stderr",
     "output_type": "stream",
     "text": [
      "Warning: 3 of 2000 (0.0%) transitions ended with a divergence.\n",
      "See https://mc-stan.org/misc/warnings for details.\n",
      "\n",
      "\n",
      "Warning: 219 of 2000 (11.0%) transitions hit the maximum treedepth limit of 11.\n",
      "See https://mc-stan.org/misc/warnings for details.\n",
      "\n",
      "\n"
     ]
    }
   ],
   "source": [
    "m5.8s2 <- ulam(\n",
    "    alist(\n",
    "        height ~ dnorm( mu , sigma ) ,\n",
    "        mu <- a + bl*leg_left + br*leg_right ,\n",
    "        a ~ dnorm( 10 , 100 ) ,\n",
    "        bl ~ dnorm( 2 , 10 ) ,\n",
    "        br ~ dnorm( 2 , 10 ) ,\n",
    "        sigma ~ dexp( 1 )\n",
    "    ) , data=d, chains=4,\n",
    "    constraints=list(br=\"lower=0\"),\n",
    "    start=list(a=10,bl=0,br=0.1,sigma=1) )"
   ]
  },
  {
   "cell_type": "code",
   "execution_count": 73,
   "id": "c84c7fbf-a453-4da9-a8d7-d219f1a9fee4",
   "metadata": {},
   "outputs": [
    {
     "name": "stderr",
     "output_type": "stream",
     "text": [
      "Warning message in par(usr):\n",
      "“argument 1 does not name a graphical parameter”\n",
      "Warning message in par(usr):\n",
      "“argument 1 does not name a graphical parameter”\n",
      "Warning message in par(usr):\n",
      "“argument 1 does not name a graphical parameter”\n",
      "Warning message in par(usr):\n",
      "“argument 1 does not name a graphical parameter”\n"
     ]
    },
    {
     "data": {
      "image/png": "[encoded data removed]",
      "text/plain": [
       "plot without title"
      ]
     },
     "metadata": {
      "image/png": {
       "height": 420,
       "width": 420
      }
     },
     "output_type": "display_data"
    }
   ],
   "source": [
    "pairs(m5.8s)"
   ]
  },
  {
   "cell_type": "code",
   "execution_count": 74,
   "id": "5dc837e7-250f-40a4-8c20-7cf7a38e4bed",
   "metadata": {},
   "outputs": [
    {
     "name": "stderr",
     "output_type": "stream",
     "text": [
      "Warning message in par(usr):\n",
      "“argument 1 does not name a graphical parameter”\n",
      "Warning message in par(usr):\n",
      "“argument 1 does not name a graphical parameter”\n",
      "Warning message in par(usr):\n",
      "“argument 1 does not name a graphical parameter”\n",
      "Warning message in par(usr):\n",
      "“argument 1 does not name a graphical parameter”\n"
     ]
    },
    {
     "data": {
      "image/png": "[encoded data removed]",
      "text/plain": [
       "plot without title"
      ]
     },
     "metadata": {
      "image/png": {
       "height": 420,
       "width": 420
      }
     },
     "output_type": "display_data"
    }
   ],
   "source": [
    "pairs(m5.8s2)"
   ]
  },
  {
   "cell_type": "markdown",
   "id": "74061059-93a9-4901-bd26-560de0ca66bf",
   "metadata": {},
   "source": [
    "br is now skewed to one side, constrained to be positive so it's very close to 0. Because bl and br are correlated, it means that the bl is also changing its posterior distribution to match that of br (i.e. being close to 0) and symmetrically have a heavier tail to the negative side. This is because bl and br are highly correlated (negatively so, looking at the pair plots)"
   ]
  },
  {
   "cell_type": "markdown",
   "id": "78b3e3ea-c590-4802-86e4-9140ae8739b6",
   "metadata": {},
   "source": [
    "### 9H4 \n",
    "For the two models fit in the previous problem, use WAIC or PSIS to compare the number of parameters for each model. You will need to use `log_lik = TRUE` to instruct `ulam` to compute the terms that both WAIC and PSIS need. Which model has more effective parameters and why?"
   ]
  },
  {
   "cell_type": "code",
   "execution_count": 75,
   "id": "8715ee3d-8252-479a-a915-fa68ecc37014",
   "metadata": {},
   "outputs": [
    {
     "name": "stdout",
     "output_type": "stream",
     "text": [
      "Running MCMC with 4 sequential chains...\n",
      "\n",
      "Chain 1 Iteration:   1 / 1000 [  0%]  (Warmup) \n",
      "Chain 1 Iteration: 100 / 1000 [ 10%]  (Warmup) \n",
      "Chain 1 Iteration: 200 / 1000 [ 20%]  (Warmup) \n",
      "Chain 1 Iteration: 300 / 1000 [ 30%]  (Warmup) \n",
      "Chain 1 Iteration: 400 / 1000 [ 40%]  (Warmup) \n",
      "Chain 1 Iteration: 500 / 1000 [ 50%]  (Warmup) \n",
      "Chain 1 Iteration: 501 / 1000 [ 50%]  (Sampling) \n",
      "Chain 1 Iteration: 600 / 1000 [ 60%]  (Sampling) \n",
      "Chain 1 Iteration: 700 / 1000 [ 70%]  (Sampling) \n",
      "Chain 1 Iteration: 800 / 1000 [ 80%]  (Sampling) \n",
      "Chain 1 Iteration: 900 / 1000 [ 90%]  (Sampling) \n",
      "Chain 1 Iteration: 1000 / 1000 [100%]  (Sampling) \n",
      "Chain 1 finished in 3.3 seconds.\n",
      "Chain 2 Iteration:   1 / 1000 [  0%]  (Warmup) \n",
      "Chain 2 Iteration: 100 / 1000 [ 10%]  (Warmup) \n",
      "Chain 2 Iteration: 200 / 1000 [ 20%]  (Warmup) \n",
      "Chain 2 Iteration: 300 / 1000 [ 30%]  (Warmup) \n",
      "Chain 2 Iteration: 400 / 1000 [ 40%]  (Warmup) \n",
      "Chain 2 Iteration: 500 / 1000 [ 50%]  (Warmup) \n",
      "Chain 2 Iteration: 501 / 1000 [ 50%]  (Sampling) \n",
      "Chain 2 Iteration: 600 / 1000 [ 60%]  (Sampling) \n",
      "Chain 2 Iteration: 700 / 1000 [ 70%]  (Sampling) \n",
      "Chain 2 Iteration: 800 / 1000 [ 80%]  (Sampling) \n",
      "Chain 2 Iteration: 900 / 1000 [ 90%]  (Sampling) \n",
      "Chain 2 Iteration: 1000 / 1000 [100%]  (Sampling) \n",
      "Chain 2 finished in 4.0 seconds.\n",
      "Chain 3 Iteration:   1 / 1000 [  0%]  (Warmup) \n",
      "Chain 3 Iteration: 100 / 1000 [ 10%]  (Warmup) \n",
      "Chain 3 Iteration: 200 / 1000 [ 20%]  (Warmup) \n",
      "Chain 3 Iteration: 300 / 1000 [ 30%]  (Warmup) \n",
      "Chain 3 Iteration: 400 / 1000 [ 40%]  (Warmup) \n",
      "Chain 3 Iteration: 500 / 1000 [ 50%]  (Warmup) \n",
      "Chain 3 Iteration: 501 / 1000 [ 50%]  (Sampling) \n",
      "Chain 3 Iteration: 600 / 1000 [ 60%]  (Sampling) \n",
      "Chain 3 Iteration: 700 / 1000 [ 70%]  (Sampling) \n",
      "Chain 3 Iteration: 800 / 1000 [ 80%]  (Sampling) \n",
      "Chain 3 Iteration: 900 / 1000 [ 90%]  (Sampling) \n",
      "Chain 3 Iteration: 1000 / 1000 [100%]  (Sampling) \n",
      "Chain 3 finished in 4.2 seconds.\n",
      "Chain 4 Iteration:   1 / 1000 [  0%]  (Warmup) \n",
      "Chain 4 Iteration: 100 / 1000 [ 10%]  (Warmup) \n",
      "Chain 4 Iteration: 200 / 1000 [ 20%]  (Warmup) \n",
      "Chain 4 Iteration: 300 / 1000 [ 30%]  (Warmup) \n",
      "Chain 4 Iteration: 400 / 1000 [ 40%]  (Warmup) \n",
      "Chain 4 Iteration: 500 / 1000 [ 50%]  (Warmup) \n",
      "Chain 4 Iteration: 501 / 1000 [ 50%]  (Sampling) \n",
      "Chain 4 Iteration: 600 / 1000 [ 60%]  (Sampling) \n",
      "Chain 4 Iteration: 700 / 1000 [ 70%]  (Sampling) \n",
      "Chain 4 Iteration: 800 / 1000 [ 80%]  (Sampling) \n",
      "Chain 4 Iteration: 900 / 1000 [ 90%]  (Sampling) \n",
      "Chain 4 Iteration: 1000 / 1000 [100%]  (Sampling) \n",
      "Chain 4 finished in 4.4 seconds.\n",
      "\n",
      "All 4 chains finished successfully.\n",
      "Mean chain execution time: 4.0 seconds.\n",
      "Total execution time: 16.2 seconds.\n",
      "\n"
     ]
    },
    {
     "name": "stderr",
     "output_type": "stream",
     "text": [
      "Warning: 154 of 2000 (8.0%) transitions hit the maximum treedepth limit of 11.\n",
      "See https://mc-stan.org/misc/warnings for details.\n",
      "\n",
      "\n"
     ]
    }
   ],
   "source": [
    "m5.8s <- ulam(\n",
    "    alist(\n",
    "        height ~ dnorm( mu , sigma ) ,\n",
    "        mu <- a + bl*leg_left + br*leg_right ,\n",
    "        a ~ dnorm( 10 , 100 ) ,\n",
    "        bl ~ dnorm( 2 , 10 ) ,\n",
    "        br ~ dnorm( 2 , 10 ) ,\n",
    "        sigma ~ dexp( 1 )\n",
    "    ) , data=d, chains=4,\n",
    "    start=list(a=10,bl=0,br=0.1,sigma=1), log_lik = TRUE )"
   ]
  },
  {
   "cell_type": "code",
   "execution_count": 76,
   "id": "e97c8de1-24c5-4773-9766-3dc536547e1c",
   "metadata": {},
   "outputs": [
    {
     "name": "stdout",
     "output_type": "stream",
     "text": [
      "Running MCMC with 4 sequential chains...\n",
      "\n",
      "Chain 1 Iteration:   1 / 1000 [  0%]  (Warmup) \n",
      "Chain 1 Iteration: 100 / 1000 [ 10%]  (Warmup) \n",
      "Chain 1 Iteration: 200 / 1000 [ 20%]  (Warmup) \n",
      "Chain 1 Iteration: 300 / 1000 [ 30%]  (Warmup) \n",
      "Chain 1 Iteration: 400 / 1000 [ 40%]  (Warmup) \n",
      "Chain 1 Iteration: 500 / 1000 [ 50%]  (Warmup) \n",
      "Chain 1 Iteration: 501 / 1000 [ 50%]  (Sampling) \n",
      "Chain 1 Iteration: 600 / 1000 [ 60%]  (Sampling) \n",
      "Chain 1 Iteration: 700 / 1000 [ 70%]  (Sampling) \n",
      "Chain 1 Iteration: 800 / 1000 [ 80%]  (Sampling) \n",
      "Chain 1 Iteration: 900 / 1000 [ 90%]  (Sampling) \n",
      "Chain 1 Iteration: 1000 / 1000 [100%]  (Sampling) \n",
      "Chain 1 finished in 3.3 seconds.\n",
      "Chain 2 Iteration:   1 / 1000 [  0%]  (Warmup) \n",
      "Chain 2 Iteration: 100 / 1000 [ 10%]  (Warmup) \n",
      "Chain 2 Iteration: 200 / 1000 [ 20%]  (Warmup) \n",
      "Chain 2 Iteration: 300 / 1000 [ 30%]  (Warmup) \n",
      "Chain 2 Iteration: 400 / 1000 [ 40%]  (Warmup) \n",
      "Chain 2 Iteration: 500 / 1000 [ 50%]  (Warmup) \n",
      "Chain 2 Iteration: 501 / 1000 [ 50%]  (Sampling) \n",
      "Chain 2 Iteration: 600 / 1000 [ 60%]  (Sampling) \n",
      "Chain 2 Iteration: 700 / 1000 [ 70%]  (Sampling) \n",
      "Chain 2 Iteration: 800 / 1000 [ 80%]  (Sampling) \n",
      "Chain 2 Iteration: 900 / 1000 [ 90%]  (Sampling) \n",
      "Chain 2 Iteration: 1000 / 1000 [100%]  (Sampling) \n",
      "Chain 2 finished in 3.0 seconds.\n",
      "Chain 3 Iteration:   1 / 1000 [  0%]  (Warmup) \n",
      "Chain 3 Iteration: 100 / 1000 [ 10%]  (Warmup) \n",
      "Chain 3 Iteration: 200 / 1000 [ 20%]  (Warmup) \n",
      "Chain 3 Iteration: 300 / 1000 [ 30%]  (Warmup) \n",
      "Chain 3 Iteration: 400 / 1000 [ 40%]  (Warmup) \n",
      "Chain 3 Iteration: 500 / 1000 [ 50%]  (Warmup) \n",
      "Chain 3 Iteration: 501 / 1000 [ 50%]  (Sampling) \n",
      "Chain 3 Iteration: 600 / 1000 [ 60%]  (Sampling) \n",
      "Chain 3 Iteration: 700 / 1000 [ 70%]  (Sampling) \n",
      "Chain 3 Iteration: 800 / 1000 [ 80%]  (Sampling) \n",
      "Chain 3 Iteration: 900 / 1000 [ 90%]  (Sampling) \n",
      "Chain 3 Iteration: 1000 / 1000 [100%]  (Sampling) \n",
      "Chain 3 finished in 4.3 seconds.\n",
      "Chain 4 Iteration:   1 / 1000 [  0%]  (Warmup) \n",
      "Chain 4 Iteration: 100 / 1000 [ 10%]  (Warmup) \n",
      "Chain 4 Iteration: 200 / 1000 [ 20%]  (Warmup) \n",
      "Chain 4 Iteration: 300 / 1000 [ 30%]  (Warmup) \n",
      "Chain 4 Iteration: 400 / 1000 [ 40%]  (Warmup) \n",
      "Chain 4 Iteration: 500 / 1000 [ 50%]  (Warmup) \n",
      "Chain 4 Iteration: 501 / 1000 [ 50%]  (Sampling) \n",
      "Chain 4 Iteration: 600 / 1000 [ 60%]  (Sampling) \n",
      "Chain 4 Iteration: 700 / 1000 [ 70%]  (Sampling) \n",
      "Chain 4 Iteration: 800 / 1000 [ 80%]  (Sampling) \n",
      "Chain 4 Iteration: 900 / 1000 [ 90%]  (Sampling) \n",
      "Chain 4 Iteration: 1000 / 1000 [100%]  (Sampling) \n",
      "Chain 4 finished in 3.5 seconds.\n",
      "\n",
      "All 4 chains finished successfully.\n",
      "Mean chain execution time: 3.5 seconds.\n",
      "Total execution time: 14.5 seconds.\n",
      "\n"
     ]
    },
    {
     "name": "stderr",
     "output_type": "stream",
     "text": [
      "Warning: 17 of 2000 (1.0%) transitions ended with a divergence.\n",
      "See https://mc-stan.org/misc/warnings for details.\n",
      "\n",
      "\n",
      "Warning: 135 of 2000 (7.0%) transitions hit the maximum treedepth limit of 11.\n",
      "See https://mc-stan.org/misc/warnings for details.\n",
      "\n",
      "\n"
     ]
    }
   ],
   "source": [
    "m5.8s2 <- ulam(\n",
    "    alist(\n",
    "        height ~ dnorm( mu , sigma ) ,\n",
    "        mu <- a + bl*leg_left + br*leg_right ,\n",
    "        a ~ dnorm( 10 , 100 ) ,\n",
    "        bl ~ dnorm( 2 , 10 ) ,\n",
    "        br ~ dnorm( 2 , 10 ) ,\n",
    "        sigma ~ dexp( 1 )\n",
    "    ) , data=d, chains=4,\n",
    "    constraints=list(br=\"lower=0\"),\n",
    "    start=list(a=10,bl=0,br=0.1,sigma=1), log_lik=TRUE)"
   ]
  },
  {
   "cell_type": "code",
   "execution_count": 77,
   "id": "d0f6faa1-4343-4a34-9ede-079f91ff1c38",
   "metadata": {},
   "outputs": [
    {
     "data": {
      "text/html": [
       "<table class=\"dataframe\">\n",
       "<caption>A compareIC: 2 × 6</caption>\n",
       "<thead>\n",
       "\t<tr><th></th><th scope=col>WAIC</th><th scope=col>SE</th><th scope=col>dWAIC</th><th scope=col>dSE</th><th scope=col>pWAIC</th><th scope=col>weight</th></tr>\n",
       "\t<tr><th></th><th scope=col>&lt;dbl&gt;</th><th scope=col>&lt;dbl&gt;</th><th scope=col>&lt;dbl&gt;</th><th scope=col>&lt;dbl&gt;</th><th scope=col>&lt;dbl&gt;</th><th scope=col>&lt;dbl&gt;</th></tr>\n",
       "</thead>\n",
       "<tbody>\n",
       "\t<tr><th scope=row>m5.8s2</th><td>194.6224</td><td>11.19411</td><td>0.0000000</td><td>       NA</td><td>2.922978</td><td>0.5527446</td></tr>\n",
       "\t<tr><th scope=row>m5.8s</th><td>195.0459</td><td>11.21739</td><td>0.4235328</td><td>0.6739588</td><td>3.168425</td><td>0.4472554</td></tr>\n",
       "</tbody>\n",
       "</table>\n"
      ],
      "text/latex": [
       "A compareIC: 2 × 6\n",
       "\\begin{tabular}{r|llllll}\n",
       "  & WAIC & SE & dWAIC & dSE & pWAIC & weight\\\\\n",
       "  & <dbl> & <dbl> & <dbl> & <dbl> & <dbl> & <dbl>\\\\\n",
       "\\hline\n",
       "\tm5.8s2 & 194.6224 & 11.19411 & 0.0000000 &        NA & 2.922978 & 0.5527446\\\\\n",
       "\tm5.8s & 195.0459 & 11.21739 & 0.4235328 & 0.6739588 & 3.168425 & 0.4472554\\\\\n",
       "\\end{tabular}\n"
      ],
      "text/markdown": [
       "\n",
       "A compareIC: 2 × 6\n",
       "\n",
       "| <!--/--> | WAIC &lt;dbl&gt; | SE &lt;dbl&gt; | dWAIC &lt;dbl&gt; | dSE &lt;dbl&gt; | pWAIC &lt;dbl&gt; | weight &lt;dbl&gt; |\n",
       "|---|---|---|---|---|---|---|\n",
       "| m5.8s2 | 194.6224 | 11.19411 | 0.0000000 |        NA | 2.922978 | 0.5527446 |\n",
       "| m5.8s | 195.0459 | 11.21739 | 0.4235328 | 0.6739588 | 3.168425 | 0.4472554 |\n",
       "\n"
      ],
      "text/plain": [
       "       WAIC     SE       dWAIC     dSE       pWAIC    weight   \n",
       "m5.8s2 194.6224 11.19411 0.0000000        NA 2.922978 0.5527446\n",
       "m5.8s  195.0459 11.21739 0.4235328 0.6739588 3.168425 0.4472554"
      ]
     },
     "metadata": {},
     "output_type": "display_data"
    }
   ],
   "source": [
    "compare(m5.8s, m5.8s2, func = WAIC)"
   ]
  },
  {
   "cell_type": "markdown",
   "id": "9d90674c-03e0-4fda-b5d8-6817ddbe72b6",
   "metadata": {},
   "source": [
    "the WAIC are similar, the two functions are doing the same"
   ]
  },
  {
   "cell_type": "code",
   "execution_count": 78,
   "id": "1d1f3ecd-67a7-4ee0-809c-8c2411d16bd5",
   "metadata": {},
   "outputs": [
    {
     "data": {
      "text/html": [
       "<table class=\"dataframe\">\n",
       "<caption>A precis: 4 × 6</caption>\n",
       "<thead>\n",
       "\t<tr><th></th><th scope=col>mean</th><th scope=col>sd</th><th scope=col>5.5%</th><th scope=col>94.5%</th><th scope=col>n_eff</th><th scope=col>Rhat4</th></tr>\n",
       "\t<tr><th></th><th scope=col>&lt;dbl&gt;</th><th scope=col>&lt;dbl&gt;</th><th scope=col>&lt;dbl&gt;</th><th scope=col>&lt;dbl&gt;</th><th scope=col>&lt;dbl&gt;</th><th scope=col>&lt;dbl&gt;</th></tr>\n",
       "</thead>\n",
       "<tbody>\n",
       "\t<tr><th scope=row>a</th><td>0.9920435</td><td>0.28578138</td><td> 0.5484050</td><td>1.4714774</td><td>1047.8993</td><td>0.9995341</td></tr>\n",
       "\t<tr><th scope=row>bl</th><td>0.2823425</td><td>2.46364081</td><td>-3.5452521</td><td>4.1740539</td><td> 705.1057</td><td>1.0003315</td></tr>\n",
       "\t<tr><th scope=row>br</th><td>1.7115696</td><td>2.46558201</td><td>-2.1871115</td><td>5.5126300</td><td> 704.7635</td><td>1.0003022</td></tr>\n",
       "\t<tr><th scope=row>sigma</th><td>0.6327081</td><td>0.04556469</td><td> 0.5648355</td><td>0.7096261</td><td> 941.3181</td><td>1.0049551</td></tr>\n",
       "</tbody>\n",
       "</table>\n"
      ],
      "text/latex": [
       "A precis: 4 × 6\n",
       "\\begin{tabular}{r|llllll}\n",
       "  & mean & sd & 5.5\\% & 94.5\\% & n\\_eff & Rhat4\\\\\n",
       "  & <dbl> & <dbl> & <dbl> & <dbl> & <dbl> & <dbl>\\\\\n",
       "\\hline\n",
       "\ta & 0.9920435 & 0.28578138 &  0.5484050 & 1.4714774 & 1047.8993 & 0.9995341\\\\\n",
       "\tbl & 0.2823425 & 2.46364081 & -3.5452521 & 4.1740539 &  705.1057 & 1.0003315\\\\\n",
       "\tbr & 1.7115696 & 2.46558201 & -2.1871115 & 5.5126300 &  704.7635 & 1.0003022\\\\\n",
       "\tsigma & 0.6327081 & 0.04556469 &  0.5648355 & 0.7096261 &  941.3181 & 1.0049551\\\\\n",
       "\\end{tabular}\n"
      ],
      "text/markdown": [
       "\n",
       "A precis: 4 × 6\n",
       "\n",
       "| <!--/--> | mean &lt;dbl&gt; | sd &lt;dbl&gt; | 5.5% &lt;dbl&gt; | 94.5% &lt;dbl&gt; | n_eff &lt;dbl&gt; | Rhat4 &lt;dbl&gt; |\n",
       "|---|---|---|---|---|---|---|\n",
       "| a | 0.9920435 | 0.28578138 |  0.5484050 | 1.4714774 | 1047.8993 | 0.9995341 |\n",
       "| bl | 0.2823425 | 2.46364081 | -3.5452521 | 4.1740539 |  705.1057 | 1.0003315 |\n",
       "| br | 1.7115696 | 2.46558201 | -2.1871115 | 5.5126300 |  704.7635 | 1.0003022 |\n",
       "| sigma | 0.6327081 | 0.04556469 |  0.5648355 | 0.7096261 |  941.3181 | 1.0049551 |\n",
       "\n"
      ],
      "text/plain": [
       "      mean      sd         5.5%       94.5%     n_eff     Rhat4    \n",
       "a     0.9920435 0.28578138  0.5484050 1.4714774 1047.8993 0.9995341\n",
       "bl    0.2823425 2.46364081 -3.5452521 4.1740539  705.1057 1.0003315\n",
       "br    1.7115696 2.46558201 -2.1871115 5.5126300  704.7635 1.0003022\n",
       "sigma 0.6327081 0.04556469  0.5648355 0.7096261  941.3181 1.0049551"
      ]
     },
     "metadata": {},
     "output_type": "display_data"
    }
   ],
   "source": [
    "precis(m5.8s, depth=2)"
   ]
  },
  {
   "cell_type": "code",
   "execution_count": 79,
   "id": "00696ecb-5906-462f-a1f3-6ed26aa740e7",
   "metadata": {},
   "outputs": [
    {
     "data": {
      "text/html": [
       "<table class=\"dataframe\">\n",
       "<caption>A precis: 4 × 6</caption>\n",
       "<thead>\n",
       "\t<tr><th></th><th scope=col>mean</th><th scope=col>sd</th><th scope=col>5.5%</th><th scope=col>94.5%</th><th scope=col>n_eff</th><th scope=col>Rhat4</th></tr>\n",
       "\t<tr><th></th><th scope=col>&lt;dbl&gt;</th><th scope=col>&lt;dbl&gt;</th><th scope=col>&lt;dbl&gt;</th><th scope=col>&lt;dbl&gt;</th><th scope=col>&lt;dbl&gt;</th><th scope=col>&lt;dbl&gt;</th></tr>\n",
       "</thead>\n",
       "<tbody>\n",
       "\t<tr><th scope=row>a</th><td> 0.9706047</td><td>0.28999832</td><td> 0.5085275</td><td>1.4391006</td><td>925.7436</td><td>0.9993589</td></tr>\n",
       "\t<tr><th scope=row>bl</th><td>-0.7484430</td><td>1.87263299</td><td>-3.9730028</td><td>1.7512150</td><td>439.5810</td><td>1.0057052</td></tr>\n",
       "\t<tr><th scope=row>br</th><td> 2.7461581</td><td>1.87438889</td><td> 0.2448469</td><td>5.9597084</td><td>436.9234</td><td>1.0057687</td></tr>\n",
       "\t<tr><th scope=row>sigma</th><td> 0.6357023</td><td>0.04734887</td><td> 0.5655883</td><td>0.7187956</td><td>681.8344</td><td>1.0099049</td></tr>\n",
       "</tbody>\n",
       "</table>\n"
      ],
      "text/latex": [
       "A precis: 4 × 6\n",
       "\\begin{tabular}{r|llllll}\n",
       "  & mean & sd & 5.5\\% & 94.5\\% & n\\_eff & Rhat4\\\\\n",
       "  & <dbl> & <dbl> & <dbl> & <dbl> & <dbl> & <dbl>\\\\\n",
       "\\hline\n",
       "\ta &  0.9706047 & 0.28999832 &  0.5085275 & 1.4391006 & 925.7436 & 0.9993589\\\\\n",
       "\tbl & -0.7484430 & 1.87263299 & -3.9730028 & 1.7512150 & 439.5810 & 1.0057052\\\\\n",
       "\tbr &  2.7461581 & 1.87438889 &  0.2448469 & 5.9597084 & 436.9234 & 1.0057687\\\\\n",
       "\tsigma &  0.6357023 & 0.04734887 &  0.5655883 & 0.7187956 & 681.8344 & 1.0099049\\\\\n",
       "\\end{tabular}\n"
      ],
      "text/markdown": [
       "\n",
       "A precis: 4 × 6\n",
       "\n",
       "| <!--/--> | mean &lt;dbl&gt; | sd &lt;dbl&gt; | 5.5% &lt;dbl&gt; | 94.5% &lt;dbl&gt; | n_eff &lt;dbl&gt; | Rhat4 &lt;dbl&gt; |\n",
       "|---|---|---|---|---|---|---|\n",
       "| a |  0.9706047 | 0.28999832 |  0.5085275 | 1.4391006 | 925.7436 | 0.9993589 |\n",
       "| bl | -0.7484430 | 1.87263299 | -3.9730028 | 1.7512150 | 439.5810 | 1.0057052 |\n",
       "| br |  2.7461581 | 1.87438889 |  0.2448469 | 5.9597084 | 436.9234 | 1.0057687 |\n",
       "| sigma |  0.6357023 | 0.04734887 |  0.5655883 | 0.7187956 | 681.8344 | 1.0099049 |\n",
       "\n"
      ],
      "text/plain": [
       "      mean       sd         5.5%       94.5%     n_eff    Rhat4    \n",
       "a      0.9706047 0.28999832  0.5085275 1.4391006 925.7436 0.9993589\n",
       "bl    -0.7484430 1.87263299 -3.9730028 1.7512150 439.5810 1.0057052\n",
       "br     2.7461581 1.87438889  0.2448469 5.9597084 436.9234 1.0057687\n",
       "sigma  0.6357023 0.04734887  0.5655883 0.7187956 681.8344 1.0099049"
      ]
     },
     "metadata": {},
     "output_type": "display_data"
    }
   ],
   "source": [
    "precis(m5.8s2, depth=2)"
   ]
  },
  {
   "cell_type": "markdown",
   "id": "50f42551-2e14-4f23-ae2e-40668d0243e9",
   "metadata": {},
   "source": [
    "however, m5.8s2 has significantly less effective paramters. It seems that because we constrained one paramter, it reduced the parameter space that MCMC needs to search for, so it became more efficient"
   ]
  },
  {
   "cell_type": "code",
   "execution_count": null,
   "id": "c0606556-892e-4587-9118-9724a75ccbec",
   "metadata": {},
   "outputs": [],
   "source": []
  }
 ],
 "metadata": {
  "kernelspec": {
   "display_name": "R",
   "language": "R",
   "name": "ir"
  },
  "language_info": {
   "codemirror_mode": "r",
   "file_extension": ".r",
   "mimetype": "text/x-r-source",
   "name": "R",
   "pygments_lexer": "r",
   "version": "4.2.1"
  }
 },
 "nbformat": 4,
 "nbformat_minor": 5
}
